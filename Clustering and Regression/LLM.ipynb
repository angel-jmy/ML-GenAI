{
 "cells": [
  {
   "cell_type": "markdown",
   "metadata": {},
   "source": [
    "**Official Example from OpenAI:**\n",
    "\n",
    "[Clusring.ipynb](https://github.com/openai/openai-cookbook/blob/main/examples/Clustering.ipynb)"
   ]
  },
  {
   "cell_type": "code",
   "execution_count": 1,
   "metadata": {},
   "outputs": [],
   "source": [
    "'''Import libraries'''\n",
    "import pandas as pd\n",
    "import numpy as np\n",
    "from tqdm import tqdm\n",
    "import os\n",
    "import json\n"
   ]
  },
  {
   "cell_type": "markdown",
   "metadata": {},
   "source": [
    "# Initial setup"
   ]
  },
  {
   "cell_type": "code",
   "execution_count": 3,
   "metadata": {},
   "outputs": [],
   "source": [
    "'''Load the data'''\n",
    "df = pd.read_csv(\"data.csv\", encoding='ISO-8859-1')\n",
    "\n",
    "# Basic cleaning\n",
    "df = df.dropna(subset=['CustomerID', 'Description'])\n",
    "df = df[df['Quantity'] > 0]\n",
    "df['Amount'] = df['Quantity'] * df['UnitPrice']\n",
    "df['InvoiceDate'] = pd.to_datetime(df['InvoiceDate'])\n",
    "df['CustomerID'] = df['CustomerID'].astype(str)\n"
   ]
  },
  {
   "cell_type": "markdown",
   "metadata": {},
   "source": [
    "# Generate Text Embeddings for Product Descriptions"
   ]
  },
  {
   "cell_type": "code",
   "execution_count": 5,
   "metadata": {},
   "outputs": [
    {
     "name": "stdout",
     "output_type": "stream",
     "text": [
      "3877 unique descriptions found.\n"
     ]
    }
   ],
   "source": [
    "# Get unique product descriptions\n",
    "unique_descriptions = df['Description'].dropna().unique()\n",
    "print(f\"{len(unique_descriptions)} unique descriptions found.\")\n"
   ]
  },
  {
   "cell_type": "markdown",
   "metadata": {},
   "source": [
    "## Load OpenAI and define embedding function"
   ]
  },
  {
   "cell_type": "code",
   "execution_count": 10,
   "metadata": {},
   "outputs": [],
   "source": [
    "from openai import OpenAI\n",
    "from dotenv import load_dotenv\n",
    "load_dotenv()\n",
    "\n",
    "client = OpenAI()\n",
    "\n",
    "EMBED_MODEL = \"text-embedding-ada-002\"\n",
    "\n",
    "def get_embedding(text, model=EMBED_MODEL):\n",
    "    try:\n",
    "        response = client.embeddings.create(input=[text], model=model)\n",
    "        return response.data[0].embedding\n",
    "    except Exception as e:\n",
    "        print(f\"Error embedding '{text[:30]}...': {e}\")\n",
    "        return None\n"
   ]
  },
  {
   "cell_type": "markdown",
   "metadata": {},
   "source": [
    "## Generate saved embeddings for product descriptions"
   ]
  },
  {
   "cell_type": "code",
   "execution_count": 13,
   "metadata": {},
   "outputs": [],
   "source": [
    "# Optional: Load saved embeddings if available\n",
    "embedding_path = \"data/desc_embeddings.json\"\n",
    "\n",
    "if os.path.exists(embedding_path):\n",
    "    with open(embedding_path, \"r\") as f:\n",
    "        desc_embeddings = json.load(f)\n",
    "else:\n",
    "    desc_embeddings = {}\n",
    "\n",
    "# Generate embeddings for new descriptions only\n",
    "for desc in tqdm(unique_descriptions):\n",
    "    if desc not in desc_embeddings:\n",
    "        embedding = get_embedding(desc)\n",
    "        if embedding:\n",
    "            desc_embeddings[desc] = embedding\n",
    "\n",
    "# Save embeddings for future use\n",
    "with open(embedding_path, \"w\") as f:\n",
    "    json.dump(desc_embeddings, f)\n"
   ]
  },
  {
   "cell_type": "markdown",
   "metadata": {},
   "source": [
    "# Aggregate Embeddings to the User Level"
   ]
  },
  {
   "cell_type": "code",
   "execution_count": 25,
   "metadata": {},
   "outputs": [
    {
     "name": "stdout",
     "output_type": "stream",
     "text": [
      "Check the first few rows of product description vectors:\n",
      "                           Description  \\\n",
      "0   WHITE HANGING HEART T-LIGHT HOLDER   \n",
      "1                  WHITE METAL LANTERN   \n",
      "2       CREAM CUPID HEARTS COAT HANGER   \n",
      "3  KNITTED UNION FLAG HOT WATER BOTTLE   \n",
      "4       RED WOOLLY HOTTIE WHITE HEART.   \n",
      "\n",
      "                                         desc_vector  \n",
      "0  [-0.024560807272791862, -0.010772868990898132,...  \n",
      "1  [0.003209017449989915, -0.023925375193357468, ...  \n",
      "2  [-0.035232964903116226, -0.0016704994486644864...  \n",
      "3  [-0.021004119887948036, -0.015705782920122147,...  \n",
      "4  [-0.04536698758602142, -0.020229782909154892, ...  \n"
     ]
    }
   ],
   "source": [
    "# Replace product description with its embedding vector\n",
    "df['desc_vector'] = df['Description'].map(desc_embeddings)\n",
    "\n",
    "print(\"Check the first few rows of product description vectors:\")\n",
    "print(df[['Description', 'desc_vector']].head())\n",
    "\n",
    "# Convert desc_vector -> np.ndarray\n",
    "df['desc_vector'] = df['desc_vector'].apply(lambda x: np.array(x) if isinstance(x, list) else x)\n",
    "\n",
    "# Average product vectors per user (representing interest)\n",
    "user_vectors = {}\n",
    "for cid, group in df.groupby('CustomerID'):\n",
    "    vectors = [v for v in group['desc_vector'] if isinstance(v, np.ndarray)]\n",
    "    if vectors:\n",
    "        user_vectors[cid] = np.mean(vectors, axis=0)\n"
   ]
  },
  {
   "cell_type": "code",
   "execution_count": null,
   "metadata": {},
   "outputs": [],
   "source": []
  },
  {
   "cell_type": "code",
   "execution_count": 27,
   "metadata": {},
   "outputs": [],
   "source": [
    "'''Convert to dataframe'''\n",
    "user_df = pd.DataFrame.from_dict(user_vectors, orient='index')\n",
    "\n",
    "# Rename columns for clarity\n",
    "user_df.columns = [f'emb_{i}' for i in range(user_df.shape[1])]\n",
    "user_df['CustomerID'] = user_df.index\n"
   ]
  },
  {
   "cell_type": "markdown",
   "metadata": {},
   "source": [
    "# Cluster Users Based on Interest Embeddings"
   ]
  },
  {
   "cell_type": "code",
   "execution_count": 29,
   "metadata": {},
   "outputs": [],
   "source": [
    "from sklearn.cluster import KMeans\n",
    "\n",
    "# Use only the embedding columns for clustering\n",
    "X = user_df[[col for col in user_df.columns if col.startswith(\"emb_\")]]\n",
    "\n",
    "# Fit KMeans with 5 clusters (you can tune this)\n",
    "kmeans = KMeans(n_clusters=5, random_state=42)\n",
    "user_df['InterestCluster'] = kmeans.fit_predict(X)\n"
   ]
  },
  {
   "cell_type": "code",
   "execution_count": 30,
   "metadata": {},
   "outputs": [
    {
     "data": {
      "text/html": [
       "<div>\n",
       "<style scoped>\n",
       "    .dataframe tbody tr th:only-of-type {\n",
       "        vertical-align: middle;\n",
       "    }\n",
       "\n",
       "    .dataframe tbody tr th {\n",
       "        vertical-align: top;\n",
       "    }\n",
       "\n",
       "    .dataframe thead th {\n",
       "        text-align: right;\n",
       "    }\n",
       "</style>\n",
       "<table border=\"1\" class=\"dataframe\">\n",
       "  <thead>\n",
       "    <tr style=\"text-align: right;\">\n",
       "      <th></th>\n",
       "      <th>CustomerID</th>\n",
       "      <th>InterestCluster</th>\n",
       "    </tr>\n",
       "  </thead>\n",
       "  <tbody>\n",
       "    <tr>\n",
       "      <th>12346.0</th>\n",
       "      <td>12346.0</td>\n",
       "      <td>4</td>\n",
       "    </tr>\n",
       "    <tr>\n",
       "      <th>12347.0</th>\n",
       "      <td>12347.0</td>\n",
       "      <td>3</td>\n",
       "    </tr>\n",
       "    <tr>\n",
       "      <th>12348.0</th>\n",
       "      <td>12348.0</td>\n",
       "      <td>3</td>\n",
       "    </tr>\n",
       "    <tr>\n",
       "      <th>12349.0</th>\n",
       "      <td>12349.0</td>\n",
       "      <td>4</td>\n",
       "    </tr>\n",
       "    <tr>\n",
       "      <th>12350.0</th>\n",
       "      <td>12350.0</td>\n",
       "      <td>2</td>\n",
       "    </tr>\n",
       "  </tbody>\n",
       "</table>\n",
       "</div>"
      ],
      "text/plain": [
       "        CustomerID  InterestCluster\n",
       "12346.0    12346.0                4\n",
       "12347.0    12347.0                3\n",
       "12348.0    12348.0                3\n",
       "12349.0    12349.0                4\n",
       "12350.0    12350.0                2"
      ]
     },
     "execution_count": 30,
     "metadata": {},
     "output_type": "execute_result"
    }
   ],
   "source": [
    "user_df[['CustomerID', 'InterestCluster']].head()\n"
   ]
  },
  {
   "cell_type": "markdown",
   "metadata": {},
   "source": [
    "# Build RFM Table"
   ]
  },
  {
   "cell_type": "code",
   "execution_count": 32,
   "metadata": {},
   "outputs": [],
   "source": [
    "NOW = df['InvoiceDate'].max() + pd.Timedelta(days=1)\n"
   ]
  },
  {
   "cell_type": "code",
   "execution_count": 33,
   "metadata": {},
   "outputs": [],
   "source": [
    "'''Calculate Recency, Frequency, and Monetary values'''\n",
    "rfm = df.groupby('CustomerID').agg({\n",
    "    'InvoiceDate': lambda x: (NOW - x.max()).days,   # Recency\n",
    "    'InvoiceNo': 'nunique',                          # Frequency\n",
    "    'Amount': 'sum'                                  # Monetary\n",
    "}).rename(columns={\n",
    "    'InvoiceDate': 'Recency',\n",
    "    'InvoiceNo': 'Frequency',\n",
    "    'Amount': 'Monetary'\n",
    "}).reset_index()\n"
   ]
  },
  {
   "cell_type": "code",
   "execution_count": 34,
   "metadata": {},
   "outputs": [],
   "source": [
    "'''Add RFM scoring and user type'''\n",
    "rfm['R_score'] = pd.qcut(rfm['Recency'], 5, labels=[5,4,3,2,1]).astype(int)\n",
    "rfm['F_score'] = pd.qcut(rfm['Frequency'].rank(method='first'), 5, labels=[1,2,3,4,5]).astype(int)\n",
    "rfm['M_score'] = pd.qcut(rfm['Monetary'], 5, labels=[1,2,3,4,5]).astype(int)\n",
    "\n",
    "rfm['RFM_Score'] = rfm['R_score'] + rfm['F_score'] + rfm['M_score']\n",
    "\n",
    "# Optional: classify user types\n",
    "def classify_user(row):\n",
    "    if row['RFM_Score'] >= 13:\n",
    "        return 'High-Value'\n",
    "    elif row['RFM_Score'] >= 9:\n",
    "        return 'Potential'\n",
    "    elif row['RFM_Score'] >= 5:\n",
    "        return 'Regular'\n",
    "    else:\n",
    "        return 'Churn Risk'\n",
    "\n",
    "rfm['UserType'] = rfm.apply(classify_user, axis=1)\n"
   ]
  },
  {
   "cell_type": "markdown",
   "metadata": {},
   "source": [
    "#  Merge RFM Profiles with Interest Clusters"
   ]
  },
  {
   "cell_type": "code",
   "execution_count": 35,
   "metadata": {},
   "outputs": [
    {
     "data": {
      "text/html": [
       "<div>\n",
       "<style scoped>\n",
       "    .dataframe tbody tr th:only-of-type {\n",
       "        vertical-align: middle;\n",
       "    }\n",
       "\n",
       "    .dataframe tbody tr th {\n",
       "        vertical-align: top;\n",
       "    }\n",
       "\n",
       "    .dataframe thead th {\n",
       "        text-align: right;\n",
       "    }\n",
       "</style>\n",
       "<table border=\"1\" class=\"dataframe\">\n",
       "  <thead>\n",
       "    <tr style=\"text-align: right;\">\n",
       "      <th></th>\n",
       "      <th>CustomerID</th>\n",
       "      <th>Recency</th>\n",
       "      <th>Frequency</th>\n",
       "      <th>Monetary</th>\n",
       "      <th>R_score</th>\n",
       "      <th>F_score</th>\n",
       "      <th>M_score</th>\n",
       "      <th>RFM_Score</th>\n",
       "      <th>UserType</th>\n",
       "      <th>InterestCluster</th>\n",
       "    </tr>\n",
       "  </thead>\n",
       "  <tbody>\n",
       "    <tr>\n",
       "      <th>0</th>\n",
       "      <td>12346.0</td>\n",
       "      <td>326</td>\n",
       "      <td>1</td>\n",
       "      <td>77183.60</td>\n",
       "      <td>1</td>\n",
       "      <td>1</td>\n",
       "      <td>5</td>\n",
       "      <td>7</td>\n",
       "      <td>Regular</td>\n",
       "      <td>4</td>\n",
       "    </tr>\n",
       "    <tr>\n",
       "      <th>1</th>\n",
       "      <td>12347.0</td>\n",
       "      <td>2</td>\n",
       "      <td>7</td>\n",
       "      <td>4310.00</td>\n",
       "      <td>5</td>\n",
       "      <td>5</td>\n",
       "      <td>5</td>\n",
       "      <td>15</td>\n",
       "      <td>High-Value</td>\n",
       "      <td>3</td>\n",
       "    </tr>\n",
       "    <tr>\n",
       "      <th>2</th>\n",
       "      <td>12348.0</td>\n",
       "      <td>75</td>\n",
       "      <td>4</td>\n",
       "      <td>1797.24</td>\n",
       "      <td>2</td>\n",
       "      <td>4</td>\n",
       "      <td>4</td>\n",
       "      <td>10</td>\n",
       "      <td>Potential</td>\n",
       "      <td>3</td>\n",
       "    </tr>\n",
       "    <tr>\n",
       "      <th>3</th>\n",
       "      <td>12349.0</td>\n",
       "      <td>19</td>\n",
       "      <td>1</td>\n",
       "      <td>1757.55</td>\n",
       "      <td>4</td>\n",
       "      <td>1</td>\n",
       "      <td>4</td>\n",
       "      <td>9</td>\n",
       "      <td>Potential</td>\n",
       "      <td>4</td>\n",
       "    </tr>\n",
       "    <tr>\n",
       "      <th>4</th>\n",
       "      <td>12350.0</td>\n",
       "      <td>310</td>\n",
       "      <td>1</td>\n",
       "      <td>334.40</td>\n",
       "      <td>1</td>\n",
       "      <td>1</td>\n",
       "      <td>2</td>\n",
       "      <td>4</td>\n",
       "      <td>Churn Risk</td>\n",
       "      <td>2</td>\n",
       "    </tr>\n",
       "  </tbody>\n",
       "</table>\n",
       "</div>"
      ],
      "text/plain": [
       "  CustomerID  Recency  Frequency  Monetary  R_score  F_score  M_score  \\\n",
       "0    12346.0      326          1  77183.60        1        1        5   \n",
       "1    12347.0        2          7   4310.00        5        5        5   \n",
       "2    12348.0       75          4   1797.24        2        4        4   \n",
       "3    12349.0       19          1   1757.55        4        1        4   \n",
       "4    12350.0      310          1    334.40        1        1        2   \n",
       "\n",
       "   RFM_Score    UserType  InterestCluster  \n",
       "0          7     Regular                4  \n",
       "1         15  High-Value                3  \n",
       "2         10   Potential                3  \n",
       "3          9   Potential                4  \n",
       "4          4  Churn Risk                2  "
      ]
     },
     "execution_count": 35,
     "metadata": {},
     "output_type": "execute_result"
    }
   ],
   "source": [
    "# Merge on CustomerID to enrich RFM table with interest clusters\n",
    "result = pd.merge(rfm, user_df[['CustomerID', 'InterestCluster']], on='CustomerID', how='left')\n",
    "\n",
    "# Preview combined segmentation\n",
    "result.head()\n"
   ]
  },
  {
   "cell_type": "markdown",
   "metadata": {},
   "source": [
    "# Visualize Interest Clusters in 3D"
   ]
  },
  {
   "cell_type": "code",
   "execution_count": 38,
   "metadata": {},
   "outputs": [
    {
     "data": {
      "text/plain": [
       "'temp-plot.html'"
      ]
     },
     "execution_count": 38,
     "metadata": {},
     "output_type": "execute_result"
    }
   ],
   "source": [
    "import plotly.graph_objs as go\n",
    "import plotly.offline as py\n",
    "\n",
    "trace = go.Scatter3d(\n",
    "    x=result['Recency'],\n",
    "    y=result['Frequency'],\n",
    "    z=result['Monetary'],\n",
    "    mode='markers',\n",
    "    marker=dict(\n",
    "        color=result['InterestCluster'],\n",
    "        size=6,\n",
    "        line=dict(width=1),\n",
    "        opacity=0.8\n",
    "    )\n",
    ")\n",
    "\n",
    "layout = go.Layout(\n",
    "    scene=dict(\n",
    "        xaxis=dict(title='Recency'),\n",
    "        yaxis=dict(title='Frequency'),\n",
    "        zaxis=dict(title='Monetary')\n",
    "    ),\n",
    "    margin=dict(l=0, r=0, b=0, t=0)\n",
    ")\n",
    "\n",
    "fig = go.Figure(data=[trace], layout=layout)\n",
    "py.plot(fig)\n"
   ]
  },
  {
   "cell_type": "code",
   "execution_count": null,
   "metadata": {},
   "outputs": [],
   "source": []
  }
 ],
 "metadata": {
  "kernelspec": {
   "display_name": "Python 3",
   "language": "python",
   "name": "python3"
  },
  "language_info": {
   "codemirror_mode": {
    "name": "ipython",
    "version": 3
   },
   "file_extension": ".py",
   "mimetype": "text/x-python",
   "name": "python",
   "nbconvert_exporter": "python",
   "pygments_lexer": "ipython3",
   "version": "3.8.5"
  },
  "toc-autonumbering": true
 },
 "nbformat": 4,
 "nbformat_minor": 4
}
