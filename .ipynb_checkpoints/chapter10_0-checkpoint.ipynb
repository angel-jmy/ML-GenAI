{
 "cells": [
  {
   "cell_type": "markdown",
   "metadata": {},
   "source": [
    "3. Output Parsing\n",
    "\n",
    "# Output Parsing:Generating flower recommenddation lists with OuputParser   Pydantic\n",
    "\n",
    "## OutPut parsers in LangChain:two core methods:\n",
    "- get_format_instructions\n",
    "- parse \n",
    "- parse_with_prompt\n",
    "\n",
    "1. List Parser\n",
    "2. Datetime Parser\n",
    "3. Enum Parser\n",
    "4. Structured output parser\n",
    "5. Pydantic (Json) parser\n",
    "6. Auto-Fixing Parser\n",
    "7. RetryWithErrorOutputParser\n",
    "..."
   ]
  },
  {
   "cell_type": "markdown",
   "metadata": {},
   "source": [
    "Output parsers are classes that help structure language model responses. There are two main methods an output parser must implement:\n",
    "\n",
    "\"Get format instructions\": A method which returns a string containing instructions for how the output of a language model should be formatted.\n",
    "\"Parse\": A method which takes in a string (assumed to be the response from a language model) and parses it into some structure.\n",
    "And then one optional one:\n",
    "\n",
    "\"Parse with prompt\": A method which takes in a string (assumed to be the response from a language model) and a prompt (assumed to be the prompt that generated such a response) and parses it into some structure. The prompt is largely provided in the event the OutputParser wants to retry or fix the output in some way, and needs information from the prompt to do so."
   ]
  },
  {
   "cell_type": "code",
   "execution_count": null,
   "metadata": {},
   "outputs": [],
   "source": [
    "class OutputParser:\n",
    "    def __init__(self):\n",
    "        pass\n",
    "    def get_format_instructions(self):\n",
    "        pass\n",
    "    def parse(self,model_output):\n",
    "        pass\n",
    "    def parse_with_prompt(self,model_output,prompt):\n",
    "        pass"
   ]
  },
  {
   "cell_type": "markdown",
   "metadata": {},
   "source": [
    "## 5. Pydantic (Json) parser\n",
    "Pydantic-python"
   ]
  },
  {
   "cell_type": "code",
   "execution_count": null,
   "metadata": {},
   "outputs": [],
   "source": [
    "#1.Create  model instances\n",
    "from dotenv import load_dotenv\n",
    "load_dotenv()"
   ]
  },
  {
   "cell_type": "code",
   "execution_count": null,
   "metadata": {},
   "outputs": [],
   "source": [
    "from langchain_openai import OpenAI\n",
    "\n",
    "model = OpenAI(model_name='gpt-3.5-turbo-instruct')"
   ]
  },
  {
   "cell_type": "code",
   "execution_count": null,
   "metadata": {},
   "outputs": [],
   "source": [
    "#2.Define the format of output data\n",
    "import pandas as pd\n",
    "df = pd.DataFrame(columns=[\"flower_type\",\"price\",\"description\",\"reason\"])\n",
    "\n",
    "flowers = [\"rose\",\"lily\",\"carnation\"]\n",
    "prices = [\"50\",\"30\",\"20\"]"
   ]
  },
  {
   "cell_type": "code",
   "execution_count": null,
   "metadata": {},
   "outputs": [],
   "source": [
    "# from pydantic import BaseModel,Field\n",
    "from langchain_core.pydantic_v1 import BaseModel,Field\n",
    "\n",
    "class flowerDescription(BaseModel):\n",
    "    flower_type:str = Field(description=\"Flower Type\")\n",
    "    price:int = Field(description=\"Price of the flower\")\n",
    "    description:str = Field(description=\"Description of the flower\")\n",
    "    reason:str = Field(description=\"Why writer this description like this?\")"
   ]
  },
  {
   "cell_type": "code",
   "execution_count": null,
   "metadata": {},
   "outputs": [],
   "source": [
    "\"42\""
   ]
  },
  {
   "cell_type": "markdown",
   "metadata": {},
   "source": []
  },
  {
   "cell_type": "code",
   "execution_count": null,
   "metadata": {},
   "outputs": [],
   "source": [
    "#3.Create Output parser\n",
    "from langchain.output_parsers import PydanticOutputParser\n",
    "output_parser = PydanticOutputParser(pydantic_object=flowerDescription)\n",
    "\n",
    "format_instruction = output_parser.get_format_instructions()\n",
    "print(format_instruction)"
   ]
  },
  {
   "cell_type": "markdown",
   "metadata": {},
   "source": [
    "The output should be formatted as a JSON instance that conforms to the JSON schema below.\n",
    "\n",
    "As an example, for the schema {\"properties\": {\"foo\": {\"title\": \"Foo\", \"description\": \"a list of strings\", \"type\": \"array\", \"items\": {\"type\": \"string\"}}}, \"required\": [\"foo\"]}\n",
    "the object {\"foo\": [\"bar\", \"baz\"]} is a well-formatted instance of the schema. The object {\"properties\": {\"foo\": [\"bar\", \"baz\"]}} is not well-formatted.\n",
    "\n",
    "Here is the output schema:\n",
    "```\n",
    "{\"properties\": {\"flower_type\": {\"title\": \"Flower Type\", \"description\": \"Flower Type\", \"type\": \"string\"}, \"price\": {\"title\": \"Price\", \"description\": \"Price of the flower\", \"type\": \"integer\"}, \"description\": {\"title\": \"Description\", \"description\": \"Description of the flower\", \"type\": \"string\"}, \"reason\": {\"title\": \"Reason\", \"description\": \"Why writer this description like this?\", \"type\": \"string\"}}, \"required\": [\"flower_type\", \"price\", \"description\", \"reason\"]}\n",
    "```\n"
   ]
  },
  {
   "cell_type": "code",
   "execution_count": null,
   "metadata": {},
   "outputs": [],
   "source": [
    "#4. create prompt templates\n",
    "from langchain.prompts import PromptTemplate\n",
    "prompt_template = \"\"\"You are a professional florist copywriter.\\n\n",
    "Can you provide an attractive brief description for the {flower} priced at ${price}?\n",
    "{format_instructions}\n",
    "\"\"\"\n",
    "\n",
    "prompt = PromptTemplate.from_template(prompt_template,\n",
    "                                      partial_variables={\"format_instructions\":format_instruction})\n",
    "\n",
    "print(prompt)"
   ]
  },
  {
   "cell_type": "markdown",
   "metadata": {},
   "source": [
    "input_variables=['flower_name', 'format_instructions', 'price'] \n",
    "\n",
    "partial_variables={'format_instruction': 'The output should be formatted as a JSON instance that conforms to the JSON schema below.\\n\\nAs an example, for the schema {\"properties\": {\"foo\": {\"title\": \"Foo\", \"description\": \"a list of strings\", \"type\": \"array\", \"items\": {\"type\": \"string\"}}}, \n",
    "\n",
    "\"required\": [\"foo\"]}\\n\n",
    "\n",
    "the object {\"foo\": [\"bar\", \"baz\"]} is a well-formatted instance of the schema. \n",
    "\n",
    "The object {\"properties\": {\"foo\": [\"bar\", \"baz\"]}} is not well-formatted.\n",
    "\n",
    "\\n\\nHere is the output schema:\\n```\\n{\"properties\": {\"flower_type\": {\"title\": \"Flower Type\", \"description\": \"Flower Type\", \"type\": \"string\"}, \"price\": {\"title\": \"Price\", \"description\": \"Price of the flower\", \"type\": \"integer\"}, \"description\": {\"title\": \"Description\", \"description\": \"Description of the flower\", \"type\": \"string\"}, \"reason\": {\"title\": \"Reason\", \"description\": \"Why writer this description like this?\", \"type\": \"string\"}}, \"required\": [\"flower_type\", \"price\", \"description\", \"reason\"]}\\n```'} \n",
    "\n",
    "template='You are a professional florist copywriter.\\n\\nCan you provide an attractive brief description for the {flower_name} priced at ${price}?\\n{format_instructions}\\n'\n"
   ]
  },
  {
   "cell_type": "code",
   "execution_count": null,
   "metadata": {},
   "outputs": [],
   "source": [
    "#5. Generate prompts ,pass to the model and parser  outputs\n",
    "\n",
    "for flower,price in zip(flowers,prices):\n",
    "    # print(flower,price)\n",
    "    input = prompt.format(flower=flower, price=price)\n",
    "\n",
    "    output = model(input)\n",
    "\n",
    "    parsed_output = output_parser.parse(output)\n",
    "    parsed_output_dict = parsed_output.dict()\n",
    "    df.loc[len(df)] = parsed_output_dict\n",
    "\n",
    "print(df.to_dict(orient='records'))"
   ]
  },
  {
   "cell_type": "markdown",
   "metadata": {},
   "source": [
    "\n",
    "[{'flower_type': 'Rose', 'price': 50, 'description': 'This stunning rose is the perfect choice for any occasion. With its vibrant red petals and delicate fragrance, it is sure to make a statement. Hand-picked and expertly arranged by our skilled florists, this rose is a symbol of love, passion, and beauty. Give the gift of a $50 rose and show your loved one just how much they mean to you.', 'reason': 'This description highlights the beauty and significance of the rose, making it an irresistible choice for customers who want to express their love and affection through flowers.'}, \n",
    "\n",
    "{'flower_type': 'Lily', 'price': 30, 'description': 'The elegant and graceful Lily is a classic choice for any occasion. With its large, trumpet-shaped blooms and delicate fragrance, this flower exudes beauty and sophistication. Its deep green foliage adds a touch of contrast and complements the pure white petals perfectly. Whether used in a bouquet or as a standalone arrangement, the Lily is sure to make a statement and leave a lasting impression.', 'reason': 'This description highlights the timeless beauty and versatility of the Lily, making it an attractive choice for customers looking for a sophisticated and classic floral option at an affordable price.'}, \n",
    "\n",
    "{'flower_type': 'Carnation', 'price': 20, 'description': \"Bright and versatile, the carnation is a classic choice for any occasion. With its ruffled petals and sweet scent, this flower brings a touch of elegance to any bouquet. At $20, it's an affordable option that doesn't compromise on beauty.\", 'reason': \"This description highlights the carnation's beauty and affordability, making it an attractive option for customers looking for a versatile and budget-friendly flower.\"}]\n"
   ]
  },
  {
   "cell_type": "code",
   "execution_count": null,
   "metadata": {},
   "outputs": [],
   "source": [
    "## 6. Auto-Fixing Parser\n",
    "\n",
    "from langchain.output_parsers import PydanticOutputParser\n",
    "from typing import List\n",
    "from langchain_core.pydantic_v1 import BaseModel,Field\n",
    "\n",
    "class Flower(BaseModel):\n",
    "    name:str = Field(description=\"name of a flower\")\n",
    "    colors:List[str] = Field(description=\"the colors of this flower\")"
   ]
  },
  {
   "cell_type": "code",
   "execution_count": null,
   "metadata": {},
   "outputs": [],
   "source": [
    "flower_query = \"Generate the charaters for a random flower.\"\n",
    "\n",
    "#'{\"name\":\"Carnation\",\"colors\":[\"Pink\",\"White\",\"Red\",\"Purple\",\"Yellow\"]}'\n",
    "misformatted = \"{'name':'Carnation','colors':['Pink','White','Red','Purple','Yellow']}\"\n",
    "\n",
    "parser = PydanticOutputParser(pydantic_object=Flower)\n",
    "parser.parse(misformatted)"
   ]
  },
  {
   "cell_type": "markdown",
   "metadata": {},
   "source": [
    "{\n",
    "\t\"name\": \"OutputParserException\",\n",
    "\t\"message\": \"Invalid json output: {'name':'Carnation','colors':['Pink','White','Red','Purple','Yellow']}\",\n",
    "\t\"stack\": \"---------------------------------------------------------------------------\n",
    "JSONDecodeError                           Traceback (most recent call last)\n",
    "File e:  langchain\\\\Lib\\\\site-packages\\\\langchain_core\\\\output_parsers\\\\json.py:212, in JsonOutputParser.parse_result(self, result, partial)\n",
    "    211 try:\n",
    "--> 212     return parse_json_markdown(text)\n",
    "    213 except JSONDecodeError as e:\n",
    "\n",
    "File e:  langchain\\\\Lib\\\\site-packages\\\\langchain_core\\\\output_parsers\\\\json.py:157, in parse_json_markdown(json_string, parser)\n",
    "    156 # Parse the JSON string into a Python dictionary\n",
    "--> 157 parsed = parser(json_str)\n",
    "    159 return parsed\n",
    "\n",
    "File e:  langchain\\\\Lib\\\\site-packages\\\\langchain_core\\\\output_parsers\\\\json.py:125, in parse_partial_json(s, strict)\n",
    "    122 # If we got here, we ran out of characters to remove\n",
    "    123 # and still couldn't parse the string as JSON, so return the parse error\n",
    "    124 # for the original string.\n",
    "--> 125 return json.loads(s, strict=strict)\n",
    "\n",
    "File e:  langchain\\\\Lib\\\\json\\\\__init__.py:359, in loads(s, cls, object_hook, parse_float, parse_int, parse_constant, object_pairs_hook, **kw)\n",
    "    358     kw['parse_constant'] = parse_constant\n",
    "--> 359 return cls(**kw).decode(s)\n",
    "\n",
    "File e:  langchain\\\\Lib\\\\json\\\\decoder.py:337, in JSONDecoder.decode(self, s, _w)\n",
    "    333 \\\"\\\"\\\"Return the Python representation of ``s`` (a ``str`` instance\n",
    "    334 containing a JSON document).\n",
    "    335 \n",
    "    336 \\\"\\\"\\\"\n",
    "--> 337 obj, end = self.raw_decode(s, idx=_w(s, 0).end())\n",
    "    338 end = _w(s, end).end()\n",
    "\n",
    "File e:  langchain\\\\Lib\\\\json\\\\decoder.py:353, in JSONDecoder.raw_decode(self, s, idx)\n",
    "    352 try:\n",
    "--> 353     obj, end = self.scan_once(s, idx)\n",
    "    354 except StopIteration as err:\n",
    "\n",
    "JSONDecodeError: Expecting property name enclosed in double quotes: line 1 column 2 (char 1)\n",
    "\n",
    "The above exception was the direct cause of the following exception:\n",
    "\n",
    "OutputParserException                     Traceback (most recent call last)\n",
    "Cell In[16], line 7\n",
    "      4 misformatted = \\\"{'name':'Carnation','colors':['Pink','White','Red','Purple','Yellow']}\\\"\n",
    "      6 parser = PydanticOutputParser(pydantic_object=Flower)\n",
    "----> 7 parser.parse(misformatted)\n",
    "\n",
    "File e:  langchain\\\\Lib\\\\site-packages\\\\langchain_core\\\\output_parsers\\\\json.py:218, in JsonOutputParser.parse(self, text)\n",
    "    217 def parse(self, text: str) -> Any:\n",
    "--> 218     return self.parse_result([Generation(text=text)])\n",
    "\n",
    "File e:  langchain\\\\Lib\\\\site-packages\\\\langchain\\\\output_parsers\\\\pydantic.py:23, in PydanticOutputParser.parse_result(self, result, partial)\n",
    "     22 def parse_result(self, result: List[Generation], *, partial: bool = False) -> Any:\n",
    "---> 23     json_object = super().parse_result(result)\n",
    "     24     try:\n",
    "     25         return self.pydantic_object.parse_obj(json_object)\n",
    "\n",
    "File e:  langchain\\\\Lib\\\\site-packages\\\\langchain_core\\\\output_parsers\\\\json.py:215, in JsonOutputParser.parse_result(self, result, partial)\n",
    "    213 except JSONDecodeError as e:\n",
    "    214     msg = f\\\"Invalid json output: {text}\\\"\n",
    "--> 215     raise OutputParserException(msg, llm_output=text) from e\n",
    "\n",
    "OutputParserException: Invalid json output: {'name':'Carnation','colors':['Pink','White','Red','Purple','Yellow']}\"\n",
    "}"
   ]
  },
  {
   "cell_type": "code",
   "execution_count": null,
   "metadata": {},
   "outputs": [],
   "source": [
    "from langchain.output_parsers import OutputFixingParser\n",
    "from langchain_openai import ChatOpenAI\n",
    "new_parser = OutputFixingParser.from_llm(parser=parser,llm=ChatOpenAI())\n",
    "\n",
    "print(new_parser.parse(misformatted))"
   ]
  },
  {
   "cell_type": "markdown",
   "metadata": {},
   "source": [
    "name='Rose' colors=['Red', 'White', 'Pink']"
   ]
  },
  {
   "cell_type": "code",
   "execution_count": null,
   "metadata": {},
   "outputs": [],
   "source": [
    "# 7. RetryWithErrorOutputParser   parse_with_prompt\n",
    "\n",
    "template = \"\"\"Based on the user question,provide an Action and Action input for what step should be taken.\n",
    "{format_instructions}\n",
    "Question:{query}\n",
    "Response:\n",
    "\"\"\"\n",
    "\n",
    "class Action(BaseModel):\n",
    "    action:str = Field(description=\"action to take\")\n",
    "    action_input:str = Field(description=\"input to the action\")"
   ]
  },
  {
   "cell_type": "code",
   "execution_count": null,
   "metadata": {},
   "outputs": [],
   "source": [
    "parser = PydanticOutputParser(pydantic_object=Action)"
   ]
  },
  {
   "cell_type": "code",
   "execution_count": null,
   "metadata": {},
   "outputs": [],
   "source": [
    "prompt = PromptTemplate(\n",
    "    template=\"Answer the user query.\\n{format_instructions}\\n{query}\\n\",\n",
    "    input_variables=[\"query\"],\n",
    "    partial_variables={\"format_instructions\":parser.get_format_instructions()}\n",
    ")\n",
    "\n",
    "prompt_value = prompt.format_prompt(query=\"What are the colors of Orchid?\")"
   ]
  },
  {
   "cell_type": "code",
   "execution_count": null,
   "metadata": {},
   "outputs": [],
   "source": [
    "response = '{\"action\":\"search\"}'\n",
    "parser.parse(response)"
   ]
  },
  {
   "cell_type": "markdown",
   "metadata": {},
   "source": [
    "{\n",
    "\t\"name\": \"OutputParserException\",\n",
    "\t\"message\": \"Failed to parse Action from completion {'action': 'search'}. Got: 1 validation error for Action\n",
    "action_input\n",
    "  field required (type=value_error.missing)\",\n",
    "\t\"stack\": \"---------------------------------------------------------------------------\n",
    "ValidationError                           Traceback (most recent call last)\n",
    "File site-packages\\\\langchain\\\\output_parsers\\\\pydantic.py:25, in PydanticOutputParser.parse_result(self, result, partial)\n",
    "     24 try:\n",
    "---> 25     return self.pydantic_object.parse_obj(json_object)\n",
    "     26 except ValidationError as e:\n",
    "\n",
    "File site-packages\\\\pydantic\\\\v1\\\\main.py:526, in BaseModel.parse_obj(cls, obj)\n",
    "    525         raise ValidationError([ErrorWrapper(exc, loc=ROOT_KEY)], cls) from e\n",
    "--> 526 return cls(**obj)\n",
    "\n",
    "File site-packages\\\\pydantic\\\\v1\\\\main.py:341, in BaseModel.__init__(__pydantic_self__, **data)\n",
    "    340 if validation_error:\n",
    "--> 341     raise validation_error\n",
    "    342 try:\n",
    "\n",
    "ValidationError: 1 validation error for Action\n",
    "action_input\n",
    "  field required (type=value_error.missing)\n",
    "\n",
    "During handling of the above exception, another exception occurred:\n",
    "\n",
    "OutputParserException                     Traceback (most recent call last)\n",
    "Cell In[21], line 2\n",
    "      1 response = '{\\\"action\\\":\\\"search\\\"}'\n",
    "----> 2 parser.parse(response)\n",
    "\n",
    "File site-packages\\\\langchain_core\\\\output_parsers\\\\json.py:218, in JsonOutputParser.parse(self, text)\n",
    "    217 def parse(self, text: str) -> Any:\n",
    "--> 218     return self.parse_result([Generation(text=text)])\n",
    "\n",
    "File site-packages\\\\langchain\\\\output_parsers\\\\pydantic.py:29, in PydanticOutputParser.parse_result(self, result, partial)\n",
    "     27 name = self.pydantic_object.__name__\n",
    "     28 msg = f\\\"Failed to parse {name} from completion {json_object}. Got: {e}\\\"\n",
    "---> 29 raise OutputParserException(msg, llm_output=json_object)\n",
    "\n",
    "OutputParserException: Failed to parse Action from completion {'action': 'search'}. Got: 1 validation error for Action\n",
    "action_input\n",
    "  field required (type=value_error.missing)\"\n",
    "}"
   ]
  },
  {
   "cell_type": "code",
   "execution_count": null,
   "metadata": {},
   "outputs": [],
   "source": [
    "fix_parser = OutputFixingParser.from_llm(parser=parser,llm=ChatOpenAI())\n",
    "result = fix_parser.parse(response)\n",
    "print(result)"
   ]
  },
  {
   "cell_type": "markdown",
   "metadata": {},
   "source": [
    "action='search' action_input='keyword'\n"
   ]
  },
  {
   "cell_type": "code",
   "execution_count": null,
   "metadata": {},
   "outputs": [],
   "source": [
    "from langchain.output_parsers import RetryWithErrorOutputParser\n",
    "\n",
    "retry_parser = RetryWithErrorOutputParser.from_llm(parser=parser,llm=OpenAI(temperature=0))\n",
    "parse_result = retry_parser.parse_with_prompt(response,prompt_value)\n",
    "print(parse_result)"
   ]
  },
  {
   "cell_type": "code",
   "execution_count": null,
   "metadata": {},
   "outputs": [],
   "source": [
    "from langchain.output_parsers import RetryOutputParser\n",
    "\n",
    "retry_parser = RetryOutputParser.from_llm(parser=parser,llm=OpenAI(temperature=0))\n",
    "parse_result = retry_parser.parse_with_prompt(response,prompt_value)\n",
    "print(parse_result)"
   ]
  },
  {
   "cell_type": "markdown",
   "metadata": {},
   "source": [
    "hw:  \n",
    "1. Try using other types of output parsers and share?"
   ]
  },
  {
   "cell_type": "markdown",
   "metadata": {},
   "source": [
    "output parse :runnable\n",
    "\n",
    "LCEL"
   ]
  }
 ],
 "metadata": {
  "kernelspec": {
   "display_name": "Python 3",
   "language": "python",
   "name": "python3"
  },
  "language_info": {
   "codemirror_mode": {
    "name": "ipython",
    "version": 3
   },
   "file_extension": ".py",
   "mimetype": "text/x-python",
   "name": "python",
   "nbconvert_exporter": "python",
   "pygments_lexer": "ipython3",
   "version": "3.8.5"
  }
 },
 "nbformat": 4,
 "nbformat_minor": 4
}
