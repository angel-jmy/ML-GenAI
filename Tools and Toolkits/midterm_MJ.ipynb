{
 "cells": [
  {
   "cell_type": "markdown",
   "id": "db895585-8ff7-4b9b-a074-2f1964fbf903",
   "metadata": {},
   "source": [
    "Links:\n",
    "\n",
    "\n",
    "https://python.langchain.com/docs/concepts/tools/\n",
    "\n",
    "https://python.langchain.com/docs/how_to/custom_tools/\n",
    "\n",
    "https://python.langchain.com/docs/integrations/tools/"
   ]
  },
  {
   "cell_type": "markdown",
   "id": "479e2291-3a42-48ff-8a71-3b8eecbf9df2",
   "metadata": {},
   "source": [
    "## 2. **Objective**  \n",
    "I want to enable an AI application to access my Gmail emails, have it check my inbox, and see if \"XX\" has sent me any messages.  \n",
    "*(Because I might be eagerly awaiting their message)*\n",
    "\n",
    "**Tip:** **Develop a personal assistant using the Gmail toolkit**\n",
    "\n",
    "### **Step 1:**  \n",
    "Set up your application interface in Google Cloud — `credential.json`\n",
    "\n",
    "### **Step 2:**  \n",
    "Generate development tokens based on the keys — `token.json`\n",
    "\n",
    "### **Step 3:**  \n",
    "Develop a Gmail App using the LangChain framework\n"
   ]
  },
  {
   "cell_type": "markdown",
   "id": "ba7ab950-c9ec-44c7-9520-dad36cab3b63",
   "metadata": {},
   "source": [
    "# Generating the token"
   ]
  },
  {
   "cell_type": "code",
   "execution_count": 21,
   "id": "c0a48682-8c51-4aa6-9191-de4b9ea2d308",
   "metadata": {},
   "outputs": [],
   "source": [
    "import os \n",
    "\n",
    "credential_path = os.path.dirname(os.getcwd())\n",
    "\n"
   ]
  },
  {
   "cell_type": "code",
   "execution_count": 8,
   "id": "2fa1efae-4190-45ee-887a-c99ac28972b5",
   "metadata": {},
   "outputs": [
    {
     "name": "stdout",
     "output_type": "stream",
     "text": [
      "Please visit this URL to authorize this application: https://accounts.google.com/o/oauth2/auth?response_type=code&client_id=483415711433-4d24q8dqhulhpv40erp0ll0oma50sevq.apps.googleusercontent.com&redirect_uri=http%3A%2F%2Flocalhost%3A53231%2F&scope=https%3A%2F%2Fwww.googleapis.com%2Fauth%2Fgmail.readonly&state=lqe2xdLShgrxeC20oWmhX7uIO4shCB&access_type=offline\n",
      "token.json generated successfully!\n"
     ]
    }
   ],
   "source": [
    "'''Generate the token'''\n",
    "\n",
    "from google_auth_oauthlib.flow import InstalledAppFlow\n",
    "\n",
    "# read-only access to Gmail\n",
    "SCOPES = [\"https://www.googleapis.com/auth/gmail.readonly\"]\n",
    "\n",
    "secret_path = os.path.join(credential_path, \"credentials.json\")\n",
    "\n",
    "def generate_token():\n",
    "    flow = InstalledAppFlow.from_client_secrets_file(secret_path, SCOPES)\n",
    "    creds = flow.run_local_server(port=0)\n",
    "    with open(\"token.json\", \"w\") as token_file:\n",
    "        token_file.write(creds.to_json())\n",
    "    print(\"token.json generated successfully!\")\n",
    "\n",
    "generate_token()\n"
   ]
  },
  {
   "cell_type": "markdown",
   "id": "f398048f-7677-4c12-b3a3-32e8f264c95a",
   "metadata": {},
   "source": [
    "# Use Gmail in LangChain"
   ]
  },
  {
   "cell_type": "code",
   "execution_count": 8,
   "id": "6fe76d26-f59a-411c-9261-a06828473864",
   "metadata": {},
   "outputs": [
    {
     "name": "stdout",
     "output_type": "stream",
     "text": [
      "Note: you may need to restart the kernel to use updated packages.\n"
     ]
    }
   ],
   "source": [
    "# %pip install -qU \"langchain-google-community[gmail]\"\n"
   ]
  },
  {
   "cell_type": "code",
   "execution_count": 10,
   "id": "204beaad-9617-46af-9273-cd487fdb8fcb",
   "metadata": {},
   "outputs": [
    {
     "name": "stdout",
     "output_type": "stream",
     "text": [
      "- create_gmail_draft \t Use this tool to create a draft email with the provided message fields.\n",
      "- send_gmail_message \t Use this tool to send email messages. The input is the message, recipients\n",
      "- search_gmail \t Use this tool to search for email messages or threads. The input must be a valid Gmail query. The output is a JSON list of the requested resource.\n",
      "- get_gmail_message \t Use this tool to fetch an email by message ID. Returns the thread ID, snippet, body, subject, and sender.\n",
      "- get_gmail_thread \t Use this tool to search for email messages. The input must be a valid Gmail query. The output is a JSON list of messages.\n"
     ]
    }
   ],
   "source": [
    "from langchain_google_community import GmailToolkit\n",
    "from langchain_google_community.gmail.utils import (\n",
    "    build_resource_service,\n",
    "    get_gmail_credentials,\n",
    ")\n",
    "\n",
    "# Can review scopes here https://developers.google.com/gmail/api/auth/scopes\n",
    "# For instance, readonly scope is 'https://www.googleapis.com/auth/gmail.readonly'\n",
    "# 'https://www.googleapis.com/auth/gmail.readonly' cannot send, delete, or modify\n",
    "# 'https://mail.google.com/' gives the full access\n",
    "credentials = get_gmail_credentials(\n",
    "    token_file=\"token.json\",\n",
    "    scopes=[\"https://www.googleapis.com/auth/gmail.readonly/\"],\n",
    "    client_secrets_file=secret_path,\n",
    ")\n",
    "api_resource = build_resource_service(credentials=credentials)\n",
    "toolkit = GmailToolkit(api_resource=api_resource)\n",
    "\n",
    "tools = toolkit.get_tools()\n",
    "\n",
    "# View available tools\n",
    "for tool in tools:\n",
    "    print(f\"- {tool.name} \\t {tool.description}\")"
   ]
  },
  {
   "cell_type": "code",
   "execution_count": null,
   "id": "67f9e871-a499-4eea-a8f8-7fa1f6a21cd0",
   "metadata": {},
   "outputs": [],
   "source": []
  },
  {
   "cell_type": "code",
   "execution_count": 14,
   "id": "92f8dc31-828e-4f77-a622-f559e6fc21a8",
   "metadata": {},
   "outputs": [
    {
     "name": "stdout",
     "output_type": "stream",
     "text": [
      "[{'id': '1973dd119eee39b0', 'threadId': '1973dd119eee39b0', 'snippet': 'Prompt engineering is key to LLM application development because the quality of a prompt directly affects the LLM&#39;s output. With the right prompts, you can ensure your app delivers accurate,', 'body': 'Prompt engineering is key to LLM application development because the quality of a prompt directly affects the LLM’s output. With the right prompts, you can ensure your app delivers accurate, relevant, and reliable responses.\\r\\n\\r\\nLangSmith’s Playground is your go-to space for experimenting with different prompts and models on various inputs, allowing you to quickly see how changes affect the response.\\r\\n\\r\\nWatch this quick video to see the Playground in action: https://track.pstmrk.it/3ts/youtu.be%2FsuJU1VYzy50/Tpyp/Gc69AQ/AQ/6397310f-ffa7-44cf-8df4-48cad3c76335/1/7QFXOxeco5\\r\\n\\r\\nJump in and check out our Playground docs to get started! https://track.pstmrk.it/3ts/docs.smith.langchain.com%2Fprompt_engineering%2Fhow_to_guides%23playground/Tpyp/Gc69AQ/AQ/6397310f-ffa7-44cf-8df4-48cad3c76335/2/0oMWDzNDRM#playground\\r\\n\\r\\nNext up, we’ll discuss how to manage your prompts.\\r\\n\\r\\nSpeak soon,\\r\\nNick\\r\\n', 'subject': '(2/7) Test & Tweak in\\r\\n =?utf-8?b?TGFuZ1NtaXRo4oCZcyBQbGF5Z3JvdW5kIPCfm50=?=', 'sender': '\"Nick @ LangChain\" <noreply@langchain.com>'}]\n"
     ]
    }
   ],
   "source": [
    "from langchain_google_community.gmail.search import GmailSearch\n",
    "from langchain_google_community.gmail.utils import get_gmail_credentials, build_resource_service\n",
    "\n",
    "# Set up credentials\n",
    "creds = get_gmail_credentials(\n",
    "    token_file=\"token.json\",\n",
    "    client_secrets_file=secret_path,\n",
    "    scopes=[\"https://www.googleapis.com/auth/gmail.readonly\"]\n",
    ")\n",
    "\n",
    "resource = build_resource_service(credentials=creds)\n",
    "\n",
    "# Initialize the GmailSearch tool\n",
    "search_tool = GmailSearch(api_resource=resource)\n",
    "\n",
    "# Run a Gmail query \n",
    "results = search_tool.run(\"from:noreply@langchain.com label:unread\")  \n",
    "\n",
    "print(results)\n"
   ]
  },
  {
   "cell_type": "code",
   "execution_count": null,
   "id": "df61d1b0-4aaa-41eb-af3e-e7e450817e79",
   "metadata": {},
   "outputs": [],
   "source": []
  },
  {
   "cell_type": "code",
   "execution_count": null,
   "id": "93bfd7cf-3c9a-49cb-8f15-c2d84e02caa9",
   "metadata": {},
   "outputs": [],
   "source": []
  }
 ],
 "metadata": {
  "kernelspec": {
   "display_name": "Python 3 (ipykernel)",
   "language": "python",
   "name": "python3"
  },
  "language_info": {
   "codemirror_mode": {
    "name": "ipython",
    "version": 3
   },
   "file_extension": ".py",
   "mimetype": "text/x-python",
   "name": "python",
   "nbconvert_exporter": "python",
   "pygments_lexer": "ipython3",
   "version": "3.13.2"
  }
 },
 "nbformat": 4,
 "nbformat_minor": 5
}
