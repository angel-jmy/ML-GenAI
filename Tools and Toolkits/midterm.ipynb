{
 "cells": [
  {
   "cell_type": "markdown",
   "id": "db895585-8ff7-4b9b-a074-2f1964fbf903",
   "metadata": {},
   "source": [
    "Links:\n",
    "\n",
    "\n",
    "https://python.langchain.com/docs/concepts/tools/\n",
    "\n",
    "https://python.langchain.com/docs/how_to/custom_tools/\n",
    "\n",
    "https://python.langchain.com/docs/integrations/tools/"
   ]
  },
  {
   "cell_type": "code",
   "execution_count": null,
   "id": "9072c25c-febc-44cb-af20-35383483e2a0",
   "metadata": {},
   "outputs": [],
   "source": []
  },
  {
   "cell_type": "code",
   "execution_count": null,
   "id": "41fd291f-b223-435b-b2d9-902c3a4e4e26",
   "metadata": {},
   "outputs": [],
   "source": []
  },
  {
   "cell_type": "markdown",
   "id": "479e2291-3a42-48ff-8a71-3b8eecbf9df2",
   "metadata": {},
   "source": [
    "## 2. **Objective**  \n",
    "I want to enable an AI application to access my Gmail emails, have it check my inbox, and see if \"XX\" has sent me any messages.  \n",
    "*(Because I might be eagerly awaiting their message)*\n",
    "\n",
    "**Tip:** **Develop a personal assistant using the Gmail toolkit**\n",
    "\n",
    "### **Step 1:**  \n",
    "Set up your application interface in Google Cloud — `credential.json`\n",
    "\n",
    "### **Step 2:**  \n",
    "Generate development tokens based on the keys — `token.json`\n",
    "\n",
    "### **Step 3:**  \n",
    "Develop a Gmail App using the LangChain framework\n"
   ]
  },
  {
   "cell_type": "code",
   "execution_count": null,
   "id": "df61d1b0-4aaa-41eb-af3e-e7e450817e79",
   "metadata": {},
   "outputs": [],
   "source": []
  }
 ],
 "metadata": {
  "kernelspec": {
   "display_name": "Python 3 (ipykernel)",
   "language": "python",
   "name": "python3"
  },
  "language_info": {
   "codemirror_mode": {
    "name": "ipython",
    "version": 3
   },
   "file_extension": ".py",
   "mimetype": "text/x-python",
   "name": "python",
   "nbconvert_exporter": "python",
   "pygments_lexer": "ipython3",
   "version": "3.13.2"
  }
 },
 "nbformat": 4,
 "nbformat_minor": 5
}
