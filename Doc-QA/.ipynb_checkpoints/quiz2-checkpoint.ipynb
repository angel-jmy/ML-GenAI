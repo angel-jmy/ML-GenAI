{
 "cells": [
  {
   "cell_type": "markdown",
   "id": "fb312666-7ed1-4e6c-978a-7e59615212bc",
   "metadata": {},
   "source": [
    "## Practical Questions\n",
    "\n",
    "**Project**: Internal Employee Knowledge Base Q&A System.\n",
    "\n",
    "**Project Description**: \"Floral\" is a large-scale online flower sales platform with its own business processes and standards, as well as Standard Operating Procedure (SOP) manuals for employees. Relevant information is shared during new employee onboarding training. However, this information is scattered across various internal websites and directories of the HR department, making it inconvenient to access at times. Additionally, employees may struggle to find the desired content promptly due to lengthy documents, and sometimes, company policies are updated while employees still have outdated document versions.\n",
    "\n",
    "To address these needs, we will develop a \"Doc-QA\" system based on various internal knowledge manuals.\n",
    "\n",
    "This question-and-answer system will understand employees' inquiries and provide precise answers based on the latest employee manuals.\n",
    "\n",
    "**Prepared Data:**\n",
    "\n",
    "Internal data includes various files in PDF, Word, and TXT formats. These have already been provided.\n",
    "\n",
    "LangChain  \n",
    "1. Data Sources  \n",
    "2. LLM app  \n",
    "3. Use-Cases\n"
   ]
  },
  {
   "cell_type": "code",
   "execution_count": null,
   "id": "9c984cfc-432b-4004-bf35-6ede931b860a",
   "metadata": {},
   "outputs": [],
   "source": []
  }
 ],
 "metadata": {
  "kernelspec": {
   "display_name": "Python 3 (ipykernel)",
   "language": "python",
   "name": "python3"
  },
  "language_info": {
   "codemirror_mode": {
    "name": "ipython",
    "version": 3
   },
   "file_extension": ".py",
   "mimetype": "text/x-python",
   "name": "python",
   "nbconvert_exporter": "python",
   "pygments_lexer": "ipython3",
   "version": "3.13.2"
  }
 },
 "nbformat": 4,
 "nbformat_minor": 5
}
