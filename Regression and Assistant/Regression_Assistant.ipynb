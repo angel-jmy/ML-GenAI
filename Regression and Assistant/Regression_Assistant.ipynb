{
 "cells": [
  {
   "cell_type": "markdown",
   "metadata": {},
   "source": [
    "### Use the model to predict Lifetime Value (LTV)?\n",
    "\n",
    "**RFM → M → total revenue**  \n",
    "**The target:**  \n",
    "Based on historical data, can you predict how much new users will spend in the next year or two?\n",
    "\n",
    "**Analysis of ideas**  \n",
    "CLV (Customer Lifetime Value) = Lifetime Value (LTV)\n",
    "\n",
    "**The data:**\n",
    "\n",
    "User's basic information and consumption behavior data.\n",
    "\n",
    "| 字段名称       | 释义     |\n",
    "|---------------|----------|\n",
    "| InvoiceNo     | 订单号   |\n",
    "| StockCode     | 产品码   |\n",
    "| InvoiceDate   | 消费日期 |\n",
    "| Description   | 产品说明 |\n",
    "| Quantity      | 数量     |\n",
    "| UnitPrice     | 单价     |\n",
    "| CustomerID    | 用户码   |\n",
    "| Country       | 国家     |"
   ]
  },
  {
   "cell_type": "code",
   "execution_count": 85,
   "metadata": {},
   "outputs": [],
   "source": [
    "import os\n",
    "import pandas as pd\n",
    "%matplotlib inline\n",
    "\n",
    "\n",
    "filedir = os.path.join(os.path.dirname(os.getcwd()), 'Clustering and Regression')\n",
    "filename = 'data.csv'"
   ]
  },
  {
   "cell_type": "markdown",
   "metadata": {},
   "source": [
    "# Load the data"
   ]
  },
  {
   "cell_type": "code",
   "execution_count": 2,
   "metadata": {},
   "outputs": [
    {
     "data": {
      "text/html": [
       "<div>\n",
       "<style scoped>\n",
       "    .dataframe tbody tr th:only-of-type {\n",
       "        vertical-align: middle;\n",
       "    }\n",
       "\n",
       "    .dataframe tbody tr th {\n",
       "        vertical-align: top;\n",
       "    }\n",
       "\n",
       "    .dataframe thead th {\n",
       "        text-align: right;\n",
       "    }\n",
       "</style>\n",
       "<table border=\"1\" class=\"dataframe\">\n",
       "  <thead>\n",
       "    <tr style=\"text-align: right;\">\n",
       "      <th></th>\n",
       "      <th>InvoiceNo</th>\n",
       "      <th>StockCode</th>\n",
       "      <th>Description</th>\n",
       "      <th>Quantity</th>\n",
       "      <th>InvoiceDate</th>\n",
       "      <th>UnitPrice</th>\n",
       "      <th>CustomerID</th>\n",
       "      <th>Country</th>\n",
       "    </tr>\n",
       "  </thead>\n",
       "  <tbody>\n",
       "    <tr>\n",
       "      <th>0</th>\n",
       "      <td>536365</td>\n",
       "      <td>85123A</td>\n",
       "      <td>WHITE HANGING HEART T-LIGHT HOLDER</td>\n",
       "      <td>6</td>\n",
       "      <td>12/1/2022 8:26</td>\n",
       "      <td>2.55</td>\n",
       "      <td>17850.0</td>\n",
       "      <td>United Kingdom</td>\n",
       "    </tr>\n",
       "    <tr>\n",
       "      <th>1</th>\n",
       "      <td>536365</td>\n",
       "      <td>71053</td>\n",
       "      <td>WHITE METAL LANTERN</td>\n",
       "      <td>6</td>\n",
       "      <td>12/1/2022 8:26</td>\n",
       "      <td>3.39</td>\n",
       "      <td>17850.0</td>\n",
       "      <td>United Kingdom</td>\n",
       "    </tr>\n",
       "    <tr>\n",
       "      <th>2</th>\n",
       "      <td>536365</td>\n",
       "      <td>84406B</td>\n",
       "      <td>CREAM CUPID HEARTS COAT HANGER</td>\n",
       "      <td>8</td>\n",
       "      <td>12/1/2022 8:26</td>\n",
       "      <td>2.75</td>\n",
       "      <td>17850.0</td>\n",
       "      <td>United Kingdom</td>\n",
       "    </tr>\n",
       "    <tr>\n",
       "      <th>3</th>\n",
       "      <td>536365</td>\n",
       "      <td>84029G</td>\n",
       "      <td>KNITTED UNION FLAG HOT WATER BOTTLE</td>\n",
       "      <td>6</td>\n",
       "      <td>12/1/2022 8:26</td>\n",
       "      <td>3.39</td>\n",
       "      <td>17850.0</td>\n",
       "      <td>United Kingdom</td>\n",
       "    </tr>\n",
       "    <tr>\n",
       "      <th>4</th>\n",
       "      <td>536365</td>\n",
       "      <td>84029E</td>\n",
       "      <td>RED WOOLLY HOTTIE WHITE HEART.</td>\n",
       "      <td>6</td>\n",
       "      <td>12/1/2022 8:26</td>\n",
       "      <td>3.39</td>\n",
       "      <td>17850.0</td>\n",
       "      <td>United Kingdom</td>\n",
       "    </tr>\n",
       "  </tbody>\n",
       "</table>\n",
       "</div>"
      ],
      "text/plain": [
       "  InvoiceNo StockCode                          Description  Quantity  \\\n",
       "0    536365    85123A   WHITE HANGING HEART T-LIGHT HOLDER         6   \n",
       "1    536365     71053                  WHITE METAL LANTERN         6   \n",
       "2    536365    84406B       CREAM CUPID HEARTS COAT HANGER         8   \n",
       "3    536365    84029G  KNITTED UNION FLAG HOT WATER BOTTLE         6   \n",
       "4    536365    84029E       RED WOOLLY HOTTIE WHITE HEART.         6   \n",
       "\n",
       "      InvoiceDate  UnitPrice  CustomerID         Country  \n",
       "0  12/1/2022 8:26       2.55     17850.0  United Kingdom  \n",
       "1  12/1/2022 8:26       3.39     17850.0  United Kingdom  \n",
       "2  12/1/2022 8:26       2.75     17850.0  United Kingdom  \n",
       "3  12/1/2022 8:26       3.39     17850.0  United Kingdom  \n",
       "4  12/1/2022 8:26       3.39     17850.0  United Kingdom  "
      ]
     },
     "execution_count": 2,
     "metadata": {},
     "output_type": "execute_result"
    }
   ],
   "source": [
    "df_sales = pd.read_csv(os.path.join(filedir, filename))\n",
    "df_sales.head()\n"
   ]
  },
  {
   "cell_type": "code",
   "execution_count": 3,
   "metadata": {},
   "outputs": [
    {
     "name": "stdout",
     "output_type": "stream",
     "text": [
      "date_range:2022-12-01 08:26:00~2023-12-09 12:50:00\n"
     ]
    }
   ],
   "source": [
    "df_sales['InvoiceDate'] = pd.to_datetime(df_sales['InvoiceDate'])\n",
    "date_min = df_sales['InvoiceDate'].min()\n",
    "date_max = df_sales['InvoiceDate'].max()\n",
    "print('date_range:%s~%s' % (date_min, date_max))\n"
   ]
  },
  {
   "cell_type": "code",
   "execution_count": 4,
   "metadata": {},
   "outputs": [
    {
     "name": "stdout",
     "output_type": "stream",
     "text": [
      "date_range:2022-12-01 08:26:00~2023-05-31 15:53:00\n"
     ]
    }
   ],
   "source": [
    "df_sales = df_sales.loc[df_sales['InvoiceDate'] < '2023-06-01']\n",
    "date_min = df_sales['InvoiceDate'].min()\n",
    "date_max = df_sales['InvoiceDate'].max()\n",
    "print('date_range:%s~%s' % (date_min, date_max))\n"
   ]
  },
  {
   "cell_type": "code",
   "execution_count": 5,
   "metadata": {},
   "outputs": [
    {
     "data": {
      "text/plain": [
       "([<matplotlib.axis.XTick at 0x11982eef400>,\n",
       "  <matplotlib.axis.XTick at 0x11982eef3d0>,\n",
       "  <matplotlib.axis.XTick at 0x11982f2e8b0>,\n",
       "  <matplotlib.axis.XTick at 0x11982f540a0>,\n",
       "  <matplotlib.axis.XTick at 0x11982f546d0>,\n",
       "  <matplotlib.axis.XTick at 0x11982f54490>],\n",
       " [Text(0, 0, '12.2022'),\n",
       "  Text(1, 0, '01.2023'),\n",
       "  Text(2, 0, '02.2023'),\n",
       "  Text(3, 0, '03.2023'),\n",
       "  Text(4, 0, '04.2023'),\n",
       "  Text(5, 0, '05.2023')])"
      ]
     },
     "execution_count": 5,
     "metadata": {},
     "output_type": "execute_result"
    },
    {
     "data": {
      "image/png": "[encoded data removed]",
      "text/plain": [
       "<Figure size 864x432 with 1 Axes>"
      ]
     },
     "metadata": {
      "needs_background": "light"
     },
     "output_type": "display_data"
    }
   ],
   "source": [
    "import matplotlib.pyplot as plt\n",
    "\n",
    "f_orders_monthly = df_sales.set_index('InvoiceDate')['InvoiceNo'].resample('M').nunique()\n",
    "\n",
    "ax = pd.DataFrame(f_orders_monthly.values).plot(grid=True, figsize=(12, 6), legend=False)\n",
    "ax.set_xlabel('month')\n",
    "ax.set_ylabel('order')\n",
    "ax.set_title('month order number')\n",
    "\n",
    "plt.xticks(\n",
    "    range(len(f_orders_monthly.index)),\n",
    "    [x.strftime('%m.%Y') for x in f_orders_monthly.index],\n",
    "    rotation=45\n",
    ")\n"
   ]
  },
  {
   "cell_type": "code",
   "execution_count": 6,
   "metadata": {},
   "outputs": [],
   "source": [
    "# data cleaning\n",
    "df_sales = df_sales.drop_duplicates()\n",
    "\n",
    "df_sales.describe()\n",
    "\n",
    "df_sales = df_sales.loc[df_sales['Quantity'] > 0]\n"
   ]
  },
  {
   "cell_type": "code",
   "execution_count": 7,
   "metadata": {},
   "outputs": [
    {
     "data": {
      "text/html": [
       "<div>\n",
       "<style scoped>\n",
       "    .dataframe tbody tr th:only-of-type {\n",
       "        vertical-align: middle;\n",
       "    }\n",
       "\n",
       "    .dataframe tbody tr th {\n",
       "        vertical-align: top;\n",
       "    }\n",
       "\n",
       "    .dataframe thead th {\n",
       "        text-align: right;\n",
       "    }\n",
       "</style>\n",
       "<table border=\"1\" class=\"dataframe\">\n",
       "  <thead>\n",
       "    <tr style=\"text-align: right;\">\n",
       "      <th></th>\n",
       "      <th>InvoiceNo</th>\n",
       "      <th>StockCode</th>\n",
       "      <th>Description</th>\n",
       "      <th>Quantity</th>\n",
       "      <th>InvoiceDate</th>\n",
       "      <th>UnitPrice</th>\n",
       "      <th>CustomerID</th>\n",
       "      <th>Country</th>\n",
       "      <th>TotalPrice</th>\n",
       "    </tr>\n",
       "  </thead>\n",
       "  <tbody>\n",
       "    <tr>\n",
       "      <th>0</th>\n",
       "      <td>536365</td>\n",
       "      <td>85123A</td>\n",
       "      <td>WHITE HANGING HEART T-LIGHT HOLDER</td>\n",
       "      <td>6</td>\n",
       "      <td>2022-12-01 08:26:00</td>\n",
       "      <td>2.55</td>\n",
       "      <td>17850.0</td>\n",
       "      <td>United Kingdom</td>\n",
       "      <td>15.30</td>\n",
       "    </tr>\n",
       "    <tr>\n",
       "      <th>1</th>\n",
       "      <td>536365</td>\n",
       "      <td>71053</td>\n",
       "      <td>WHITE METAL LANTERN</td>\n",
       "      <td>6</td>\n",
       "      <td>2022-12-01 08:26:00</td>\n",
       "      <td>3.39</td>\n",
       "      <td>17850.0</td>\n",
       "      <td>United Kingdom</td>\n",
       "      <td>20.34</td>\n",
       "    </tr>\n",
       "    <tr>\n",
       "      <th>2</th>\n",
       "      <td>536365</td>\n",
       "      <td>84406B</td>\n",
       "      <td>CREAM CUPID HEARTS COAT HANGER</td>\n",
       "      <td>8</td>\n",
       "      <td>2022-12-01 08:26:00</td>\n",
       "      <td>2.75</td>\n",
       "      <td>17850.0</td>\n",
       "      <td>United Kingdom</td>\n",
       "      <td>22.00</td>\n",
       "    </tr>\n",
       "    <tr>\n",
       "      <th>3</th>\n",
       "      <td>536365</td>\n",
       "      <td>84029G</td>\n",
       "      <td>KNITTED UNION FLAG HOT WATER BOTTLE</td>\n",
       "      <td>6</td>\n",
       "      <td>2022-12-01 08:26:00</td>\n",
       "      <td>3.39</td>\n",
       "      <td>17850.0</td>\n",
       "      <td>United Kingdom</td>\n",
       "      <td>20.34</td>\n",
       "    </tr>\n",
       "    <tr>\n",
       "      <th>4</th>\n",
       "      <td>536365</td>\n",
       "      <td>84029E</td>\n",
       "      <td>RED WOOLLY HOTTIE WHITE HEART.</td>\n",
       "      <td>6</td>\n",
       "      <td>2022-12-01 08:26:00</td>\n",
       "      <td>3.39</td>\n",
       "      <td>17850.0</td>\n",
       "      <td>United Kingdom</td>\n",
       "      <td>20.34</td>\n",
       "    </tr>\n",
       "    <tr>\n",
       "      <th>...</th>\n",
       "      <td>...</td>\n",
       "      <td>...</td>\n",
       "      <td>...</td>\n",
       "      <td>...</td>\n",
       "      <td>...</td>\n",
       "      <td>...</td>\n",
       "      <td>...</td>\n",
       "      <td>...</td>\n",
       "      <td>...</td>\n",
       "    </tr>\n",
       "    <tr>\n",
       "      <th>209024</th>\n",
       "      <td>555150</td>\n",
       "      <td>22895</td>\n",
       "      <td>SET OF 2 TEA TOWELS APPLE AND PEARS</td>\n",
       "      <td>3</td>\n",
       "      <td>2023-05-31 15:53:00</td>\n",
       "      <td>3.25</td>\n",
       "      <td>NaN</td>\n",
       "      <td>United Kingdom</td>\n",
       "      <td>9.75</td>\n",
       "    </tr>\n",
       "    <tr>\n",
       "      <th>209025</th>\n",
       "      <td>555150</td>\n",
       "      <td>22983</td>\n",
       "      <td>CARD BILLBOARD FONT</td>\n",
       "      <td>3</td>\n",
       "      <td>2023-05-31 15:53:00</td>\n",
       "      <td>0.42</td>\n",
       "      <td>NaN</td>\n",
       "      <td>United Kingdom</td>\n",
       "      <td>1.26</td>\n",
       "    </tr>\n",
       "    <tr>\n",
       "      <th>209026</th>\n",
       "      <td>555150</td>\n",
       "      <td>23169</td>\n",
       "      <td>CLASSIC GLASS COOKIE JAR</td>\n",
       "      <td>3</td>\n",
       "      <td>2023-05-31 15:53:00</td>\n",
       "      <td>4.15</td>\n",
       "      <td>NaN</td>\n",
       "      <td>United Kingdom</td>\n",
       "      <td>12.45</td>\n",
       "    </tr>\n",
       "    <tr>\n",
       "      <th>209027</th>\n",
       "      <td>555150</td>\n",
       "      <td>23298</td>\n",
       "      <td>SPOTTY BUNTING</td>\n",
       "      <td>5</td>\n",
       "      <td>2023-05-31 15:53:00</td>\n",
       "      <td>4.95</td>\n",
       "      <td>NaN</td>\n",
       "      <td>United Kingdom</td>\n",
       "      <td>24.75</td>\n",
       "    </tr>\n",
       "    <tr>\n",
       "      <th>209028</th>\n",
       "      <td>555150</td>\n",
       "      <td>23118</td>\n",
       "      <td>PARISIENNE JEWELLERY DRAWER</td>\n",
       "      <td>2</td>\n",
       "      <td>2023-05-31 15:53:00</td>\n",
       "      <td>7.50</td>\n",
       "      <td>NaN</td>\n",
       "      <td>United Kingdom</td>\n",
       "      <td>15.00</td>\n",
       "    </tr>\n",
       "  </tbody>\n",
       "</table>\n",
       "<p>202867 rows × 9 columns</p>\n",
       "</div>"
      ],
      "text/plain": [
       "       InvoiceNo StockCode                          Description  Quantity  \\\n",
       "0         536365    85123A   WHITE HANGING HEART T-LIGHT HOLDER         6   \n",
       "1         536365     71053                  WHITE METAL LANTERN         6   \n",
       "2         536365    84406B       CREAM CUPID HEARTS COAT HANGER         8   \n",
       "3         536365    84029G  KNITTED UNION FLAG HOT WATER BOTTLE         6   \n",
       "4         536365    84029E       RED WOOLLY HOTTIE WHITE HEART.         6   \n",
       "...          ...       ...                                  ...       ...   \n",
       "209024    555150     22895  SET OF 2 TEA TOWELS APPLE AND PEARS         3   \n",
       "209025    555150     22983                  CARD BILLBOARD FONT         3   \n",
       "209026    555150     23169             CLASSIC GLASS COOKIE JAR         3   \n",
       "209027    555150     23298                       SPOTTY BUNTING         5   \n",
       "209028    555150     23118         PARISIENNE JEWELLERY DRAWER          2   \n",
       "\n",
       "               InvoiceDate  UnitPrice  CustomerID         Country  TotalPrice  \n",
       "0      2022-12-01 08:26:00       2.55     17850.0  United Kingdom       15.30  \n",
       "1      2022-12-01 08:26:00       3.39     17850.0  United Kingdom       20.34  \n",
       "2      2022-12-01 08:26:00       2.75     17850.0  United Kingdom       22.00  \n",
       "3      2022-12-01 08:26:00       3.39     17850.0  United Kingdom       20.34  \n",
       "4      2022-12-01 08:26:00       3.39     17850.0  United Kingdom       20.34  \n",
       "...                    ...        ...         ...             ...         ...  \n",
       "209024 2023-05-31 15:53:00       3.25         NaN  United Kingdom        9.75  \n",
       "209025 2023-05-31 15:53:00       0.42         NaN  United Kingdom        1.26  \n",
       "209026 2023-05-31 15:53:00       4.15         NaN  United Kingdom       12.45  \n",
       "209027 2023-05-31 15:53:00       4.95         NaN  United Kingdom       24.75  \n",
       "209028 2023-05-31 15:53:00       7.50         NaN  United Kingdom       15.00  \n",
       "\n",
       "[202867 rows x 9 columns]"
      ]
     },
     "execution_count": 7,
     "metadata": {},
     "output_type": "execute_result"
    }
   ],
   "source": [
    "# feature engineering\n",
    "df_sales['TotalPrice'] = df_sales['Quantity'] * df_sales['UnitPrice']\n",
    "df_sales\n"
   ]
  },
  {
   "cell_type": "code",
   "execution_count": 8,
   "metadata": {},
   "outputs": [
    {
     "data": {
      "text/html": [
       "<div>\n",
       "<style scoped>\n",
       "    .dataframe tbody tr th:only-of-type {\n",
       "        vertical-align: middle;\n",
       "    }\n",
       "\n",
       "    .dataframe tbody tr th {\n",
       "        vertical-align: top;\n",
       "    }\n",
       "\n",
       "    .dataframe thead th {\n",
       "        text-align: right;\n",
       "    }\n",
       "</style>\n",
       "<table border=\"1\" class=\"dataframe\">\n",
       "  <thead>\n",
       "    <tr style=\"text-align: right;\">\n",
       "      <th></th>\n",
       "      <th>InvoiceNo</th>\n",
       "      <th>StockCode</th>\n",
       "      <th>Description</th>\n",
       "      <th>Quantity</th>\n",
       "      <th>InvoiceDate</th>\n",
       "      <th>UnitPrice</th>\n",
       "      <th>CustomerID</th>\n",
       "      <th>Country</th>\n",
       "      <th>TotalPrice</th>\n",
       "    </tr>\n",
       "  </thead>\n",
       "  <tbody>\n",
       "    <tr>\n",
       "      <th>0</th>\n",
       "      <td>536365</td>\n",
       "      <td>85123A</td>\n",
       "      <td>WHITE HANGING HEART T-LIGHT HOLDER</td>\n",
       "      <td>6</td>\n",
       "      <td>2022-12-01 08:26:00</td>\n",
       "      <td>2.55</td>\n",
       "      <td>17850.0</td>\n",
       "      <td>United Kingdom</td>\n",
       "      <td>15.30</td>\n",
       "    </tr>\n",
       "    <tr>\n",
       "      <th>1</th>\n",
       "      <td>536365</td>\n",
       "      <td>71053</td>\n",
       "      <td>WHITE METAL LANTERN</td>\n",
       "      <td>6</td>\n",
       "      <td>2022-12-01 08:26:00</td>\n",
       "      <td>3.39</td>\n",
       "      <td>17850.0</td>\n",
       "      <td>United Kingdom</td>\n",
       "      <td>20.34</td>\n",
       "    </tr>\n",
       "    <tr>\n",
       "      <th>2</th>\n",
       "      <td>536365</td>\n",
       "      <td>84406B</td>\n",
       "      <td>CREAM CUPID HEARTS COAT HANGER</td>\n",
       "      <td>8</td>\n",
       "      <td>2022-12-01 08:26:00</td>\n",
       "      <td>2.75</td>\n",
       "      <td>17850.0</td>\n",
       "      <td>United Kingdom</td>\n",
       "      <td>22.00</td>\n",
       "    </tr>\n",
       "    <tr>\n",
       "      <th>3</th>\n",
       "      <td>536365</td>\n",
       "      <td>84029G</td>\n",
       "      <td>KNITTED UNION FLAG HOT WATER BOTTLE</td>\n",
       "      <td>6</td>\n",
       "      <td>2022-12-01 08:26:00</td>\n",
       "      <td>3.39</td>\n",
       "      <td>17850.0</td>\n",
       "      <td>United Kingdom</td>\n",
       "      <td>20.34</td>\n",
       "    </tr>\n",
       "    <tr>\n",
       "      <th>4</th>\n",
       "      <td>536365</td>\n",
       "      <td>84029E</td>\n",
       "      <td>RED WOOLLY HOTTIE WHITE HEART.</td>\n",
       "      <td>6</td>\n",
       "      <td>2022-12-01 08:26:00</td>\n",
       "      <td>3.39</td>\n",
       "      <td>17850.0</td>\n",
       "      <td>United Kingdom</td>\n",
       "      <td>20.34</td>\n",
       "    </tr>\n",
       "    <tr>\n",
       "      <th>...</th>\n",
       "      <td>...</td>\n",
       "      <td>...</td>\n",
       "      <td>...</td>\n",
       "      <td>...</td>\n",
       "      <td>...</td>\n",
       "      <td>...</td>\n",
       "      <td>...</td>\n",
       "      <td>...</td>\n",
       "      <td>...</td>\n",
       "    </tr>\n",
       "    <tr>\n",
       "      <th>100538</th>\n",
       "      <td>545071</td>\n",
       "      <td>21078</td>\n",
       "      <td>SET/20 STRAWBERRY PAPER NAPKINS</td>\n",
       "      <td>2</td>\n",
       "      <td>2023-02-27 15:59:00</td>\n",
       "      <td>0.85</td>\n",
       "      <td>15996.0</td>\n",
       "      <td>United Kingdom</td>\n",
       "      <td>1.70</td>\n",
       "    </tr>\n",
       "    <tr>\n",
       "      <th>100539</th>\n",
       "      <td>545071</td>\n",
       "      <td>22302</td>\n",
       "      <td>COFFEE MUG PEARS  DESIGN</td>\n",
       "      <td>6</td>\n",
       "      <td>2023-02-27 15:59:00</td>\n",
       "      <td>2.55</td>\n",
       "      <td>15996.0</td>\n",
       "      <td>United Kingdom</td>\n",
       "      <td>15.30</td>\n",
       "    </tr>\n",
       "    <tr>\n",
       "      <th>100540</th>\n",
       "      <td>545071</td>\n",
       "      <td>22301</td>\n",
       "      <td>COFFEE MUG CAT + BIRD DESIGN</td>\n",
       "      <td>6</td>\n",
       "      <td>2023-02-27 15:59:00</td>\n",
       "      <td>2.55</td>\n",
       "      <td>15996.0</td>\n",
       "      <td>United Kingdom</td>\n",
       "      <td>15.30</td>\n",
       "    </tr>\n",
       "    <tr>\n",
       "      <th>100541</th>\n",
       "      <td>545071</td>\n",
       "      <td>22722</td>\n",
       "      <td>SET OF 6 SPICE TINS PANTRY DESIGN</td>\n",
       "      <td>2</td>\n",
       "      <td>2023-02-27 15:59:00</td>\n",
       "      <td>3.95</td>\n",
       "      <td>15996.0</td>\n",
       "      <td>United Kingdom</td>\n",
       "      <td>7.90</td>\n",
       "    </tr>\n",
       "    <tr>\n",
       "      <th>100542</th>\n",
       "      <td>545071</td>\n",
       "      <td>22300</td>\n",
       "      <td>COFFEE MUG DOG + BALL DESIGN</td>\n",
       "      <td>6</td>\n",
       "      <td>2023-02-27 15:59:00</td>\n",
       "      <td>2.55</td>\n",
       "      <td>15996.0</td>\n",
       "      <td>United Kingdom</td>\n",
       "      <td>15.30</td>\n",
       "    </tr>\n",
       "  </tbody>\n",
       "</table>\n",
       "<p>100543 rows × 9 columns</p>\n",
       "</div>"
      ],
      "text/plain": [
       "       InvoiceNo StockCode                          Description  Quantity  \\\n",
       "0         536365    85123A   WHITE HANGING HEART T-LIGHT HOLDER         6   \n",
       "1         536365     71053                  WHITE METAL LANTERN         6   \n",
       "2         536365    84406B       CREAM CUPID HEARTS COAT HANGER         8   \n",
       "3         536365    84029G  KNITTED UNION FLAG HOT WATER BOTTLE         6   \n",
       "4         536365    84029E       RED WOOLLY HOTTIE WHITE HEART.         6   \n",
       "...          ...       ...                                  ...       ...   \n",
       "100538    545071     21078     SET/20 STRAWBERRY PAPER NAPKINS          2   \n",
       "100539    545071     22302             COFFEE MUG PEARS  DESIGN         6   \n",
       "100540    545071     22301         COFFEE MUG CAT + BIRD DESIGN         6   \n",
       "100541    545071     22722    SET OF 6 SPICE TINS PANTRY DESIGN         2   \n",
       "100542    545071     22300         COFFEE MUG DOG + BALL DESIGN         6   \n",
       "\n",
       "               InvoiceDate  UnitPrice  CustomerID         Country  TotalPrice  \n",
       "0      2022-12-01 08:26:00       2.55     17850.0  United Kingdom       15.30  \n",
       "1      2022-12-01 08:26:00       3.39     17850.0  United Kingdom       20.34  \n",
       "2      2022-12-01 08:26:00       2.75     17850.0  United Kingdom       22.00  \n",
       "3      2022-12-01 08:26:00       3.39     17850.0  United Kingdom       20.34  \n",
       "4      2022-12-01 08:26:00       3.39     17850.0  United Kingdom       20.34  \n",
       "...                    ...        ...         ...             ...         ...  \n",
       "100538 2023-02-27 15:59:00       0.85     15996.0  United Kingdom        1.70  \n",
       "100539 2023-02-27 15:59:00       2.55     15996.0  United Kingdom       15.30  \n",
       "100540 2023-02-27 15:59:00       2.55     15996.0  United Kingdom       15.30  \n",
       "100541 2023-02-27 15:59:00       3.95     15996.0  United Kingdom        7.90  \n",
       "100542 2023-02-27 15:59:00       2.55     15996.0  United Kingdom       15.30  \n",
       "\n",
       "[100543 rows x 9 columns]"
      ]
     },
     "execution_count": 8,
     "metadata": {},
     "output_type": "execute_result"
    }
   ],
   "source": [
    "df_sales_3month = df_sales[\n",
    "    (df_sales['InvoiceDate'] >= '2022-12-01') & \n",
    "    (df_sales['InvoiceDate'] <= '2023-02-28')\n",
    "].reset_index(drop=True)\n",
    "\n",
    "df_sales_3month\n"
   ]
  },
  {
   "cell_type": "code",
   "execution_count": 9,
   "metadata": {},
   "outputs": [
    {
     "data": {
      "text/html": [
       "<div>\n",
       "<style scoped>\n",
       "    .dataframe tbody tr th:only-of-type {\n",
       "        vertical-align: middle;\n",
       "    }\n",
       "\n",
       "    .dataframe tbody tr th {\n",
       "        vertical-align: top;\n",
       "    }\n",
       "\n",
       "    .dataframe thead th {\n",
       "        text-align: right;\n",
       "    }\n",
       "</style>\n",
       "<table border=\"1\" class=\"dataframe\">\n",
       "  <thead>\n",
       "    <tr style=\"text-align: right;\">\n",
       "      <th></th>\n",
       "      <th>CustomerID</th>\n",
       "    </tr>\n",
       "  </thead>\n",
       "  <tbody>\n",
       "    <tr>\n",
       "      <th>0</th>\n",
       "      <td>17850.0</td>\n",
       "    </tr>\n",
       "    <tr>\n",
       "      <th>1</th>\n",
       "      <td>13047.0</td>\n",
       "    </tr>\n",
       "    <tr>\n",
       "      <th>2</th>\n",
       "      <td>12583.0</td>\n",
       "    </tr>\n",
       "    <tr>\n",
       "      <th>3</th>\n",
       "      <td>13748.0</td>\n",
       "    </tr>\n",
       "    <tr>\n",
       "      <th>4</th>\n",
       "      <td>15100.0</td>\n",
       "    </tr>\n",
       "    <tr>\n",
       "      <th>...</th>\n",
       "      <td>...</td>\n",
       "    </tr>\n",
       "    <tr>\n",
       "      <th>2714</th>\n",
       "      <td>14819.0</td>\n",
       "    </tr>\n",
       "    <tr>\n",
       "      <th>2715</th>\n",
       "      <td>12790.0</td>\n",
       "    </tr>\n",
       "    <tr>\n",
       "      <th>2716</th>\n",
       "      <td>15163.0</td>\n",
       "    </tr>\n",
       "    <tr>\n",
       "      <th>2717</th>\n",
       "      <td>18204.0</td>\n",
       "    </tr>\n",
       "    <tr>\n",
       "      <th>2718</th>\n",
       "      <td>16810.0</td>\n",
       "    </tr>\n",
       "  </tbody>\n",
       "</table>\n",
       "<p>2719 rows × 1 columns</p>\n",
       "</div>"
      ],
      "text/plain": [
       "      CustomerID\n",
       "0        17850.0\n",
       "1        13047.0\n",
       "2        12583.0\n",
       "3        13748.0\n",
       "4        15100.0\n",
       "...          ...\n",
       "2714     14819.0\n",
       "2715     12790.0\n",
       "2716     15163.0\n",
       "2717     18204.0\n",
       "2718     16810.0\n",
       "\n",
       "[2719 rows x 1 columns]"
      ]
     },
     "execution_count": 9,
     "metadata": {},
     "output_type": "execute_result"
    }
   ],
   "source": [
    "df_user_LTV = pd.DataFrame(df_sales['CustomerID'].unique())\n",
    "df_user_LTV.columns = ['CustomerID']\n",
    "df_user_LTV\n"
   ]
  },
  {
   "cell_type": "code",
   "execution_count": 10,
   "metadata": {},
   "outputs": [
    {
     "data": {
      "text/html": [
       "<div>\n",
       "<style scoped>\n",
       "    .dataframe tbody tr th:only-of-type {\n",
       "        vertical-align: middle;\n",
       "    }\n",
       "\n",
       "    .dataframe tbody tr th {\n",
       "        vertical-align: top;\n",
       "    }\n",
       "\n",
       "    .dataframe thead th {\n",
       "        text-align: right;\n",
       "    }\n",
       "</style>\n",
       "<table border=\"1\" class=\"dataframe\">\n",
       "  <thead>\n",
       "    <tr style=\"text-align: right;\">\n",
       "      <th></th>\n",
       "      <th>CustomerID</th>\n",
       "      <th>R</th>\n",
       "    </tr>\n",
       "  </thead>\n",
       "  <tbody>\n",
       "    <tr>\n",
       "      <th>0</th>\n",
       "      <td>17850.0</td>\n",
       "      <td>87</td>\n",
       "    </tr>\n",
       "    <tr>\n",
       "      <th>1</th>\n",
       "      <td>13047.0</td>\n",
       "      <td>24</td>\n",
       "    </tr>\n",
       "    <tr>\n",
       "      <th>2</th>\n",
       "      <td>12583.0</td>\n",
       "      <td>17</td>\n",
       "    </tr>\n",
       "    <tr>\n",
       "      <th>3</th>\n",
       "      <td>13748.0</td>\n",
       "      <td>88</td>\n",
       "    </tr>\n",
       "    <tr>\n",
       "      <th>4</th>\n",
       "      <td>15100.0</td>\n",
       "      <td>48</td>\n",
       "    </tr>\n",
       "    <tr>\n",
       "      <th>...</th>\n",
       "      <td>...</td>\n",
       "      <td>...</td>\n",
       "    </tr>\n",
       "    <tr>\n",
       "      <th>1652</th>\n",
       "      <td>13630.0</td>\n",
       "      <td>0</td>\n",
       "    </tr>\n",
       "    <tr>\n",
       "      <th>1653</th>\n",
       "      <td>14157.0</td>\n",
       "      <td>0</td>\n",
       "    </tr>\n",
       "    <tr>\n",
       "      <th>1654</th>\n",
       "      <td>13636.0</td>\n",
       "      <td>0</td>\n",
       "    </tr>\n",
       "    <tr>\n",
       "      <th>1655</th>\n",
       "      <td>13610.0</td>\n",
       "      <td>0</td>\n",
       "    </tr>\n",
       "    <tr>\n",
       "      <th>1656</th>\n",
       "      <td>14745.0</td>\n",
       "      <td>0</td>\n",
       "    </tr>\n",
       "  </tbody>\n",
       "</table>\n",
       "<p>1657 rows × 2 columns</p>\n",
       "</div>"
      ],
      "text/plain": [
       "      CustomerID   R\n",
       "0        17850.0  87\n",
       "1        13047.0  24\n",
       "2        12583.0  17\n",
       "3        13748.0  88\n",
       "4        15100.0  48\n",
       "...          ...  ..\n",
       "1652     13630.0   0\n",
       "1653     14157.0   0\n",
       "1654     13636.0   0\n",
       "1655     13610.0   0\n",
       "1656     14745.0   0\n",
       "\n",
       "[1657 rows x 2 columns]"
      ]
     },
     "execution_count": 10,
     "metadata": {},
     "output_type": "execute_result"
    }
   ],
   "source": [
    "# R\n",
    "# df_sales['InvoiceDate'] = pd.to_datetime(df_sales['InvoiceDate'])\n",
    "df_recent_buy = df_sales_3month.groupby('CustomerID').InvoiceDate.max().reset_index()\n",
    "df_recent_buy.columns = ['CustomerID', 'LatestDate']\n",
    "# datetime.dt.days\n",
    "df_recent_buy['R'] = (df_recent_buy['LatestDate'].max() - df_recent_buy['LatestDate']).dt.days\n",
    "\n",
    "df_user_LTV = pd.merge(df_user_LTV, df_recent_buy[['CustomerID', 'R']], on='CustomerID')\n",
    "df_user_LTV\n"
   ]
  },
  {
   "cell_type": "code",
   "execution_count": 11,
   "metadata": {},
   "outputs": [
    {
     "data": {
      "text/html": [
       "<div>\n",
       "<style scoped>\n",
       "    .dataframe tbody tr th:only-of-type {\n",
       "        vertical-align: middle;\n",
       "    }\n",
       "\n",
       "    .dataframe tbody tr th {\n",
       "        vertical-align: top;\n",
       "    }\n",
       "\n",
       "    .dataframe thead th {\n",
       "        text-align: right;\n",
       "    }\n",
       "</style>\n",
       "<table border=\"1\" class=\"dataframe\">\n",
       "  <thead>\n",
       "    <tr style=\"text-align: right;\">\n",
       "      <th></th>\n",
       "      <th>CustomerID</th>\n",
       "      <th>R</th>\n",
       "      <th>F</th>\n",
       "    </tr>\n",
       "  </thead>\n",
       "  <tbody>\n",
       "    <tr>\n",
       "      <th>0</th>\n",
       "      <td>17850.0</td>\n",
       "      <td>87</td>\n",
       "      <td>297</td>\n",
       "    </tr>\n",
       "    <tr>\n",
       "      <th>1</th>\n",
       "      <td>13047.0</td>\n",
       "      <td>24</td>\n",
       "      <td>43</td>\n",
       "    </tr>\n",
       "    <tr>\n",
       "      <th>2</th>\n",
       "      <td>12583.0</td>\n",
       "      <td>17</td>\n",
       "      <td>55</td>\n",
       "    </tr>\n",
       "    <tr>\n",
       "      <th>3</th>\n",
       "      <td>13748.0</td>\n",
       "      <td>88</td>\n",
       "      <td>1</td>\n",
       "    </tr>\n",
       "    <tr>\n",
       "      <th>4</th>\n",
       "      <td>15100.0</td>\n",
       "      <td>48</td>\n",
       "      <td>3</td>\n",
       "    </tr>\n",
       "    <tr>\n",
       "      <th>...</th>\n",
       "      <td>...</td>\n",
       "      <td>...</td>\n",
       "      <td>...</td>\n",
       "    </tr>\n",
       "    <tr>\n",
       "      <th>1652</th>\n",
       "      <td>13630.0</td>\n",
       "      <td>0</td>\n",
       "      <td>13</td>\n",
       "    </tr>\n",
       "    <tr>\n",
       "      <th>1653</th>\n",
       "      <td>14157.0</td>\n",
       "      <td>0</td>\n",
       "      <td>37</td>\n",
       "    </tr>\n",
       "    <tr>\n",
       "      <th>1654</th>\n",
       "      <td>13636.0</td>\n",
       "      <td>0</td>\n",
       "      <td>11</td>\n",
       "    </tr>\n",
       "    <tr>\n",
       "      <th>1655</th>\n",
       "      <td>13610.0</td>\n",
       "      <td>0</td>\n",
       "      <td>40</td>\n",
       "    </tr>\n",
       "    <tr>\n",
       "      <th>1656</th>\n",
       "      <td>14745.0</td>\n",
       "      <td>0</td>\n",
       "      <td>7</td>\n",
       "    </tr>\n",
       "  </tbody>\n",
       "</table>\n",
       "<p>1657 rows × 3 columns</p>\n",
       "</div>"
      ],
      "text/plain": [
       "      CustomerID   R    F\n",
       "0        17850.0  87  297\n",
       "1        13047.0  24   43\n",
       "2        12583.0  17   55\n",
       "3        13748.0  88    1\n",
       "4        15100.0  48    3\n",
       "...          ...  ..  ...\n",
       "1652     13630.0   0   13\n",
       "1653     14157.0   0   37\n",
       "1654     13636.0   0   11\n",
       "1655     13610.0   0   40\n",
       "1656     14745.0   0    7\n",
       "\n",
       "[1657 rows x 3 columns]"
      ]
     },
     "execution_count": 11,
     "metadata": {},
     "output_type": "execute_result"
    }
   ],
   "source": [
    "# F\n",
    "df_frequency = df_sales_3month.groupby('CustomerID').InvoiceDate.count().reset_index()\n",
    "df_frequency.columns = ['CustomerID', 'F']\n",
    "\n",
    "df_user_LTV = pd.merge(df_user_LTV, df_frequency, on='CustomerID')\n",
    "df_user_LTV\n"
   ]
  },
  {
   "cell_type": "code",
   "execution_count": 12,
   "metadata": {},
   "outputs": [
    {
     "data": {
      "text/html": [
       "<div>\n",
       "<style scoped>\n",
       "    .dataframe tbody tr th:only-of-type {\n",
       "        vertical-align: middle;\n",
       "    }\n",
       "\n",
       "    .dataframe tbody tr th {\n",
       "        vertical-align: top;\n",
       "    }\n",
       "\n",
       "    .dataframe thead th {\n",
       "        text-align: right;\n",
       "    }\n",
       "</style>\n",
       "<table border=\"1\" class=\"dataframe\">\n",
       "  <thead>\n",
       "    <tr style=\"text-align: right;\">\n",
       "      <th></th>\n",
       "      <th>CustomerID</th>\n",
       "      <th>R</th>\n",
       "      <th>F</th>\n",
       "      <th>M</th>\n",
       "    </tr>\n",
       "  </thead>\n",
       "  <tbody>\n",
       "    <tr>\n",
       "      <th>0</th>\n",
       "      <td>17850.0</td>\n",
       "      <td>87</td>\n",
       "      <td>297</td>\n",
       "      <td>5391.21</td>\n",
       "    </tr>\n",
       "    <tr>\n",
       "      <th>1</th>\n",
       "      <td>13047.0</td>\n",
       "      <td>24</td>\n",
       "      <td>43</td>\n",
       "      <td>825.53</td>\n",
       "    </tr>\n",
       "    <tr>\n",
       "      <th>2</th>\n",
       "      <td>12583.0</td>\n",
       "      <td>17</td>\n",
       "      <td>55</td>\n",
       "      <td>1907.58</td>\n",
       "    </tr>\n",
       "    <tr>\n",
       "      <th>3</th>\n",
       "      <td>13748.0</td>\n",
       "      <td>88</td>\n",
       "      <td>1</td>\n",
       "      <td>204.00</td>\n",
       "    </tr>\n",
       "    <tr>\n",
       "      <th>4</th>\n",
       "      <td>15100.0</td>\n",
       "      <td>48</td>\n",
       "      <td>3</td>\n",
       "      <td>876.00</td>\n",
       "    </tr>\n",
       "    <tr>\n",
       "      <th>...</th>\n",
       "      <td>...</td>\n",
       "      <td>...</td>\n",
       "      <td>...</td>\n",
       "      <td>...</td>\n",
       "    </tr>\n",
       "    <tr>\n",
       "      <th>1652</th>\n",
       "      <td>13630.0</td>\n",
       "      <td>0</td>\n",
       "      <td>13</td>\n",
       "      <td>299.14</td>\n",
       "    </tr>\n",
       "    <tr>\n",
       "      <th>1653</th>\n",
       "      <td>14157.0</td>\n",
       "      <td>0</td>\n",
       "      <td>37</td>\n",
       "      <td>269.18</td>\n",
       "    </tr>\n",
       "    <tr>\n",
       "      <th>1654</th>\n",
       "      <td>13636.0</td>\n",
       "      <td>0</td>\n",
       "      <td>11</td>\n",
       "      <td>154.50</td>\n",
       "    </tr>\n",
       "    <tr>\n",
       "      <th>1655</th>\n",
       "      <td>13610.0</td>\n",
       "      <td>0</td>\n",
       "      <td>40</td>\n",
       "      <td>234.12</td>\n",
       "    </tr>\n",
       "    <tr>\n",
       "      <th>1656</th>\n",
       "      <td>14745.0</td>\n",
       "      <td>0</td>\n",
       "      <td>7</td>\n",
       "      <td>240.60</td>\n",
       "    </tr>\n",
       "  </tbody>\n",
       "</table>\n",
       "<p>1657 rows × 4 columns</p>\n",
       "</div>"
      ],
      "text/plain": [
       "      CustomerID   R    F        M\n",
       "0        17850.0  87  297  5391.21\n",
       "1        13047.0  24   43   825.53\n",
       "2        12583.0  17   55  1907.58\n",
       "3        13748.0  88    1   204.00\n",
       "4        15100.0  48    3   876.00\n",
       "...          ...  ..  ...      ...\n",
       "1652     13630.0   0   13   299.14\n",
       "1653     14157.0   0   37   269.18\n",
       "1654     13636.0   0   11   154.50\n",
       "1655     13610.0   0   40   234.12\n",
       "1656     14745.0   0    7   240.60\n",
       "\n",
       "[1657 rows x 4 columns]"
      ]
     },
     "execution_count": 12,
     "metadata": {},
     "output_type": "execute_result"
    }
   ],
   "source": [
    "# M\n",
    "df_revenue = df_sales_3month.groupby('CustomerID').TotalPrice.sum().reset_index()\n",
    "df_revenue.columns = ['CustomerID', 'M']\n",
    "\n",
    "df_user_LTV = pd.merge(df_user_LTV, df_revenue, on='CustomerID')\n",
    "df_user_LTV\n"
   ]
  },
  {
   "cell_type": "code",
   "execution_count": 13,
   "metadata": {},
   "outputs": [
    {
     "data": {
      "text/html": [
       "<div>\n",
       "<style scoped>\n",
       "    .dataframe tbody tr th:only-of-type {\n",
       "        vertical-align: middle;\n",
       "    }\n",
       "\n",
       "    .dataframe tbody tr th {\n",
       "        vertical-align: top;\n",
       "    }\n",
       "\n",
       "    .dataframe thead th {\n",
       "        text-align: right;\n",
       "    }\n",
       "</style>\n",
       "<table border=\"1\" class=\"dataframe\">\n",
       "  <thead>\n",
       "    <tr style=\"text-align: right;\">\n",
       "      <th></th>\n",
       "      <th>CustomerID</th>\n",
       "      <th>R</th>\n",
       "      <th>F</th>\n",
       "      <th>M</th>\n",
       "      <th>Year-LTV</th>\n",
       "    </tr>\n",
       "  </thead>\n",
       "  <tbody>\n",
       "    <tr>\n",
       "      <th>0</th>\n",
       "      <td>17850.0</td>\n",
       "      <td>87</td>\n",
       "      <td>297</td>\n",
       "      <td>5391.21</td>\n",
       "      <td>5391.21</td>\n",
       "    </tr>\n",
       "    <tr>\n",
       "      <th>1</th>\n",
       "      <td>13047.0</td>\n",
       "      <td>24</td>\n",
       "      <td>43</td>\n",
       "      <td>825.53</td>\n",
       "      <td>1671.68</td>\n",
       "    </tr>\n",
       "    <tr>\n",
       "      <th>2</th>\n",
       "      <td>12583.0</td>\n",
       "      <td>17</td>\n",
       "      <td>55</td>\n",
       "      <td>1907.58</td>\n",
       "      <td>3042.39</td>\n",
       "    </tr>\n",
       "    <tr>\n",
       "      <th>3</th>\n",
       "      <td>13748.0</td>\n",
       "      <td>88</td>\n",
       "      <td>1</td>\n",
       "      <td>204.00</td>\n",
       "      <td>580.85</td>\n",
       "    </tr>\n",
       "    <tr>\n",
       "      <th>4</th>\n",
       "      <td>15100.0</td>\n",
       "      <td>48</td>\n",
       "      <td>3</td>\n",
       "      <td>876.00</td>\n",
       "      <td>876.00</td>\n",
       "    </tr>\n",
       "    <tr>\n",
       "      <th>...</th>\n",
       "      <td>...</td>\n",
       "      <td>...</td>\n",
       "      <td>...</td>\n",
       "      <td>...</td>\n",
       "      <td>...</td>\n",
       "    </tr>\n",
       "    <tr>\n",
       "      <th>1652</th>\n",
       "      <td>13630.0</td>\n",
       "      <td>0</td>\n",
       "      <td>13</td>\n",
       "      <td>299.14</td>\n",
       "      <td>730.92</td>\n",
       "    </tr>\n",
       "    <tr>\n",
       "      <th>1653</th>\n",
       "      <td>14157.0</td>\n",
       "      <td>0</td>\n",
       "      <td>37</td>\n",
       "      <td>269.18</td>\n",
       "      <td>269.18</td>\n",
       "    </tr>\n",
       "    <tr>\n",
       "      <th>1654</th>\n",
       "      <td>13636.0</td>\n",
       "      <td>0</td>\n",
       "      <td>11</td>\n",
       "      <td>154.50</td>\n",
       "      <td>541.45</td>\n",
       "    </tr>\n",
       "    <tr>\n",
       "      <th>1655</th>\n",
       "      <td>13610.0</td>\n",
       "      <td>0</td>\n",
       "      <td>40</td>\n",
       "      <td>234.12</td>\n",
       "      <td>342.67</td>\n",
       "    </tr>\n",
       "    <tr>\n",
       "      <th>1656</th>\n",
       "      <td>14745.0</td>\n",
       "      <td>0</td>\n",
       "      <td>7</td>\n",
       "      <td>240.60</td>\n",
       "      <td>240.60</td>\n",
       "    </tr>\n",
       "  </tbody>\n",
       "</table>\n",
       "<p>1657 rows × 5 columns</p>\n",
       "</div>"
      ],
      "text/plain": [
       "      CustomerID   R    F        M  Year-LTV\n",
       "0        17850.0  87  297  5391.21   5391.21\n",
       "1        13047.0  24   43   825.53   1671.68\n",
       "2        12583.0  17   55  1907.58   3042.39\n",
       "3        13748.0  88    1   204.00    580.85\n",
       "4        15100.0  48    3   876.00    876.00\n",
       "...          ...  ..  ...      ...       ...\n",
       "1652     13630.0   0   13   299.14    730.92\n",
       "1653     14157.0   0   37   269.18    269.18\n",
       "1654     13636.0   0   11   154.50    541.45\n",
       "1655     13610.0   0   40   234.12    342.67\n",
       "1656     14745.0   0    7   240.60    240.60\n",
       "\n",
       "[1657 rows x 5 columns]"
      ]
     },
     "execution_count": 13,
     "metadata": {},
     "output_type": "execute_result"
    }
   ],
   "source": [
    "# build label\n",
    "df_user_1year = df_sales.groupby('CustomerID')['TotalPrice'].sum().reset_index()\n",
    "df_user_1year.columns = ['CustomerID', 'Year-LTV']\n",
    "\n",
    "df_LTV = pd.merge(df_user_LTV, df_user_1year, on='CustomerID', how='left')\n",
    "df_LTV\n"
   ]
  },
  {
   "cell_type": "markdown",
   "metadata": {},
   "source": [
    "# Preparing the model"
   ]
  },
  {
   "cell_type": "code",
   "execution_count": 14,
   "metadata": {},
   "outputs": [
    {
     "data": {
      "text/plain": [
       "0    5391.21\n",
       "1    1671.68\n",
       "2    3042.39\n",
       "3     580.85\n",
       "4     876.00\n",
       "Name: Year-LTV, dtype: float64"
      ]
     },
     "execution_count": 14,
     "metadata": {},
     "output_type": "execute_result"
    }
   ],
   "source": [
    "X = df_LTV.drop(['CustomerID', 'Year-LTV'], axis=1)\n",
    "y = df_LTV['Year-LTV']\n",
    "\n",
    "X.head()\n",
    "y.head()\n"
   ]
  },
  {
   "cell_type": "code",
   "execution_count": 15,
   "metadata": {},
   "outputs": [],
   "source": [
    "from sklearn.model_selection import train_test_split\n",
    "\n",
    "X_train, X_rem, y_train, y_rem = train_test_split(X, y, train_size=0.7, random_state=36)\n",
    "X_valid, X_test, y_valid, y_test = train_test_split(X_rem, y_rem, test_size=0.5, random_state=36)\n"
   ]
  },
  {
   "cell_type": "markdown",
   "metadata": {},
   "source": [
    "## Select the algorithm to create the model\n",
    "\n",
    "Linear regression / Bayesian regression / SVM / Decision tree / Random forest / XGBoost / Neural network ...\n",
    "\n",
    "### Notes:\n",
    "- Linear regression\n",
    "- Decision tree\n",
    "- Random forest: Ensemble learning using Bagging\n"
   ]
  },
  {
   "cell_type": "code",
   "execution_count": 16,
   "metadata": {},
   "outputs": [
    {
     "data": {
      "text/plain": [
       "RandomForestRegressor(random_state=42)"
      ]
     },
     "execution_count": 16,
     "metadata": {},
     "output_type": "execute_result"
    }
   ],
   "source": [
    "from sklearn.linear_model import LinearRegression\n",
    "from sklearn.tree import DecisionTreeRegressor\n",
    "from sklearn.ensemble import RandomForestRegressor\n",
    "\n",
    "random_seed = 42\n",
    "\n",
    "model_lr = LinearRegression()\n",
    "model_dtr = DecisionTreeRegressor(random_state=random_seed)\n",
    "model_rfr = RandomForestRegressor(random_state=random_seed)\n",
    "\n",
    "model_lr.fit(X_train, y_train)\n",
    "model_dtr.fit(X_train, y_train)\n",
    "model_rfr.fit(X_train, y_train)\n"
   ]
  },
  {
   "cell_type": "markdown",
   "metadata": {},
   "source": [
    "## Model Evaluation and Visualization"
   ]
  },
  {
   "cell_type": "code",
   "execution_count": 17,
   "metadata": {},
   "outputs": [
    {
     "name": "stdout",
     "output_type": "stream",
     "text": [
      "r2-lr:0.9442\n",
      "r2-dtr:0.3381\n",
      "r2-rfr:0.6183\n"
     ]
    },
    {
     "data": {
      "text/plain": [
       "Text(0.5, 1.0, 'True VS Predict')"
      ]
     },
     "execution_count": 17,
     "metadata": {},
     "output_type": "execute_result"
    },
    {
     "data": {
      "image/png": "[encoded data removed]",
      "text/plain": [
       "<Figure size 432x288 with 1 Axes>"
      ]
     },
     "metadata": {
      "needs_background": "light"
     },
     "output_type": "display_data"
    }
   ],
   "source": [
    "# eval model\n",
    "y_valid_preds_lr = model_lr.predict(X_valid)\n",
    "y_valid_preds_dtr = model_dtr.predict(X_valid)\n",
    "y_valid_preds_rfr = model_rfr.predict(X_valid)\n",
    "\n",
    "from sklearn.metrics import r2_score\n",
    "\n",
    "print('r2-lr:%0.4f' % r2_score(y_valid, model_lr.predict(X_valid)))\n",
    "print('r2-dtr:%0.4f' % r2_score(y_valid, model_dtr.predict(X_valid)))\n",
    "print('r2-rfr:%0.4f' % r2_score(y_valid, model_rfr.predict(X_valid)))\n",
    "\n",
    "# Inspect a validation sample (optional)\n",
    "X_valid.iloc[0]\n",
    "\n",
    "# Plot test set predictions using Random Forest\n",
    "y_test_preds_rfr = model_rfr.predict(X_test)\n",
    "plt.scatter(y_test, y_test_preds_rfr)\n",
    "plt.plot([0, max(y_test)], [0, max(y_test_preds_rfr)], color='gray', lw=1, linestyle='--')\n",
    "plt.xlabel('True value')\n",
    "plt.ylabel('Predict')\n",
    "plt.title('True VS Predict')\n"
   ]
  },
  {
   "cell_type": "markdown",
   "metadata": {},
   "source": [
    "# Homework\n",
    "\n",
    "1. Add 'city' related dummy variables, then add to the feature set, input model  \n",
    "2. Improve the model  \n",
    "3. Use other regression algorithms, and compare the advantages and disadvantages of each algorithm  \n",
    "4. Use other evaluation indicators  \n",
    "\n",
    "---\n",
    "\n",
    "## Model Optimization: Feature Engineering / To prevent overfitting / Cross-validation..\n",
    "\n",
    "### 1. Model Optimization: Use Feature Engineering to improve model efficiency\n",
    "\n",
    "**Feature Engineering:**\n",
    "\n",
    "1. Selection of features  \n",
    "2. Transformation of features  \n",
    "3. Construction of features\n"
   ]
  },
  {
   "cell_type": "code",
   "execution_count": 18,
   "metadata": {},
   "outputs": [
    {
     "data": {
      "text/plain": [
       "<AxesSubplot:>"
      ]
     },
     "execution_count": 18,
     "metadata": {},
     "output_type": "execute_result"
    },
    {
     "data": {
      "image/png": "[encoded data removed]",
      "text/plain": [
       "<Figure size 432x288 with 2 Axes>"
      ]
     },
     "metadata": {
      "needs_background": "light"
     },
     "output_type": "display_data"
    }
   ],
   "source": [
    "## #1. selection of feature: heatmap\n",
    "import seaborn as sns\n",
    "sns.heatmap(df_LTV.corr(), cmap=\"YlGnBu\", annot=True)\n",
    "\n",
    "# Pearson correlation coefficient\n"
   ]
  },
  {
   "cell_type": "code",
   "execution_count": 19,
   "metadata": {},
   "outputs": [
    {
     "name": "stdout",
     "output_type": "stream",
     "text": [
      "train_r2-lr:0.9442\n",
      "train_less_feature_r2-lr:0.9449\n"
     ]
    }
   ],
   "source": [
    "X_train_less_feature = X_train.drop(['R'], axis=1)\n",
    "X_valid_less_feature = X_valid.drop(['R'], axis=1)\n",
    "\n",
    "model_lr_less_feature = LinearRegression()\n",
    "model_lr_less_feature.fit(X_train_less_feature, y_train)\n",
    "\n",
    "print('train_r2-lr:%0.4f' % r2_score(y_valid, model_lr.predict(X_valid)))\n",
    "print('train_less_feature_r2-lr:%0.4f' % r2_score(y_valid, model_lr_less_feature.predict(X_valid_less_feature)))\n"
   ]
  },
  {
   "cell_type": "code",
   "execution_count": 20,
   "metadata": {},
   "outputs": [
    {
     "data": {
      "text/plain": [
       "Index(['F', 'M'], dtype='object')"
      ]
     },
     "execution_count": 20,
     "metadata": {},
     "output_type": "execute_result"
    }
   ],
   "source": [
    "from sklearn.feature_selection import SelectKBest, mutual_info_regression\n",
    "\n",
    "selector = SelectKBest(mutual_info_regression, k=2)\n",
    "selector.fit(X, y)\n",
    "\n",
    "X.columns[selector.get_support()]\n"
   ]
  },
  {
   "cell_type": "code",
   "execution_count": 21,
   "metadata": {},
   "outputs": [],
   "source": [
    "# PCA LDA DL\n",
    "\n",
    "# 2. transformation of features: CONTINUOUS FEATURE / DISCRETE FEATURE (CATEGORICAL)\n",
    "# feature scaling"
   ]
  },
  {
   "cell_type": "code",
   "execution_count": 22,
   "metadata": {},
   "outputs": [
    {
     "data": {
      "text/plain": [
       "'\\nSklearn\\nStandardScaler / MinMaxScaler / RobustScaler / Normalizer ??????\\n1. data distribution\\n2. data range\\n3. data sparsity\\n4. Algorithm selection\\n'"
      ]
     },
     "execution_count": 22,
     "metadata": {},
     "output_type": "execute_result"
    }
   ],
   "source": [
    "# CONTINUOUS FEATURE:\n",
    "\"\"\"\n",
    "Sklearn\n",
    "StandardScaler / MinMaxScaler / RobustScaler / Normalizer ??????\n",
    "1. data distribution\n",
    "2. data range\n",
    "3. data sparsity\n",
    "4. Algorithm selection\n",
    "\"\"\""
   ]
  },
  {
   "cell_type": "code",
   "execution_count": 23,
   "metadata": {},
   "outputs": [
    {
     "data": {
      "image/png": "[encoded data removed]",
      "text/plain": [
       "<Figure size 432x288 with 1 Axes>"
      ]
     },
     "metadata": {
      "needs_background": "light"
     },
     "output_type": "display_data"
    },
    {
     "data": {
      "image/png": "[encoded data removed]",
      "text/plain": [
       "<Figure size 432x288 with 1 Axes>"
      ]
     },
     "metadata": {
      "needs_background": "light"
     },
     "output_type": "display_data"
    },
    {
     "data": {
      "image/png": "[encoded data removed]",
      "text/plain": [
       "<Figure size 432x288 with 1 Axes>"
      ]
     },
     "metadata": {
      "needs_background": "light"
     },
     "output_type": "display_data"
    }
   ],
   "source": [
    "for feature in X_train.columns:\n",
    "    plt.figure()\n",
    "    sns.histplot(X_train[feature], kde=True)\n",
    "    plt.title(f\"distribution of {feature}\")\n",
    "    plt.show()"
   ]
  },
  {
   "cell_type": "code",
   "execution_count": 24,
   "metadata": {},
   "outputs": [
    {
     "data": {
      "image/png": "[encoded data removed]",
      "text/plain": [
       "<Figure size 432x288 with 1 Axes>"
      ]
     },
     "metadata": {
      "needs_background": "light"
     },
     "output_type": "display_data"
    },
    {
     "data": {
      "image/png": "[encoded data removed]",
      "text/plain": [
       "<Figure size 432x288 with 1 Axes>"
      ]
     },
     "metadata": {
      "needs_background": "light"
     },
     "output_type": "display_data"
    },
    {
     "data": {
      "image/png": "[encoded data removed]",
      "text/plain": [
       "<Figure size 432x288 with 1 Axes>"
      ]
     },
     "metadata": {
      "needs_background": "light"
     },
     "output_type": "display_data"
    }
   ],
   "source": [
    "for feature in X_train.columns:\n",
    "    plt.figure()\n",
    "    sns.boxplot(x=X_train[feature])\n",
    "    plt.title(f\"boxplot of {feature}\")\n",
    "    plt.show()"
   ]
  },
  {
   "cell_type": "code",
   "execution_count": 25,
   "metadata": {},
   "outputs": [
    {
     "name": "stdout",
     "output_type": "stream",
     "text": [
      "R: use MinMaxScaler\n",
      "F: use MinMaxScaler\n",
      "M: use MinMaxScaler\n"
     ]
    }
   ],
   "source": [
    "import numpy as np\n",
    "is_normal = np.abs(X_train.skew()) < 0.5\n",
    "threshold = 10\n",
    "is_wide_range = (X_train.max() - X_train.quantile(0.75)) > threshold\n",
    "\n",
    "for feature in X_train:\n",
    "    if is_normal[feature] and not is_wide_range[feature]:\n",
    "        print(f\"{feature}: use StandardScaler\")\n",
    "    else:\n",
    "        print(f\"{feature}: use MinMaxScaler\")\n"
   ]
  },
  {
   "cell_type": "code",
   "execution_count": 26,
   "metadata": {},
   "outputs": [],
   "source": [
    "from sklearn.preprocessing import StandardScaler\n",
    "scaler = StandardScaler()\n",
    "X_train_standard = scaler.fit_transform(X_train)\n",
    "X_valid_standard = scaler.transform(X_valid)\n",
    "X_test_standard = scaler.transform(X_test)\n"
   ]
  },
  {
   "cell_type": "code",
   "execution_count": 27,
   "metadata": {},
   "outputs": [
    {
     "data": {
      "text/plain": [
       "RandomForestRegressor()"
      ]
     },
     "execution_count": 27,
     "metadata": {},
     "output_type": "execute_result"
    }
   ],
   "source": [
    "model_rfr_standard = RandomForestRegressor()\n",
    "model_rfr_standard.fit(X_train_standard, y_train)\n"
   ]
  },
  {
   "cell_type": "code",
   "execution_count": 34,
   "metadata": {},
   "outputs": [],
   "source": [
    "from sklearn.preprocessing import MinMaxScaler\n",
    "scaler = MinMaxScaler()\n",
    "X_train_minmax = scaler.fit_transform(X_train)\n",
    "X_valid_minmax = scaler.transform(X_valid)\n",
    "X_test_minmax = scaler.transform(X_test)\n"
   ]
  },
  {
   "cell_type": "code",
   "execution_count": 35,
   "metadata": {},
   "outputs": [
    {
     "data": {
      "text/plain": [
       "RandomForestRegressor()"
      ]
     },
     "execution_count": 35,
     "metadata": {},
     "output_type": "execute_result"
    }
   ],
   "source": [
    "model_rfr_minmax = RandomForestRegressor()\n",
    "model_rfr_minmax.fit(X_train_minmax, y_train)\n"
   ]
  },
  {
   "cell_type": "code",
   "execution_count": 36,
   "metadata": {},
   "outputs": [],
   "source": [
    "from sklearn.preprocessing import RobustScaler\n",
    "scaler = RobustScaler()\n",
    "X_train_scaled = scaler.fit_transform(X_train)\n",
    "X_valid_scaled = scaler.transform(X_valid)\n",
    "X_test_scaled = scaler.transform(X_test)\n"
   ]
  },
  {
   "cell_type": "code",
   "execution_count": 37,
   "metadata": {},
   "outputs": [
    {
     "data": {
      "text/plain": [
       "RandomForestRegressor()"
      ]
     },
     "execution_count": 37,
     "metadata": {},
     "output_type": "execute_result"
    }
   ],
   "source": [
    "model_rfr_scaled = RandomForestRegressor()\n",
    "model_rfr_scaled.fit(X_train_scaled, y_train)\n"
   ]
  },
  {
   "cell_type": "code",
   "execution_count": 38,
   "metadata": {},
   "outputs": [
    {
     "name": "stdout",
     "output_type": "stream",
     "text": [
      "r2-rfr: 0.6183\n",
      "r2-rfr_standard: 0.6633\n",
      "r2-rfr_minmax: 0.6661\n"
     ]
    }
   ],
   "source": [
    "print(\"r2-rfr: %0.4f\" % r2_score(y_valid, model_rfr.predict(X_valid)))\n",
    "print(\"r2-rfr_standard: %0.4f\" % r2_score(y_valid, model_rfr_standard.predict(X_valid_standard)))\n",
    "print(\"r2-rfr_minmax: %0.4f\" % r2_score(y_valid, model_rfr_minmax.predict(X_valid_minmax)))\n"
   ]
  },
  {
   "cell_type": "code",
   "execution_count": 39,
   "metadata": {},
   "outputs": [
    {
     "data": {
      "image/png": "[encoded data removed]",
      "text/plain": [
       "<Figure size 432x288 with 1 Axes>"
      ]
     },
     "metadata": {
      "needs_background": "light"
     },
     "output_type": "display_data"
    }
   ],
   "source": [
    "import numpy as np\n",
    "\n",
    "fig, ax = plt.subplots()\n",
    "width = 0.25\n",
    "\n",
    "bars1 = [r2_score(y_valid, model_rfr.predict(X_valid))]\n",
    "bars2 = [r2_score(y_valid, model_rfr_standard.predict(X_valid_standard))]\n",
    "bars3 = [r2_score(y_valid, model_rfr_minmax.predict(X_valid_minmax))]\n",
    "\n",
    "r1 = np.arange(len(bars1))\n",
    "r2 = [x + width for x in r1]\n",
    "r3 = [x + width * 2 for x in r1]\n",
    "\n",
    "plt.bar(r1, bars1, width=width, color='blue', edgecolor='black', capsize=7, label='Normal')\n",
    "plt.bar(r2, bars2, width=width, color='cyan', edgecolor='black', capsize=7, label='StandardScaler')\n",
    "plt.bar(r3, bars3, width=width, color='yellow', edgecolor='black', capsize=7, label='MinMaxScale')\n",
    "\n",
    "plt.ylabel('R2_score')\n",
    "plt.xlabel('RandomForestRegressor-valid')\n",
    "plt.legend()\n",
    "\n",
    "def addlabels(x, y):\n",
    "    for i in range(len(x)):\n",
    "        plt.text(x[i], round(y[i], 3) + 0.02, round(y[i], 3), ha='center')\n",
    "\n",
    "addlabels(r1, bars1)\n",
    "addlabels(r2, bars2)\n",
    "addlabels(r3, bars3)\n",
    "\n",
    "plt.show()\n"
   ]
  },
  {
   "cell_type": "code",
   "execution_count": 46,
   "metadata": {},
   "outputs": [
    {
     "name": "stdout",
     "output_type": "stream",
     "text": [
      "Average r2-lr: 0.7650875019210099\n",
      "Average r2-dtr: 0.7388179016747157\n",
      "Average r2-rfr: 0.8462946749243562\n"
     ]
    }
   ],
   "source": [
    "import numpy as np\n",
    "from sklearn.model_selection import cross_val_score\n",
    "\n",
    "x = pd.concat([X_train, X_valid])\n",
    "y = pd.concat([y_train, y_valid])\n",
    "\n",
    "random_seed = 42\n",
    "model_lr = LinearRegression()\n",
    "model_dtr = DecisionTreeRegressor(random_state=random_seed)\n",
    "model_rfr = RandomForestRegressor(random_state=random_seed)\n",
    "\n",
    "cv_scores_lr = cross_val_score(model_lr, x, y, cv=5, scoring='r2')\n",
    "cv_scores_dtr = cross_val_score(model_dtr, x, y, cv=5, scoring='r2')\n",
    "cv_scores_rfr = cross_val_score(model_rfr, x, y, cv=5, scoring='r2')\n",
    "\n",
    "print(\"Average r2-lr:\", np.mean(cv_scores_lr))\n",
    "print(\"Average r2-dtr:\", np.mean(cv_scores_dtr))\n",
    "print(\"Average r2-rfr:\", np.mean(cv_scores_rfr))\n"
   ]
  },
  {
   "cell_type": "code",
   "execution_count": 48,
   "metadata": {},
   "outputs": [
    {
     "data": {
      "text/plain": [
       "United Kingdom          186913\n",
       "Germany                   3365\n",
       "France                    3004\n",
       "EIRE                      2449\n",
       "Spain                      955\n",
       "Netherlands                918\n",
       "Belgium                    694\n",
       "Switzerland                599\n",
       "Portugal                   562\n",
       "Australia                  490\n",
       "Cyprus                     302\n",
       "Finland                    294\n",
       "Italy                      289\n",
       "Channel Islands            282\n",
       "Japan                      224\n",
       "Norway                     202\n",
       "Hong Kong                  179\n",
       "Poland                     164\n",
       "Sweden                     160\n",
       "Austria                    124\n",
       "Singapore                  113\n",
       "Greece                      85\n",
       "Iceland                     84\n",
       "Denmark                     78\n",
       "Unspecified                 74\n",
       "Lebanon                     45\n",
       "Israel                      36\n",
       "Lithuania                   35\n",
       "Brazil                      32\n",
       "United Arab Emirates        30\n",
       "USA                         22\n",
       "Bahrain                     18\n",
       "Czech Republic              15\n",
       "Canada                      11\n",
       "European Community          11\n",
       "Saudi Arabia                 9\n",
       "Name: Country, dtype: int64"
      ]
     },
     "execution_count": 48,
     "metadata": {},
     "output_type": "execute_result"
    }
   ],
   "source": [
    "# DISCRETE FEATURE (CATEGORICAL): Dummy variable / One-Hot encoding\n",
    "df_sales.Country.value_counts()\n"
   ]
  },
  {
   "cell_type": "code",
   "execution_count": 49,
   "metadata": {},
   "outputs": [
    {
     "data": {
      "text/html": [
       "<div>\n",
       "<style scoped>\n",
       "    .dataframe tbody tr th:only-of-type {\n",
       "        vertical-align: middle;\n",
       "    }\n",
       "\n",
       "    .dataframe tbody tr th {\n",
       "        vertical-align: top;\n",
       "    }\n",
       "\n",
       "    .dataframe thead th {\n",
       "        text-align: right;\n",
       "    }\n",
       "</style>\n",
       "<table border=\"1\" class=\"dataframe\">\n",
       "  <thead>\n",
       "    <tr style=\"text-align: right;\">\n",
       "      <th></th>\n",
       "      <th>InvoiceNo</th>\n",
       "      <th>StockCode</th>\n",
       "      <th>Description</th>\n",
       "      <th>Quantity</th>\n",
       "      <th>InvoiceDate</th>\n",
       "      <th>UnitPrice</th>\n",
       "      <th>CustomerID</th>\n",
       "      <th>TotalPrice</th>\n",
       "      <th>Country_Austria</th>\n",
       "      <th>Country_Bahrain</th>\n",
       "      <th>...</th>\n",
       "      <th>Country_Portugal</th>\n",
       "      <th>Country_Saudi Arabia</th>\n",
       "      <th>Country_Singapore</th>\n",
       "      <th>Country_Spain</th>\n",
       "      <th>Country_Sweden</th>\n",
       "      <th>Country_Switzerland</th>\n",
       "      <th>Country_USA</th>\n",
       "      <th>Country_United Arab Emirates</th>\n",
       "      <th>Country_United Kingdom</th>\n",
       "      <th>Country_Unspecified</th>\n",
       "    </tr>\n",
       "  </thead>\n",
       "  <tbody>\n",
       "    <tr>\n",
       "      <th>0</th>\n",
       "      <td>536365</td>\n",
       "      <td>85123A</td>\n",
       "      <td>WHITE HANGING HEART T-LIGHT HOLDER</td>\n",
       "      <td>6</td>\n",
       "      <td>2022-12-01 08:26:00</td>\n",
       "      <td>2.55</td>\n",
       "      <td>17850.0</td>\n",
       "      <td>15.30</td>\n",
       "      <td>0</td>\n",
       "      <td>0</td>\n",
       "      <td>...</td>\n",
       "      <td>0</td>\n",
       "      <td>0</td>\n",
       "      <td>0</td>\n",
       "      <td>0</td>\n",
       "      <td>0</td>\n",
       "      <td>0</td>\n",
       "      <td>0</td>\n",
       "      <td>0</td>\n",
       "      <td>1</td>\n",
       "      <td>0</td>\n",
       "    </tr>\n",
       "    <tr>\n",
       "      <th>1</th>\n",
       "      <td>536365</td>\n",
       "      <td>71053</td>\n",
       "      <td>WHITE METAL LANTERN</td>\n",
       "      <td>6</td>\n",
       "      <td>2022-12-01 08:26:00</td>\n",
       "      <td>3.39</td>\n",
       "      <td>17850.0</td>\n",
       "      <td>20.34</td>\n",
       "      <td>0</td>\n",
       "      <td>0</td>\n",
       "      <td>...</td>\n",
       "      <td>0</td>\n",
       "      <td>0</td>\n",
       "      <td>0</td>\n",
       "      <td>0</td>\n",
       "      <td>0</td>\n",
       "      <td>0</td>\n",
       "      <td>0</td>\n",
       "      <td>0</td>\n",
       "      <td>1</td>\n",
       "      <td>0</td>\n",
       "    </tr>\n",
       "    <tr>\n",
       "      <th>2</th>\n",
       "      <td>536365</td>\n",
       "      <td>84406B</td>\n",
       "      <td>CREAM CUPID HEARTS COAT HANGER</td>\n",
       "      <td>8</td>\n",
       "      <td>2022-12-01 08:26:00</td>\n",
       "      <td>2.75</td>\n",
       "      <td>17850.0</td>\n",
       "      <td>22.00</td>\n",
       "      <td>0</td>\n",
       "      <td>0</td>\n",
       "      <td>...</td>\n",
       "      <td>0</td>\n",
       "      <td>0</td>\n",
       "      <td>0</td>\n",
       "      <td>0</td>\n",
       "      <td>0</td>\n",
       "      <td>0</td>\n",
       "      <td>0</td>\n",
       "      <td>0</td>\n",
       "      <td>1</td>\n",
       "      <td>0</td>\n",
       "    </tr>\n",
       "    <tr>\n",
       "      <th>3</th>\n",
       "      <td>536365</td>\n",
       "      <td>84029G</td>\n",
       "      <td>KNITTED UNION FLAG HOT WATER BOTTLE</td>\n",
       "      <td>6</td>\n",
       "      <td>2022-12-01 08:26:00</td>\n",
       "      <td>3.39</td>\n",
       "      <td>17850.0</td>\n",
       "      <td>20.34</td>\n",
       "      <td>0</td>\n",
       "      <td>0</td>\n",
       "      <td>...</td>\n",
       "      <td>0</td>\n",
       "      <td>0</td>\n",
       "      <td>0</td>\n",
       "      <td>0</td>\n",
       "      <td>0</td>\n",
       "      <td>0</td>\n",
       "      <td>0</td>\n",
       "      <td>0</td>\n",
       "      <td>1</td>\n",
       "      <td>0</td>\n",
       "    </tr>\n",
       "    <tr>\n",
       "      <th>4</th>\n",
       "      <td>536365</td>\n",
       "      <td>84029E</td>\n",
       "      <td>RED WOOLLY HOTTIE WHITE HEART.</td>\n",
       "      <td>6</td>\n",
       "      <td>2022-12-01 08:26:00</td>\n",
       "      <td>3.39</td>\n",
       "      <td>17850.0</td>\n",
       "      <td>20.34</td>\n",
       "      <td>0</td>\n",
       "      <td>0</td>\n",
       "      <td>...</td>\n",
       "      <td>0</td>\n",
       "      <td>0</td>\n",
       "      <td>0</td>\n",
       "      <td>0</td>\n",
       "      <td>0</td>\n",
       "      <td>0</td>\n",
       "      <td>0</td>\n",
       "      <td>0</td>\n",
       "      <td>1</td>\n",
       "      <td>0</td>\n",
       "    </tr>\n",
       "    <tr>\n",
       "      <th>...</th>\n",
       "      <td>...</td>\n",
       "      <td>...</td>\n",
       "      <td>...</td>\n",
       "      <td>...</td>\n",
       "      <td>...</td>\n",
       "      <td>...</td>\n",
       "      <td>...</td>\n",
       "      <td>...</td>\n",
       "      <td>...</td>\n",
       "      <td>...</td>\n",
       "      <td>...</td>\n",
       "      <td>...</td>\n",
       "      <td>...</td>\n",
       "      <td>...</td>\n",
       "      <td>...</td>\n",
       "      <td>...</td>\n",
       "      <td>...</td>\n",
       "      <td>...</td>\n",
       "      <td>...</td>\n",
       "      <td>...</td>\n",
       "      <td>...</td>\n",
       "    </tr>\n",
       "    <tr>\n",
       "      <th>209024</th>\n",
       "      <td>555150</td>\n",
       "      <td>22895</td>\n",
       "      <td>SET OF 2 TEA TOWELS APPLE AND PEARS</td>\n",
       "      <td>3</td>\n",
       "      <td>2023-05-31 15:53:00</td>\n",
       "      <td>3.25</td>\n",
       "      <td>NaN</td>\n",
       "      <td>9.75</td>\n",
       "      <td>0</td>\n",
       "      <td>0</td>\n",
       "      <td>...</td>\n",
       "      <td>0</td>\n",
       "      <td>0</td>\n",
       "      <td>0</td>\n",
       "      <td>0</td>\n",
       "      <td>0</td>\n",
       "      <td>0</td>\n",
       "      <td>0</td>\n",
       "      <td>0</td>\n",
       "      <td>1</td>\n",
       "      <td>0</td>\n",
       "    </tr>\n",
       "    <tr>\n",
       "      <th>209025</th>\n",
       "      <td>555150</td>\n",
       "      <td>22983</td>\n",
       "      <td>CARD BILLBOARD FONT</td>\n",
       "      <td>3</td>\n",
       "      <td>2023-05-31 15:53:00</td>\n",
       "      <td>0.42</td>\n",
       "      <td>NaN</td>\n",
       "      <td>1.26</td>\n",
       "      <td>0</td>\n",
       "      <td>0</td>\n",
       "      <td>...</td>\n",
       "      <td>0</td>\n",
       "      <td>0</td>\n",
       "      <td>0</td>\n",
       "      <td>0</td>\n",
       "      <td>0</td>\n",
       "      <td>0</td>\n",
       "      <td>0</td>\n",
       "      <td>0</td>\n",
       "      <td>1</td>\n",
       "      <td>0</td>\n",
       "    </tr>\n",
       "    <tr>\n",
       "      <th>209026</th>\n",
       "      <td>555150</td>\n",
       "      <td>23169</td>\n",
       "      <td>CLASSIC GLASS COOKIE JAR</td>\n",
       "      <td>3</td>\n",
       "      <td>2023-05-31 15:53:00</td>\n",
       "      <td>4.15</td>\n",
       "      <td>NaN</td>\n",
       "      <td>12.45</td>\n",
       "      <td>0</td>\n",
       "      <td>0</td>\n",
       "      <td>...</td>\n",
       "      <td>0</td>\n",
       "      <td>0</td>\n",
       "      <td>0</td>\n",
       "      <td>0</td>\n",
       "      <td>0</td>\n",
       "      <td>0</td>\n",
       "      <td>0</td>\n",
       "      <td>0</td>\n",
       "      <td>1</td>\n",
       "      <td>0</td>\n",
       "    </tr>\n",
       "    <tr>\n",
       "      <th>209027</th>\n",
       "      <td>555150</td>\n",
       "      <td>23298</td>\n",
       "      <td>SPOTTY BUNTING</td>\n",
       "      <td>5</td>\n",
       "      <td>2023-05-31 15:53:00</td>\n",
       "      <td>4.95</td>\n",
       "      <td>NaN</td>\n",
       "      <td>24.75</td>\n",
       "      <td>0</td>\n",
       "      <td>0</td>\n",
       "      <td>...</td>\n",
       "      <td>0</td>\n",
       "      <td>0</td>\n",
       "      <td>0</td>\n",
       "      <td>0</td>\n",
       "      <td>0</td>\n",
       "      <td>0</td>\n",
       "      <td>0</td>\n",
       "      <td>0</td>\n",
       "      <td>1</td>\n",
       "      <td>0</td>\n",
       "    </tr>\n",
       "    <tr>\n",
       "      <th>209028</th>\n",
       "      <td>555150</td>\n",
       "      <td>23118</td>\n",
       "      <td>PARISIENNE JEWELLERY DRAWER</td>\n",
       "      <td>2</td>\n",
       "      <td>2023-05-31 15:53:00</td>\n",
       "      <td>7.50</td>\n",
       "      <td>NaN</td>\n",
       "      <td>15.00</td>\n",
       "      <td>0</td>\n",
       "      <td>0</td>\n",
       "      <td>...</td>\n",
       "      <td>0</td>\n",
       "      <td>0</td>\n",
       "      <td>0</td>\n",
       "      <td>0</td>\n",
       "      <td>0</td>\n",
       "      <td>0</td>\n",
       "      <td>0</td>\n",
       "      <td>0</td>\n",
       "      <td>1</td>\n",
       "      <td>0</td>\n",
       "    </tr>\n",
       "  </tbody>\n",
       "</table>\n",
       "<p>202867 rows × 43 columns</p>\n",
       "</div>"
      ],
      "text/plain": [
       "       InvoiceNo StockCode                          Description  Quantity  \\\n",
       "0         536365    85123A   WHITE HANGING HEART T-LIGHT HOLDER         6   \n",
       "1         536365     71053                  WHITE METAL LANTERN         6   \n",
       "2         536365    84406B       CREAM CUPID HEARTS COAT HANGER         8   \n",
       "3         536365    84029G  KNITTED UNION FLAG HOT WATER BOTTLE         6   \n",
       "4         536365    84029E       RED WOOLLY HOTTIE WHITE HEART.         6   \n",
       "...          ...       ...                                  ...       ...   \n",
       "209024    555150     22895  SET OF 2 TEA TOWELS APPLE AND PEARS         3   \n",
       "209025    555150     22983                  CARD BILLBOARD FONT         3   \n",
       "209026    555150     23169             CLASSIC GLASS COOKIE JAR         3   \n",
       "209027    555150     23298                       SPOTTY BUNTING         5   \n",
       "209028    555150     23118         PARISIENNE JEWELLERY DRAWER          2   \n",
       "\n",
       "               InvoiceDate  UnitPrice  CustomerID  TotalPrice  \\\n",
       "0      2022-12-01 08:26:00       2.55     17850.0       15.30   \n",
       "1      2022-12-01 08:26:00       3.39     17850.0       20.34   \n",
       "2      2022-12-01 08:26:00       2.75     17850.0       22.00   \n",
       "3      2022-12-01 08:26:00       3.39     17850.0       20.34   \n",
       "4      2022-12-01 08:26:00       3.39     17850.0       20.34   \n",
       "...                    ...        ...         ...         ...   \n",
       "209024 2023-05-31 15:53:00       3.25         NaN        9.75   \n",
       "209025 2023-05-31 15:53:00       0.42         NaN        1.26   \n",
       "209026 2023-05-31 15:53:00       4.15         NaN       12.45   \n",
       "209027 2023-05-31 15:53:00       4.95         NaN       24.75   \n",
       "209028 2023-05-31 15:53:00       7.50         NaN       15.00   \n",
       "\n",
       "        Country_Austria  Country_Bahrain  ...  Country_Portugal  \\\n",
       "0                     0                0  ...                 0   \n",
       "1                     0                0  ...                 0   \n",
       "2                     0                0  ...                 0   \n",
       "3                     0                0  ...                 0   \n",
       "4                     0                0  ...                 0   \n",
       "...                 ...              ...  ...               ...   \n",
       "209024                0                0  ...                 0   \n",
       "209025                0                0  ...                 0   \n",
       "209026                0                0  ...                 0   \n",
       "209027                0                0  ...                 0   \n",
       "209028                0                0  ...                 0   \n",
       "\n",
       "        Country_Saudi Arabia  Country_Singapore  Country_Spain  \\\n",
       "0                          0                  0              0   \n",
       "1                          0                  0              0   \n",
       "2                          0                  0              0   \n",
       "3                          0                  0              0   \n",
       "4                          0                  0              0   \n",
       "...                      ...                ...            ...   \n",
       "209024                     0                  0              0   \n",
       "209025                     0                  0              0   \n",
       "209026                     0                  0              0   \n",
       "209027                     0                  0              0   \n",
       "209028                     0                  0              0   \n",
       "\n",
       "        Country_Sweden  Country_Switzerland  Country_USA  \\\n",
       "0                    0                    0            0   \n",
       "1                    0                    0            0   \n",
       "2                    0                    0            0   \n",
       "3                    0                    0            0   \n",
       "4                    0                    0            0   \n",
       "...                ...                  ...          ...   \n",
       "209024               0                    0            0   \n",
       "209025               0                    0            0   \n",
       "209026               0                    0            0   \n",
       "209027               0                    0            0   \n",
       "209028               0                    0            0   \n",
       "\n",
       "        Country_United Arab Emirates  Country_United Kingdom  \\\n",
       "0                                  0                       1   \n",
       "1                                  0                       1   \n",
       "2                                  0                       1   \n",
       "3                                  0                       1   \n",
       "4                                  0                       1   \n",
       "...                              ...                     ...   \n",
       "209024                             0                       1   \n",
       "209025                             0                       1   \n",
       "209026                             0                       1   \n",
       "209027                             0                       1   \n",
       "209028                             0                       1   \n",
       "\n",
       "        Country_Unspecified  \n",
       "0                         0  \n",
       "1                         0  \n",
       "2                         0  \n",
       "3                         0  \n",
       "4                         0  \n",
       "...                     ...  \n",
       "209024                    0  \n",
       "209025                    0  \n",
       "209026                    0  \n",
       "209027                    0  \n",
       "209028                    0  \n",
       "\n",
       "[202867 rows x 43 columns]"
      ]
     },
     "execution_count": 49,
     "metadata": {},
     "output_type": "execute_result"
    }
   ],
   "source": [
    "category_feature = ['Country']\n",
    "df_sales1 = pd.get_dummies(df_sales, drop_first=True, columns=category_feature)  # Dummy variable - intercept\n",
    "df_sales1\n"
   ]
  },
  {
   "cell_type": "code",
   "execution_count": 50,
   "metadata": {},
   "outputs": [
    {
     "data": {
      "text/html": [
       "<div>\n",
       "<style scoped>\n",
       "    .dataframe tbody tr th:only-of-type {\n",
       "        vertical-align: middle;\n",
       "    }\n",
       "\n",
       "    .dataframe tbody tr th {\n",
       "        vertical-align: top;\n",
       "    }\n",
       "\n",
       "    .dataframe thead th {\n",
       "        text-align: right;\n",
       "    }\n",
       "</style>\n",
       "<table border=\"1\" class=\"dataframe\">\n",
       "  <thead>\n",
       "    <tr style=\"text-align: right;\">\n",
       "      <th></th>\n",
       "      <th>InvoiceNo</th>\n",
       "      <th>StockCode</th>\n",
       "      <th>Description</th>\n",
       "      <th>Quantity</th>\n",
       "      <th>InvoiceDate</th>\n",
       "      <th>UnitPrice</th>\n",
       "      <th>CustomerID</th>\n",
       "      <th>TotalPrice</th>\n",
       "      <th>Country_Australia</th>\n",
       "      <th>Country_Austria</th>\n",
       "      <th>...</th>\n",
       "      <th>Country_Portugal</th>\n",
       "      <th>Country_Saudi Arabia</th>\n",
       "      <th>Country_Singapore</th>\n",
       "      <th>Country_Spain</th>\n",
       "      <th>Country_Sweden</th>\n",
       "      <th>Country_Switzerland</th>\n",
       "      <th>Country_USA</th>\n",
       "      <th>Country_United Arab Emirates</th>\n",
       "      <th>Country_United Kingdom</th>\n",
       "      <th>Country_Unspecified</th>\n",
       "    </tr>\n",
       "  </thead>\n",
       "  <tbody>\n",
       "    <tr>\n",
       "      <th>0</th>\n",
       "      <td>536365</td>\n",
       "      <td>85123A</td>\n",
       "      <td>WHITE HANGING HEART T-LIGHT HOLDER</td>\n",
       "      <td>6</td>\n",
       "      <td>2022-12-01 08:26:00</td>\n",
       "      <td>2.55</td>\n",
       "      <td>17850.0</td>\n",
       "      <td>15.30</td>\n",
       "      <td>0</td>\n",
       "      <td>0</td>\n",
       "      <td>...</td>\n",
       "      <td>0</td>\n",
       "      <td>0</td>\n",
       "      <td>0</td>\n",
       "      <td>0</td>\n",
       "      <td>0</td>\n",
       "      <td>0</td>\n",
       "      <td>0</td>\n",
       "      <td>0</td>\n",
       "      <td>1</td>\n",
       "      <td>0</td>\n",
       "    </tr>\n",
       "    <tr>\n",
       "      <th>1</th>\n",
       "      <td>536365</td>\n",
       "      <td>71053</td>\n",
       "      <td>WHITE METAL LANTERN</td>\n",
       "      <td>6</td>\n",
       "      <td>2022-12-01 08:26:00</td>\n",
       "      <td>3.39</td>\n",
       "      <td>17850.0</td>\n",
       "      <td>20.34</td>\n",
       "      <td>0</td>\n",
       "      <td>0</td>\n",
       "      <td>...</td>\n",
       "      <td>0</td>\n",
       "      <td>0</td>\n",
       "      <td>0</td>\n",
       "      <td>0</td>\n",
       "      <td>0</td>\n",
       "      <td>0</td>\n",
       "      <td>0</td>\n",
       "      <td>0</td>\n",
       "      <td>1</td>\n",
       "      <td>0</td>\n",
       "    </tr>\n",
       "    <tr>\n",
       "      <th>2</th>\n",
       "      <td>536365</td>\n",
       "      <td>84406B</td>\n",
       "      <td>CREAM CUPID HEARTS COAT HANGER</td>\n",
       "      <td>8</td>\n",
       "      <td>2022-12-01 08:26:00</td>\n",
       "      <td>2.75</td>\n",
       "      <td>17850.0</td>\n",
       "      <td>22.00</td>\n",
       "      <td>0</td>\n",
       "      <td>0</td>\n",
       "      <td>...</td>\n",
       "      <td>0</td>\n",
       "      <td>0</td>\n",
       "      <td>0</td>\n",
       "      <td>0</td>\n",
       "      <td>0</td>\n",
       "      <td>0</td>\n",
       "      <td>0</td>\n",
       "      <td>0</td>\n",
       "      <td>1</td>\n",
       "      <td>0</td>\n",
       "    </tr>\n",
       "    <tr>\n",
       "      <th>3</th>\n",
       "      <td>536365</td>\n",
       "      <td>84029G</td>\n",
       "      <td>KNITTED UNION FLAG HOT WATER BOTTLE</td>\n",
       "      <td>6</td>\n",
       "      <td>2022-12-01 08:26:00</td>\n",
       "      <td>3.39</td>\n",
       "      <td>17850.0</td>\n",
       "      <td>20.34</td>\n",
       "      <td>0</td>\n",
       "      <td>0</td>\n",
       "      <td>...</td>\n",
       "      <td>0</td>\n",
       "      <td>0</td>\n",
       "      <td>0</td>\n",
       "      <td>0</td>\n",
       "      <td>0</td>\n",
       "      <td>0</td>\n",
       "      <td>0</td>\n",
       "      <td>0</td>\n",
       "      <td>1</td>\n",
       "      <td>0</td>\n",
       "    </tr>\n",
       "    <tr>\n",
       "      <th>4</th>\n",
       "      <td>536365</td>\n",
       "      <td>84029E</td>\n",
       "      <td>RED WOOLLY HOTTIE WHITE HEART.</td>\n",
       "      <td>6</td>\n",
       "      <td>2022-12-01 08:26:00</td>\n",
       "      <td>3.39</td>\n",
       "      <td>17850.0</td>\n",
       "      <td>20.34</td>\n",
       "      <td>0</td>\n",
       "      <td>0</td>\n",
       "      <td>...</td>\n",
       "      <td>0</td>\n",
       "      <td>0</td>\n",
       "      <td>0</td>\n",
       "      <td>0</td>\n",
       "      <td>0</td>\n",
       "      <td>0</td>\n",
       "      <td>0</td>\n",
       "      <td>0</td>\n",
       "      <td>1</td>\n",
       "      <td>0</td>\n",
       "    </tr>\n",
       "    <tr>\n",
       "      <th>...</th>\n",
       "      <td>...</td>\n",
       "      <td>...</td>\n",
       "      <td>...</td>\n",
       "      <td>...</td>\n",
       "      <td>...</td>\n",
       "      <td>...</td>\n",
       "      <td>...</td>\n",
       "      <td>...</td>\n",
       "      <td>...</td>\n",
       "      <td>...</td>\n",
       "      <td>...</td>\n",
       "      <td>...</td>\n",
       "      <td>...</td>\n",
       "      <td>...</td>\n",
       "      <td>...</td>\n",
       "      <td>...</td>\n",
       "      <td>...</td>\n",
       "      <td>...</td>\n",
       "      <td>...</td>\n",
       "      <td>...</td>\n",
       "      <td>...</td>\n",
       "    </tr>\n",
       "    <tr>\n",
       "      <th>209024</th>\n",
       "      <td>555150</td>\n",
       "      <td>22895</td>\n",
       "      <td>SET OF 2 TEA TOWELS APPLE AND PEARS</td>\n",
       "      <td>3</td>\n",
       "      <td>2023-05-31 15:53:00</td>\n",
       "      <td>3.25</td>\n",
       "      <td>NaN</td>\n",
       "      <td>9.75</td>\n",
       "      <td>0</td>\n",
       "      <td>0</td>\n",
       "      <td>...</td>\n",
       "      <td>0</td>\n",
       "      <td>0</td>\n",
       "      <td>0</td>\n",
       "      <td>0</td>\n",
       "      <td>0</td>\n",
       "      <td>0</td>\n",
       "      <td>0</td>\n",
       "      <td>0</td>\n",
       "      <td>1</td>\n",
       "      <td>0</td>\n",
       "    </tr>\n",
       "    <tr>\n",
       "      <th>209025</th>\n",
       "      <td>555150</td>\n",
       "      <td>22983</td>\n",
       "      <td>CARD BILLBOARD FONT</td>\n",
       "      <td>3</td>\n",
       "      <td>2023-05-31 15:53:00</td>\n",
       "      <td>0.42</td>\n",
       "      <td>NaN</td>\n",
       "      <td>1.26</td>\n",
       "      <td>0</td>\n",
       "      <td>0</td>\n",
       "      <td>...</td>\n",
       "      <td>0</td>\n",
       "      <td>0</td>\n",
       "      <td>0</td>\n",
       "      <td>0</td>\n",
       "      <td>0</td>\n",
       "      <td>0</td>\n",
       "      <td>0</td>\n",
       "      <td>0</td>\n",
       "      <td>1</td>\n",
       "      <td>0</td>\n",
       "    </tr>\n",
       "    <tr>\n",
       "      <th>209026</th>\n",
       "      <td>555150</td>\n",
       "      <td>23169</td>\n",
       "      <td>CLASSIC GLASS COOKIE JAR</td>\n",
       "      <td>3</td>\n",
       "      <td>2023-05-31 15:53:00</td>\n",
       "      <td>4.15</td>\n",
       "      <td>NaN</td>\n",
       "      <td>12.45</td>\n",
       "      <td>0</td>\n",
       "      <td>0</td>\n",
       "      <td>...</td>\n",
       "      <td>0</td>\n",
       "      <td>0</td>\n",
       "      <td>0</td>\n",
       "      <td>0</td>\n",
       "      <td>0</td>\n",
       "      <td>0</td>\n",
       "      <td>0</td>\n",
       "      <td>0</td>\n",
       "      <td>1</td>\n",
       "      <td>0</td>\n",
       "    </tr>\n",
       "    <tr>\n",
       "      <th>209027</th>\n",
       "      <td>555150</td>\n",
       "      <td>23298</td>\n",
       "      <td>SPOTTY BUNTING</td>\n",
       "      <td>5</td>\n",
       "      <td>2023-05-31 15:53:00</td>\n",
       "      <td>4.95</td>\n",
       "      <td>NaN</td>\n",
       "      <td>24.75</td>\n",
       "      <td>0</td>\n",
       "      <td>0</td>\n",
       "      <td>...</td>\n",
       "      <td>0</td>\n",
       "      <td>0</td>\n",
       "      <td>0</td>\n",
       "      <td>0</td>\n",
       "      <td>0</td>\n",
       "      <td>0</td>\n",
       "      <td>0</td>\n",
       "      <td>0</td>\n",
       "      <td>1</td>\n",
       "      <td>0</td>\n",
       "    </tr>\n",
       "    <tr>\n",
       "      <th>209028</th>\n",
       "      <td>555150</td>\n",
       "      <td>23118</td>\n",
       "      <td>PARISIENNE JEWELLERY DRAWER</td>\n",
       "      <td>2</td>\n",
       "      <td>2023-05-31 15:53:00</td>\n",
       "      <td>7.50</td>\n",
       "      <td>NaN</td>\n",
       "      <td>15.00</td>\n",
       "      <td>0</td>\n",
       "      <td>0</td>\n",
       "      <td>...</td>\n",
       "      <td>0</td>\n",
       "      <td>0</td>\n",
       "      <td>0</td>\n",
       "      <td>0</td>\n",
       "      <td>0</td>\n",
       "      <td>0</td>\n",
       "      <td>0</td>\n",
       "      <td>0</td>\n",
       "      <td>1</td>\n",
       "      <td>0</td>\n",
       "    </tr>\n",
       "  </tbody>\n",
       "</table>\n",
       "<p>202867 rows × 44 columns</p>\n",
       "</div>"
      ],
      "text/plain": [
       "       InvoiceNo StockCode                          Description  Quantity  \\\n",
       "0         536365    85123A   WHITE HANGING HEART T-LIGHT HOLDER         6   \n",
       "1         536365     71053                  WHITE METAL LANTERN         6   \n",
       "2         536365    84406B       CREAM CUPID HEARTS COAT HANGER         8   \n",
       "3         536365    84029G  KNITTED UNION FLAG HOT WATER BOTTLE         6   \n",
       "4         536365    84029E       RED WOOLLY HOTTIE WHITE HEART.         6   \n",
       "...          ...       ...                                  ...       ...   \n",
       "209024    555150     22895  SET OF 2 TEA TOWELS APPLE AND PEARS         3   \n",
       "209025    555150     22983                  CARD BILLBOARD FONT         3   \n",
       "209026    555150     23169             CLASSIC GLASS COOKIE JAR         3   \n",
       "209027    555150     23298                       SPOTTY BUNTING         5   \n",
       "209028    555150     23118         PARISIENNE JEWELLERY DRAWER          2   \n",
       "\n",
       "               InvoiceDate  UnitPrice  CustomerID  TotalPrice  \\\n",
       "0      2022-12-01 08:26:00       2.55     17850.0       15.30   \n",
       "1      2022-12-01 08:26:00       3.39     17850.0       20.34   \n",
       "2      2022-12-01 08:26:00       2.75     17850.0       22.00   \n",
       "3      2022-12-01 08:26:00       3.39     17850.0       20.34   \n",
       "4      2022-12-01 08:26:00       3.39     17850.0       20.34   \n",
       "...                    ...        ...         ...         ...   \n",
       "209024 2023-05-31 15:53:00       3.25         NaN        9.75   \n",
       "209025 2023-05-31 15:53:00       0.42         NaN        1.26   \n",
       "209026 2023-05-31 15:53:00       4.15         NaN       12.45   \n",
       "209027 2023-05-31 15:53:00       4.95         NaN       24.75   \n",
       "209028 2023-05-31 15:53:00       7.50         NaN       15.00   \n",
       "\n",
       "        Country_Australia  Country_Austria  ...  Country_Portugal  \\\n",
       "0                       0                0  ...                 0   \n",
       "1                       0                0  ...                 0   \n",
       "2                       0                0  ...                 0   \n",
       "3                       0                0  ...                 0   \n",
       "4                       0                0  ...                 0   \n",
       "...                   ...              ...  ...               ...   \n",
       "209024                  0                0  ...                 0   \n",
       "209025                  0                0  ...                 0   \n",
       "209026                  0                0  ...                 0   \n",
       "209027                  0                0  ...                 0   \n",
       "209028                  0                0  ...                 0   \n",
       "\n",
       "        Country_Saudi Arabia  Country_Singapore  Country_Spain  \\\n",
       "0                          0                  0              0   \n",
       "1                          0                  0              0   \n",
       "2                          0                  0              0   \n",
       "3                          0                  0              0   \n",
       "4                          0                  0              0   \n",
       "...                      ...                ...            ...   \n",
       "209024                     0                  0              0   \n",
       "209025                     0                  0              0   \n",
       "209026                     0                  0              0   \n",
       "209027                     0                  0              0   \n",
       "209028                     0                  0              0   \n",
       "\n",
       "        Country_Sweden  Country_Switzerland  Country_USA  \\\n",
       "0                    0                    0            0   \n",
       "1                    0                    0            0   \n",
       "2                    0                    0            0   \n",
       "3                    0                    0            0   \n",
       "4                    0                    0            0   \n",
       "...                ...                  ...          ...   \n",
       "209024               0                    0            0   \n",
       "209025               0                    0            0   \n",
       "209026               0                    0            0   \n",
       "209027               0                    0            0   \n",
       "209028               0                    0            0   \n",
       "\n",
       "        Country_United Arab Emirates  Country_United Kingdom  \\\n",
       "0                                  0                       1   \n",
       "1                                  0                       1   \n",
       "2                                  0                       1   \n",
       "3                                  0                       1   \n",
       "4                                  0                       1   \n",
       "...                              ...                     ...   \n",
       "209024                             0                       1   \n",
       "209025                             0                       1   \n",
       "209026                             0                       1   \n",
       "209027                             0                       1   \n",
       "209028                             0                       1   \n",
       "\n",
       "        Country_Unspecified  \n",
       "0                         0  \n",
       "1                         0  \n",
       "2                         0  \n",
       "3                         0  \n",
       "4                         0  \n",
       "...                     ...  \n",
       "209024                    0  \n",
       "209025                    0  \n",
       "209026                    0  \n",
       "209027                    0  \n",
       "209028                    0  \n",
       "\n",
       "[202867 rows x 44 columns]"
      ]
     },
     "execution_count": 50,
     "metadata": {},
     "output_type": "execute_result"
    }
   ],
   "source": [
    "category_feature = ['Country']\n",
    "df_sales1 = pd.get_dummies(df_sales, drop_first=False, columns=category_feature)  # One-Hot encoding\n",
    "df_sales1\n"
   ]
  },
  {
   "cell_type": "markdown",
   "metadata": {},
   "source": [
    "##### the discretization of numerical characteristics\n",
    "\n",
    "Bucket or Binning: [3, 2.7, 16, 5.5, 98] ---> [0, 0, 2, 1, 2]\n",
    "\n",
    "1. Equidistant buckets: 0-99, 100-199, 200-299...\n",
    "2. Equal frequency bucket\n",
    "3. Model bucket DIVISION"
   ]
  },
  {
   "cell_type": "code",
   "execution_count": null,
   "metadata": {},
   "outputs": [],
   "source": [
    "# 3. construction of features"
   ]
  },
  {
   "cell_type": "markdown",
   "metadata": {},
   "source": [
    "## Model Optimization: To prevent overfitting"
   ]
  },
  {
   "cell_type": "code",
   "execution_count": 53,
   "metadata": {},
   "outputs": [
    {
     "name": "stdout",
     "output_type": "stream",
     "text": [
      "r2-lr: 0.8642\n",
      "r2-dtr: 1.0000\n",
      "r2-rfr: 0.9840\n",
      "r2-lr: 0.8124\n",
      "r2-dtr: 0.8616\n",
      "r2-rfr: 0.7825\n"
     ]
    }
   ],
   "source": [
    "from sklearn.metrics import r2_score\n",
    "\n",
    "print(\"r2-lr: %0.4f\" % r2_score(y_train, model_lr.predict(X_train)))\n",
    "print(\"r2-dtr: %0.4f\" % r2_score(y_train, model_dtr.predict(X_train)))\n",
    "print(\"r2-rfr: %0.4f\" % r2_score(y_train, model_rfr.predict(X_train)))\n",
    "\n",
    "print(\"r2-lr: %0.4f\" % r2_score(y_test, model_lr.predict(X_test)))\n",
    "print(\"r2-dtr: %0.4f\" % r2_score(y_test, model_dtr.predict(X_test)))\n",
    "print(\"r2-rfr: %0.4f\" % r2_score(y_test, model_rfr.predict(X_test)))\n"
   ]
  },
  {
   "cell_type": "code",
   "execution_count": 54,
   "metadata": {},
   "outputs": [
    {
     "data": {
      "text/plain": [
       "<matplotlib.legend.Legend at 0x11987a5dc40>"
      ]
     },
     "execution_count": 54,
     "metadata": {},
     "output_type": "execute_result"
    },
    {
     "data": {
      "image/png": "[encoded data removed]",
      "text/plain": [
       "<Figure size 432x288 with 1 Axes>"
      ]
     },
     "metadata": {
      "needs_background": "light"
     },
     "output_type": "display_data"
    }
   ],
   "source": [
    "import numpy as np\n",
    "\n",
    "# function to add value labels\n",
    "def addlabels(x, y):\n",
    "    for i in range(len(x)):\n",
    "        plt.text(i / 50 + x[i], round(y[i], 3) + 0.02, round(y[i], 3), ha='center')\n",
    "\n",
    "fig, ax = plt.subplots()\n",
    "width = 0.25\n",
    "\n",
    "bars1 = [r2_score(y_train, model_lr.predict(X_train)),\n",
    "         r2_score(y_valid, model_lr.predict(X_valid))]\n",
    "bars2 = [r2_score(y_train, model_dtr.predict(X_train)),\n",
    "         r2_score(y_valid, model_dtr.predict(X_valid))]\n",
    "bars3 = [r2_score(y_train, model_rfr.predict(X_train)),\n",
    "         r2_score(y_valid, model_rfr.predict(X_valid))]\n",
    "\n",
    "# The x position of bars\n",
    "r1 = np.arange(len(bars1))\n",
    "r2 = [x + width for x in r1]\n",
    "r3 = [x + width * 2 for x in r1]\n",
    "\n",
    "# Create blue bars\n",
    "plt.bar(r1, bars1, width=width, color='blue', edgecolor='black', capsize=7, label='LinearRegression')\n",
    "\n",
    "# Create cyan bars\n",
    "plt.bar(r2, bars2, width=width, color='cyan', edgecolor='black', capsize=7, label='DecisionTreeRegressor')\n",
    "\n",
    "# Create yellow bars\n",
    "plt.bar(r3, bars3, width=width, color='yellow', edgecolor='black', capsize=7, label='RandomForestRegressor')\n",
    "\n",
    "# general layout\n",
    "plt.xticks([r + width for r in range(len(bars1))], ['train', 'test'])\n",
    "plt.ylabel('R2_score')\n",
    "plt.xlabel('dataset')\n",
    "plt.legend()\n"
   ]
  },
  {
   "cell_type": "code",
   "execution_count": 57,
   "metadata": {},
   "outputs": [
    {
     "name": "stdout",
     "output_type": "stream",
     "text": [
      "[0.86250011 0.84757499 0.84143265 0.84197301 0.90209478]\n"
     ]
    }
   ],
   "source": [
    "import numpy as np\n",
    "from sklearn.model_selection import cross_val_score\n",
    "\n",
    "cv_scores_dtr = cross_val_score(model_dtr, X_train, y_train, cv=5, scoring='r2')\n",
    "print(cv_scores_dtr)\n"
   ]
  },
  {
   "cell_type": "code",
   "execution_count": 58,
   "metadata": {},
   "outputs": [],
   "source": [
    "# plotting learning curves / Using cross-validation\n"
   ]
  },
  {
   "cell_type": "markdown",
   "metadata": {},
   "source": [
    "##### What is overfitting?\n",
    "##### Solution to overfitting:\n",
    "1. Increase the amount of data in the dataset  \n",
    "2. Quality feature engineering  \n",
    "3. Choose a simple model  \n",
    "\n",
    "Generalization ability\n"
   ]
  },
  {
   "cell_type": "code",
   "execution_count": 59,
   "metadata": {},
   "outputs": [],
   "source": [
    "# Pruning\n",
    "from sklearn.model_selection import train_test_split\n",
    "\n",
    "X_train, X_rem, y_train, y_rem = train_test_split(x, y, train_size=0.7, random_state=36)\n",
    "X_valid, X_test, y_valid, y_test = train_test_split(X_rem, y_rem, test_size=0.5, random_state=36)\n"
   ]
  },
  {
   "cell_type": "code",
   "execution_count": 60,
   "metadata": {},
   "outputs": [],
   "source": [
    "from sklearn.preprocessing import MinMaxScaler\n",
    "\n",
    "scale = MinMaxScaler()\n",
    "X_train = scale.fit_transform(X_train)\n",
    "X_valid = scale.transform(X_valid)\n",
    "X_test = scale.transform(X_test)\n"
   ]
  },
  {
   "cell_type": "code",
   "execution_count": 61,
   "metadata": {},
   "outputs": [
    {
     "data": {
      "text/plain": [
       "DecisionTreeRegressor(max_depth=5, min_samples_leaf=3, random_state=34)"
      ]
     },
     "execution_count": 61,
     "metadata": {},
     "output_type": "execute_result"
    }
   ],
   "source": [
    "model_dtr = DecisionTreeRegressor(random_state=34)\n",
    "\n",
    "model_dtr_cut = DecisionTreeRegressor(\n",
    "    random_state=34,\n",
    "    max_depth=5,\n",
    "    min_samples_split=2,\n",
    "    min_samples_leaf=3\n",
    ")\n",
    "\n",
    "model_dtr.fit(X_train, y_train)\n",
    "model_dtr_cut.fit(X_train, y_train)\n"
   ]
  },
  {
   "cell_type": "code",
   "execution_count": 62,
   "metadata": {},
   "outputs": [],
   "source": [
    "y_valid_preds_dtr = model_dtr.predict(X_valid)\n",
    "y_valid_preds_dtr_cut = model_dtr_cut.predict(X_valid)\n"
   ]
  },
  {
   "cell_type": "code",
   "execution_count": 63,
   "metadata": {},
   "outputs": [
    {
     "name": "stdout",
     "output_type": "stream",
     "text": [
      "r2-dtr: 1.0000\n",
      "r2-dtr_cut: 0.9508\n",
      "r2-dtr: 0.6179\n",
      "r2-dtr_cut: 0.8611\n"
     ]
    }
   ],
   "source": [
    "print('r2-dtr: %0.4f' % r2_score(y_train, model_dtr.predict(X_train)))\n",
    "print('r2-dtr_cut: %0.4f' % r2_score(y_train, model_dtr_cut.predict(X_train)))\n",
    "\n",
    "print('r2-dtr: %0.4f' % r2_score(y_test, model_dtr.predict(X_test)))\n",
    "print('r2-dtr_cut: %0.4f' % r2_score(y_test, model_dtr_cut.predict(X_test)))\n"
   ]
  },
  {
   "cell_type": "code",
   "execution_count": null,
   "metadata": {},
   "outputs": [],
   "source": []
  },
  {
   "cell_type": "code",
   "execution_count": null,
   "metadata": {},
   "outputs": [],
   "source": []
  },
  {
   "cell_type": "markdown",
   "metadata": {},
   "source": [
    "**y = w1x1 + w2x2 + w3x3**\n",
    "\n",
    "regularization:\n",
    "- L1: Lasso\n",
    "- L2: Ridge\n"
   ]
  },
  {
   "cell_type": "code",
   "execution_count": 64,
   "metadata": {},
   "outputs": [],
   "source": [
    "from sklearn.linear_model import Lasso\n",
    "from sklearn.linear_model import Ridge\n",
    "\n",
    "model_lasso = Lasso()\n"
   ]
  },
  {
   "cell_type": "code",
   "execution_count": 65,
   "metadata": {},
   "outputs": [
    {
     "data": {
      "text/plain": [
       "Lasso()"
      ]
     },
     "execution_count": 65,
     "metadata": {},
     "output_type": "execute_result"
    }
   ],
   "source": [
    "model_lasso.fit(X_train, y_train)\n"
   ]
  },
  {
   "cell_type": "code",
   "execution_count": 68,
   "metadata": {},
   "outputs": [
    {
     "name": "stdout",
     "output_type": "stream",
     "text": [
      "r2-lr: 0.9042\n",
      "r2-lasso: 0.9042\n",
      "r2-lr: 0.9423\n",
      "r2-lasso: 0.9426\n"
     ]
    }
   ],
   "source": [
    "print('r2-lr: %0.4f' % r2_score(y_train, model_lr.predict(X_train)))\n",
    "print('r2-lasso: %0.4f' % r2_score(y_train, model_lasso.predict(X_train)))\n",
    "\n",
    "print('r2-lr: %0.4f' % r2_score(y_test, model_lr.predict(X_test)))\n",
    "print('r2-lasso: %0.4f' % r2_score(y_test, model_lasso.predict(X_test)))\n"
   ]
  },
  {
   "cell_type": "markdown",
   "metadata": {},
   "source": [
    "## Model Optimization 3: Cross-validation\n",
    "\n",
    "df_LTV\n",
    "\n",
    "train_data, valid_data, test_data\n",
    "\n",
    "train_Data: K\n",
    "k - 1\n"
   ]
  },
  {
   "cell_type": "code",
   "execution_count": 69,
   "metadata": {},
   "outputs": [
    {
     "name": "stdout",
     "output_type": "stream",
     "text": [
      "Fold1 R2_score: 0.9093400326744603\n",
      "Fold2 R2_score: 0.8825868001722134\n",
      "Fold3 R2_score: 0.9086103857136494\n",
      "Fold4 R2_score: 0.38263979960229744\n",
      "Fold5 R2_score: 0.43979379112620454\n"
     ]
    }
   ],
   "source": [
    "# KFOLD\n",
    "from sklearn.model_selection import KFold\n",
    "\n",
    "kf5 = KFold(n_splits=5, shuffle=False)\n",
    "i = 1\n",
    "\n",
    "for train_index, test_index in kf5.split(df_LTV):\n",
    "    X_train = df_LTV.iloc[train_index].drop(['Year-LTV'], axis=1)\n",
    "    X_test = df_LTV.iloc[test_index].drop(['Year-LTV'], axis=1)\n",
    "    y_train = df_LTV.iloc[train_index]['Year-LTV']\n",
    "    y_test = df_LTV.iloc[test_index]['Year-LTV']\n",
    "\n",
    "    model_lr.fit(X_train, y_train)\n",
    "    print(f\"Fold{i} R2_score: {r2_score(y_test, model_lr.predict(X_test))}\")\n",
    "    i += 1\n"
   ]
  },
  {
   "cell_type": "code",
   "execution_count": 70,
   "metadata": {},
   "outputs": [],
   "source": [
    "scores = cross_val_score(\n",
    "    model_lr,\n",
    "    X_train,\n",
    "    y_train,\n",
    "    cv=5,\n",
    "    scoring='neg_mean_absolute_error'\n",
    ")\n"
   ]
  },
  {
   "cell_type": "code",
   "execution_count": 71,
   "metadata": {},
   "outputs": [
    {
     "name": "stdout",
     "output_type": "stream",
     "text": [
      "Fold1 MAE: 847.5332886903576\n",
      "Fold2 MAE: 749.796114504604\n",
      "Fold3 MAE: 477.45943533920195\n",
      "Fold4 MAE: 734.329112315945\n",
      "Fold5 MAE: 666.3308963968292\n"
     ]
    }
   ],
   "source": [
    "for i, score in enumerate(scores):\n",
    "    print(f\"Fold{i+1} MAE: {-score}\")\n"
   ]
  },
  {
   "cell_type": "code",
   "execution_count": 75,
   "metadata": {},
   "outputs": [
    {
     "data": {
      "text/plain": [
       "{'bootstrap': True,\n",
       " 'ccp_alpha': 0.0,\n",
       " 'criterion': 'mse',\n",
       " 'max_depth': None,\n",
       " 'max_features': 'auto',\n",
       " 'max_leaf_nodes': None,\n",
       " 'max_samples': None,\n",
       " 'min_impurity_decrease': 0.0,\n",
       " 'min_impurity_split': None,\n",
       " 'min_samples_leaf': 1,\n",
       " 'min_samples_split': 2,\n",
       " 'min_weight_fraction_leaf': 0.0,\n",
       " 'n_estimators': 100,\n",
       " 'n_jobs': None,\n",
       " 'oob_score': False,\n",
       " 'random_state': None,\n",
       " 'verbose': 0,\n",
       " 'warm_start': False}"
      ]
     },
     "execution_count": 75,
     "metadata": {},
     "output_type": "execute_result"
    }
   ],
   "source": [
    "# GridSearch\n",
    "\n",
    "from sklearn.ensemble import RandomForestRegressor\n",
    "\n",
    "model_rfr = RandomForestRegressor()\n",
    "\n",
    "model_rfr.fit(X_train, y_train)\n",
    "\n",
    "model_rfr.get_params()\n"
   ]
  },
  {
   "cell_type": "code",
   "execution_count": 77,
   "metadata": {},
   "outputs": [
    {
     "name": "stdout",
     "output_type": "stream",
     "text": [
      "r2-rfr_train:0.9802\n",
      "r2-rfr_test:0.8868\n"
     ]
    }
   ],
   "source": [
    "from sklearn.model_selection import train_test_split\n",
    "\n",
    "# X = df_LTV.drop(['CustomerID', 'Year-LTV'], axis=1)\n",
    "# y = df_LTV['Year-LTV']\n",
    "\n",
    "\n",
    "X_train, X_test, y_train, y_test = train_test_split(X, y, test_size=0.2, random_state=0)\n",
    "\n",
    "model_rfr = RandomForestRegressor()\n",
    "model_rfr.fit(X_train, y_train)\n",
    "\n",
    "print('r2-rfr_train:%0.4f' % r2_score(y_train, model_rfr.predict(X_train)))\n",
    "print('r2-rfr_test:%0.4f' % r2_score(y_test, model_rfr.predict(X_test)))\n",
    "\n",
    "# r2-rfr_train: 0.9650\n",
    "# r2-rfr_test: 0.4526\n",
    "\n",
    "rfr_param_grid = {\n",
    "    'bootstrap': [True, False],\n",
    "    'max_depth': [10, 50, 100, None],\n",
    "    'max_features': ['auto', 'sqrt'],\n",
    "    'min_samples_leaf': [1, 2, 4],\n",
    "    'min_samples_split': [2, 5, 10],\n",
    "    'n_estimators': [50, 500, 2000]\n",
    "}\n"
   ]
  },
  {
   "cell_type": "code",
   "execution_count": 78,
   "metadata": {},
   "outputs": [
    {
     "name": "stdout",
     "output_type": "stream",
     "text": [
      "Fitting 3 folds for each of 432 candidates, totalling 1296 fits\n"
     ]
    },
    {
     "data": {
      "text/plain": [
       "GridSearchCV(cv=3, estimator=RandomForestRegressor(), n_jobs=10,\n",
       "             param_grid={'bootstrap': [True, False],\n",
       "                         'max_depth': [10, 50, 100, None],\n",
       "                         'max_features': ['auto', 'sqrt'],\n",
       "                         'min_samples_leaf': [1, 2, 4],\n",
       "                         'min_samples_split': [2, 5, 10],\n",
       "                         'n_estimators': [50, 500, 2000]},\n",
       "             scoring='r2', verbose=1)"
      ]
     },
     "execution_count": 78,
     "metadata": {},
     "output_type": "execute_result"
    }
   ],
   "source": [
    "from sklearn.model_selection import GridSearchCV\n",
    "\n",
    "model_rfr_gs = GridSearchCV(\n",
    "    model_rfr,\n",
    "    param_grid=rfr_param_grid,\n",
    "    cv=3,\n",
    "    scoring=\"r2\",\n",
    "    n_jobs=10,\n",
    "    verbose=1\n",
    ")\n",
    "\n",
    "model_rfr_gs.fit(X_train, y_train)\n"
   ]
  },
  {
   "cell_type": "code",
   "execution_count": 79,
   "metadata": {},
   "outputs": [
    {
     "name": "stdout",
     "output_type": "stream",
     "text": [
      "Optimum_parameter_combination: {'bootstrap': True, 'max_depth': 10, 'max_features': 'auto', 'min_samples_leaf': 1, 'min_samples_split': 2, 'n_estimators': 50}\n"
     ]
    }
   ],
   "source": [
    "print(\"Optimum_parameter_combination:\", model_rfr_gs.best_params_)"
   ]
  },
  {
   "cell_type": "code",
   "execution_count": 91,
   "metadata": {},
   "outputs": [
    {
     "data": {
      "image/png": "[encoded data removed]",
      "text/plain": [
       "<Figure size 720x432 with 1 Axes>"
      ]
     },
     "metadata": {
      "needs_background": "light"
     },
     "output_type": "display_data"
    }
   ],
   "source": [
    "import numpy as np\n",
    "fig, ax = plt.subplots(figsize=(10, 6))\n",
    "\n",
    "width = 0.45\n",
    "\n",
    "bars1 = [r2_score(y_train, model_rfr.predict(X_train)),\n",
    "         r2_score(y_test, model_rfr.predict(X_test))]\n",
    "\n",
    "bars2 = [r2_score(y_train, model_rfr_gs.predict(X_train)),\n",
    "         r2_score(y_test, model_rfr_gs.predict(X_test))]\n",
    "\n",
    "r1 = np.arange(len(bars1))\n",
    "r2 = [x + width for x in r1]\n",
    "\n",
    "plt.bar(r1, bars1, width=width, color='blue', edgecolor='black', capsize=7, label='rfr')\n",
    "plt.bar(r2, bars2, width=width, color='cyan', edgecolor='black', capsize=7, label='rfr_gs')\n",
    "\n",
    "plt.xticks([r + width/2 for r in range(len(bars1))], ['train', 'validation'])\n",
    "plt.ylabel('R2_score')\n",
    "plt.xlabel('dataset')\n",
    "plt.legend()\n",
    "\n",
    "def addlabels(x, y):\n",
    "    for i in range(len(x)):\n",
    "        plt.text(x[i], y[i] + 0.02, f'{y[i]:.3f}', ha='center')\n",
    "\n",
    "\n",
    "addlabels(r1, bars1)\n",
    "addlabels(r2, bars2)\n",
    "\n",
    "\n",
    "plt.show()\n"
   ]
  },
  {
   "cell_type": "code",
   "execution_count": 92,
   "metadata": {},
   "outputs": [
    {
     "name": "stdout",
     "output_type": "stream",
     "text": [
      "Optimum_parameter_combination: {'bootstrap': True, 'max_depth': 10, 'max_features': 'auto', 'min_samples_leaf': 1, 'min_samples_split': 2, 'n_estimators': 50}\n"
     ]
    }
   ],
   "source": [
    "# First Cell\n",
    "print(\"Optimum_parameter_combination:\", model_rfr_gs.best_params_)\n"
   ]
  },
  {
   "cell_type": "code",
   "execution_count": 93,
   "metadata": {},
   "outputs": [
    {
     "data": {
      "image/png": "[encoded data removed]",
      "text/plain": [
       "<Figure size 720x432 with 1 Axes>"
      ]
     },
     "metadata": {
      "needs_background": "light"
     },
     "output_type": "display_data"
    }
   ],
   "source": [
    "# Second Cell\n",
    "import numpy as np\n",
    "import matplotlib.pyplot as plt\n",
    "\n",
    "fig, ax = plt.subplots(figsize=(10, 6))\n",
    "width = 0.45\n",
    "\n",
    "bars1 = [r2_score(y_train, model_rfr.predict(X_train)),\n",
    "         r2_score(y_test, model_rfr.predict(X_test))]\n",
    "\n",
    "bars2 = [r2_score(y_train, model_rfr_gs.predict(X_train)),\n",
    "         r2_score(y_test, model_rfr_gs.predict(X_test))]\n",
    "\n",
    "r1 = np.arange(len(bars1))\n",
    "r2 = [x + width for x in r1]\n",
    "\n",
    "plt.bar(r1, bars1, width=width, color='blue', edgecolor='black', capsize=7, label='rfr')\n",
    "plt.bar(r2, bars2, width=width, color='cyan', edgecolor='black', capsize=7, label='rfr_gs')\n",
    "\n",
    "plt.xticks([r + width / 2 for r in range(len(bars1))], ['train', 'validation'])\n",
    "plt.ylabel('R2_score')\n",
    "plt.xlabel('dataset')\n",
    "plt.legend()\n",
    "\n",
    "def addlabels(x, y):\n",
    "    for i in range(len(x)):\n",
    "        plt.text(x[i], round(y[i], 3) + 0.02, round(y[i], 3), ha='center')\n",
    "\n",
    "addlabels(r1, bars1)\n",
    "addlabels(r2, bars2)\n",
    "\n",
    "plt.show()\n"
   ]
  },
  {
   "cell_type": "code",
   "execution_count": null,
   "metadata": {},
   "outputs": [],
   "source": []
  },
  {
   "cell_type": "markdown",
   "metadata": {},
   "source": [
    "# Using XGBoost and OpenAI\n",
    "\n",
    "--> See separate notebook"
   ]
  },
  {
   "cell_type": "code",
   "execution_count": 107,
   "metadata": {},
   "outputs": [],
   "source": [
    "import pandas as pd\n",
    "import numpy as np\n",
    "from datetime import datetime\n",
    "from sklearn.cluster import KMeans\n",
    "from sklearn.model_selection import train_test_split\n",
    "from sklearn.metrics import mean_squared_error\n",
    "\n",
    "# !pip install xgboost\n",
    "\n",
    "from xgboost import XGBRegressor\n",
    "\n",
    "import pickle\n",
    "import json\n",
    "import os\n",
    "from tqdm import tqdm\n",
    "\n",
    "from dotenv import load_dotenv, find_dotenv\n",
    "from openai import OpenAI\n",
    "import openai\n",
    "\n",
    "load_dotenv(dotenv_path = os.path.join(os.path.dirname(os.getcwd()), '.env'))\n",
    "\n",
    "\n",
    "openai.api_key  = os.getenv('OPENAI_API_KEY')\n",
    "\n",
    "client = OpenAI()\n",
    "\n",
    "EMBED_MODEL = \"text-embedding-ada-002\"\n",
    "\n",
    "df = pd.read_csv(os.path.join(filedir, filename), encoding='ISO-8859-1')\n",
    "df = df.dropna(subset=['CustomerID'])\n",
    "df = df[df['Quantity'] > 0]\n",
    "df['Amount'] = df['Quantity'] * df['UnitPrice']\n",
    "df['InvoiceDate'] = pd.to_datetime(df['InvoiceDate'])\n",
    "df['CustomerID'] = df['CustomerID'].astype(str)\n"
   ]
  },
  {
   "cell_type": "code",
   "execution_count": null,
   "metadata": {},
   "outputs": [],
   "source": []
  },
  {
   "cell_type": "code",
   "execution_count": null,
   "metadata": {},
   "outputs": [],
   "source": []
  },
  {
   "cell_type": "code",
   "execution_count": null,
   "metadata": {},
   "outputs": [],
   "source": []
  }
 ],
 "metadata": {
  "kernelspec": {
   "display_name": "Python 3",
   "language": "python",
   "name": "python3"
  },
  "language_info": {
   "codemirror_mode": {
    "name": "ipython",
    "version": 3
   },
   "file_extension": ".py",
   "mimetype": "text/x-python",
   "name": "python",
   "nbconvert_exporter": "python",
   "pygments_lexer": "ipython3",
   "version": "3.8.5"
  }
 },
 "nbformat": 4,
 "nbformat_minor": 4
}
