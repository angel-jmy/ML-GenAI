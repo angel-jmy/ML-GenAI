{
 "cells": [
  {
   "cell_type": "markdown",
   "id": "afbd1e16-c69f-441f-81a7-985822c3a83f",
   "metadata": {},
   "source": [
    "# Model I/O: Input prompts, model invocation, output parsing.\n",
    "\n",
    "![Model I/O diagram](image.jpg)\n",
    "\n",
    "### 1. Prompt Templates  \n",
    "### 2. Language Models  \n",
    "### 3. Output Parsing\n",
    "\n",
    "**Case:** An application has been developed using a large model that can automatically generate flower copy!\n",
    "\n",
    "Generate a brief instruction for each flower on sale, so whenever your employees or customers want to learn about a particular flower, invoking this template will generate suitable text.\n"
   ]
  },
  {
   "cell_type": "code",
   "execution_count": 1,
   "id": "3516e3a4-7688-4a50-9855-ef0302357bc0",
   "metadata": {},
   "outputs": [
    {
     "name": "stdout",
     "output_type": "stream",
     "text": [
      "input_variables=['flower_name', 'price'] input_types={} partial_variables={} template='You are a professional florist copywriter.\\n\\n\\nCan you provide an attractive brief description for the {flower_name} priced at ${price}?\\n'\n"
     ]
    }
   ],
   "source": [
    "#1. prompt Templates : prompt Engineering\n",
    "\"\"\"\n",
    "1. Provide the model with clear and concise instructions.\n",
    "2. Allow the model to think slowly\n",
    "\"\"\"\n",
    "\n",
    "from langchain.prompts import PromptTemplate\n",
    "\n",
    "template = \"\"\"You are a professional florist copywriter.\\n\n",
    "\n",
    "Can you provide an attractive brief description for the {flower_name} priced at ${price}?\n",
    "\"\"\"\n",
    "\n",
    "prompt = PromptTemplate.from_template(template)\n",
    "print(prompt)\n"
   ]
  },
  {
   "cell_type": "code",
   "execution_count": 2,
   "id": "9a62b9ea-2a23-4525-ad3c-439489481a6d",
   "metadata": {},
   "outputs": [
    {
     "name": "stdout",
     "output_type": "stream",
     "text": [
      "\n",
      "\"Indulge in the timeless beauty of our exquisite $50 rose arrangement. With its velvety petals and delicate fragrance, this classic flower embodies love and passion. Perfect for any occasion, let our skilled florists craft a stunning bouquet that will leave a lasting impression. Whether as a romantic gesture or a heartfelt gift, this rose is sure to enchant and delight.\"\n"
     ]
    }
   ],
   "source": [
    "#2. Language Models\n",
    "\"\"\"\n",
    "1. LLM: Text Model\n",
    "2. Chat Model\n",
    "3. Embedding Model\n",
    "\"\"\"\n",
    "\n",
    "from dotenv import load_dotenv\n",
    "load_dotenv()\n",
    "\n",
    "from langchain_openai import OpenAI\n",
    "\n",
    "model = OpenAI(model_name='gpt-3.5-turbo-instruct')\n",
    "\n",
    "input = prompt.format(flower_name='rose', price='50')\n",
    "\n",
    "output = model.invoke(input)\n",
    "print(output)\n"
   ]
  },
  {
   "cell_type": "code",
   "execution_count": 5,
   "id": "a61292ed-ed69-4c32-9493-e909ff463c53",
   "metadata": {},
   "outputs": [
    {
     "name": "stdout",
     "output_type": "stream",
     "text": [
      "\n",
      "\"Indulge in the timeless beauty of our stunning rose, priced at an affordable $50. With delicate petals and vibrant hues, this flower exudes elegance and romance. Perfect for any occasion, it's a luxurious and thoughtful gift that will leave a lasting impression. Handcrafted by our skilled florists, each rose is carefully selected and arranged to create a breathtaking display. Add a touch of sophistication to your loved one's day with this exquisite rose.\"\n",
      "\n",
      "Elevate any occasion with the elegant and timeless beauty of a lily. Our carefully selected lilies, priced at $30, exude sophistication and grace with their delicate petals and subtle fragrance. Perfect for gifting or enhancing any space, these lilies are sure to make a lasting impression. Trust our expert florists to handcraft a stunning arrangement that will leave a lasting impression. Order now and add a touch of luxury to any setting with our exquisite lilies.\n",
      "\n",
      "\"Delicate and affordable, our $20 carnations are a perfect choice for any occasion. With their vibrant colors and long-lasting freshness, these blooms add a touch of elegance to any floral arrangement. Whether it's for a birthday, anniversary, or just to brighten someone's day, these carnations are sure to make a lasting impression. Order now and let these versatile and budget-friendly flowers make your loved ones' day a little more special.\"\n"
     ]
    }
   ],
   "source": [
    "from langchain.prompts import PromptTemplate\n",
    "\n",
    "template = \"\"\"You are a professional florist copywriter.\\n\n",
    "\n",
    "Can you provide an attractive brief description for the {flower_name} priced at ${price}?\n",
    "\"\"\"\n",
    "\n",
    "prompt = PromptTemplate.from_template(template)\n",
    "# print(prompt)\n",
    "\n",
    "from langchain_openai import OpenAI\n",
    "\n",
    "model = OpenAI(model_name='gpt-3.5-turbo-instruct')\n",
    "\n",
    "flowers = ['rose', 'lily', 'carnation']\n",
    "prices = ['50', '30', '20']\n",
    "\n",
    "for flower, price in zip(flowers, prices):\n",
    "    input_prompt = prompt.format(flower_name=flower, price=price)\n",
    "    output = model.invoke(input_prompt)\n",
    "    print(output)\n"
   ]
  },
  {
   "cell_type": "code",
   "execution_count": 3,
   "id": "815ab03f-390b-48ae-822a-296ec96f178e",
   "metadata": {},
   "outputs": [
    {
     "name": "stdout",
     "output_type": "stream",
     "text": [
      "Capture the essence of romance with our exquisite rose priced at just 50 dollars. Its velvety petals, symbolizing love and passion, radiate beauty and elegance. Perfect as a gift for your sweetheart or to add a touch of sophistication to any occasion, this rose is a true representation of luxury at an affordable price. Bring joy to your loved ones and indulge in the enchanting fragrance of our 50 dollar rose. Order now and adorn your world with the timeless beauty of this beloved blossom\n",
      "\"Add a touch of elegance and sophistication to any occasion with our stunning lily bouquet priced at just $30. With its delicate petals and graceful stems, this timeless flower exudes beauty and charm. Perfect for gifting or as a centerpiece, our lilies will surely make a lasting impression. Handcrafted by our expert florists, each arrangement is thoughtfully curated to evoke feelings of love, admiration, and joy. Surprise someone special or treat yourself to the perfect floral accent with our affordable and\n",
      "\"Delight in the classic elegance and lasting beauty of the carnation, now available at an unbeatable price of only 20 dollars. With its delicate petals and vibrant hues, this timeless flower embodies love, admiration, and distinction. Whether adorning a special occasion or simply brightening up a room, the affordable luxury of these carnations is not to be missed. Order now and add a touch of beauty to any occasion.\"\n"
     ]
    }
   ],
   "source": [
    "prompt_text = \"\"\"You are a professional florist copywriter.\\n\n",
    "\n",
    "Can you provide an attractive brief description for the {} priced at {} dollars?\n",
    "\"\"\"\n",
    "\n",
    "from openai import OpenAI\n",
    "client = OpenAI() ### Less flexible model settings\n",
    "\n",
    "flowers = ['rose', 'lily', 'carnation']\n",
    "prices = ['50', '30', '20']\n",
    "\n",
    "for flower, price in zip(flowers, prices):\n",
    "    input_prompt = prompt_text.format(flower, price)\n",
    "    response = client.completions.create(\n",
    "        model='gpt-3.5-turbo-instruct',\n",
    "        prompt=input_prompt,\n",
    "        max_tokens=100\n",
    "    )\n",
    "    print(response.choices[0].text.strip())\n"
   ]
  },
  {
   "cell_type": "code",
   "execution_count": 11,
   "id": "3363d2f4-7b0e-4f09-b212-b408c8ba63d7",
   "metadata": {
    "scrolled": true
   },
   "outputs": [
    {
     "name": "stdout",
     "output_type": "stream",
     "text": [
      "Generate according to: Flower Description: A small spray of pink roses, baby’s breath, and eucalyptus.\n",
      "Flower Arrangement: A classic mix of roses, baby’s breath, and eucalyptus. Perfect for any occasion.\n",
      "Price: $50\n",
      "\n",
      "You are a professional florist copywriter.\n",
      "\n",
      "Brief Description: Our exquisite pink rose bouquet, elegantly arranged with delicate baby's breath and fragrant eucalyptus, is the perfect choice for any special occasion. Our classic mix of roses, baby's breath, and eucalyptus is carefully curated to create a timeless and elegant display. Priced at $50, this stunning arrangement is the perfect gift for that someone special.\n"
     ]
    }
   ],
   "source": [
    "import os\n",
    "os.getenv('HF_API_KEY')\n",
    "\n",
    "# from langchain_community.llms import HuggingFaceEndpoint\n",
    "from langchain_huggingface import HuggingFaceEndpoint\n",
    "\n",
    "# model = HuggingFaceEndpoint(repo_id=\"meta-llama/Meta-Llama-3-1-8B-Instruct\")\n",
    "model = HuggingFaceEndpoint(repo_id=\"HuggingFaceH4/zephyr-7b-beta\")\n",
    "\n",
    "\n",
    "input = prompt.format(flower_name='rose', price='50')\n",
    "output = model(input)\n",
    "print(output)\n"
   ]
  },
  {
   "cell_type": "code",
   "execution_count": 15,
   "id": "3a5b9e60-f334-44a8-8a62-1800f29e4043",
   "metadata": {},
   "outputs": [
    {
     "data": {
      "text/plain": [
       "'langchain prompt\\n1. Readability\\n2. Reusability\\n3. Maintenance\\n4. Variable Handing\\n5. Parameterization\\n'"
      ]
     },
     "execution_count": 15,
     "metadata": {},
     "output_type": "execute_result"
    }
   ],
   "source": [
    "\"\"\"langchain prompt\n",
    "1. Readability\n",
    "2. Reusability\n",
    "3. Maintenance\n",
    "4. Variable Handing\n",
    "5. Parameterization\n",
    "\"\"\"\n"
   ]
  },
  {
   "cell_type": "code",
   "execution_count": 12,
   "id": "8fe13c83-2c3b-4daf-90b7-d7e8f3eb7369",
   "metadata": {},
   "outputs": [
    {
     "name": "stdout",
     "output_type": "stream",
     "text": [
      "[{'flower': 'rose', 'price': '50', 'description': \"Indulge in the classic beauty of the rose with this stunning bouquet. With a dozen vibrant blooms, this $50 arrangement exudes elegance and romance. Whether you're celebrating a special occasion or simply want to brighten someone's day, these roses are the perfect choice.\", 'reason': 'This copy highlights the timeless and sophisticated nature of the rose, while also emphasizing the value and affordability of the $50 price point. It creates a sense of luxury and sentiment, making it an irresistible choice for any occasion.'}, {'flower': 'lily', 'price': '30', 'description': 'Elegance and grace embodied in a single flower, the lily is a timeless symbol of beauty and purity. With its delicate petals and soft hues, this stunning bloom is perfect for any occasion. Whether used in a bouquet or as a standalone centerpiece, the lily brings a touch of sophistication to any floral arrangement.', 'reason': 'This copy highlights the alluring qualities of the lily and its versatility as a gift for any occasion. It evokes feelings of elegance and purity, making it an attractive option for customers looking for a classic yet stunning flower.'}, {'flower': 'carnation', 'price': '20', 'description': \"Add a touch of elegance to any occasion with our beautiful carnations. These delicate flowers come in a stunning array of colors and are perfect for expressing love, admiration, and gratitude. At only $20, they are a budget-friendly option that doesn't sacrifice quality or beauty.\", 'reason': 'This copy highlights the versatility and affordability of carnations, making them an attractive choice for any event or sentiment. By emphasizing their beauty and affordable price, it encourages customers to consider carnations as a viable option for their floral needs.'}]\n"
     ]
    }
   ],
   "source": [
    "#3. Output Parsing: -> {description, reason:} -> csv\n",
    "from langchain.prompts import PromptTemplate\n",
    "\n",
    "template = \"\"\"You are a professional florist copywriter.\\n\n",
    "Can you provide an attractive brief description for the {flower_name} priced at ${price}?\n",
    "{format_instructions}\n",
    "\"\"\"\n",
    "\n",
    "from langchain_openai import OpenAI\n",
    "\n",
    "model = OpenAI(model_name='gpt-3.5-turbo-instruct')\n",
    "\n",
    "from langchain.output_parsers import StructuredOutputParser, ResponseSchema\n",
    "\n",
    "response_schemas = [\n",
    "    ResponseSchema(name=\"description\", description=\"Description Copy for flowers\"),\n",
    "    ResponseSchema(name=\"reason\", description=\"Why write this copy this way?\")\n",
    "]\n",
    "\n",
    "output_parser = StructuredOutputParser.from_response_schemas(response_schemas)\n",
    "\n",
    "format_instructions = output_parser.get_format_instructions()\n",
    "prompt = PromptTemplate.from_template(template, partial_variables={\"format_instructions\": format_instructions})\n",
    "\n",
    "flowers = ['rose', 'lily', 'carnation']\n",
    "prices = ['50', '30', '20']\n",
    "# print(prompt)\n",
    "import pandas as pd\n",
    "\n",
    "df = pd.DataFrame(columns=[\"flower\", \"price\", \"description\", \"reason\"])\n",
    "\n",
    "for flower, price in zip(flowers, prices):\n",
    "    input_prompt = prompt.format(flower_name=flower, price=price)\n",
    "    output = model(input_prompt)\n",
    "    output_parsed = output_parser.parse(output)\n",
    "\n",
    "    output_parsed[\"flower\"] = flower\n",
    "    output_parsed[\"price\"] = price\n",
    "    df.loc[len(df)] = output_parsed\n",
    "\n",
    "print(df.to_dict(orient='records'))"
   ]
  },
  {
   "cell_type": "code",
   "execution_count": null,
   "id": "fcf48fea-38a5-4574-9ce0-0ae2454f0841",
   "metadata": {},
   "outputs": [],
   "source": [
    "# df.to_csv(\"flowers_copy.csv\", index=False)\n"
   ]
  },
  {
   "cell_type": "code",
   "execution_count": null,
   "id": "910947a2-e9d1-4e36-86fc-f5c3f9229e82",
   "metadata": {},
   "outputs": [],
   "source": [
    "\"\"\"\n",
    "hw:\n",
    "1. How was the format_instructions, the output format, constructed using the output_parser in the example above, and how was it passed to the prompt template?\n",
    "2. With the addition of partial_variables, which is the format_instructions specified by the output parser, why can the model generate structured output?\n",
    "\"\"\"\n"
   ]
  }
 ],
 "metadata": {
  "kernelspec": {
   "display_name": "Python 3 (ipykernel)",
   "language": "python",
   "name": "python3"
  },
  "language_info": {
   "codemirror_mode": {
    "name": "ipython",
    "version": 3
   },
   "file_extension": ".py",
   "mimetype": "text/x-python",
   "name": "python",
   "nbconvert_exporter": "python",
   "pygments_lexer": "ipython3",
   "version": "3.13.2"
  }
 },
 "nbformat": 4,
 "nbformat_minor": 5
}
