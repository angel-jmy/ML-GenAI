{
 "cells": [
  {
   "cell_type": "markdown",
   "id": "e4b53732-e626-4e10-b96d-e356cda378f4",
   "metadata": {},
   "source": [
    "# With LangChain Agents"
   ]
  },
  {
   "cell_type": "code",
   "execution_count": 2,
   "id": "75d6a7f4-8cfc-4d1d-8e29-69569a1429d6",
   "metadata": {},
   "outputs": [],
   "source": [
    "from langchain.agents import initialize_agent, Tool\n",
    "from langchain.agents.agent_types import AgentType\n",
    "from langchain.chains.retrieval_qa.base import RetrievalQA\n",
    "from langchain_community.document_loaders import TextLoader\n",
    "from langchain.vectorstores import FAISS\n",
    "from langchain_openai import OpenAIEmbeddings, ChatOpenAI\n",
    "from langchain.text_splitter import CharacterTextSplitter"
   ]
  },
  {
   "cell_type": "code",
   "execution_count": 3,
   "id": "3027270b-1316-43e5-a14a-746d172aa27c",
   "metadata": {},
   "outputs": [],
   "source": [
    "# Step 1: Load and split documents\n",
    "loader = TextLoader(\"The_Complete_Guide_to_Flower_Language.txt\")\n",
    "docs = loader.load()\n",
    "splitter = CharacterTextSplitter(chunk_size=500, chunk_overlap=50)\n",
    "splits = splitter.split_documents(docs)"
   ]
  },
  {
   "cell_type": "code",
   "execution_count": 5,
   "id": "7a879a20-8638-4281-b5c8-8eedd9beaadc",
   "metadata": {},
   "outputs": [],
   "source": [
    "# Step 2: Create retriever\n",
    "from dotenv import load_dotenv\n",
    "load_dotenv()\n",
    "\n",
    "\n",
    "embedding = OpenAIEmbeddings()\n",
    "vectorstore = FAISS.from_documents(splits, embedding)\n",
    "retriever = vectorstore.as_retriever()"
   ]
  },
  {
   "cell_type": "code",
   "execution_count": 9,
   "id": "fddf4d8f-580c-4cbf-936d-74f5871703b6",
   "metadata": {},
   "outputs": [],
   "source": [
    "# Step 3: Create RAG tool (retriever + LLM)\n",
    "llm = ChatOpenAI(temperature=0)\n",
    "rag_chain = RetrievalQA.from_chain_type(llm=llm, retriever=retriever)\n",
    "retrieval_tool = Tool.from_function(\n",
    "    func=rag_chain.run,\n",
    "    name=\"FlowerDocQA\",\n",
    "    description=\"Use this to answer flower-related questions from the guidebook.\"\n",
    ")\n"
   ]
  },
  {
   "cell_type": "code",
   "execution_count": 10,
   "id": "08180ad3-8cfc-41f3-bb40-1b6b03ee7919",
   "metadata": {},
   "outputs": [
    {
     "name": "stderr",
     "output_type": "stream",
     "text": [
      "C:\\Users\\JMY\\AppData\\Local\\Temp\\ipykernel_3124\\2662901114.py:2: LangChainDeprecationWarning: LangChain agents will continue to be supported, but it is recommended for new use cases to be built with LangGraph. LangGraph offers a more flexible and full-featured framework for building agents, including support for tool-calling, persistence of state, and human-in-the-loop workflows. For details, refer to the `LangGraph documentation <https://langchain-ai.github.io/langgraph/>`_ as well as guides for `Migrating from AgentExecutor <https://python.langchain.com/docs/how_to/migrate_agent/>`_ and LangGraph's `Pre-built ReAct agent <https://langchain-ai.github.io/langgraph/how-tos/create-react-agent/>`_.\n",
      "  agent = initialize_agent(\n"
     ]
    }
   ],
   "source": [
    "# Step 4: Initialize agent with the tool\n",
    "agent = initialize_agent(\n",
    "    tools=[retrieval_tool],\n",
    "    llm=llm,\n",
    "    agent=AgentType.ZERO_SHOT_REACT_DESCRIPTION,\n",
    "    verbose=True\n",
    ")\n"
   ]
  },
  {
   "cell_type": "code",
   "execution_count": 12,
   "id": "ec79aca8-fd9b-4c36-909a-b95bb8b378f8",
   "metadata": {},
   "outputs": [
    {
     "name": "stdout",
     "output_type": "stream",
     "text": [
      "\n",
      "\n",
      "\u001b[1m> Entering new AgentExecutor chain...\u001b[0m\n",
      "\u001b[32;1m\u001b[1;3mI should use FlowerDocQA to find out the symbolic meaning of roses and how people typically gift them.\n",
      "Action: FlowerDocQA\n",
      "Action Input: \"What do roses symbolize and how do people usually gift them?\"\u001b[0m\n",
      "Observation: \u001b[36;1m\u001b[1;3mRoses symbolize love. People often gift roses to express their love and affection towards someone special, especially on occasions like Valentine's Day, anniversaries, or to convey romantic feelings.\u001b[0m\n",
      "Thought:\u001b[32;1m\u001b[1;3mI now know the final answer\n",
      "Final Answer: Roses symbolize love, and people usually gift them to express their love and affection towards someone special.\u001b[0m\n",
      "\n",
      "\u001b[1m> Finished chain.\u001b[0m\n"
     ]
    },
    {
     "data": {
      "text/plain": [
       "{'input': 'What do roses symbolize, and how do people usually gift them?',\n",
       " 'output': 'Roses symbolize love, and people usually gift them to express their love and affection towards someone special.'}"
      ]
     },
     "execution_count": 12,
     "metadata": {},
     "output_type": "execute_result"
    }
   ],
   "source": [
    "# Step 5: Ask the agent\n",
    "question = \"What do roses symbolize, and how do people usually gift them?\"\n",
    "agent.invoke(question)"
   ]
  },
  {
   "cell_type": "markdown",
   "id": "5553c9b7-59d9-44f6-a0a7-5deb7bcea893",
   "metadata": {},
   "source": [
    "# With LangGraph Agents"
   ]
  },
  {
   "cell_type": "code",
   "execution_count": 13,
   "id": "fb2531e2-0d5e-479a-b206-99e2a8594b6d",
   "metadata": {},
   "outputs": [],
   "source": [
    "from langgraph.prebuilt import create_react_agent\n",
    "from langgraph.graph import StateGraph\n",
    "from langchain.agents import Tool\n",
    "from langchain.chains import RetrievalQA\n",
    "from langchain_community.document_loaders import TextLoader\n",
    "from langchain.vectorstores import FAISS\n",
    "from langchain_openai import OpenAIEmbeddings, ChatOpenAI\n",
    "from langchain.text_splitter import CharacterTextSplitter\n"
   ]
  },
  {
   "cell_type": "code",
   "execution_count": 14,
   "id": "2cb0259e-60f2-42ac-984d-e6b63a84c0bd",
   "metadata": {},
   "outputs": [],
   "source": [
    "# 1. Load documents and create retriever\n",
    "loader = TextLoader(\"The_Complete_Guide_to_Flower_Language.txt\")\n",
    "docs = loader.load()\n",
    "splitter = CharacterTextSplitter(chunk_size=500, chunk_overlap=50)\n",
    "splits = splitter.split_documents(docs)\n",
    "embedding = OpenAIEmbeddings()\n",
    "vectorstore = FAISS.from_documents(splits, embedding)\n",
    "retriever = vectorstore.as_retriever()"
   ]
  },
  {
   "cell_type": "code",
   "execution_count": 15,
   "id": "727d6b05-9fae-41b3-ad6b-eadf9ab52d90",
   "metadata": {},
   "outputs": [],
   "source": [
    "# 2. Create a RetrievalQA tool\n",
    "llm = ChatOpenAI(temperature=0)\n",
    "rag_chain = RetrievalQA.from_chain_type(llm=llm, retriever=retriever)\n",
    "tool = Tool.from_function(\n",
    "    func=rag_chain.run,\n",
    "    name=\"FlowerDocQA\",\n",
    "    description=\"Use this to answer flower-related questions from the guidebook.\"\n",
    ")"
   ]
  },
  {
   "cell_type": "code",
   "execution_count": 34,
   "id": "12daec3f-51ea-4430-865f-8ffd75ff94b8",
   "metadata": {},
   "outputs": [],
   "source": [
    "agent_node = create_react_agent(\n",
    "    model=llm,\n",
    "    tools=tools\n",
    ")"
   ]
  },
  {
   "cell_type": "code",
   "execution_count": 35,
   "id": "43ac3a25-7a8a-4c77-89f4-366574e1e053",
   "metadata": {},
   "outputs": [
    {
     "data": {
      "image/png": "[encoded data removed]",
      "text/plain": [
       "<IPython.core.display.Image object>"
      ]
     },
     "metadata": {},
     "output_type": "display_data"
    }
   ],
   "source": [
    "# 4. Define the graph\n",
    "from typing import TypedDict, List\n",
    "from langchain_core.messages import BaseMessage\n",
    "\n",
    "class AgentState(TypedDict):\n",
    "    messages: List[BaseMessage]  # required for LangGraph ReAct agent\n",
    "\n",
    "\n",
    "graph = StateGraph(AgentState)\n",
    "graph.add_node(\"agent\", agent_node)\n",
    "graph.set_entry_point(\"agent\")\n",
    "\n",
    "\n",
    "app = graph.compile()\n",
    "\n",
    "from IPython.display import Image, display\n",
    "display(Image(app.get_graph().draw_mermaid_png()))\n"
   ]
  },
  {
   "cell_type": "code",
   "execution_count": null,
   "id": "9caa5eca-c81f-4c7c-a278-13b794e4e9de",
   "metadata": {},
   "outputs": [],
   "source": []
  },
  {
   "cell_type": "code",
   "execution_count": 39,
   "id": "e45bea3a-9e30-4e71-ad72-4d94e467de3f",
   "metadata": {
    "scrolled": true
   },
   "outputs": [
    {
     "name": "stdout",
     "output_type": "stream",
     "text": [
      "Roses symbolize love, friendship, and joy. Red roses symbolize love, while yellow roses symbolize friendship and joy.\n"
     ]
    }
   ],
   "source": [
    "from langchain_core.messages import HumanMessage\n",
    "\n",
    "response = app.invoke({\n",
    "    \"messages\": [HumanMessage(content=\"What do roses symbolize?\")]\n",
    "})\n",
    "\n",
    "print(response[\"messages\"][-1].content)\n",
    "\n",
    "# from langchain_core.messages import AIMessage\n",
    "\n",
    "# response = app.invoke({\n",
    "#     \"messages\": [HumanMessage(content=\"What do roses symbolize and how are they typically gifted?\")]\n",
    "# })\n",
    "\n",
    "# # Extract reasoning steps\n",
    "# for msg in response[\"messages\"]:\n",
    "#     if isinstance(msg, AIMessage):\n",
    "#         print(msg.content)"
   ]
  },
  {
   "cell_type": "code",
   "execution_count": null,
   "id": "9e54ab94-151e-47ca-8a0a-ed03c0da2008",
   "metadata": {},
   "outputs": [],
   "source": []
  },
  {
   "cell_type": "code",
   "execution_count": null,
   "id": "0c9995f8-80f8-46f8-83d5-84665dac1a84",
   "metadata": {},
   "outputs": [],
   "source": []
  },
  {
   "cell_type": "code",
   "execution_count": null,
   "id": "c7022ba8-a613-4ef1-91ce-fbaa283fd9e5",
   "metadata": {},
   "outputs": [],
   "source": []
  },
  {
   "cell_type": "code",
   "execution_count": null,
   "id": "51330398-9b76-43dc-a798-0802e1885e40",
   "metadata": {},
   "outputs": [],
   "source": []
  }
 ],
 "metadata": {
  "kernelspec": {
   "display_name": "Python 3 (ipykernel)",
   "language": "python",
   "name": "python3"
  },
  "language_info": {
   "codemirror_mode": {
    "name": "ipython",
    "version": 3
   },
   "file_extension": ".py",
   "mimetype": "text/x-python",
   "name": "python",
   "nbconvert_exporter": "python",
   "pygments_lexer": "ipython3",
   "version": "3.13.2"
  }
 },
 "nbformat": 4,
 "nbformat_minor": 5
}
