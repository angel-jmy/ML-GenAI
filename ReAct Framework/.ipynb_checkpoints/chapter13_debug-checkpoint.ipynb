{
 "cells": [
  {
   "cell_type": "markdown",
   "id": "5510e7a0-141d-4dc1-a3cf-ad9e38a37a63",
   "metadata": {},
   "source": [
    "# ReAct Framework\n",
    "\n",
    "\n",
    "Chain-of-Thought (CoT) -- External Tools  \n",
    "\n",
    "Agents:  \n",
    "ReAct framework  \n",
    "\n",
    "EXTERNAL Tools  \n",
    "LangChain Agent: three components:  \n",
    "- LLM (Large Language Model) / Language Model  \n",
    "- External tools interacting with it  \n",
    "- Agent controlling the interacting\n"
   ]
  },
  {
   "cell_type": "code",
   "execution_count": null,
   "id": "98eb5568-8e2d-483c-869e-01a502187ec8",
   "metadata": {},
   "outputs": [],
   "source": []
  },
  {
   "cell_type": "markdown",
   "id": "35549486-d887-4984-86f1-916cb108e9cc",
   "metadata": {},
   "source": [
    "ReAct framework: intelligent agent  \n",
    "Task: In the process of operating a flower shop, one often experiences changes in the flower prices due to weather fluctuations.  So, how would you set the prices for your flowers every morning?\n",
    "\n",
    "price-setting process:  \n",
    "1. search for prices **(Action)** \n",
    "2. -> market value **(Observe)** \n",
    "3. -> price **(Thinking)** \n",
    "4. -> determine the selling price **(Action)**\n",
    "\n",
    "\n",
    "observe -> thinking -> action  \n",
    "Reasoning -> action -> ReAct  \n",
    "React\n"
   ]
  },
  {
   "cell_type": "markdown",
   "id": "e48d1c84-9648-4491-b52c-1ccaf4afa36e",
   "metadata": {},
   "source": [
    "***See this paper for reference:***\n",
    "\n",
    "- [ReAct: synthesizing reasoning and acting in language models](https://arxiv.org/pdf/2210.03629)\n",
    "\n",
    "- [Check here online as well.](https://react-lm.github.io/)\n",
    "\n",
    "- [Also check this agent.py as a reference.](https://github.com/langchain-ai/langchain/blob/master/libs/langchain/langchain/agents/agent.py)\n",
    "\n",
    "- **Homework:** [Transitioning from AgentExecutor to LangGraph](https://python.langchain.com/docs/concepts/agents/#transitioning-from-agentexecutor-to-langgraph)"
   ]
  },
  {
   "cell_type": "code",
   "execution_count": null,
   "id": "977bf982-5311-4d9c-a90a-30bd17cd97dd",
   "metadata": {},
   "outputs": [],
   "source": []
  },
  {
   "cell_type": "markdown",
   "id": "b782fe85-1594-4110-ae46-e60812addb7e",
   "metadata": {},
   "source": [
    " ReAct -> Autonomy -> Intelligent Agent React"
   ]
  },
  {
   "cell_type": "code",
   "execution_count": null,
   "id": "d54d39ca-bb7e-4042-b368-5efbeececbc6",
   "metadata": {},
   "outputs": [],
   "source": [
    "# task: In the process of operating a flower shop, one often experiences changes in the flower prices due to weather fluctuations.\n",
    "# So, how would you set the prices for your flowers every morning?\n",
    "'''\n",
    "Find the current market price of rose and then calculate the new price after adding a 15% markup.\n",
    "'''\n",
    "# SERPAPI_API_KEY .env : pip install google-search-results\n",
    "# TAVILY"
   ]
  },
  {
   "cell_type": "code",
   "execution_count": null,
   "id": "2c40e516-c1f5-44cf-9d70-65d07603a48f",
   "metadata": {},
   "outputs": [],
   "source": []
  },
  {
   "cell_type": "code",
   "execution_count": 5,
   "id": "0afb8659-9a56-429a-bcf9-9142491632bc",
   "metadata": {},
   "outputs": [
    {
     "data": {
      "text/plain": [
       "True"
      ]
     },
     "execution_count": 5,
     "metadata": {},
     "output_type": "execute_result"
    }
   ],
   "source": [
    "from dotenv import load_dotenv\n",
    "\n",
    "load_dotenv()\n"
   ]
  },
  {
   "cell_type": "code",
   "execution_count": 6,
   "id": "e5d0651f-78d7-465b-8964-b74af353049b",
   "metadata": {},
   "outputs": [],
   "source": [
    "from langchain.agents import AgentType, create_react_agent, load_tools, initialize_agent\n",
    "from langchain_openai import OpenAI\n",
    "\n",
    "llm = OpenAI(temperature=0)\n"
   ]
  },
  {
   "cell_type": "code",
   "execution_count": 8,
   "id": "916f21c6-5358-411a-82b4-70818e231cc5",
   "metadata": {},
   "outputs": [],
   "source": [
    "tools = load_tools([\"serpapi\", \"llm-math\"], llm=llm)\n"
   ]
  },
  {
   "cell_type": "code",
   "execution_count": null,
   "id": "fff68c99-edde-4e90-b904-fb7576f74cfc",
   "metadata": {},
   "outputs": [],
   "source": []
  },
  {
   "cell_type": "code",
   "execution_count": 10,
   "id": "5d2b41ca-77fc-4692-bf7c-0e6ac9f3b898",
   "metadata": {},
   "outputs": [
    {
     "name": "stdout",
     "output_type": "stream",
     "text": [
      "\n",
      "\n",
      "\u001b[1m> Entering new AgentExecutor chain...\u001b[0m\n",
      "\u001b[32;1m\u001b[1;3m I should use the search engine to find the current market price of rose.\n",
      "Action: Search\n",
      "Action Input: \"current market price of rose\"\u001b[0m\n",
      "Observation: \u001b[36;1m\u001b[1;3m['The live Oasis price today is $0.03295 USD with a 24-hour trading volume of $13741448.30 USD. We update our ROSE to USD price in real-time.', 'ROSE is currently trading at $0.0336. Oasis Network has seen a 1% increase from its 24-hour price of $0.03, and is -2% down from its week-ago value of $0.03.', 'The current price of Oasis (ROSE) today is 0.03453 USD with a current market cap of $ 243.92M USD. ROSE to USD price is updated in real-time. ... Get real-time ...', 'Price of ROSE today. The current live price of ROSE today is ₹2.83, with a 24-hour trading volume of ₹1,15,55,47,955.23.', 'The live price of Oasis Network is $0.03275 per ROSE/USD, with a current market cap of $241,766,929.039205 USD. The 24-hour trading volume is $252,362,171.7 USD ...', 'The price of Oasis (ROSE) is $0.03273 today with a 24-hour trading volume of $10,745,183. This represents a -2.75% price decline in the last ...', 'Looking to buy ROSE Stock? Get the latest ROSE quote, news, earnings, forecast, price targets, and market insights. Start investing on Public.com.', 'Current price: $36.99$3699. Premium Long Stem Roses (Color Selection Varies). 18 ct ... Product information or packaging displayed may not be current or complete.', 'The current price of ROSE / TetherUS (ROSE) is 0.03141 USDT — it has fallen −2.67% in the past 24 hours. Try placing this info into the context by checking out ...', '12 Count (Pack of 1). $48.98 ; 25 Red Roses. $60.98 ; 50 Red Roses. $67.98 ; 100 Red Roses. $93.98 ; 150 Red Roses. $196.98 ...']\u001b[0m\n",
      "Thought:\u001b[32;1m\u001b[1;3m I should use the calculator to calculate the 15% markup from the current market price.\n",
      "Action: Calculator\n",
      "Action Input: 0.03295 * 1.15\u001b[0m\n",
      "Observation: \u001b[33;1m\u001b[1;3mAnswer: 0.037892499999999996\u001b[0m\n",
      "Thought:\u001b[32;1m\u001b[1;3m I now know the final answer.\n",
      "Final Answer: The current market price of rose is $0.03295 USD and a 15% markup would be $0.037892499999999996 USD.\u001b[0m\n",
      "\n",
      "\u001b[1m> Finished chain.\u001b[0m\n"
     ]
    },
    {
     "data": {
      "text/plain": [
       "{'input': 'What is the current market price of rose? How should I price them if I want to mark them up by 15% from this price?',\n",
       " 'output': 'The current market price of rose is $0.03295 USD and a 15% markup would be $0.037892499999999996 USD.'}"
      ]
     },
     "execution_count": 10,
     "metadata": {},
     "output_type": "execute_result"
    }
   ],
   "source": [
    "agent = initialize_agent(tools, llm, agent=AgentType.ZERO_SHOT_REACT_DESCRIPTION, verbose=True)\n",
    "\n",
    "agent.invoke(\"What is the current market price of rose? How should I price them if I want to mark them up by 15% from this price?\")\n"
   ]
  },
  {
   "cell_type": "markdown",
   "id": "fa721cf9-3a40-414e-8266-4cbb8e9d7fe0",
   "metadata": {},
   "source": [
    "> Entering new AgentExecutor chain...\n",
    "\n",
    "  I should search for the current market price of rose and then use a calculator to calculate the 15% markup.\n",
    "-> Action: Search  \n",
    "-> Action Input: \"current market price of rose\"  \n",
    "-> Observation: The price of Oasis Network (ROSE) is $0.05925 today with a 24-hour trading volume of $13,027,888. This represents a -7.38% price decline in the last 24 hours and a 5.07% price increase in the past 7 days.  \n",
    "-> Thought: Now I should use a calculator to calculate the 15% markup.  \n",
    "-> Action: Calculator  \n",
    "-> Action Input: 0.05925 * 1.15  \n",
    "-> Observation: Answer: 0.06813749999999999  \n",
    "-> Thought: I now know the final answer.  \n",
    "-> Final Answer: The final price to mark up the roses by 15% would be $0.06813749999999999.\n",
    "\n",
    "> Finished chain.\n"
   ]
  },
  {
   "cell_type": "code",
   "execution_count": null,
   "id": "d618bb29-8a76-4292-bf5c-4fe633cbb128",
   "metadata": {},
   "outputs": [],
   "source": []
  },
  {
   "cell_type": "code",
   "execution_count": null,
   "id": "cfc5664e-fe38-4a77-b7c3-94f52c15c335",
   "metadata": {},
   "outputs": [],
   "source": [
    "#core differences between agents and chains in LangChain?\n"
   ]
  },
  {
   "cell_type": "code",
   "execution_count": null,
   "id": "b0fe7e7d-b1d7-405b-8466-61a55410f897",
   "metadata": {},
   "outputs": [],
   "source": []
  },
  {
   "cell_type": "code",
   "execution_count": null,
   "id": "7fb8b6f9-264c-4037-9b36-a2b1d294b26a",
   "metadata": {},
   "outputs": [],
   "source": []
  },
  {
   "cell_type": "markdown",
   "id": "557ed8e6-e22e-400d-bb03-3f2fa42fedf3",
   "metadata": {},
   "source": [
    "Tool calling Agent Toolformer  \n",
    "ReAct COT+TOOL  \n",
    "StructuredTool  \n",
    "ChatPromptTemplates  \n",
    "AgentExecutor Planning + Reasoning Agent AutoGPT BabyAGI\n"
   ]
  },
  {
   "cell_type": "code",
   "execution_count": 13,
   "id": "f58e5fb1-07d0-4092-b71a-5d972927de78",
   "metadata": {},
   "outputs": [
    {
     "name": "stdout",
     "output_type": "stream",
     "text": [
      "\n",
      "\n",
      "\u001b[1m> Entering new AgentExecutor chain...\u001b[0m\n",
      "\u001b[32;1m\u001b[1;3m\n",
      "Invoking: `Search` with `{'query': 'current market price of rose'}`\n",
      "\n",
      "\n",
      "\u001b[0m\u001b[36;1m\u001b[1;3m['The live Oasis price today is $0.03295 USD with a 24-hour trading volume of $13741448.30 USD. We update our ROSE to USD price in real-time.', 'ROSE is currently trading at $0.0336. Oasis Network has seen a 1% increase from its 24-hour price of $0.03, and is -2% down from its week-ago value of $0.03.', 'The current price of Oasis (ROSE) today is 0.03453 USD with a current market cap of $ 243.92M USD. ROSE to USD price is updated in real-time. ... Get real-time ...', 'Price of ROSE today. The current live price of ROSE today is ₹2.83, with a 24-hour trading volume of ₹1,15,55,47,955.23.', 'The live price of Oasis Network is $0.03275 per ROSE/USD, with a current market cap of $241,766,929.039205 USD. The 24-hour trading volume is $252,362,171.7 USD ...', 'The price of Oasis (ROSE) is $0.03273 today with a 24-hour trading volume of $10,745,183. This represents a -2.75% price decline in the last ...', 'Looking to buy ROSE Stock? Get the latest ROSE quote, news, earnings, forecast, price targets, and market insights. Start investing on Public.com.', 'Current price: $36.99$3699. Premium Long Stem Roses (Color Selection Varies). 18 ct ... Product information or packaging displayed may not be current or complete.', 'The current price of ROSE / TetherUS (ROSE) is 0.03141 USDT — it has fallen −2.67% in the past 24 hours. Try placing this info into the context by checking out ...', '12 Count (Pack of 1). $48.98 ; 25 Red Roses. $60.98 ; 50 Red Roses. $67.98 ; 100 Red Roses. $93.98 ; 150 Red Roses. $196.98 ...']\u001b[0m\u001b[32;1m\u001b[1;3m\n",
      "Invoking: `calculator` with `{'expression': '0.03295 * 1.15'}`\n",
      "\n",
      "\n",
      "\u001b[0m\u001b[33;1m\u001b[1;3m0.037892499999999996\u001b[0m\u001b[32;1m\u001b[1;3mThe current market price of Oasis (ROSE) is approximately $0.03295 USD. If you want to mark them up by 15%, you should price them at approximately $0.03789 USD.\u001b[0m\n",
      "\n",
      "\u001b[1m> Finished chain.\u001b[0m\n"
     ]
    },
    {
     "data": {
      "text/plain": [
       "{'input': 'What is the current market price of rose? How should I price them if I want to mark them up by 15% from this price?',\n",
       " 'output': 'The current market price of Oasis (ROSE) is approximately $0.03295 USD. If you want to mark them up by 15%, you should price them at approximately $0.03789 USD.'}"
      ]
     },
     "execution_count": 13,
     "metadata": {},
     "output_type": "execute_result"
    }
   ],
   "source": [
    "from dotenv import load_dotenv\n",
    "\n",
    "load_dotenv()\n",
    "\n",
    "from langchain_core.prompts import ChatPromptTemplate\n",
    "from langchain.agents import AgentExecutor, create_tool_calling_agent\n",
    "from langchain_openai import ChatOpenAI\n",
    "from langchain.agents import load_tools\n",
    "from langchain_core.tools import StructuredTool, tool\n",
    "\n",
    "\n",
    "llm = ChatOpenAI(model=\"gpt-4o\", temperature=0)\n",
    "\n",
    "@tool\n",
    "def calculator(expression: str) -> float:\n",
    "    \"\"\"Calculate a mathematical expression (e.g., '2 + 3 * 4') and return the result.\"\"\"\n",
    "    \n",
    "    return eval(expression)\n",
    "\n",
    "raw_tools = load_tools([\"serpapi\"], llm=llm)\n",
    "raw_tools.append(calculator)\n",
    "\n",
    "tools = [\n",
    "    StructuredTool.from_function(tool.func, \n",
    "                                 name=tool.name, \n",
    "                                 description=tool.description)\n",
    "    for tool in raw_tools\n",
    "]\n",
    "\n",
    "\n",
    "prompt = ChatPromptTemplate.from_messages([\n",
    "    (\"system\", \"You are a helpful assistant.\"),\n",
    "    (\"human\", \"{input}\"),\n",
    "    (\"placeholder\", \"{agent_scratchpad}\")\n",
    "])\n",
    "\n",
    "agent = create_tool_calling_agent(llm, tools, prompt)\n",
    "agent_executor = AgentExecutor(agent=agent, tools=tools, verbose=True)\n",
    "\n",
    "agent_executor.invoke({\n",
    "    \"input\": \"What is the current market price of rose? How should I price them if I want to mark them up by 15% from this price?\"\n",
    "})\n"
   ]
  },
  {
   "cell_type": "code",
   "execution_count": null,
   "id": "e9b29bd1-ac4f-4dd3-825c-550c0211592c",
   "metadata": {},
   "outputs": [],
   "source": []
  },
  {
   "cell_type": "code",
   "execution_count": null,
   "id": "ae1dcde0-3928-4d83-b54e-62bfe9b8d1c0",
   "metadata": {},
   "outputs": [],
   "source": []
  },
  {
   "cell_type": "code",
   "execution_count": 1,
   "id": "20a6199e-ecc5-44ec-9452-1e69581bb0cd",
   "metadata": {},
   "outputs": [],
   "source": [
    "# TAVILY"
   ]
  },
  {
   "cell_type": "markdown",
   "id": "0c693d4d-574a-41c6-aed5-e9dbaae66b19",
   "metadata": {},
   "source": [
    "\n",
    "[Build an Agent with AgentExecutor](https://python.langchain.com/docs/how_to/agent_executor/)\n",
    "\n",
    "TAVILY\n",
    "\n",
    "[LangChain Smith](https://smith.langchain.com)\n",
    "\n",
    "[How to migrate from legacy LangChain agents to LangGraph](https://python.langchain.com/docs/how_to/migrate_agent/)"
   ]
  },
  {
   "cell_type": "markdown",
   "id": "3875d594-a985-4f89-903b-c3d935a195e4",
   "metadata": {},
   "source": [
    "[\n",
    "  {\n",
    "    'url': 'https://www.weatherapi.com/',\n",
    "    'content': '{\"location\": {\"name\": \"San Francisco\", \"region\": \"California\", \"country\": \"United States of America\", \"lat\": 37.79, \"lon\": -122.42, \"tz_id\": \"America/Los_Angeles\", \"localtime_epoch\": 1714000492, \"localtime\": \"2024-04-24 16:14\"}, \"current\": {\"last_updated_epoch\": 1713999600, \"last_updated\": \"2024-04-24 16:00\", \"temp_c\": 15.6, \"temp_f\": 60.1, \"is_day\": 1, \"condition\": {\"text\": \"Overcast\", \"icon\": \"//cdn.weatherapi.com/weather/64x64/day/122.png\", \"code\": 1009}, \"wind_mph\": 10.5, \"wind_kph\": 16.9, \"wind_degree\": 330, \"wind_dir\": \"NNW\", \"pressure_mb\": 1018.0, \"pressure_in\": 30.06, \"precip_mm\": 0.0, \"precip_in\": 0.0, \"humidity\": 72, \"cloud\": 100, \"feelslike_c\": 15.6, \"feelslike_f\": 60.1, \"vis_km\": 16.0, \"vis_miles\": 9.0, \"uv\": 5.0, \"gust_mph\": 14.8, \"gust_kph\": 23.8}}'\n",
    "  },\n",
    "  {\n",
    "    'url': 'https://www.weathertab.com/en/c/e/04/united-states/california/san-francisco/',\n",
    "    'content': 'San Francisco Weather Forecast for Apr 2024 - Risk of Rain Graph. Rain Risk Graph: Monthly Overview. Bar heights indicate rain risk percentages. Yellow bars mark low-risk days, while black and grey bars signal higher risks. Grey-yellow bars act as buffers, advising to keep at least one day clear from the riskier grey and black days, guiding ...'\n",
    "  }\n",
    "]\n"
   ]
  },
  {
   "cell_type": "code",
   "execution_count": null,
   "id": "6cd42c3b-e156-4e15-9a90-d8500d9fde14",
   "metadata": {},
   "outputs": [],
   "source": []
  }
 ],
 "metadata": {
  "kernelspec": {
   "display_name": "Python 3 (ipykernel)",
   "language": "python",
   "name": "python3"
  },
  "language_info": {
   "codemirror_mode": {
    "name": "ipython",
    "version": 3
   },
   "file_extension": ".py",
   "mimetype": "text/x-python",
   "name": "python",
   "nbconvert_exporter": "python",
   "pygments_lexer": "ipython3",
   "version": "3.13.2"
  }
 },
 "nbformat": 4,
 "nbformat_minor": 5
}
