{
 "cells": [
  {
   "cell_type": "markdown",
   "metadata": {},
   "source": [
    "# LangChain  Chain   :Preset chain:\n",
    "LCEL LangGraph\n",
    "\n",
    "Here are some guidelines:\n",
    "\n",
    "If you are making a single LLM call, you don't need LCEL; instead call the underlying chat model directly.\n",
    "If you have a simple chain (e.g., prompt + llm + parser, simple retrieval set up etc.), LCEL is a reasonable fit, if you're taking advantage of the LCEL benefits.\n",
    "If you're building a complex chain (e.g., with branching, cycles, multiple agents, etc.) use LangGraph instead. Remember that you can always use LCEL within individual nodes in LangGraph.\n",
    "\n",
    "Simple Chain = = Model I/O(prompt + llm + parser) ->LCEL\n",
    "Complex Chain = LangGraph\n",
    "\n",
    "preset chain:\n",
    "LLMChain\n",
    "SequentialChain\n",
    "RouterChain\n",
    "APIChain,LLMMathChain,RetrievalQA.....\n"
   ]
  },
  {
   "cell_type": "markdown",
   "metadata": {},
   "source": [
    "## LLMChain:The simplest Chain"
   ]
  },
  {
   "cell_type": "code",
   "execution_count": 2,
   "metadata": {},
   "outputs": [
    {
     "data": {
      "text/plain": [
       "True"
      ]
     },
     "execution_count": 2,
     "metadata": {},
     "output_type": "execute_result"
    }
   ],
   "source": [
    "from dotenv import load_dotenv\n",
    "load_dotenv()"
   ]
  },
  {
   "cell_type": "code",
   "execution_count": null,
   "metadata": {},
   "outputs": [],
   "source": [
    "from langchain.prompts import PromptTemplate\n",
    "\n",
    "template = \"{flower}'s floral language?\"\n",
    "\n",
    "prompt_temp = PromptTemplate.from_template(template)\n",
    "\n",
    "prompt = prompt_temp.format(flower='Rose')\n",
    "\n",
    "print(prompt)"
   ]
  },
  {
   "cell_type": "code",
   "execution_count": null,
   "metadata": {},
   "outputs": [],
   "source": [
    "from langchain_openai import OpenAI\n",
    "\n",
    "model = OpenAI(temperature=0)\n",
    "\n",
    "result = model(prompt)\n",
    "\n",
    "print(result)"
   ]
  },
  {
   "cell_type": "markdown",
   "metadata": {},
   "source": [
    "Rose's floral language is often associated with love, passion, and romance. Different colors of roses can also convey different meanings, such as red for love and desire, pink for gratitude and appreciation, and yellow for friendship and joy.\n"
   ]
  },
  {
   "cell_type": "code",
   "execution_count": null,
   "metadata": {},
   "outputs": [],
   "source": [
    "#chain\n",
    "from langchain.chains import LLMChain\n",
    "\n",
    "template = \"{flower}'s floral language?\"\n",
    "llm = OpenAI(temperature=0)\n",
    "\n",
    "llm_chain = LLMChain(llm=llm,prompt=PromptTemplate.from_template(template))\n",
    "\n",
    "print(llm_chain('Rose'))\n"
   ]
  },
  {
   "cell_type": "markdown",
   "metadata": {},
   "source": [
    "{'flower': 'Rose', 'text': \"\\n\\nRose's floral language is often associated with love, passion, and romance. Different colors of roses can also convey different meanings, such as red for love and desire, pink for gratitude and appreciation, and yellow for friendship and joy.\"}\n"
   ]
  },
  {
   "cell_type": "code",
   "execution_count": null,
   "metadata": {},
   "outputs": [],
   "source": [
    "#LCEL\n",
    "from langchain_openai import ChatOpenAI\n",
    "from langchain_core.prompts import ChatPromptTemplate\n",
    "from langchain_core.output_parsers import StrOutputParser\n",
    "\n",
    "llm = ChatOpenAI(model=\"gpt-4o-mini\", temperature=0)\n",
    "\n",
    "template = \"{flower}'s floral language?\"\n",
    "flower_prompt = ChatPromptTemplate.from_messages([\n",
    "    (\"human\", template)\n",
    "])\n",
    "\n",
    "chain = flower_prompt | llm | StrOutputParser()\n",
    "\n",
    "chain.invoke({\"flower\": \"Rose\"})\n"
   ]
  },
  {
   "cell_type": "markdown",
   "metadata": {},
   "source": [
    "'The language of flowers, or \"floriography,\" assigns specific meanings to different flowers, and roses are among the most significant in this symbolic language. Here are some common meanings associated with various colors of roses:\\n\\n1. **Red Roses**: Love and passion. They are often given on romantic occasions, such as Valentine\\'s Day or anniversaries.\\n\\n2. **White Roses**: Purity, innocence, and new beginnings. They are often used in weddings and symbolize a fresh start.\\n\\n3. **Yellow Roses**: Friendship and joy. They convey warmth and happiness, making them suitable for platonic relationships.\\n\\n4. **Pink Roses**: Gratitude, grace, and admiration. Lighter shades can symbolize sweetness, while darker shades can represent appreciation.\\n\\n5. **Orange Roses**: Enthusiasm and desire. They convey a sense of excitement and energy.\\n\\n6. **Lavender Roses**: Enchantment and love at first sight. They symbolize a sense of wonder and admiration.\\n\\n7. **Black Roses**: Often associated with mourning or the end of something, such as a relationship or a phase in life.\\n\\n8. **Blue Roses**: Mystery and the unattainable. Since blue roses do not naturally occur, they symbolize something that is desired but cannot be achieved.\\n\\nThese meanings can vary by culture and context, but they provide a general framework for understanding the sentiments conveyed through the gift of roses.'"
   ]
  },
  {
   "cell_type": "code",
   "execution_count": null,
   "metadata": {},
   "outputs": [],
   "source": [
    "from langchain_core.runnables import RunnablePassthrough\n",
    "\n",
    "outer_chain = RunnablePassthrough().assign(text=chain)\n",
    "\n",
    "outer_chain.invoke({\"flower\": \"Rose\"})"
   ]
  },
  {
   "cell_type": "markdown",
   "metadata": {},
   "source": [
    "{'flower': 'Rose',\n",
    " 'text': 'The language of flowers, or \"floriography,\" assigns specific meanings to different flowers, and roses are among the most significant in this symbolic language. Here are some common meanings associated with various colors of roses:\\n\\n1. **Red Roses**: Love and passion. They are often given on romantic occasions, such as Valentine\\'s Day or anniversaries.\\n\\n2. **White Roses**: Purity, innocence, and new beginnings. They are often used in weddings and symbolize a fresh start.\\n\\n3. **Yellow Roses**: Friendship and joy. They convey warmth and happiness, making them suitable for platonic relationships.\\n\\n4. **Pink Roses**: Gratitude, grace, and admiration. Lighter shades often represent sweetness, while deeper pinks can signify appreciation.\\n\\n5. **Orange Roses**: Enthusiasm and desire. They express a sense of fascination and energy.\\n\\n6. **Lavender Roses**: Enchantment and love at first sight. They convey a sense of magic and admiration.\\n\\n7. **Black Roses**: Mourning or farewell. They can symbolize the end of something, such as a relationship or a life.\\n\\n8. **Blue Roses**: Mystery and the unattainable. Since blue roses do not naturally occur, they often represent something elusive.\\n\\nThese meanings can vary by culture and context, but they provide a general framework for understanding the sentiments associated with roses in the language of flowers.'}"
   ]
  },
  {
   "cell_type": "code",
   "execution_count": null,
   "metadata": {},
   "outputs": [],
   "source": [
    "## SequentialChain\n",
    "\"\"\"\n",
    "Our goal is as follows:\n",
    "step 1: we assume that the large model is a botanist,asking it to provide knowledge and introductions for a specific type of flower.\n",
    "step 2: we assume that the large model is a flower reviewer,asking it to reference the text output from the botanist above and provide comments on the flower.\n",
    "step 3: we assume that the large model is the social media manager for Flowers,asking it to reference the text output from both the botanist and the flower reviewer above to write a flower marketing copy.\n",
    "\n",
    "TASK chain:\n",
    "flower introductions\n",
    "review\n",
    "social media Post\n",
    "\n",
    "\"\"\""
   ]
  },
  {
   "cell_type": "code",
   "execution_count": null,
   "metadata": {},
   "outputs": [],
   "source": [
    "from langchain.chains import SequentialChain\n",
    "from langchain.chains import LLMChain\n",
    "from langchain_openai import ChatOpenAI\n",
    "from langchain_core.prompts import ChatPromptTemplate\n",
    "from langchain_core.output_parsers import StrOutputParser\n",
    "from langchain.prompts import PromptTemplate\n",
    "\n",
    "llm = ChatOpenAI(model=\"gpt-4o-mini\", temperature=0)\n",
    "#LLMChain\n",
    "template = \"\"\"\n",
    "You are botanist.Given the name and type of a flower,you need to write an introduction of about 200 words for this flower.\n",
    "\n",
    "Name:{name}\n",
    "Color:{color}\n",
    "Botanist:Here is the introduction of the above flower:\n",
    "\"\"\"\n",
    "prompt_template = PromptTemplate(input_variables=[\"name\",\"color\"],template=template)\n",
    "introduction_chain = LLMChain(llm=llm,prompt=prompt_template,output_key=\"introduction\")\n",
    "\n",
    "\n",
    "template = \"\"\"\n",
    "You are critic.Given an introduction of a flower,you need to write a review of about 200 words for this flower.\n",
    "\n",
    "Flower introduction:\n",
    "{introduction}\n",
    "The flower critic's review of the above flower:\n",
    "\"\"\"\n",
    "prompt_template = PromptTemplate(input_variables=[\"introduction\"],template=template)\n",
    "review_chain = LLMChain(llm=llm,prompt=prompt_template,output_key=\"review\")\n",
    "\n",
    "\n",
    "template = \"\"\"\n",
    "You are a social media manager for a flower shop.Given an introduction and review of a flower,you need to write a social medial media post of about 300 words for this flower.\n",
    "\n",
    "The flower critic's review of the above flower:\n",
    "{review}\n",
    "\n",
    "Social Media Post:\n",
    "\"\"\"\n",
    "prompt_template = PromptTemplate(input_variables=[\"review\"],template=template)\n",
    "social_post_chain = LLMChain(llm=llm,prompt=prompt_template,output_key=\"social_post\")\n"
   ]
  },
  {
   "cell_type": "code",
   "execution_count": null,
   "metadata": {},
   "outputs": [],
   "source": [
    "overall_chain = SequentialChain(\n",
    "    chains=[introduction_chain,review_chain,social_post_chain],\n",
    "    input_variables=[\"name\",\"color\"],\n",
    "    output_variables=[\"introduction\",\"review\",\"social_post\"],\n",
    "    verbose=True\n",
    ")\n",
    "\n",
    "result = overall_chain({\"name\":\"Rose\",\"color\":\"black\"})\n",
    "print(result)"
   ]
  },
  {
   "cell_type": "markdown",
   "metadata": {},
   "source": [
    "\n",
    "\u001b[1m> Entering new SequentialChain chain...\u001b[0m\n",
    "\n",
    "\u001b[1m> Finished chain.\u001b[0m\n",
    "{'name': 'Rose', 'color': 'black', \n",
    "\n",
    "'introduction': \"The black rose, often shrouded in mystery and intrigue, is a captivating flower that has captured the imagination of many throughout history. While true black roses do not exist in nature, the deep, dark hues of certain varieties, such as the 'Black Baccara' or 'Black Magic,' create an illusion of blackness, showcasing rich, velvety petals that appear almost ebony under certain lighting conditions. These roses are often associated with themes of rebirth, elegance, and the enigmatic nature of love, making them a popular choice for special occasions and artistic expressions.\\n\\nIn the realm of symbolism, black roses can convey a range of meanings, from the end of a relationship to the celebration of new beginnings. They are frequently used in literature and art to represent the duality of beauty and darkness, evoking a sense of passion and intensity. Cultivated primarily in temperate climates, black roses thrive in well-drained soil and require ample sunlight to flourish. Their striking appearance and unique color make them a sought-after addition to gardens and floral arrangements, appealing to those who appreciate the unconventional and the extraordinary in the world of botany.\", \n",
    "\n",
    "'review': \"The black rose, with its enigmatic allure, stands as a testament to the beauty found in darkness. While true black roses are a myth, varieties like 'Black Baccara' and 'Black Magic' offer a stunning visual experience with their deep, velvety petals that flirt with the idea of true blackness. This flower transcends mere aesthetics; it embodies a rich tapestry of symbolism that resonates deeply with those who encounter it. \\n\\nIn the realm of floral arrangements, the black rose is a bold statement piece, often evoking a sense of mystery and sophistication. Its association with themes of rebirth and the complexities of love adds layers of meaning, making it a compelling choice for both joyous celebrations and somber farewells. The duality of beauty and darkness that the black rose represents is a powerful reminder of the intricate nature of human emotions.\\n\\nCultivating these roses requires a bit of care, as they thrive in well-drained soil and need ample sunlight. However, the effort is well worth it for those who appreciate the unconventional. In a world where traditional blooms often dominate, the black rose stands out as a striking symbol of individuality and depth, making it a must-have for any garden or floral enthusiast seeking to embrace the extraordinary.\", \n",
    "\n",
    "'social_post': \"🌹✨ Embrace the Enigma of the Black Rose! ✨🌹\\n\\nAt [Your Flower Shop Name], we believe that every flower tells a story, and the black rose is one of the most captivating tales in the floral world. While true black roses may be a myth, varieties like 'Black Baccara' and 'Black Magic' bring a stunning visual experience that flirts with the idea of true darkness. Their deep, velvety petals create an alluring contrast that is simply irresistible! \\n\\nBut the black rose is more than just a pretty face. It embodies a rich tapestry of symbolism, representing the complexities of love, rebirth, and the beauty found in darkness. Whether you're celebrating a joyous occasion or bidding farewell, this bold bloom adds a layer of sophistication and mystery to any arrangement. 🌌💔\\n\\nCultivating these beauties requires a little extra care, as they thrive in well-drained soil and bask in the sunlight. But trust us, the effort is worth it! The black rose stands out in a world filled with traditional blooms, making it the perfect choice for those who dare to be different. 🌿🌞\\n\\nAre you ready to embrace the extraordinary? Visit us at [Your Flower Shop Name] to discover our stunning selection of black roses and let their enchanting beauty inspire you. Whether you're looking to make a statement in your garden or surprise a loved one with a unique bouquet, the black rose is sure to leave a lasting impression. \\n\\nJoin us in celebrating the allure of the black rose! Share your favorite black rose moments with us using #BlackRoseBeauty and let’s spread the magic together! 🌹🖤\\n\\n#FlowerShop #BlackRose #FloralArt #UniqueBlooms #EmbraceTheExtraordinary\"}\n"
   ]
  },
  {
   "cell_type": "code",
   "execution_count": null,
   "metadata": {},
   "outputs": [],
   "source": [
    "#Runnable(LCEL)  +  .pipe()\n",
    "\"\"\"\n",
    "1.instroduction\n",
    "2.review\n",
    "Social media post\n",
    "\n",
    "\"\"\"\n",
    "from langchain_openai import ChatOpenAI\n",
    "from langchain_core.prompts import ChatPromptTemplate\n",
    "from langchain_core.output_parsers import StrOutputParser\n",
    "from langchain_core.runnables import Runnable, RunnablePassthrough"
   ]
  },
  {
   "cell_type": "code",
   "execution_count": null,
   "metadata": {},
   "outputs": [],
   "source": [
    "llm = ChatOpenAI(model=\"gpt-4o-mini\", temperature=0.7)"
   ]
  },
  {
   "cell_type": "code",
   "execution_count": null,
   "metadata": {},
   "outputs": [],
   "source": [
    "# Flower Introduction Prompt\n",
    "introduction_template = \"\"\"\n",
    "You are a botanist. Given the name and type of a flower, you need to write an introduction of about 200 words for this flower.\n",
    "\n",
    "Name: {name}\n",
    "Color: {color}\n",
    "Botanist: Here is the introduction of the above flower:\n",
    "\"\"\"\n",
    "introduction_prompt = ChatPromptTemplate.from_template(introduction_template)\n"
   ]
  },
  {
   "cell_type": "code",
   "execution_count": null,
   "metadata": {},
   "outputs": [],
   "source": [
    "# Flower Review Prompt\n",
    "review_template = \"\"\"\n",
    "You are a critic. Given an introduction of a flower, you need to write a review of about 200 words for this flower.\n",
    "\n",
    "Flower introduction:\n",
    "{introduction}\n",
    "The flower critic's review of the above flower:\n",
    "\"\"\"\n",
    "review_prompt = ChatPromptTemplate.from_template(review_template)"
   ]
  },
  {
   "cell_type": "code",
   "execution_count": null,
   "metadata": {},
   "outputs": [],
   "source": [
    "# Social Media Post Prompt\n",
    "social_post_template = \"\"\"\n",
    "You are a social media manager for a flower shop. Given an introduction and review of a flower, you need to write a social media post of about 300 words for this flower.\n",
    "\n",
    "The flower critic's review of the above flower:\n",
    "{review}\n",
    "\n",
    "Social Media Post:\n",
    "\"\"\"\n",
    "social_post_prompt = ChatPromptTemplate.from_template(social_post_template)"
   ]
  },
  {
   "cell_type": "code",
   "execution_count": null,
   "metadata": {},
   "outputs": [],
   "source": [
    "# Define individual Runnables\n",
    "introduction_chain = introduction_prompt | llm | StrOutputParser()\n",
    "review_chain = {\"introduction\":introduction_chain} | review_prompt | llm | StrOutputParser()\n",
    "social_post_chain = {\"review\":review_chain} | social_post_prompt | llm | StrOutputParser()\n"
   ]
  },
  {
   "cell_type": "markdown",
   "metadata": {},
   "source": [
    "Runnable:LCEL"
   ]
  },
  {
   "cell_type": "code",
   "execution_count": null,
   "metadata": {},
   "outputs": [],
   "source": [
    "#Runnable-LCEL\n",
    "social_post_chain.invoke({\"name\":\"Rose\",\"color\":\"black\"})"
   ]
  },
  {
   "cell_type": "markdown",
   "metadata": {},
   "source": [
    "\"🌹✨ Embrace the Mystery of the Black Rose! ✨🌹 \\n\\nStep into a world where elegance meets enigma with our stunning collection of black roses! While true black roses may be a myth, varieties like 'Black Baccara' and 'Black Magic' present a breathtaking array of deep red and purple hues that create an alluring, gothic charm. These blooms are not just flowers; they are statements of artistry and emotion, perfect for anyone looking to add a touch of drama to their floral arrangements.\\n\\nThe black rose is steeped in rich symbolism, representing the complexities of love, the cycles of life, and the beauty found in both death and rebirth. Whether you choose to feature them as a solitary bloom or incorporate them into a grand bouquet, these flowers command attention and spark conversation. 🌑💖\\n\\nBut remember, with great beauty comes great responsibility! The black rose can evoke a range of feelings, so it’s essential to use them thoughtfully. They can symbolize passion and romance when placed in the right context, but they may also convey sorrow if misinterpreted. \\n\\nAt [Your Flower Shop Name], we offer an exquisite selection of these captivating blooms, perfect for expressing your deepest sentiments or adding an edge to your decor. 🌸✨\\n\\nReady to dive into the world of black roses? Visit us in-store or online to explore our collection and find the perfect floral piece that speaks to your heart. Let the allure of the black rose inspire your next bouquet! 💐🖤\\n\\n#BlackRose #FlowerShop #GothicElegance #FloralArt #Symbolism #LoveAndLife #FloralsWithMeaning #ShopLocal\""
   ]
  },
  {
   "cell_type": "code",
   "execution_count": null,
   "metadata": {},
   "outputs": [],
   "source": [
    "introduction_chain.invoke({\"name\":\"Rose\",\"color\":\"black\"})"
   ]
  },
  {
   "cell_type": "markdown",
   "metadata": {},
   "source": [
    "'The black rose, a captivating and enigmatic flower, has long been a symbol of mystery and intrigue in the botanical world. Unlike the more common varieties of roses that showcase vibrant hues, the black rose boasts a deep, velvety color that evokes a sense of elegance and sophistication. While true black roses do not exist in nature, they can be created through selective breeding and dyeing techniques, resulting in blooms that appear nearly black, often with undertones of deep red or purple. \\n\\nHistorically, black roses have been associated with themes of rebirth, farewell, and the darker aspects of love. They often serve as powerful symbols in literature and art, representing the duality of beauty and mortality. In gardens, black roses can make a striking statement, adding a touch of drama and allure. \\n\\nCultivating black roses requires specific care, including well-draining soil and adequate sunlight, making them both a challenge and a delight for gardeners. As a unique addition to any floral arrangement, black roses are sure to leave a lasting impression, inviting contemplation and admiration for their rare beauty and symbolism.'"
   ]
  },
  {
   "cell_type": "code",
   "execution_count": null,
   "metadata": {},
   "outputs": [],
   "source": [
    "review_chain.invoke({\"name\":\"Rose\",\"color\":\"black\"})"
   ]
  },
  {
   "cell_type": "markdown",
   "metadata": {},
   "source": [
    "\"The black rose, an alluring and enigmatic creation of nature, stands as a testament to the duality of beauty and darkness. While it may not exist in pure form, the dark-hued varieties, such as 'Black Baccara' and 'Black Magic,' are nothing short of breathtaking. Their deep crimson petals, which flirt with the illusion of black, create a visual paradox that captivates the imagination. This color play under varying light conditions adds an intriguing layer to their aesthetic, making them a popular choice for both somber occasions and romantic expressions.\\n\\nThe symbolism behind the black rose is multifaceted. It embodies the end of a chapter, often associated with loss, yet it simultaneously whispers of rebirth and transformation. This complexity resonates deeply, inviting introspection and emotional connection. The robust fragrance that accompanies these striking blooms further enhances their allure, making them not just a visual treat but also a sensory experience.\\n\\nCultivating black roses demands diligence and expertise, reflecting the care required to nurture beauty from the shadows. For gardeners and flower enthusiasts alike, the black rose is more than just a plant; it is a statement, a conversation starter, and a powerful symbol of the intricate dance between love and longing. In a world that often shies away from darkness, the black rose boldly embraces it, offering solace and beauty in its wake.\""
   ]
  },
  {
   "cell_type": "code",
   "execution_count": null,
   "metadata": {},
   "outputs": [],
   "source": [
    "#RunnablePassthrough\n",
    "from langchain_core.runnables import RunnablePassthrough\n",
    "outer_chain = RunnablePassthrough().assign(text=social_post_chain)\n",
    "outer_chain.invoke({\"name\":\"Rose\",\"color\":\"black\"})"
   ]
  },
  {
   "cell_type": "markdown",
   "metadata": {},
   "source": [
    "{'name': 'Rose',\n",
    " 'color': 'black',\n",
    " 'text': \"🌹✨ Embrace the Mystery: The Allure of Black Roses! ✨🌹\\n\\nStep into a world of enchantment with the captivating black rose! While true black roses are a botanical myth, varieties like 'Black Baccara' and 'Black Velvet' reveal an exquisite depth of color that can appear jet black, especially in the soft glow of candlelight. These stunning flowers are not just a feast for the eyes; they carry a rich tapestry of meaning, evolving from symbols of mourning to representations of rebirth and new beginnings. \\n\\nImagine adding a touch of gothic elegance to your garden or floral arrangements—black roses evoke a sense of drama and intrigue that few other blooms can match. Their velvety petals and graceful form have captivated artists and romantics for centuries, making them a timeless choice for expressing deep emotions or simply enhancing your floral artistry.\\n\\nCultivating black roses does require a bit of tender loving care. These beauties thrive in optimal soil conditions and sunlight, but for those willing to invest the effort, the reward is a breathtaking showpiece that stands out in any setting. 🌿💧\\n\\nWhether you're looking to convey a complex sentiment or simply want to add a unique flair to your floral collection, black roses are a beloved choice among horticulturists and flower lovers alike. 🌑❤️\\n\\nVisit us at [Your Flower Shop Name] to discover our selection of stunning black roses and learn how to incorporate these elegant blooms into your arrangements. Let the mystery of black roses inspire your creativity and transform your space! 🌸💫\\n\\n#BlackRoses #FloralElegance #FlowerPower #GardenBeauty #MysteryInBloom #YourFlowerShopName\"}"
   ]
  },
  {
   "cell_type": "code",
   "execution_count": null,
   "metadata": {},
   "outputs": [],
   "source": [
    "hw:1.Use the .pip() method to accomplish this."
   ]
  },
  {
   "cell_type": "code",
   "execution_count": null,
   "metadata": {},
   "outputs": [],
   "source": [
    "from langchain_core.runnables import RunnableParallel\n",
    "review_chain = RunnableParallel({\"introduction\":introduction_chain}).pipe(\n",
    "    review_prompt, llm, StrOutputParser()\n",
    ")\n",
    "\n",
    "review_chain.invoke({\"name\":\"Rose\",\"color\":\"black\"})\n",
    "\n",
    "|"
   ]
  },
  {
   "cell_type": "markdown",
   "metadata": {},
   "source": [
    "introduction_chain = introduction_prompt | llm | StrOutputParser()\n",
    "\n",
    "chain.pipe(step1).pipe(step2)\n",
    "chain | step1 | step2"
   ]
  },
  {
   "cell_type": "markdown",
   "metadata": {},
   "source": [
    "\"The black rose stands as a testament to the beauty found in complexity and contradiction. Despite its name, this flower does not possess the true blackness that one might expect, but rather captivates with its deep burgundy and dark purple tones that can appear nearly black in the right light. This alluring visual quality makes it an intriguing choice for those looking to add an element of mystery to their gardens or floral arrangements.\\n\\nSymbolically, the black rose is rich with meaning, often associated with both endings and new beginnings. This duality adds depth to its allure, allowing it to resonate with a wide array of emotions—from mourning to rebirth. In a world where flowers often convey straightforward sentiments, the black rose invites contemplation and introspection, making it a powerful addition to any bouquet or garden space.\\n\\nHowever, cultivating this flower is not without its challenges. It demands well-drained soil and consistent sunlight, which may deter novice gardeners. Nevertheless, for those willing to invest the effort, the reward is a striking and thought-provoking bloom that serves as a poignant reminder of life's complexities. Whether embraced in romantic gestures or somber tributes, the black rose leaves an indelible mark, ensuring it will forever be a cherished symbol of the multifaceted human experience.\""
   ]
  },
  {
   "cell_type": "markdown",
   "metadata": {},
   "source": []
  },
  {
   "cell_type": "code",
   "execution_count": null,
   "metadata": {},
   "outputs": [],
   "source": [
    "\"\"\"Task:Flower operation intelligent customer service ChatBot typically recevied two main types of inquiries.\n",
    "1. flower care\n",
    "2. flower decoration\n",
    "\n",
    "requirement:Direct ChatBot A if receives the first type of inquiry and direct ChatBot B if receives the Second type of inquiry\n",
    "\"\"\"\n",
    "\n",
    "\n"
   ]
  },
  {
   "cell_type": "markdown",
   "metadata": {},
   "source": [
    "RouterChain -V2\n",
    "\"\"\"\n",
    "LLMRouterChain + MultiPromptChain\n",
    "steps:\n",
    "1. Construct processing tempaltes:define two string templates for ...\n",
    "2. Prompt information:using a list\n",
    "3. LLM\n",
    "4. Buid target chains:LLMChain\n",
    "5. Build LLM Routing Chain\n",
    "6. Build default chain\n",
    "7. Built Multi-Prompt Chain->LangGraph\n",
    "\"\"\""
   ]
  },
  {
   "cell_type": "code",
   "execution_count": null,
   "metadata": {},
   "outputs": [],
   "source": [
    "Router Task\n",
    "LangGraph:StateGraph + langchain:\n",
    "2. Prompt information:using a list\n",
    "3. LLM\n",
    "4.task chain\n",
    "5.StateGraph\n",
    "6.execution"
   ]
  },
  {
   "cell_type": "code",
   "execution_count": 2,
   "metadata": {},
   "outputs": [
    {
     "data": {
      "text/plain": [
       "True"
      ]
     },
     "execution_count": 2,
     "metadata": {},
     "output_type": "execute_result"
    }
   ],
   "source": [
    "from dotenv import load_dotenv\n",
    "load_dotenv()"
   ]
  },
  {
   "cell_type": "code",
   "execution_count": 3,
   "metadata": {},
   "outputs": [],
   "source": [
    "from langchain_core.output_parsers import StrOutputParser\n",
    "from langchain_core.prompts import ChatPromptTemplate\n",
    "from langchain_core.runnables import RunnableConfig\n",
    "from langchain_openai import ChatOpenAI\n",
    "from langgraph.graph import END, START, StateGraph\n",
    "from typing_extensions import TypedDict\n",
    "\n",
    "# Initialize the LLM model\n",
    "llm = ChatOpenAI(model=\"gpt-4o-mini\")"
   ]
  },
  {
   "cell_type": "code",
   "execution_count": 4,
   "metadata": {},
   "outputs": [],
   "source": [
    "# Create prompt templates\n",
    "flower_care_prompt = ChatPromptTemplate.from_messages([\n",
    "    (\"system\", \"You are an experienced gardener.\"),\n",
    "    (\"human\", \"{input}\")\n",
    "])\n",
    "\n",
    "flower_deco_prompt = ChatPromptTemplate.from_messages([\n",
    "    (\"system\", \"You are a popular flower arrangement master.\"),\n",
    "    (\"human\", \"{input}\")\n",
    "])\n"
   ]
  },
  {
   "cell_type": "markdown",
   "metadata": {},
   "source": []
  },
  {
   "cell_type": "code",
   "execution_count": 6,
   "metadata": {},
   "outputs": [
    {
     "name": "stdout",
     "output_type": "stream",
     "text": [
      "input_variables=['input'] messages=[SystemMessagePromptTemplate(prompt=PromptTemplate(input_variables=[], template='You are an experienced gardener.')), HumanMessagePromptTemplate(prompt=PromptTemplate(input_variables=['input'], template='{input}'))]\n"
     ]
    }
   ],
   "source": [
    "print(flower_care_prompt)"
   ]
  },
  {
   "cell_type": "markdown",
   "metadata": {},
   "source": [
    "input_variables=['input'] messages=[SystemMessagePromptTemplate(prompt=PromptTemplate(input_variables=[], template='You are an experienced gardener.')), \n",
    "HumanMessagePromptTemplate(prompt=PromptTemplate(input_variables=['input'], template='{input}'))]\n"
   ]
  },
  {
   "cell_type": "code",
   "execution_count": 7,
   "metadata": {},
   "outputs": [
    {
     "name": "stdout",
     "output_type": "stream",
     "text": [
      "input_variables=['input'] messages=[SystemMessagePromptTemplate(prompt=PromptTemplate(input_variables=[], template='You are a popular flower arrangement master.')), HumanMessagePromptTemplate(prompt=PromptTemplate(input_variables=['input'], template='{input}'))]\n"
     ]
    }
   ],
   "source": [
    "print(flower_deco_prompt)"
   ]
  },
  {
   "cell_type": "markdown",
   "metadata": {},
   "source": [
    "input_variables=['input'] messages=[SystemMessagePromptTemplate(prompt=PromptTemplate(input_variables=[], template='You are a popular flower arrangement master.')), HumanMessagePromptTemplate(prompt=PromptTemplate(input_variables=['input'], template='{input}'))]\n"
   ]
  },
  {
   "cell_type": "code",
   "execution_count": 5,
   "metadata": {},
   "outputs": [],
   "source": [
    "# Define chains for each prompt\n",
    "chain_1 = flower_care_prompt | llm | StrOutputParser()\n",
    "chain_2 = flower_deco_prompt | llm | StrOutputParser()"
   ]
  },
  {
   "cell_type": "markdown",
   "metadata": {},
   "source": []
  },
  {
   "cell_type": "code",
   "execution_count": 8,
   "metadata": {},
   "outputs": [],
   "source": [
    "# Define the routing logic\n",
    "route_system = \"Route the user's query to either flower care or flower decoration expert.\"\n",
    "route_prompt = ChatPromptTemplate.from_messages([\n",
    "    (\"system\", route_system),\n",
    "    (\"human\", \"{input}\")\n",
    "])"
   ]
  },
  {
   "cell_type": "code",
   "execution_count": 9,
   "metadata": {},
   "outputs": [
    {
     "name": "stdout",
     "output_type": "stream",
     "text": [
      "Message type: SystemMessagePromptTemplate\n",
      "Message content: input_variables=[] template=\"Route the user's query to either flower care or flower decoration expert.\"\n",
      "----------------------------------------\n",
      "Message type: HumanMessagePromptTemplate\n",
      "Message content: input_variables=['input'] template='{input}'\n",
      "----------------------------------------\n",
      "input_variables=['input'] messages=[SystemMessagePromptTemplate(prompt=PromptTemplate(input_variables=[], template=\"Route the user's query to either flower care or flower decoration expert.\")), HumanMessagePromptTemplate(prompt=PromptTemplate(input_variables=['input'], template='{input}'))]\n"
     ]
    }
   ],
   "source": [
    "route_template = route_prompt.messages\n",
    "\n",
    "for message in route_template:\n",
    "    print(f\"Message type: {message.__class__.__name__}\")\n",
    "    print(f\"Message content: {message.prompt}\")\n",
    "    print(\"-\" * 40)\n",
    "\n",
    "print(route_prompt)"
   ]
  },
  {
   "cell_type": "markdown",
   "metadata": {},
   "source": [
    "Message type: SystemMessagePromptTemplate\n",
    "Message content: input_variables=[] template=\"Route the user's query to either flower care or flower decoration expert.\"\n",
    "----------------------------------------\n",
    "Message type: HumanMessagePromptTemplate\n",
    "Message content: input_variables=['input'] template='{input}'\n",
    "----------------------------------------\n",
    "input_variables=['input'] messages=[SystemMessagePromptTemplate(prompt=PromptTemplate(input_variables=[], template=\"Route the user's query to either flower care or flower decoration expert.\")), HumanMessagePromptTemplate(prompt=PromptTemplate(input_variables=['input'], template='{input}'))]\n"
   ]
  },
  {
   "cell_type": "code",
   "execution_count": 10,
   "metadata": {},
   "outputs": [],
   "source": [
    "# Define schema for the routing output\n",
    "class RouteQuery(TypedDict):\n",
    "    destination: str\n",
    "\n",
    "route_chain = route_prompt | llm.with_structured_output(RouteQuery)"
   ]
  },
  {
   "cell_type": "code",
   "execution_count": 11,
   "metadata": {},
   "outputs": [],
   "source": [
    "# Define graph state\n",
    "class State(TypedDict):\n",
    "    query: str\n",
    "    destination: RouteQuery\n",
    "    answer: str\n",
    "\n",
    "# Define functions for routing and processing each chain\n",
    "async def route_query(state: State, config: RunnableConfig):\n",
    "    destination = await route_chain.ainvoke(state[\"query\"], config)\n",
    "    return {\"destination\": destination}\n",
    "\n",
    "async def prompt_1(state: State, config: RunnableConfig):\n",
    "    return {\"answer\": await chain_1.ainvoke(state[\"query\"], config)}\n",
    "\n",
    "async def prompt_2(state: State, config: RunnableConfig):\n",
    "    return {\"answer\": await chain_2.ainvoke(state[\"query\"], config)}\n"
   ]
  },
  {
   "cell_type": "code",
   "execution_count": 12,
   "metadata": {},
   "outputs": [],
   "source": [
    "# Define the node selection based on the routing decision\n",
    "def select_node(state: State) -> str:\n",
    "    if state[\"destination\"][\"destination\"] == \"flower_care\":\n",
    "        return \"prompt_1\"\n",
    "    else:\n",
    "        return \"prompt_2\""
   ]
  },
  {
   "cell_type": "code",
   "execution_count": 13,
   "metadata": {},
   "outputs": [],
   "source": [
    "# Build the state graph\n",
    "graph = StateGraph(State)\n",
    "graph.add_node(\"route_query\", route_query)\n",
    "graph.add_node(\"prompt_1\", prompt_1)\n",
    "graph.add_node(\"prompt_2\", prompt_2)\n",
    "\n",
    "# Add edges between the nodes, starting from routing and following the selection logic\n",
    "graph.add_edge(START, \"route_query\")\n",
    "graph.add_conditional_edges(\"route_query\", select_node)\n",
    "graph.add_edge(\"prompt_1\", END)\n",
    "graph.add_edge(\"prompt_2\", END)\n",
    "\n",
    "# Compile the graph into an app\n",
    "app = graph.compile()\n"
   ]
  },
  {
   "cell_type": "code",
   "execution_count": 14,
   "metadata": {},
   "outputs": [
    {
     "data": {
      "image/jpeg": "[encoded data removed]",
      "text/plain": [
       "<IPython.core.display.Image object>"
      ]
     },
     "execution_count": 14,
     "metadata": {},
     "output_type": "execute_result"
    }
   ],
   "source": [
    "from IPython.display import Image\n",
    "Image(app.get_graph().draw_mermaid_png())"
   ]
  },
  {
   "cell_type": "code",
   "execution_count": 15,
   "metadata": {},
   "outputs": [
    {
     "name": "stdout",
     "output_type": "stream",
     "text": [
      "Destination: flower care\n",
      "Answer: Watering roses properly is crucial for their health and blooming. Here are some tips on how to water roses effectively:\n",
      "\n",
      "1. **Timing**: Water your roses early in the morning or late in the afternoon to reduce evaporation. Avoid watering during the hottest part of the day.\n",
      "\n",
      "2. **Method**: Use a soaker hose or drip irrigation system for deep watering. This method delivers water directly to the roots and minimizes water on the foliage, which can help prevent fungal diseases. If using a watering can or hose, direct the water at the base of the plant.\n",
      "\n",
      "3. **Amount**: Roses typically need about 1-2 inches of water per week, depending on weather conditions. During hot, dry spells, they may need more. Ensure the soil is moist but not soggy.\n",
      "\n",
      "4. **Soil Check**: Before watering, check the soil moisture by sticking your finger about an inch into the soil. If it feels dry at that depth, it’s time to water.\n",
      "\n",
      "5. **Mulching**: Apply a layer of mulch around the base of the roses. Mulch helps retain soil moisture and keeps the roots cool.\n",
      "\n",
      "6. **Avoid Overhead Watering**: Try to avoid getting the leaves wet, as this can promote diseases. Focus on watering the root zone.\n",
      "\n",
      "7. **Adjust for Conditions**: Be aware of your local climate and adjust your watering schedule accordingly. In rainy weather, you may need to reduce watering.\n",
      "\n",
      "By following these guidelines, you can promote healthy growth and vibrant blooms in your rose plants.\n"
     ]
    }
   ],
   "source": [
    "# Run the app for a flower care question\n",
    "state = await app.ainvoke({\"query\": \"How to water roses?\"})\n",
    "print(f\"Destination: {state['destination']['destination']}\")\n",
    "print(f\"Answer: {state['answer']}\")\n"
   ]
  },
  {
   "cell_type": "markdown",
   "metadata": {},
   "source": [
    "Destination: flower care\n",
    "Answer: Watering roses properly is crucial for their health and blooming. Here are some tips on how to water roses effectively:\n",
    "\n",
    "1. **Timing**: Water your roses early in the morning or late in the afternoon to reduce evaporation. Avoid watering during the hottest part of the day.\n",
    "\n",
    "2. **Method**: Use a soaker hose or drip irrigation system for deep watering. This method delivers water directly to the roots and minimizes water on the foliage, which can help prevent fungal diseases. If using a watering can or hose, direct the water at the base of the plant.\n",
    "\n",
    "3. **Amount**: Roses typically need about 1-2 inches of water per week, depending on weather conditions. During hot, dry spells, they may need more. Ensure the soil is moist but not soggy.\n",
    "\n",
    "4. **Soil Check**: Before watering, check the soil moisture by sticking your finger about an inch into the soil. If it feels dry at that depth, it’s time to water.\n",
    "\n",
    "5. **Mulching**: Apply a layer of mulch around the base of the roses. Mulch helps retain soil moisture and keeps the roots cool.\n",
    "\n",
    "6. **Avoid Overhead Watering**: Try to avoid getting the leaves wet, as this can promote diseases. Focus on watering the root zone.\n",
    "\n",
    "7. **Adjust for Conditions**: Be aware of your local climate and adjust your watering schedule accordingly. In rainy weather, you may need to reduce watering.\n",
    "\n",
    "By following these guidelines, you can promote healthy growth and vibrant blooms in your rose plants.\n"
   ]
  },
  {
   "cell_type": "code",
   "execution_count": 16,
   "metadata": {},
   "outputs": [
    {
     "name": "stdout",
     "output_type": "stream",
     "text": [
      "Destination: flower decoration\n",
      "Answer: Decorating a wedding venue with flowers is a beautiful way to enhance the atmosphere and create a memorable experience for the couple and their guests. Here are some tips and ideas for using flowers effectively in wedding venue decoration:\n",
      "\n",
      "### 1. **Choose a Color Palette**\n",
      "   - Select a color scheme that complements the wedding theme. Popular combinations include pastels, bold colors, or monochromatic schemes. \n",
      "\n",
      "### 2. **Consider the Venue**\n",
      "   - Assess the venue's style and architecture. A rustic barn may require different floral arrangements than an elegant ballroom. \n",
      "\n",
      "### 3. **Entrances and Aisles**\n",
      "   - Create stunning entrances with large floral arrangements or arches. \n",
      "   - Line the aisle with petals, lanterns, or small arrangements to guide guests to the altar.\n",
      "\n",
      "### 4. **Altar or Ceremony Backdrop**\n",
      "   - Use flowers to create a focal point for the ceremony. Consider a floral arch, a cascading arrangement, or a backdrop of flowers.\n",
      "\n",
      "### 5. **Centerpieces**\n",
      "   - Create unique centerpieces for tables using a mix of flowers, greenery, and decorative elements. Vary heights and styles (tall arrangements, low arrangements, or a mix) for visual interest.\n",
      "\n",
      "### 6. **Bouquets and Boutonnieres**\n",
      "   - Ensure that the bridal bouquet and the groom’s boutonniere match the overall floral theme. Consider having complementary flowers for bridesmaids’ bouquets and groomsmen’s boutonnieres.\n",
      "\n",
      "### 7. **Floral Installations**\n",
      "   - Consider larger installations, such as hanging floral arrangements or flower walls, which can serve as photo backdrops.\n",
      "\n",
      "### 8. **Reception Decor**\n",
      "   - Use flowers to decorate the cake table, gift table, and guestbook table. Small arrangements or scattered petals work well.\n",
      "\n",
      "### 9. **Lighting**\n",
      "   - Enhance floral arrangements with soft lighting. Fairy lights or candles can create a romantic ambiance when placed among flowers.\n",
      "\n",
      "### 10. **Seasonal Flowers**\n",
      "   - Choose flowers that are in season to reduce costs and ensure freshness. Seasonal flowers can also add a unique touch to the decor.\n",
      "\n",
      "### 11. **Personal Touches**\n",
      "   - Incorporate flowers that have personal significance to the couple, such as their favorite flowers or blooms that have special meaning.\n",
      "\n",
      "### 12. **Use Greenery**\n",
      "   - Don’t forget to include foliage and greenery to add texture and depth to floral arrangements. This can also help to reduce costs.\n",
      "\n",
      "### 13. **Repurpose Arrangements**\n",
      "   - To maximize your floral budget, consider repurposing ceremony flowers for the reception. For example, bridesmaid bouquets can become centerpieces.\n",
      "\n",
      "### 14. **Hire a Professional**\n",
      "   - If you’re unsure about your floral arrangement skills, consider hiring a professional florist who can help bring your vision to life.\n",
      "\n",
      "### 15. **Plan for After the Wedding**\n",
      "   - Consider how flowers can be reused after the wedding. Speak with local hospitals or nursing homes about donating arrangements.\n",
      "\n",
      "With these strategies, you can create a stunning floral display that enhances the beauty of the wedding venue and reflects the couple’s style and personality.\n"
     ]
    }
   ],
   "source": [
    "# Run the app for a flower care question\n",
    "state = await app.ainvoke({\"query\": \"How to decorate the wedding venue with flowers?\"})\n",
    "print(f\"Destination: {state['destination']['destination']}\")\n",
    "print(f\"Answer: {state['answer']}\")\n"
   ]
  },
  {
   "cell_type": "code",
   "execution_count": 17,
   "metadata": {},
   "outputs": [
    {
     "name": "stdout",
     "output_type": "stream",
     "text": [
      "Destination: flower care\n",
      "Answer: Hi Anna! It's great to meet you. How can I assist you today? Are you looking for flower arrangement tips or ideas?\n"
     ]
    }
   ],
   "source": [
    "# Run the app for a flower care question\n",
    "state = await app.ainvoke({\"query\": \"I'm Anna?\"})\n",
    "print(f\"Destination: {state['destination']['destination']}\")\n",
    "print(f\"Answer: {state['answer']}\")\n"
   ]
  },
  {
   "cell_type": "code",
   "execution_count": null,
   "metadata": {},
   "outputs": [],
   "source": [
    "hw:2.implement routing cahins when they do not belong to any operational business scenarios?"
   ]
  },
  {
   "cell_type": "code",
   "execution_count": 8,
   "metadata": {},
   "outputs": [
    {
     "data": {
      "text/plain": [
       "True"
      ]
     },
     "execution_count": 8,
     "metadata": {},
     "output_type": "execute_result"
    }
   ],
   "source": [
    "from dotenv import load_dotenv\n",
    "load_dotenv()"
   ]
  },
  {
   "cell_type": "code",
   "execution_count": 26,
   "metadata": {},
   "outputs": [
    {
     "name": "stdout",
     "output_type": "stream",
     "text": [
      "Destination: flower care\n",
      "Answer: Watering roses properly is essential for their health and blooming. Here are some guidelines:\n",
      "\n",
      "1. **Watering Schedule**: Water roses deeply but infrequently. Generally, this means watering once a week, but you may need to adjust based on your climate and soil conditions.\n",
      "\n",
      "2. **Time of Day**: The best time to water is in the early morning. This allows the plants to absorb moisture before the heat of the day and reduces the risk of fungal diseases.\n",
      "\n",
      "3. **Soil Moisture**: Check the soil moisture before watering. The top inch of soil should be dry. Stick your finger into the soil to gauge moisture levels.\n",
      "\n",
      "4. **Watering Method**: Use a soaker hose or drip irrigation to deliver water directly to the roots. If using a hose or watering can, aim to water at the base of the plant, avoiding wetting the foliage.\n",
      "\n",
      "5. **Amount of Water**: Roses typically need about 1 inch of water per week. Ensure that the water penetrates the soil to a depth of at least 12 inches.\n",
      "\n",
      "6. **Mulching**: Apply a layer of mulch around the base of the roses. This helps retain soil moisture and regulates temperature.\n",
      "\n",
      "7. **Adjust for Conditions**: Be mindful of weather conditions. During hot, dry spells, roses may require more frequent watering. Conversely, reduce watering if there’s heavy rain.\n",
      "\n",
      "By following these tips, you can help ensure your roses stay healthy and vibrant.\n"
     ]
    }
   ],
   "source": [
    "from langchain_core.output_parsers import StrOutputParser\n",
    "from langchain_core.prompts import ChatPromptTemplate\n",
    "from langchain_core.runnables import RunnableConfig\n",
    "from langchain_openai import ChatOpenAI\n",
    "from langgraph.graph import END, START, StateGraph\n",
    "from typing_extensions import TypedDict\n",
    "\n",
    "# Initialize the LLM model\n",
    "llm = ChatOpenAI(model=\"gpt-4o-mini\")\n",
    "\n",
    "# Create prompt templates\n",
    "flower_care_prompt = ChatPromptTemplate.from_messages([\n",
    "    (\"system\", \"You are an experienced gardener.\"),\n",
    "    (\"human\", \"{input}\")\n",
    "])\n",
    "\n",
    "flower_deco_prompt = ChatPromptTemplate.from_messages([\n",
    "    (\"system\", \"You are a popular flower arrangement master.\"),\n",
    "    (\"human\", \"{input}\")\n",
    "])\n",
    "\n",
    "default_prompt = ChatPromptTemplate.from_messages([\n",
    "    (\"system\", \"You are a universal assistant.The answer does not involve questions related to flowers.\"),\n",
    "    (\"human\", \"{input}\")\n",
    "])\n",
    "\n",
    "# Define chains for each prompt\n",
    "chain_1 = flower_care_prompt | llm | StrOutputParser()\n",
    "chain_2 = flower_deco_prompt | llm | StrOutputParser()\n",
    "chain_default = default_prompt | llm | StrOutputParser()\n",
    "\n",
    "# Define the routing logic\n",
    "route_system = \"Route the user's query to either flower care or flower decoration expert.If the query does not match either of the above categories, route it to default for general inquiries that do not involve flowers.\"\n",
    "\n",
    "route_prompt = ChatPromptTemplate.from_messages([\n",
    "    (\"system\", route_system),\n",
    "    (\"human\", \"{input}\")\n",
    "])\n",
    "\n",
    "# route_template = route_prompt.messages\n",
    "\n",
    "# for message in route_template:\n",
    "#     print(f\"Message type: {message.__class__.__name__}\")\n",
    "#     print(f\"Message content: {message.prompt}\")\n",
    "#     print(\"-\" * 40)\n",
    "\n",
    "# print(route_prompt)\n",
    "\n",
    "# Define schema for the routing output\n",
    "class RouteQuery(TypedDict):\n",
    "    destination: str\n",
    "\n",
    "route_chain = route_prompt | llm.with_structured_output(RouteQuery)\n",
    "\n",
    "# Define graph state\n",
    "class State(TypedDict):\n",
    "    query: str\n",
    "    destination: RouteQuery\n",
    "    answer: str\n",
    "\n",
    "# Define functions for routing and processing each chain\n",
    "async def route_query(state: State, config: RunnableConfig):\n",
    "    destination = await route_chain.ainvoke(state[\"query\"], config)\n",
    "    return {\"destination\": destination}\n",
    "\n",
    "async def prompt_1(state: State, config: RunnableConfig):\n",
    "    return {\"answer\": await chain_1.ainvoke(state[\"query\"], config)}\n",
    "\n",
    "async def prompt_2(state: State, config: RunnableConfig):\n",
    "    return {\"answer\": await chain_2.ainvoke(state[\"query\"], config)}\n",
    "\n",
    "async def prompt_default(state: State, config: RunnableConfig):\n",
    "    return {\"answer\": await chain_default.ainvoke(state[\"query\"], config)}\n",
    "\n",
    "# Define the node selection based on the routing decision\n",
    "# def select_node(state: State) -> str:\n",
    "#     if state[\"destination\"][\"destination\"] == \"flower_care\":\n",
    "#         return \"prompt_1\"\n",
    "#     else:\n",
    "#         return \"prompt_2\"\n",
    "\n",
    "def select_node(state: State) -> str:\n",
    "    destination = state[\"destination\"][\"destination\"]\n",
    "    if destination == \"flower_care\":\n",
    "        return \"prompt_1\"\n",
    "    elif destination == \"flower_deco\":\n",
    "        return \"prompt_2\"\n",
    "    else:\n",
    "        return \"prompt_default\"\n",
    "\n",
    "# Build the state graph\n",
    "graph = StateGraph(State)\n",
    "graph.add_node(\"route_query\", route_query)\n",
    "graph.add_node(\"prompt_1\", prompt_1)\n",
    "graph.add_node(\"prompt_2\", prompt_2)\n",
    "graph.add_node(\"prompt_default\", prompt_default)\n",
    "\n",
    "# Add edges between the nodes, starting from routing and following the selection logic\n",
    "graph.add_edge(START, \"route_query\")\n",
    "graph.add_conditional_edges(\"route_query\", select_node)\n",
    "graph.add_edge(\"prompt_1\", END)\n",
    "graph.add_edge(\"prompt_2\", END)\n",
    "graph.add_edge(\"prompt_default\", END)\n",
    "# Compile the graph into an app\n",
    "app = graph.compile()\n",
    "\n",
    "# Run the app for a flower care question\n",
    "state = await app.ainvoke({\"query\": \"How to water roses?\"})\n",
    "print(f\"Destination: {state['destination']['destination']}\")\n",
    "print(f\"Answer: {state['answer']}\")\n"
   ]
  },
  {
   "cell_type": "code",
   "execution_count": 17,
   "metadata": {},
   "outputs": [
    {
     "name": "stdout",
     "output_type": "stream",
     "text": [
      "Destination: flower decoration\n",
      "Answer: Decorating a wedding venue with flowers can create a stunning and romantic atmosphere. Here are some steps and ideas to help you achieve a beautiful floral arrangement for the big day:\n",
      "\n",
      "### 1. **Choose a Color Palette**\n",
      "   - Select colors that complement the wedding theme and the overall decor. Common palettes include pastels, bold colors, or monochromatic schemes.\n",
      "\n",
      "### 2. **Select the Right Flowers**\n",
      "   - Choose seasonal flowers that fit your color palette. Popular wedding flowers include roses, peonies, hydrangeas, lilies, and tulips.\n",
      "   - Consider using a mix of large focal flowers and smaller accent flowers for balance.\n",
      "\n",
      "### 3. **Create a Floral Plan**\n",
      "   - **Ceremony Area:**\n",
      "     - **Altar/Arch:** Decorate with a floral arch or backdrop. Use cascading flowers or greenery for a romantic effect.\n",
      "     - **Aisle Decorations:** Use flower petals or small arrangements on the aisle chairs or stands.\n",
      "   - **Reception Area:**\n",
      "     - **Centerpieces:** Create stunning table centerpieces using tall or short arrangements. Use a mix of vases and heights for visual interest.\n",
      "     - **Entryways:** Decorate doorways or entrances with large floral displays or wreaths.\n",
      "     - **Lounge Areas:** If there are lounge spaces, add smaller arrangements to coffee tables or side tables.\n",
      "\n",
      "### 4. **Incorporate Greenery**\n",
      "   - Use greenery as a filler to add texture and volume. Popular greenery includes eucalyptus, ferns, and ivy.\n",
      "   - Garlands made of greenery can be draped across tables or along railings.\n",
      "\n",
      "### 5. **Utilize Unique Containers**\n",
      "   - Experiment with different types of containers such as vintage vases, mason jars, or elegant urns to match the wedding theme.\n",
      "   - Consider using non-traditional items like wooden crates, books, or lanterns for a rustic feel.\n",
      "\n",
      "### 6. **Lighting and Florals**\n",
      "   - Enhance the floral decor with strategic lighting. Uplighting can highlight floral arrangements, while string lights can create a magical ambiance.\n",
      "\n",
      "### 7. **Floral Installations**\n",
      "   - Consider large floral installations like hanging flower arrangements, flower walls, or suspended arrangements above tables for a dramatic effect.\n",
      "\n",
      "### 8. **Personal Touches**\n",
      "   - Incorporate flowers that have personal significance to the couple, like the bride’s favorite flower or flowers that represent a special memory.\n",
      "\n",
      "### 9. **Seasonal Considerations**\n",
      "   - Be mindful of the season when selecting flowers. Spring may feature tulips and daffodils, while autumn might showcase sunflowers and dahlias.\n",
      "\n",
      "### 10. **Hire a Professional Florist**\n",
      "   - If budget permits, hiring a professional florist to help execute your vision can ensure that arrangements are beautifully crafted and properly arranged.\n",
      "\n",
      "### 11. **Plan for Longevity**\n",
      "   - Choose flowers that will hold up well throughout the day. Discuss with your florist about the best options for your wedding season and venue.\n",
      "\n",
      "### 12. **Repurpose Flowers**\n",
      "   - After the ceremony, consider moving arrangements from the ceremony site to the reception to maximize the use of your floral budget.\n",
      "\n",
      "By thoughtfully planning and incorporating a variety of floral elements, you can transform your wedding venue into a breathtaking space that reflects your style and love story. Happy decorating!\n"
     ]
    }
   ],
   "source": [
    "state = await app.ainvoke({\"query\": \"How to decorate the wedding venue with flowers?\"})\n",
    "print(f\"Destination: {state['destination']['destination']}\")\n",
    "print(f\"Answer: {state['answer']}\")\n"
   ]
  },
  {
   "cell_type": "code",
   "execution_count": 28,
   "metadata": {},
   "outputs": [
    {
     "name": "stdout",
     "output_type": "stream",
     "text": [
      "Destination: default\n",
      "Answer: I am a universal assistant designed to provide information and help with a wide range of topics. How can I assist you today?\n"
     ]
    }
   ],
   "source": [
    "state = await app.ainvoke({\"query\": \"Who are you？\"})\n",
    "print(f\"Destination: {state['destination']['destination']}\")\n",
    "print(f\"Answer: {state['answer']}\")"
   ]
  },
  {
   "cell_type": "code",
   "execution_count": 29,
   "metadata": {},
   "outputs": [
    {
     "name": "stdout",
     "output_type": "stream",
     "text": [
      "Destination: default\n",
      "Answer: Hello, Anna! How can I assist you today?\n"
     ]
    }
   ],
   "source": [
    "state = await app.ainvoke({\"query\": \"I'm Anna?\"})\n",
    "print(f\"Destination: {state['destination']['destination']}\")\n",
    "print(f\"Answer: {state['answer']}\")\n"
   ]
  },
  {
   "cell_type": "code",
   "execution_count": 31,
   "metadata": {},
   "outputs": [
    {
     "name": "stdout",
     "output_type": "stream",
     "text": [
      "Destination: default\n",
      "Answer: Getting into Harvard University is a highly competitive process that requires careful planning and strong preparation. Here are some steps to help you navigate the admissions process:\n",
      "\n",
      "1. **Academic Excellence**: \n",
      "   - Maintain a high GPA, particularly in challenging courses such as Advanced Placement (AP), International Baccalaureate (IB), or honors classes.\n",
      "   - Aim for top scores on standardized tests like the SAT or ACT. While Harvard has adopted a test-optional policy, strong scores can still enhance your application.\n",
      "\n",
      "2. **Extracurricular Activities**: \n",
      "   - Engage in meaningful extracurricular activities that demonstrate leadership, commitment, and passion. Quality is often more important than quantity.\n",
      "   - Consider starting your own initiatives or projects, or taking on leadership roles in clubs or organizations.\n",
      "\n",
      "3. **Personal Statement and Essays**: \n",
      "   - Write compelling personal statements and application essays that reflect your personality, experiences, and aspirations. Be authentic and introspective.\n",
      "   - Use essays to showcase your unique perspective and how you would contribute to the Harvard community.\n",
      "\n",
      "4. **Letters of Recommendation**: \n",
      "   - Obtain strong letters of recommendation from teachers, counselors, or mentors who know you well and can speak to your strengths and character.\n",
      "\n",
      "5. **Interviews**: \n",
      "   - If offered, participate in an interview with an admissions representative or alumni. Prepare to discuss your interests, experiences, and motivations for applying to Harvard.\n",
      "\n",
      "6. **Research and Fit**: \n",
      "   - Understand Harvard’s values, culture, and programs. Be clear about why you want to attend and how it aligns with your goals.\n",
      "   - Tailor your application to reflect a good fit with Harvard’s academic and social environment.\n",
      "\n",
      "7. **Diverse Experiences**: \n",
      "   - Highlight any unique experiences, perspectives, or challenges you’ve overcome. Diversity in experiences can strengthen your application.\n",
      "\n",
      "8. **Financial Aid and Scholarships**: \n",
      "   - Research financial aid options, as Harvard has a need-blind admission policy for U.S. students and offers substantial financial aid packages.\n",
      "\n",
      "9. **Stay Informed**: \n",
      "   - Keep up with any changes in the admissions process or requirements by regularly checking Harvard's official admissions website.\n",
      "\n",
      "10. **Apply Early**: \n",
      "    - Consider applying through Early Action if you are ready and want to demonstrate a strong interest in Harvard.\n",
      "\n",
      "Remember, there is no guaranteed formula for admission, as the selection process is holistic and considers many factors beyond academics. Focus on presenting your best self and pursuing your interests genuinely.\n"
     ]
    }
   ],
   "source": [
    "state = await app.ainvoke({\"query\": \"How to Get into Harvard University?\"})\n",
    "print(f\"Destination: {state['destination']['destination']}\")\n",
    "print(f\"Answer: {state['answer']}\")"
   ]
  },
  {
   "cell_type": "markdown",
   "metadata": {},
   "source": []
  },
  {
   "cell_type": "code",
   "execution_count": 30,
   "metadata": {},
   "outputs": [
    {
     "data": {
      "image/jpeg": "[encoded data removed]",
      "text/plain": [
       "<IPython.core.display.Image object>"
      ]
     },
     "execution_count": 30,
     "metadata": {},
     "output_type": "execute_result"
    }
   ],
   "source": [
    "from IPython.display import Image\n",
    "\n",
    "Image(app.get_graph().draw_mermaid_png())"
   ]
  },
  {
   "cell_type": "code",
   "execution_count": null,
   "metadata": {},
   "outputs": [],
   "source": []
  }
 ],
 "metadata": {
  "kernelspec": {
   "display_name": "langchain",
   "language": "python",
   "name": "python3"
  },
  "language_info": {
   "codemirror_mode": {
    "name": "ipython",
    "version": 3
   },
   "file_extension": ".py",
   "mimetype": "text/x-python",
   "name": "python",
   "nbconvert_exporter": "python",
   "pygments_lexer": "ipython3",
   "version": "3.12.4"
  }
 },
 "nbformat": 4,
 "nbformat_minor": 2
}
