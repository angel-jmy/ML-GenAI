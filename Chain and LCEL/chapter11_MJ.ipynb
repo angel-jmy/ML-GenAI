{
 "cells": [
  {
   "cell_type": "markdown",
   "metadata": {},
   "source": [
    "# LangChain  Chain   :Preset chain:\n",
    "LCEL LangGraph\n",
    "\n",
    "Here are some guidelines:\n",
    "\n",
    "- If you are making a single LLM call, you don't need LCEL; instead call the underlying chat model directly.\n",
    "- If you have a simple chain (e.g., prompt + llm + parser, simple retrieval set up etc.), LCEL is a reasonable fit, if you're taking advantage of the LCEL benefits.\n",
    "- If you're building a complex chain (e.g., with branching, cycles, multiple agents, etc.) use LangGraph instead. Remember that you can always use LCEL within individual nodes in LangGraph.\n",
    "\n",
    "Simple Chain = = Model I/O(prompt + llm + parser) ->LCEL\n",
    "\n",
    "Complex Chain = LangGraph\n",
    "\n",
    "preset chain:\n",
    "- LLMChain\n",
    "- SequentialChain\n",
    "- RouterChain\n",
    "- APIChain,LLMMathChain,RetrievalQA.....\n"
   ]
  },
  {
   "cell_type": "markdown",
   "metadata": {},
   "source": [
    "[LangChain](https://langchain-ai.github.io/langgraph/agents/agents/#4-add-a-custom-prompt)"
   ]
  },
  {
   "cell_type": "markdown",
   "metadata": {},
   "source": [
    "## LLMChain:The simplest Chain"
   ]
  },
  {
   "cell_type": "code",
   "execution_count": 1,
   "metadata": {},
   "outputs": [
    {
     "data": {
      "text/plain": [
       "True"
      ]
     },
     "execution_count": 1,
     "metadata": {},
     "output_type": "execute_result"
    }
   ],
   "source": [
    "from dotenv import load_dotenv\n",
    "load_dotenv()"
   ]
  },
  {
   "cell_type": "code",
   "execution_count": 2,
   "metadata": {},
   "outputs": [
    {
     "name": "stdout",
     "output_type": "stream",
     "text": [
      "Rose's floral language?\n"
     ]
    }
   ],
   "source": [
    "from langchain.prompts import PromptTemplate\n",
    "\n",
    "template = \"{flower}'s floral language?\"\n",
    "\n",
    "prompt_temp = PromptTemplate.from_template(template)\n",
    "\n",
    "prompt = prompt_temp.format(flower='Rose')\n",
    "\n",
    "print(prompt)"
   ]
  },
  {
   "cell_type": "code",
   "execution_count": 3,
   "metadata": {},
   "outputs": [
    {
     "name": "stdout",
     "output_type": "stream",
     "text": [
      "\n",
      "\n",
      "Rose's floral language is often associated with love, romance, and passion. Different colored roses can also convey different meanings, such as red for love and desire, pink for gratitude and appreciation, and white for purity and innocence. Overall, the rose is a symbol of beauty, love, and emotion.\n"
     ]
    }
   ],
   "source": [
    "from langchain_openai import OpenAI\n",
    "\n",
    "model = OpenAI(temperature=0.5) # Originally 0\n",
    "\n",
    "result = model.invoke(prompt)\n",
    "\n",
    "print(result)"
   ]
  },
  {
   "cell_type": "markdown",
   "metadata": {},
   "source": [
    "Rose's floral language is often associated with love, passion, and romance. Different colors of roses can also convey different meanings, such as red for love and desire, pink for gratitude and appreciation, and yellow for friendship and joy.\n"
   ]
  },
  {
   "cell_type": "code",
   "execution_count": 4,
   "metadata": {},
   "outputs": [
    {
     "name": "stderr",
     "output_type": "stream",
     "text": [
      "C:\\Users\\JMY\\AppData\\Local\\Temp\\ipykernel_23616\\3592295081.py:7: LangChainDeprecationWarning: The class `LLMChain` was deprecated in LangChain 0.1.17 and will be removed in 1.0. Use :meth:`~RunnableSequence, e.g., `prompt | llm`` instead.\n",
      "  llm_chain = LLMChain(llm=llm,prompt=PromptTemplate.from_template(template))\n"
     ]
    },
    {
     "name": "stdout",
     "output_type": "stream",
     "text": [
      "{'flower': 'Rose', 'text': \"\\n\\nRose's floral language is often associated with love, passion, and romance. Different colors of roses can also convey different meanings, such as red for love and desire, pink for gratitude and appreciation, and yellow for friendship and joy.\"}\n"
     ]
    }
   ],
   "source": [
    "#chain\n",
    "from langchain.chains import LLMChain\n",
    "\n",
    "template = \"{flower}'s floral language?\"\n",
    "llm = OpenAI(temperature=0)\n",
    "\n",
    "llm_chain = LLMChain(llm=llm,prompt=PromptTemplate.from_template(template))\n",
    "\n",
    "print(llm_chain.invoke('Rose'))\n"
   ]
  },
  {
   "cell_type": "markdown",
   "metadata": {},
   "source": [
    "{'flower': 'Rose', 'text': \"\\n\\nRose's floral language is often associated with love, passion, and romance. Different colors of roses can also convey different meanings, such as red for love and desire, pink for gratitude and appreciation, and yellow for friendship and joy.\"}\n"
   ]
  },
  {
   "cell_type": "code",
   "execution_count": 6,
   "metadata": {},
   "outputs": [
    {
     "data": {
      "text/plain": [
       "'The language of flowers, or \"floriography,\" assigns specific meanings to different flowers, and roses are among the most significant in this symbolic language. Here are some common meanings associated with various colors of roses:\\n\\n1. **Red Roses**: Love and passion. They are often given on romantic occasions, such as anniversaries or Valentine\\'s Day.\\n\\n2. **White Roses**: Purity, innocence, and new beginnings. They are often used in weddings and symbolize a fresh start.\\n\\n3. **Pink Roses**: Gratitude, grace, and admiration. Lighter shades of pink convey sweetness, while darker shades can express appreciation.\\n\\n4. **Yellow Roses**: Friendship and joy. They are often given to celebrate platonic relationships or to cheer someone up.\\n\\n5. **Orange Roses**: Enthusiasm and desire. They convey a sense of fascination and energy.\\n\\n6. **Lavender Roses**: Enchantment and love at first sight. They symbolize a sense of wonder and admiration.\\n\\n7. **Black Roses**: Often associated with mourning or the end of something, such as a relationship. They can also symbolize rebirth or new beginnings in some contexts.\\n\\n8. **Blue Roses**: Mystery and the unattainable. Since blue roses do not naturally occur, they symbolize something that is desired but cannot be achieved.\\n\\nEach rose\\'s meaning can also be influenced by the context in which it is given, the number of roses, and the accompanying gestures or messages.'"
      ]
     },
     "execution_count": 6,
     "metadata": {},
     "output_type": "execute_result"
    }
   ],
   "source": [
    "#LCEL\n",
    "from langchain_openai import ChatOpenAI\n",
    "from langchain_core.prompts import ChatPromptTemplate\n",
    "from langchain_core.output_parsers import StrOutputParser\n",
    "\n",
    "llm = ChatOpenAI(model=\"gpt-4o-mini\", temperature=0)\n",
    "\n",
    "template = \"{flower}'s floral language?\"\n",
    "flower_prompt = ChatPromptTemplate.from_messages([\n",
    "    (\"human\", template)\n",
    "])\n",
    "\n",
    "chain = flower_prompt | llm | StrOutputParser()\n",
    "\n",
    "chain.invoke({\"flower\": \"Rose\"})\n"
   ]
  },
  {
   "cell_type": "markdown",
   "metadata": {},
   "source": [
    "'The language of flowers, or \"floriography,\" assigns specific meanings to different flowers, and roses are among the most significant in this symbolic language. Here are some common meanings associated with various colors of roses:\\n\\n1. **Red Roses**: Love and passion. They are often given on romantic occasions, such as Valentine\\'s Day or anniversaries.\\n\\n2. **White Roses**: Purity, innocence, and new beginnings. They are often used in weddings and symbolize a fresh start.\\n\\n3. **Yellow Roses**: Friendship and joy. They convey warmth and happiness, making them suitable for platonic relationships.\\n\\n4. **Pink Roses**: Gratitude, grace, and admiration. Lighter shades can symbolize sweetness, while darker shades can represent appreciation.\\n\\n5. **Orange Roses**: Enthusiasm and desire. They convey a sense of excitement and energy.\\n\\n6. **Lavender Roses**: Enchantment and love at first sight. They symbolize a sense of wonder and admiration.\\n\\n7. **Black Roses**: Often associated with mourning or the end of something, such as a relationship or a phase in life.\\n\\n8. **Blue Roses**: Mystery and the unattainable. Since blue roses do not naturally occur, they symbolize something that is desired but cannot be achieved.\\n\\nThese meanings can vary by culture and context, but they provide a general framework for understanding the sentiments conveyed through the gift of roses.'"
   ]
  },
  {
   "cell_type": "code",
   "execution_count": 7,
   "metadata": {},
   "outputs": [
    {
     "data": {
      "text/plain": [
       "{'flower': 'Rose',\n",
       " 'text': \"The language of flowers, also known as floriography, assigns specific meanings to different flowers, and roses are among the most significant in this symbolic language. Here are some common meanings associated with various colors of roses:\\n\\n1. **Red Roses**: Love and passion. They are often given on romantic occasions, such as anniversaries or Valentine's Day.\\n\\n2. **White Roses**: Purity, innocence, and new beginnings. They are often used in weddings and symbolize a fresh start.\\n\\n3. **Yellow Roses**: Friendship, joy, and warmth. They can convey feelings of happiness and are often given to friends.\\n\\n4. **Pink Roses**: Gratitude, grace, and admiration. Lighter shades can symbolize sweetness, while darker shades can represent appreciation.\\n\\n5. **Orange Roses**: Enthusiasm and desire. They convey a sense of excitement and passion.\\n\\n6. **Lavender Roses**: Enchantment and love at first sight. They are often associated with a sense of mystery and fascination.\\n\\n7. **Black Roses**: Mourning or the end of something. They can symbolize death or farewell, but they can also represent rebirth or new beginnings in some contexts.\\n\\n8. **Blue Roses**: The unattainable or mystery. Since blue roses do not naturally occur, they often symbolize something that is desired but cannot be achieved.\\n\\nThese meanings can vary based on cultural context and personal interpretation, but they provide a general framework for understanding the sentiments associated with roses in the language of flowers.\"}"
      ]
     },
     "execution_count": 7,
     "metadata": {},
     "output_type": "execute_result"
    }
   ],
   "source": [
    "from langchain_core.runnables import RunnablePassthrough\n",
    "\n",
    "outer_chain = RunnablePassthrough().assign(text=chain)\n",
    "\n",
    "outer_chain.invoke({\"flower\": \"Rose\"})"
   ]
  },
  {
   "cell_type": "markdown",
   "metadata": {},
   "source": [
    "{'flower': 'Rose',\n",
    " 'text': 'The language of flowers, or \"floriography,\" assigns specific meanings to different flowers, and roses are among the most significant in this symbolic language. Here are some common meanings associated with various colors of roses:\\n\\n1. **Red Roses**: Love and passion. They are often given on romantic occasions, such as Valentine\\'s Day or anniversaries.\\n\\n2. **White Roses**: Purity, innocence, and new beginnings. They are often used in weddings and symbolize a fresh start.\\n\\n3. **Yellow Roses**: Friendship and joy. They convey warmth and happiness, making them suitable for platonic relationships.\\n\\n4. **Pink Roses**: Gratitude, grace, and admiration. Lighter shades often represent sweetness, while deeper pinks can signify appreciation.\\n\\n5. **Orange Roses**: Enthusiasm and desire. They express a sense of fascination and energy.\\n\\n6. **Lavender Roses**: Enchantment and love at first sight. They convey a sense of magic and admiration.\\n\\n7. **Black Roses**: Mourning or farewell. They can symbolize the end of something, such as a relationship or a life.\\n\\n8. **Blue Roses**: Mystery and the unattainable. Since blue roses do not naturally occur, they often represent something elusive.\\n\\nThese meanings can vary by culture and context, but they provide a general framework for understanding the sentiments associated with roses in the language of flowers.'}"
   ]
  },
  {
   "cell_type": "markdown",
   "metadata": {},
   "source": [
    "| Feature                 | LLMChain               | LCEL (pipe)                      |\n",
    "|-------------------------|------------------------|----------------------------------|\n",
    "| Style                   | Object-oriented        | Functional, modular              |\n",
    "| Flexibility             | Limited                | Very flexible (branching, etc.)  |\n",
    "| Input handling          | Named inputs           | Named or positional              |\n",
    "| Reusability             | Moderate               | High                             |\n",
    "| New LangChain features  | Somewhat outdated      | Fully supported                  |\n",
    "| Syntax                  | Class-based            | Pipe-based (like Unix/Linux)     |\n"
   ]
  },
  {
   "cell_type": "code",
   "execution_count": null,
   "metadata": {},
   "outputs": [],
   "source": [
    "## SequentialChain\n",
    "\"\"\"\n",
    "Our goal is as follows:\n",
    "step 1: we assume that the large model is a botanist,asking it to provide knowledge and introductions for a specific type of flower.\n",
    "step 2: we assume that the large model is a flower reviewer,asking it to reference the text output from the botanist above and provide comments on the flower.\n",
    "step 3: we assume that the large model is the social media manager for Flowers,asking it to reference the text output from both the botanist and the flower reviewer above to write a flower marketing copy.\n",
    "\n",
    "TASK chain:\n",
    "flower introductions\n",
    "review\n",
    "social media Post\n",
    "\n",
    "\"\"\""
   ]
  },
  {
   "cell_type": "code",
   "execution_count": 8,
   "metadata": {},
   "outputs": [],
   "source": [
    "from langchain.chains import SequentialChain\n",
    "from langchain.chains import LLMChain\n",
    "from langchain_openai import ChatOpenAI\n",
    "from langchain_core.prompts import ChatPromptTemplate\n",
    "from langchain_core.output_parsers import StrOutputParser\n",
    "from langchain.prompts import PromptTemplate\n",
    "\n",
    "llm = ChatOpenAI(model=\"gpt-4o-mini\", temperature=0)\n",
    "#LLMChain\n",
    "template = \"\"\"\n",
    "You are botanist.Given the name and type of a flower,you need to write an introduction of about 200 words for this flower.\n",
    "\n",
    "Name:{name}\n",
    "Color:{color}\n",
    "Botanist:Here is the introduction of the above flower:\n",
    "\"\"\"\n",
    "prompt_template = PromptTemplate(input_variables=[\"name\",\"color\"],template=template)\n",
    "introduction_chain = LLMChain(llm=llm,prompt=prompt_template,output_key=\"introduction\")\n",
    "\n",
    "\n",
    "template = \"\"\"\n",
    "You are critic.Given an introduction of a flower,you need to write a review of about 200 words for this flower.\n",
    "\n",
    "Flower introduction:\n",
    "{introduction}\n",
    "The flower critic's review of the above flower:\n",
    "\"\"\"\n",
    "prompt_template = PromptTemplate(input_variables=[\"introduction\"],template=template)\n",
    "review_chain = LLMChain(llm=llm,prompt=prompt_template,output_key=\"review\")\n",
    "\n",
    "\n",
    "template = \"\"\"\n",
    "You are a social media manager for a flower shop.Given an introduction and review of a flower,you need to write a social medial media post of about 300 words for this flower.\n",
    "\n",
    "The flower critic's review of the above flower:\n",
    "{review}\n",
    "\n",
    "Social Media Post:\n",
    "\"\"\"\n",
    "prompt_template = PromptTemplate(input_variables=[\"review\"],template=template)\n",
    "social_post_chain = LLMChain(llm=llm,prompt=prompt_template,output_key=\"social_post\")\n"
   ]
  },
  {
   "cell_type": "code",
   "execution_count": 10,
   "metadata": {},
   "outputs": [
    {
     "name": "stdout",
     "output_type": "stream",
     "text": [
      "\n",
      "\n",
      "\u001b[1m> Entering new SequentialChain chain...\u001b[0m\n",
      "\n",
      "\u001b[1m> Finished chain.\u001b[0m\n",
      "{'name': 'Rose', 'color': 'black', 'introduction': \"The black rose, often shrouded in mystery and intrigue, is a captivating flower that has captured the imagination of many throughout history. While true black roses do not exist in nature, the deep, dark hues of certain varieties, such as the 'Black Baccara' or 'Black Magic,' create an illusion of blackness, making them a striking addition to any garden or floral arrangement. These roses are typically a rich, velvety red or deep purple that appears almost black under certain lighting conditions.\\n\\nSymbolically, black roses are often associated with themes of mourning, farewell, and the end of a cycle, making them a poignant choice for memorials or somber occasions. However, they can also represent rebirth, new beginnings, and the beauty found in darkness. In the realm of literature and art, black roses have been used to convey complex emotions, from love and passion to loss and despair.\\n\\nCultivating black roses requires careful attention to their growing conditions, as they thrive in well-drained soil and require ample sunlight. With their unique color and rich symbolism, black roses continue to enchant gardeners and flower enthusiasts alike, serving as a reminder of the beauty that can be found in the unconventional.\", 'review': \"The black rose, with its enigmatic allure, stands as a testament to the beauty of the unconventional in the floral world. While true black roses are a myth, varieties like 'Black Baccara' and 'Black Magic' offer a mesmerizing deep red or purple that can appear almost black, captivating the eye and stirring the imagination. These roses are not merely flowers; they are symbols steeped in rich connotations, embodying themes of mourning, farewell, and the bittersweet nature of love and loss.\\n\\nIn the garden, black roses demand attention—not just for their striking appearance but also for the care they require. Thriving in well-drained soil and abundant sunlight, they challenge gardeners to cultivate them with intention and dedication. This effort is rewarded with blooms that evoke a sense of mystery and depth, making them a perfect choice for those looking to convey complex emotions.\\n\\nMoreover, the black rose's dual symbolism of endings and new beginnings resonates deeply in our lives, reminding us that beauty often emerges from darkness. Whether used in floral arrangements for somber occasions or as a bold statement in a garden, the black rose continues to enchant and inspire, proving that even in the shadows, there is profound beauty to be found.\", 'social_post': \"🌹✨ Embrace the Enigma of the Black Rose! ✨🌹\\n\\nAt [Your Flower Shop Name], we believe that every flower tells a story, and the black rose is one of the most captivating tales in the floral world. While true black roses may be a myth, varieties like 'Black Baccara' and 'Black Magic' enchant us with their deep, velvety hues that dance between rich red and mysterious purple. These stunning blooms are not just flowers; they are symbols of love, loss, and the bittersweet beauty of life.\\n\\nThe black rose demands attention, both in the garden and in floral arrangements. Its striking appearance is matched only by the care it requires—thriving in well-drained soil and basking in sunlight. This challenge is a rewarding journey for any gardener, as the effort yields blooms that evoke a sense of mystery and depth. 🌿💖\\n\\nWhether you’re looking to express complex emotions or simply want to add a touch of drama to your floral displays, the black rose is the perfect choice. Its dual symbolism of endings and new beginnings resonates with us all, reminding us that beauty often emerges from the shadows. 🌑🌸\\n\\nJoin us in celebrating the allure of the black rose! Visit [Your Flower Shop Name] to explore our stunning selection and discover how these enchanting blooms can elevate your floral arrangements for any occasion—be it a somber farewell or a bold statement in your garden. \\n\\nLet the black rose inspire you to find beauty in every moment, even in the darkest of times. 💐✨\\n\\n#BlackRose #FlowerShop #FloralBeauty #MysteryInBloom #LoveAndLoss #GardenGoals #FloralArrangements #NatureInspires\"}\n"
     ]
    }
   ],
   "source": [
    "overall_chain = SequentialChain(\n",
    "    chains=[introduction_chain,review_chain,social_post_chain],\n",
    "    input_variables=[\"name\",\"color\"],\n",
    "    output_variables=[\"introduction\",\"review\",\"social_post\"],\n",
    "    verbose=True\n",
    ")\n",
    "\n",
    "result = overall_chain.invoke({\"name\":\"Rose\",\"color\":\"black\"})\n",
    "print(result)"
   ]
  },
  {
   "cell_type": "markdown",
   "metadata": {},
   "source": [
    "\n",
    "\u001b[1m> Entering new SequentialChain chain...\u001b[0m\n",
    "\n",
    "\u001b[1m> Finished chain.\u001b[0m\n",
    "{'name': 'Rose', 'color': 'black', \n",
    "\n",
    "'introduction': \"The black rose, often shrouded in mystery and intrigue, is a captivating flower that has captured the imagination of many throughout history. While true black roses do not exist in nature, the deep, dark hues of certain varieties, such as the 'Black Baccara' or 'Black Magic,' create an illusion of blackness, showcasing rich, velvety petals that appear almost ebony under certain lighting conditions. These roses are often associated with themes of rebirth, elegance, and the enigmatic nature of love, making them a popular choice for special occasions and artistic expressions.\\n\\nIn the realm of symbolism, black roses can convey a range of meanings, from the end of a relationship to the celebration of new beginnings. They are frequently used in literature and art to represent the duality of beauty and darkness, evoking a sense of passion and intensity. Cultivated primarily in temperate climates, black roses thrive in well-drained soil and require ample sunlight to flourish. Their striking appearance and unique color make them a sought-after addition to gardens and floral arrangements, appealing to those who appreciate the unconventional and the extraordinary in the world of botany.\", \n",
    "\n",
    "'review': \"The black rose, with its enigmatic allure, stands as a testament to the beauty found in darkness. While true black roses are a myth, varieties like 'Black Baccara' and 'Black Magic' offer a stunning visual experience with their deep, velvety petals that flirt with the idea of true blackness. This flower transcends mere aesthetics; it embodies a rich tapestry of symbolism that resonates deeply with those who encounter it. \\n\\nIn the realm of floral arrangements, the black rose is a bold statement piece, often evoking a sense of mystery and sophistication. Its association with themes of rebirth and the complexities of love adds layers of meaning, making it a compelling choice for both joyous celebrations and somber farewells. The duality of beauty and darkness that the black rose represents is a powerful reminder of the intricate nature of human emotions.\\n\\nCultivating these roses requires a bit of care, as they thrive in well-drained soil and need ample sunlight. However, the effort is well worth it for those who appreciate the unconventional. In a world where traditional blooms often dominate, the black rose stands out as a striking symbol of individuality and depth, making it a must-have for any garden or floral enthusiast seeking to embrace the extraordinary.\", \n",
    "\n",
    "'social_post': \"🌹✨ Embrace the Enigma of the Black Rose! ✨🌹\\n\\nAt [Your Flower Shop Name], we believe that every flower tells a story, and the black rose is one of the most captivating tales in the floral world. While true black roses may be a myth, varieties like 'Black Baccara' and 'Black Magic' bring a stunning visual experience that flirts with the idea of true darkness. Their deep, velvety petals create an alluring contrast that is simply irresistible! \\n\\nBut the black rose is more than just a pretty face. It embodies a rich tapestry of symbolism, representing the complexities of love, rebirth, and the beauty found in darkness. Whether you're celebrating a joyous occasion or bidding farewell, this bold bloom adds a layer of sophistication and mystery to any arrangement. 🌌💔\\n\\nCultivating these beauties requires a little extra care, as they thrive in well-drained soil and bask in the sunlight. But trust us, the effort is worth it! The black rose stands out in a world filled with traditional blooms, making it the perfect choice for those who dare to be different. 🌿🌞\\n\\nAre you ready to embrace the extraordinary? Visit us at [Your Flower Shop Name] to discover our stunning selection of black roses and let their enchanting beauty inspire you. Whether you're looking to make a statement in your garden or surprise a loved one with a unique bouquet, the black rose is sure to leave a lasting impression. \\n\\nJoin us in celebrating the allure of the black rose! Share your favorite black rose moments with us using #BlackRoseBeauty and let’s spread the magic together! 🌹🖤\\n\\n#FlowerShop #BlackRose #FloralArt #UniqueBlooms #EmbraceTheExtraordinary\"}\n"
   ]
  },
  {
   "cell_type": "code",
   "execution_count": 11,
   "metadata": {},
   "outputs": [],
   "source": [
    "#Runnable(LCEL)  +  .pipe()\n",
    "\"\"\"\n",
    "1.instroduction\n",
    "2.review\n",
    "Social media post\n",
    "\n",
    "\"\"\"\n",
    "from langchain_openai import ChatOpenAI\n",
    "from langchain_core.prompts import ChatPromptTemplate\n",
    "from langchain_core.output_parsers import StrOutputParser\n",
    "from langchain_core.runnables import Runnable, RunnablePassthrough"
   ]
  },
  {
   "cell_type": "code",
   "execution_count": 12,
   "metadata": {},
   "outputs": [],
   "source": [
    "llm = ChatOpenAI(model=\"gpt-4o-mini\", temperature=0.7)"
   ]
  },
  {
   "cell_type": "code",
   "execution_count": 13,
   "metadata": {},
   "outputs": [],
   "source": [
    "# Flower Introduction Prompt\n",
    "introduction_template = \"\"\"\n",
    "You are a botanist. Given the name and type of a flower, you need to write an introduction of about 200 words for this flower.\n",
    "\n",
    "Name: {name}\n",
    "Color: {color}\n",
    "Botanist: Here is the introduction of the above flower:\n",
    "\"\"\"\n",
    "introduction_prompt = ChatPromptTemplate.from_template(introduction_template)\n"
   ]
  },
  {
   "cell_type": "code",
   "execution_count": 14,
   "metadata": {},
   "outputs": [],
   "source": [
    "# Flower Review Prompt\n",
    "review_template = \"\"\"\n",
    "You are a critic. Given an introduction of a flower, you need to write a review of about 200 words for this flower.\n",
    "\n",
    "Flower introduction:\n",
    "{introduction}\n",
    "The flower critic's review of the above flower:\n",
    "\"\"\"\n",
    "review_prompt = ChatPromptTemplate.from_template(review_template)"
   ]
  },
  {
   "cell_type": "code",
   "execution_count": 15,
   "metadata": {},
   "outputs": [],
   "source": [
    "# Social Media Post Prompt\n",
    "social_post_template = \"\"\"\n",
    "You are a social media manager for a flower shop. Given an introduction and review of a flower, you need to write a social media post of about 300 words for this flower.\n",
    "\n",
    "The flower critic's review of the above flower:\n",
    "{review}\n",
    "\n",
    "Social Media Post:\n",
    "\"\"\"\n",
    "social_post_prompt = ChatPromptTemplate.from_template(social_post_template)"
   ]
  },
  {
   "cell_type": "code",
   "execution_count": 16,
   "metadata": {},
   "outputs": [],
   "source": [
    "# Define individual Runnables\n",
    "introduction_chain = introduction_prompt | llm | StrOutputParser()\n",
    "review_chain = {\"introduction\":introduction_chain} | review_prompt | llm | StrOutputParser()\n",
    "social_post_chain = {\"review\":review_chain} | social_post_prompt | llm | StrOutputParser()\n"
   ]
  },
  {
   "cell_type": "markdown",
   "metadata": {},
   "source": [
    "Runnable:LCEL"
   ]
  },
  {
   "cell_type": "code",
   "execution_count": 17,
   "metadata": {},
   "outputs": [
    {
     "data": {
      "text/plain": [
       "\"🌹✨ Embrace the Enigma of the Black Rose! ✨🌹\\n\\nAre you ready to add a touch of mystery and elegance to your floral arrangements? Meet the captivating BLACK ROSE, a flower that not only mesmerizes with its deep, velvety petals but also carries a powerful narrative that speaks to the heart and soul. \\n\\nWhile true black roses are a rare find in nature, varieties like ‘Black Baccara’ and ‘Black Magic’ bring forth stunning shades of deep crimson and purple that create an air of intrigue and drama. These blooms are not just flowers; they are symbols of life’s beautiful contrasts, representing both the end of an era and the promise of new beginnings. Whether you're looking to express love, commemorate a special moment, or simply enhance your space, the black rose is the perfect choice to elevate any occasion.\\n\\nImagine the impact of a bouquet featuring these striking flowers—ideal for romantic gestures, somber gatherings, or even as a unique centerpiece that sparks conversation. Their luxurious elegance is sure to mesmerize anyone who lays eyes on them.\\n\\nBut remember, cultivating these beauties isn’t just about beauty; it’s a labor of love! Black roses thrive with care, requiring well-drained soil and plenty of sunlight. For those who are dedicated, they reward you with extraordinary blooms that not only beautify your surroundings but also ignite introspection and appreciation for life’s dualities.\\n\\nAre you ready to explore the allure of the black rose? Visit us today to discover how these enchanting flowers can transform your floral experience! 🌹💖 #BlackRose #FlowerShop #FloralElegance #SymbolOfLove #Nature'sBeauty\""
      ]
     },
     "execution_count": 17,
     "metadata": {},
     "output_type": "execute_result"
    }
   ],
   "source": [
    "#Runnable-LCEL\n",
    "social_post_chain.invoke({\"name\":\"Rose\",\"color\":\"black\"})"
   ]
  },
  {
   "cell_type": "markdown",
   "metadata": {},
   "source": [
    "\"🌹✨ Embrace the Mystery of the Black Rose! ✨🌹 \\n\\nStep into a world where elegance meets enigma with our stunning collection of black roses! While true black roses may be a myth, varieties like 'Black Baccara' and 'Black Magic' present a breathtaking array of deep red and purple hues that create an alluring, gothic charm. These blooms are not just flowers; they are statements of artistry and emotion, perfect for anyone looking to add a touch of drama to their floral arrangements.\\n\\nThe black rose is steeped in rich symbolism, representing the complexities of love, the cycles of life, and the beauty found in both death and rebirth. Whether you choose to feature them as a solitary bloom or incorporate them into a grand bouquet, these flowers command attention and spark conversation. 🌑💖\\n\\nBut remember, with great beauty comes great responsibility! The black rose can evoke a range of feelings, so it’s essential to use them thoughtfully. They can symbolize passion and romance when placed in the right context, but they may also convey sorrow if misinterpreted. \\n\\nAt [Your Flower Shop Name], we offer an exquisite selection of these captivating blooms, perfect for expressing your deepest sentiments or adding an edge to your decor. 🌸✨\\n\\nReady to dive into the world of black roses? Visit us in-store or online to explore our collection and find the perfect floral piece that speaks to your heart. Let the allure of the black rose inspire your next bouquet! 💐🖤\\n\\n#BlackRose #FlowerShop #GothicElegance #FloralArt #Symbolism #LoveAndLife #FloralsWithMeaning #ShopLocal\""
   ]
  },
  {
   "cell_type": "code",
   "execution_count": 18,
   "metadata": {},
   "outputs": [
    {
     "data": {
      "text/plain": [
       "\"The black rose, a captivating and enigmatic flower, has long been a symbol of mystery and intrigue in various cultures. While true black roses do not exist in nature, the deep, dark hues of certain varieties, such as the ‘Black Baccara’ and ‘Black Magic,’ create an illusion of blackness, enchanting flower enthusiasts and gardeners alike. These roses typically exhibit rich, velvety shades of dark red or maroon that can appear almost black under certain lighting conditions, adding to their allure.\\n\\nHistorically, black roses have been associated with themes of death, mourning, and farewell, often appearing in literature and art to evoke a sense of melancholy. However, modern interpretations have expanded their symbolism to include rebirth, new beginnings, and the celebration of the unique beauty found in darkness. The black rose's striking appearance makes it a popular choice for dramatic floral arrangements, gothic-themed events, and as a statement piece in gardens.\\n\\nCultivating black roses requires a keen understanding of their needs, as they thrive in well-drained soils and require ample sunlight to display their stunning colors. As a botanist, I find the black rose to be a fascinating testament to nature's ability to inspire both beauty and depth in our emotional landscapes.\""
      ]
     },
     "execution_count": 18,
     "metadata": {},
     "output_type": "execute_result"
    }
   ],
   "source": [
    "introduction_chain.invoke({\"name\":\"Rose\",\"color\":\"black\"})"
   ]
  },
  {
   "cell_type": "markdown",
   "metadata": {},
   "source": [
    "'The black rose, a captivating and enigmatic flower, has long been a symbol of mystery and intrigue in the botanical world. Unlike the more common varieties of roses that showcase vibrant hues, the black rose boasts a deep, velvety color that evokes a sense of elegance and sophistication. While true black roses do not exist in nature, they can be created through selective breeding and dyeing techniques, resulting in blooms that appear nearly black, often with undertones of deep red or purple. \\n\\nHistorically, black roses have been associated with themes of rebirth, farewell, and the darker aspects of love. They often serve as powerful symbols in literature and art, representing the duality of beauty and mortality. In gardens, black roses can make a striking statement, adding a touch of drama and allure. \\n\\nCultivating black roses requires specific care, including well-draining soil and adequate sunlight, making them both a challenge and a delight for gardeners. As a unique addition to any floral arrangement, black roses are sure to leave a lasting impression, inviting contemplation and admiration for their rare beauty and symbolism.'"
   ]
  },
  {
   "cell_type": "code",
   "execution_count": 19,
   "metadata": {},
   "outputs": [
    {
     "data": {
      "text/plain": [
       "'The black rose, with its enigmatic allure and deep cultural roots, stands as a striking testament to the duality of beauty and melancholy in the floral world. Despite its name, the black rose is not a true black specimen; rather, it presents a sumptuous hue of deep maroon or purple that can appear almost obsidian under the right light. This captivating visual quality makes it a favored choice for those seeking to convey a sense of mystery and depth in their floral arrangements.\\n\\nOne cannot overlook the profound symbolism associated with the black rose. Historically linked to themes of mourning and farewells, it simultaneously evokes feelings of rebellion and strength, making it a complex flower that resonates on multiple levels. Whether adorning a somber occasion or celebrating a moment of profound change, the black rose eloquently encapsulates the bittersweet nature of life.\\n\\nFrom a horticultural perspective, black roses offer versatility within the Rosa species, thriving in varied climates and showcasing unique characteristics across hybrids. Their cultivation not only enhances gardens but also invites deeper reflection on the nature of beauty in darkness. Ultimately, the black rose is not merely a flower; it is an artistic expression that challenges our perceptions and invites us to embrace the complexities of existence.'"
      ]
     },
     "execution_count": 19,
     "metadata": {},
     "output_type": "execute_result"
    }
   ],
   "source": [
    "review_chain.invoke({\"name\":\"Rose\",\"color\":\"black\"})"
   ]
  },
  {
   "cell_type": "markdown",
   "metadata": {},
   "source": [
    "\"The black rose, an alluring and enigmatic creation of nature, stands as a testament to the duality of beauty and darkness. While it may not exist in pure form, the dark-hued varieties, such as 'Black Baccara' and 'Black Magic,' are nothing short of breathtaking. Their deep crimson petals, which flirt with the illusion of black, create a visual paradox that captivates the imagination. This color play under varying light conditions adds an intriguing layer to their aesthetic, making them a popular choice for both somber occasions and romantic expressions.\\n\\nThe symbolism behind the black rose is multifaceted. It embodies the end of a chapter, often associated with loss, yet it simultaneously whispers of rebirth and transformation. This complexity resonates deeply, inviting introspection and emotional connection. The robust fragrance that accompanies these striking blooms further enhances their allure, making them not just a visual treat but also a sensory experience.\\n\\nCultivating black roses demands diligence and expertise, reflecting the care required to nurture beauty from the shadows. For gardeners and flower enthusiasts alike, the black rose is more than just a plant; it is a statement, a conversation starter, and a powerful symbol of the intricate dance between love and longing. In a world that often shies away from darkness, the black rose boldly embraces it, offering solace and beauty in its wake.\""
   ]
  },
  {
   "cell_type": "code",
   "execution_count": 20,
   "metadata": {},
   "outputs": [
    {
     "data": {
      "text/plain": [
       "{'name': 'Rose',\n",
       " 'color': 'black',\n",
       " 'text': \"🌹✨ Discover the Enigmatic Allure of the Black Rose! ✨🌹\\n\\nAt [Your Flower Shop Name], we believe that every flower tells a story, and none are as captivating as the black rose. With its deep, mysterious hues, this floral wonder evokes a sense of drama and elegance that’s simply irresistible. While true black roses may be a botanical fantasy, varieties like 'Black Baccara' and 'Black Magic' bring a stunning, dark beauty to life, often appearing almost black in the right light. \\n\\nPerfect for those who dare to be different, the black rose serves as a powerful symbol that traverses the spectrum of human emotion—from heart-wrenching goodbyes to the hopeful beginnings of new chapters. It’s a flower that invites contemplation, making it an exceptional choice for both gardens and floral arrangements. Whether you’re looking to add a touch of mystery to your home or send a meaningful message to a loved one, the black rose is sure to command attention and spark conversations.\\n\\nHowever, cultivating these beauties does come with its challenges. Their specific care requirements highlight the delicate balance between beauty and fragility, reminding us that the most stunning things in life often require special attention.\\n\\nAt [Your Flower Shop Name], we cherish the story this floral paradox tells—mournful yet hopeful, mysterious yet familiar. Come explore our selection of black roses and let them inspire you to embrace life’s dualities. 🌹🖤 \\n\\nVisit us today or check our website to find the perfect black rose for your next occasion! #BlackRose #FloralElegance #NatureArtistry #FlowerShop\"}"
      ]
     },
     "execution_count": 20,
     "metadata": {},
     "output_type": "execute_result"
    }
   ],
   "source": [
    "#RunnablePassthrough\n",
    "from langchain_core.runnables import RunnablePassthrough\n",
    "outer_chain = RunnablePassthrough().assign(text=social_post_chain)\n",
    "outer_chain.invoke({\"name\":\"Rose\",\"color\":\"black\"})"
   ]
  },
  {
   "cell_type": "markdown",
   "metadata": {},
   "source": [
    "{'name': 'Rose',\n",
    " 'color': 'black',\n",
    " 'text': \"🌹✨ Embrace the Mystery: The Allure of Black Roses! ✨🌹\\n\\nStep into a world of enchantment with the captivating black rose! While true black roses are a botanical myth, varieties like 'Black Baccara' and 'Black Velvet' reveal an exquisite depth of color that can appear jet black, especially in the soft glow of candlelight. These stunning flowers are not just a feast for the eyes; they carry a rich tapestry of meaning, evolving from symbols of mourning to representations of rebirth and new beginnings. \\n\\nImagine adding a touch of gothic elegance to your garden or floral arrangements—black roses evoke a sense of drama and intrigue that few other blooms can match. Their velvety petals and graceful form have captivated artists and romantics for centuries, making them a timeless choice for expressing deep emotions or simply enhancing your floral artistry.\\n\\nCultivating black roses does require a bit of tender loving care. These beauties thrive in optimal soil conditions and sunlight, but for those willing to invest the effort, the reward is a breathtaking showpiece that stands out in any setting. 🌿💧\\n\\nWhether you're looking to convey a complex sentiment or simply want to add a unique flair to your floral collection, black roses are a beloved choice among horticulturists and flower lovers alike. 🌑❤️\\n\\nVisit us at [Your Flower Shop Name] to discover our selection of stunning black roses and learn how to incorporate these elegant blooms into your arrangements. Let the mystery of black roses inspire your creativity and transform your space! 🌸💫\\n\\n#BlackRoses #FloralElegance #FlowerPower #GardenBeauty #MysteryInBloom #YourFlowerShopName\"}"
   ]
  },
  {
   "cell_type": "code",
   "execution_count": null,
   "metadata": {},
   "outputs": [],
   "source": [
    "# hw:1.Use the .pipe() method to accomplish this.\n"
   ]
  },
  {
   "cell_type": "code",
   "execution_count": 21,
   "metadata": {},
   "outputs": [
    {
     "data": {
      "text/plain": [
       "\"The black rose, often hailed as the flower of mystery, is an exquisite testament to nature's complexity and artistry. While it is true that a pure black rose doesn't exist in the natural world, varieties such as ‘Black Baccara’ and ‘Black Magic’ masterfully capture the essence of darkness with their deep crimson petals cloaked in shadows. This striking visual allure invites intrigue and admiration, setting the black rose apart from its more traditional counterparts.\\n\\nIts velvety texture paired with undertones of burgundy or purple adds a luxurious depth that is simply enchanting. This floral marvel not only captivates the eye but also evokes a rich tapestry of emotions, ranging from sorrow to rebirth, making it an ideal choice for gothic-themed arrangements or those seeking to convey complex sentiments.\\n\\nCultivation of the black rose presents unique challenges, appealing to both seasoned botanists and enthusiastic gardeners. The need for well-drained soil and abundant sunlight underscores the delicate balance between beauty and care in the realm of horticulture. As the demand for unique floral varieties rises, the black rose stands as a bold statement of elegance, a symbol of life's duality, and a reminder of the beauty that lies in the shadows. Overall, the black rose is an exceptional choice for anyone looking to add a touch of drama and sophistication to their floral arrangements.\""
      ]
     },
     "execution_count": 21,
     "metadata": {},
     "output_type": "execute_result"
    }
   ],
   "source": [
    "from langchain_core.runnables import RunnableParallel\n",
    "\n",
    "review_chain = (\n",
    "    RunnableParallel({\"introduction\": introduction_chain})\n",
    "    .pipe(review_prompt)\n",
    "    .pipe(llm)\n",
    "    .pipe(StrOutputParser())\n",
    ")\n",
    "\n",
    "review_chain.invoke({\"name\": \"Rose\", \"color\": \"black\"})\n"
   ]
  },
  {
   "cell_type": "code",
   "execution_count": 22,
   "metadata": {},
   "outputs": [
    {
     "data": {
      "text/plain": [
       "\"🌹✨ Introducing the Enigmatic Black Rose! ✨🌹\\n\\nStep into the world of mystery and allure with our exquisite black rose! While nature may not gift us with true black blooms, the deep crimson and enchanting purple varieties we offer encapsulate a haunting beauty that stirs the soul and captivates the imagination.\\n\\nThe black rose is more than just a flower; it’s a canvas for emotions, effortlessly merging elegance with the melancholic shadows of life. Perfectly suited for those who appreciate the complexities of love and beauty, these roses tell a story that words often fail to express. Whether you're celebrating rebirth, remembrance, or simply the beauty of existence, the black rose serves as a powerful symbol for every occasion.\\n\\nVisually striking with its velvety petals, the black rose stands out dramatically against lighter blooms, making it an essential addition to any floral arrangement. It's not just about aesthetics; this flower has become a muse in literature and art, representing the intricate dance of life and loss. \\n\\nFor the gardeners and floral enthusiasts among us, cultivating black roses is a rewarding challenge. These beauties thrive in well-drained soil and bask in sunlight, making the journey of nurturing them just as fulfilling as their breathtaking blooms.\\n\\nReady to embrace the beauty of darkness? Visit us today to discover our stunning selection of black roses. Whether for a special someone or as a treat for yourself, let these enchanting blooms add an air of mystery and elegance to your life. 🌹🖤\\n\\n#BlackRose #FlowerShop #MysticalBeauty #FloralArtistry #EmbraceTheDarkness #LoveAndLoss #GardeningJoy #FlowerMagic\""
      ]
     },
     "execution_count": 22,
     "metadata": {},
     "output_type": "execute_result"
    }
   ],
   "source": [
    "from langchain_core.runnables import RunnableParallel\n",
    "\n",
    "social_post_chain = (\n",
    "    RunnableParallel({\"review\": review_chain})\n",
    "    .pipe(social_post_prompt)\n",
    "    .pipe(llm)\n",
    "    .pipe(StrOutputParser())\n",
    ")\n",
    "\n",
    "social_post_chain.invoke({\"name\": \"Rose\", \"color\": \"black\"})\n"
   ]
  },
  {
   "cell_type": "markdown",
   "metadata": {},
   "source": [
    "introduction_chain = introduction_prompt | llm | StrOutputParser()\n",
    "\n",
    "chain.pipe(step1).pipe(step2)\n",
    "chain | step1 | step2\n"
   ]
  },
  {
   "cell_type": "code",
   "execution_count": null,
   "metadata": {},
   "outputs": [],
   "source": [
    "\"\"\"Task:Flower operation intelligent customer service ChatBot typically recevied two main types of inquiries.\n",
    "1. flower care\n",
    "2. flower decoration\n",
    "\n",
    "requirement:Direct ChatBot A if receives the first type of inquiry and direct ChatBot B if receives the Second type of inquiry\n",
    "\"\"\"\n",
    "\n"
   ]
  },
  {
   "cell_type": "markdown",
   "metadata": {},
   "source": [
    "RouterChain -V2\n",
    "\"\"\"\n",
    "LLMRouterChain + MultiPromptChain\n",
    "steps:\n",
    "1. Construct processing tempaltes:define two string templates for ...\n",
    "2. Prompt information:using a list\n",
    "3. LLM\n",
    "4. Buid target chains:LLMChain\n",
    "5. Build LLM Routing Chain\n",
    "6. Build default chain\n",
    "7. Built Multi-Prompt Chain->LangGraph\n",
    "\"\"\""
   ]
  },
  {
   "cell_type": "markdown",
   "metadata": {},
   "source": [
    "Router Task\n",
    "1. LangGraph:StateGraph + langchain:\n",
    "2. Prompt information:using a list\n",
    "3. LLM\n",
    "4.task chain\n",
    "5.StateGraph\n",
    "6.execution"
   ]
  },
  {
   "cell_type": "code",
   "execution_count": 23,
   "metadata": {},
   "outputs": [
    {
     "data": {
      "text/plain": [
       "True"
      ]
     },
     "execution_count": 23,
     "metadata": {},
     "output_type": "execute_result"
    }
   ],
   "source": [
    "from dotenv import load_dotenv\n",
    "load_dotenv()"
   ]
  },
  {
   "cell_type": "code",
   "execution_count": 24,
   "metadata": {},
   "outputs": [],
   "source": [
    "from langchain_core.output_parsers import StrOutputParser\n",
    "from langchain_core.prompts import ChatPromptTemplate\n",
    "from langchain_core.runnables import RunnableConfig\n",
    "from langchain_openai import ChatOpenAI\n",
    "from langgraph.graph import END, START, StateGraph\n",
    "from typing_extensions import TypedDict\n",
    "\n",
    "\n",
    "# graph.get_graph().draw_mermaid()  # instead of .draw_mermaid_png()\n",
    "\n",
    "\n",
    "# Initialize the LLM model\n",
    "llm = ChatOpenAI(model=\"gpt-4o-mini\")"
   ]
  },
  {
   "cell_type": "code",
   "execution_count": 25,
   "metadata": {},
   "outputs": [],
   "source": [
    "# Create prompt templates\n",
    "flower_care_prompt = ChatPromptTemplate.from_messages([\n",
    "    (\"system\", \"You are an experienced gardener.\"),\n",
    "    (\"human\", \"{input}\")\n",
    "])\n",
    "\n",
    "flower_deco_prompt = ChatPromptTemplate.from_messages([\n",
    "    (\"system\", \"You are a popular flower arrangement master.\"),\n",
    "    (\"human\", \"{input}\")\n",
    "])\n"
   ]
  },
  {
   "cell_type": "markdown",
   "metadata": {},
   "source": []
  },
  {
   "cell_type": "code",
   "execution_count": 26,
   "metadata": {},
   "outputs": [
    {
     "name": "stdout",
     "output_type": "stream",
     "text": [
      "input_variables=['input'] input_types={} partial_variables={} messages=[SystemMessagePromptTemplate(prompt=PromptTemplate(input_variables=[], input_types={}, partial_variables={}, template='You are an experienced gardener.'), additional_kwargs={}), HumanMessagePromptTemplate(prompt=PromptTemplate(input_variables=['input'], input_types={}, partial_variables={}, template='{input}'), additional_kwargs={})]\n"
     ]
    }
   ],
   "source": [
    "print(flower_care_prompt)"
   ]
  },
  {
   "cell_type": "markdown",
   "metadata": {},
   "source": [
    "input_variables=['input'] messages=[SystemMessagePromptTemplate(prompt=PromptTemplate(input_variables=[], template='You are an experienced gardener.')), \n",
    "HumanMessagePromptTemplate(prompt=PromptTemplate(input_variables=['input'], template='{input}'))]\n"
   ]
  },
  {
   "cell_type": "code",
   "execution_count": 27,
   "metadata": {},
   "outputs": [
    {
     "name": "stdout",
     "output_type": "stream",
     "text": [
      "input_variables=['input'] input_types={} partial_variables={} messages=[SystemMessagePromptTemplate(prompt=PromptTemplate(input_variables=[], input_types={}, partial_variables={}, template='You are a popular flower arrangement master.'), additional_kwargs={}), HumanMessagePromptTemplate(prompt=PromptTemplate(input_variables=['input'], input_types={}, partial_variables={}, template='{input}'), additional_kwargs={})]\n"
     ]
    }
   ],
   "source": [
    "print(flower_deco_prompt)"
   ]
  },
  {
   "cell_type": "markdown",
   "metadata": {},
   "source": [
    "input_variables=['input'] messages=[SystemMessagePromptTemplate(prompt=PromptTemplate(input_variables=[], template='You are a popular flower arrangement master.')), HumanMessagePromptTemplate(prompt=PromptTemplate(input_variables=['input'], template='{input}'))]\n"
   ]
  },
  {
   "cell_type": "code",
   "execution_count": 28,
   "metadata": {},
   "outputs": [],
   "source": [
    "# Define chains for each prompt\n",
    "chain_1 = flower_care_prompt | llm | StrOutputParser()\n",
    "chain_2 = flower_deco_prompt | llm | StrOutputParser()"
   ]
  },
  {
   "cell_type": "markdown",
   "metadata": {},
   "source": []
  },
  {
   "cell_type": "code",
   "execution_count": 29,
   "metadata": {},
   "outputs": [],
   "source": [
    "# Define the routing logic\n",
    "route_system = \"Route the user's query to either flower care or flower decoration expert.\"\n",
    "route_prompt = ChatPromptTemplate.from_messages([\n",
    "    (\"system\", route_system),\n",
    "    (\"human\", \"{input}\")\n",
    "])"
   ]
  },
  {
   "cell_type": "code",
   "execution_count": 30,
   "metadata": {},
   "outputs": [
    {
     "name": "stdout",
     "output_type": "stream",
     "text": [
      "Message type: SystemMessagePromptTemplate\n",
      "Message content: input_variables=[] input_types={} partial_variables={} template=\"Route the user's query to either flower care or flower decoration expert.\"\n",
      "----------------------------------------\n",
      "Message type: HumanMessagePromptTemplate\n",
      "Message content: input_variables=['input'] input_types={} partial_variables={} template='{input}'\n",
      "----------------------------------------\n",
      "input_variables=['input'] input_types={} partial_variables={} messages=[SystemMessagePromptTemplate(prompt=PromptTemplate(input_variables=[], input_types={}, partial_variables={}, template=\"Route the user's query to either flower care or flower decoration expert.\"), additional_kwargs={}), HumanMessagePromptTemplate(prompt=PromptTemplate(input_variables=['input'], input_types={}, partial_variables={}, template='{input}'), additional_kwargs={})]\n"
     ]
    }
   ],
   "source": [
    "route_template = route_prompt.messages\n",
    "\n",
    "for message in route_template:\n",
    "    print(f\"Message type: {message.__class__.__name__}\")\n",
    "    print(f\"Message content: {message.prompt}\")\n",
    "    print(\"-\" * 40)\n",
    "\n",
    "print(route_prompt)"
   ]
  },
  {
   "cell_type": "markdown",
   "metadata": {},
   "source": [
    "Message type: SystemMessagePromptTemplate\n",
    "Message content: input_variables=[] template=\"Route the user's query to either flower care or flower decoration expert.\"\n",
    "----------------------------------------\n",
    "Message type: HumanMessagePromptTemplate\n",
    "Message content: input_variables=['input'] template='{input}'\n",
    "----------------------------------------\n",
    "input_variables=['input'] messages=[SystemMessagePromptTemplate(prompt=PromptTemplate(input_variables=[], template=\"Route the user's query to either flower care or flower decoration expert.\")), HumanMessagePromptTemplate(prompt=PromptTemplate(input_variables=['input'], template='{input}'))]\n"
   ]
  },
  {
   "cell_type": "code",
   "execution_count": 31,
   "metadata": {},
   "outputs": [],
   "source": [
    "from typing_extensions import Literal\n",
    "\n",
    "# Define schema for the routing output\n",
    "class RouteQuery(TypedDict):\n",
    "    destination: Literal[\"flower care expert\", \"flower decoration expert\"]\n",
    "\n",
    "route_chain = route_prompt | llm.with_structured_output(RouteQuery)"
   ]
  },
  {
   "cell_type": "code",
   "execution_count": 32,
   "metadata": {},
   "outputs": [],
   "source": [
    "# Define graph state\n",
    "class State(TypedDict):\n",
    "    query: str\n",
    "    destination: RouteQuery\n",
    "    answer: str\n",
    "\n",
    "# Define functions for routing and processing each chain\n",
    "async def route_query(state: State, config: RunnableConfig):\n",
    "    destination = await route_chain.ainvoke(state[\"query\"], config)\n",
    "    return {\"destination\": destination}\n",
    "\n",
    "async def prompt_1(state: State, config: RunnableConfig):\n",
    "    return {\"answer\": await chain_1.ainvoke(state[\"query\"], config)}\n",
    "\n",
    "async def prompt_2(state: State, config: RunnableConfig):\n",
    "    return {\"answer\": await chain_2.ainvoke(state[\"query\"], config)}\n"
   ]
  },
  {
   "cell_type": "code",
   "execution_count": 33,
   "metadata": {},
   "outputs": [],
   "source": [
    "# Define the node selection based on the routing decision\n",
    "def select_node(state: State) -> str:\n",
    "    print(\"select_node called with:\", state)\n",
    "    if state[\"destination\"][\"destination\"] == \"flower care expert\":\n",
    "        return \"prompt_1\"\n",
    "    else:\n",
    "        return \"prompt_2\""
   ]
  },
  {
   "cell_type": "code",
   "execution_count": 34,
   "metadata": {},
   "outputs": [
    {
     "name": "stdout",
     "output_type": "stream",
     "text": [
      "select_node called with: {'query': 'How can I make a rose bouquet look modern?', 'destination': {'destination': 'flower decoration expert'}}\n"
     ]
    },
    {
     "data": {
      "text/plain": [
       "{'query': 'How can I make a rose bouquet look modern?',\n",
       " 'destination': {'destination': 'flower decoration expert'},\n",
       " 'answer': \"Creating a modern rose bouquet involves incorporating contemporary design elements and materials while showcasing the natural beauty of the roses. Here are some tips to achieve a modern look:\\n\\n### 1. **Choose Color Palette:**\\n   - Opt for unexpected color combinations like soft pastels mixed with bold, vibrant hues or even monochromatic shades of a single color (e.g., different shades of pink or white).\\n   - Consider adding unexpected colors, such as deep navy, emerald green, or even metallics like gold or copper.\\n\\n### 2. **Select Unique Varieties:**\\n   - Look for unique rose varieties with interesting textures or shapes, such as garden roses, spray roses, or those with unusual petal forms.\\n   - Incorporate other modern flowers or greenery that complement your roses.\\n\\n### 3. **Minimalist Arrangement:**\\n   - Focus on a cleaner, simpler design. Less is more in modern arrangements; consider using fewer flowers with ample space between them.\\n   - Use a single type of rose for a striking monochromatic effect, or mix in a few complementary flowers like succulents or unique foliage.\\n\\n### 4. **Non-Traditional Vases:**\\n   - Choose vases made of modern materials such as matte ceramic, brushed metal, glass, or clear acrylic.\\n   - Consider unconventional shapes, like geometric or asymmetric vases, to enhance the modern aesthetic.\\n\\n### 5. **Incorporate Greenery:**\\n   - Use architectural greenery like eucalyptus, ferns, or tropical leaves to add depth and a modern touch.\\n   - Arrange the foliage in a structured manner, making them as prominent as the flowers.\\n\\n### 6. **Texture and Layering:**\\n   - Mix textures by combining smooth petals with textured foliage or materials. For instance, pair the softness of roses with spiky thistles or fluffy astilbe.\\n   - Layer different height levels within the bouquet for visual interest, creating a dynamic silhouette.\\n\\n### 7. **Presentation:**\\n   - Wrap the bouquet simply using textured or patterned papers in neutral tones, or use matte finishes for a sleeker look.\\n   - For a more sculptural appearance, consider using floral foam in geometric shapes or a floral grid to arrange stems at different angles.\\n\\n### 8. **Accent with Decorative Elements:**\\n   - Add modern elements like metallic branches, natural stones, or even painted wood slices as part of the arrangement.\\n   - Integrate modern accessories like decorative ribbons, wire, or graphic tape for a trendy feel.\\n\\n### 9. **Lighting:**\\n   - Consider how the arrangement will be displayed; modern arrangements benefit from good lighting, which can highlight colors and textures.\\n\\n### 10. **Personal Touch:**\\n   - Customize the bouquet to reflect your personal style or the recipient's taste—adding a unique element can enhance its modern appeal.\\n\\nBy focusing on simplicity, texture, and a thoughtful combination of colors and materials, you can easily create a modern rose bouquet that stands out and makes a statement!\"}"
      ]
     },
     "execution_count": 34,
     "metadata": {},
     "output_type": "execute_result"
    }
   ],
   "source": [
    "# Build the state graph\n",
    "graph = StateGraph(State)\n",
    "graph.add_node(\"route_query\", route_query)\n",
    "graph.add_node(\"prompt_1\", prompt_1)\n",
    "graph.add_node(\"prompt_2\", prompt_2)\n",
    "\n",
    "# Add edges between the nodes, starting from routing and following the selection logic\n",
    "graph.add_edge(START, \"route_query\")\n",
    "graph.add_conditional_edges(\"route_query\", select_node)\n",
    "graph.add_edge(\"prompt_1\", END)\n",
    "graph.add_edge(\"prompt_2\", END)\n",
    "\n",
    "# Compile the graph into an app\n",
    "app = graph.compile()\n",
    "\n",
    "# await app.ainvoke({\n",
    "#     \"query\": \"How do I care for roses?\"\n",
    "# })\n",
    "\n",
    "await app.ainvoke({\n",
    "    \"query\": \"How can I make a rose bouquet look modern?\"\n",
    "})\n"
   ]
  },
  {
   "cell_type": "code",
   "execution_count": 35,
   "metadata": {},
   "outputs": [
    {
     "data": {
      "image/png": "[encoded data removed]",
      "text/plain": [
       "<IPython.core.display.Image object>"
      ]
     },
     "execution_count": 35,
     "metadata": {},
     "output_type": "execute_result"
    }
   ],
   "source": [
    "from IPython.display import Image\n",
    "Image(app.get_graph().draw_mermaid_png())     # for PNG\n",
    "# print(app.get_graph().draw_mermaid())         # for Mermaid text\n"
   ]
  },
  {
   "cell_type": "code",
   "execution_count": 36,
   "metadata": {},
   "outputs": [
    {
     "name": "stdout",
     "output_type": "stream",
     "text": [
      "select_node called with: {'query': 'How to water roses?', 'destination': {'destination': 'flower care expert'}}\n",
      "Destination: flower care expert\n",
      "Answer: Watering roses properly is essential for their healthy growth and blooming. Here are some tips on how to water roses effectively:\n",
      "\n",
      "### 1. **Watering Technique:**\n",
      "   - **Deep Watering:** Water deeply but less frequently. This encourages deep root growth. Aim for about 1 to 2 inches of water per week, either through rainfall or supplemental watering.\n",
      "   - **Soak the Soil:** Focus on soaking the root zone rather than just the surface. Allow the water to penetrate the soil so it reaches the roots.\n",
      "\n",
      "### 2. **Best Time to Water:**\n",
      "   - **Morning Watering:** The best time to water is early in the morning when temperatures are cooler. This helps reduce evaporation and allows the plants to absorb moisture before the heat of the day.\n",
      "   - **Avoid Night Watering:** Watering in the evening can leave the foliage damp overnight, increasing the risk of fungal diseases.\n",
      "\n",
      "### 3. **Watering Method:**\n",
      "   - **Soaker Hoses or Drip Irrigation:** These methods provide a slow, steady supply of water directly to the roots without wetting the foliage. This minimizes disease risk and maximizes water efficiency.\n",
      "   - **Hand Watering:** If using a hose or watering can, ensure you aim at the base of the plant, avoiding the leaves.\n",
      "\n",
      "### 4. **Check Soil Moisture:**\n",
      "   - **Soil Test:** Check the soil moisture by sticking your finger into the soil about 1-2 inches deep. If it feels dry, it’s time to water.\n",
      "   - **Mulching:** Use organic mulch around the base of your roses to help retain moisture in the soil and regulate temperature.\n",
      "\n",
      "### 5. **Adjust for Climate:**\n",
      "   - **Hot/Dry Areas:** Increase watering frequency during hot, dry spells or if the rose plants are in a sunny location.\n",
      "   - **Cool/Wet Weather:** Reduce watering in cooler, wetter weather to prevent overwatering and root rot.\n",
      "\n",
      "### 6. **Young vs. Established Plants:**\n",
      "   - **Newly Planted Roses:** Require more frequent watering until they’re established (usually a few weeks). Keep the soil consistently moist, but not waterlogged.\n",
      "   - **Established Roses:** Less frequent watering is needed as they can tolerate slight droughts once their roots are well-developed.\n",
      "\n",
      "### 7. **Monitor for Signs of Stress:**\n",
      "   - **Drooping Leaves:** Indicates the plant needs water.\n",
      "   - **Yellowing Leaves or Wilting:** May suggest either overwatering or underwatering—assess soil moisture level in such cases.\n",
      "\n",
      "By following these guidelines, you can help ensure your roses receive the right amount of water for optimal growth and flowering.\n"
     ]
    }
   ],
   "source": [
    "# Run the app for a flower care question\n",
    "state = await app.ainvoke({\"query\": \"How to water roses?\"})\n",
    "print(f\"Destination: {state['destination']['destination']}\")\n",
    "print(f\"Answer: {state['answer']}\")\n"
   ]
  },
  {
   "cell_type": "markdown",
   "metadata": {},
   "source": [
    "Destination: flower care\n",
    "Answer: Watering roses properly is crucial for their health and blooming. Here are some tips on how to water roses effectively:\n",
    "\n",
    "1. **Timing**: Water your roses early in the morning or late in the afternoon to reduce evaporation. Avoid watering during the hottest part of the day.\n",
    "\n",
    "2. **Method**: Use a soaker hose or drip irrigation system for deep watering. This method delivers water directly to the roots and minimizes water on the foliage, which can help prevent fungal diseases. If using a watering can or hose, direct the water at the base of the plant.\n",
    "\n",
    "3. **Amount**: Roses typically need about 1-2 inches of water per week, depending on weather conditions. During hot, dry spells, they may need more. Ensure the soil is moist but not soggy.\n",
    "\n",
    "4. **Soil Check**: Before watering, check the soil moisture by sticking your finger about an inch into the soil. If it feels dry at that depth, it’s time to water.\n",
    "\n",
    "5. **Mulching**: Apply a layer of mulch around the base of the roses. Mulch helps retain soil moisture and keeps the roots cool.\n",
    "\n",
    "6. **Avoid Overhead Watering**: Try to avoid getting the leaves wet, as this can promote diseases. Focus on watering the root zone.\n",
    "\n",
    "7. **Adjust for Conditions**: Be aware of your local climate and adjust your watering schedule accordingly. In rainy weather, you may need to reduce watering.\n",
    "\n",
    "By following these guidelines, you can promote healthy growth and vibrant blooms in your rose plants.\n"
   ]
  },
  {
   "cell_type": "code",
   "execution_count": 37,
   "metadata": {},
   "outputs": [
    {
     "name": "stdout",
     "output_type": "stream",
     "text": [
      "select_node called with: {'query': 'How to decorate the wedding venue with flowers?', 'destination': {'destination': 'flower decoration expert'}}\n",
      "Destination: flower decoration expert\n",
      "Answer: Decorating a wedding venue with flowers is a beautiful way to enhance the atmosphere and create a romantic setting. Here are some tips and ideas to consider when planning your floral decorations:\n",
      "\n",
      "### 1. **Theme and Color Palette**\n",
      "   - **Choose a Theme:** Select a wedding theme (rustic, vintage, modern, etc.) that guides your flower choices.\n",
      "   - **Color Coordination:** Decide on a color palette that complements the venue and overall decor. Ensure your flowers match or complement the color scheme.\n",
      "\n",
      "### 2. **Flower Selection**\n",
      "   - **Seasonal Flowers:** Use flowers that are in season for freshness and cost-effectiveness.\n",
      "   - **Signature Flowers:** Consider incorporating flowers that have personal significance, or that reflect the couple's story.\n",
      "\n",
      "### 3. **Key Floral Areas**\n",
      "   - **Ceremony Backdrop:** Create a stunning backdrop with floral arrangements, arches, or draping flowers. This is a focal point for photos.\n",
      "   - **Aisle Decor:** Line the aisle with small arrangements, petals, or lanterns filled with flowers.\n",
      "   - **Centerpieces:** Design impactful centerpieces for reception tables. These could be tall arrangements, low arrangements, or a mix of both.\n",
      "   - **Entryway:** Welcome guests with floral arrangements at the entrance, perhaps in urns or on pedestals.\n",
      "\n",
      "### 4. **Floral Installations**\n",
      "   - **Hanging Flowers:** Suspended floral installations or chandeliers create a magical effect, especially in larger spaces.\n",
      "   - **Floral Walls:** Consider a flower wall for a striking photo backdrop that guests will love.\n",
      "   - **Garlands and Swags:** Use garlands to drape over tables, chairs, or railings for an elegant touch.\n",
      "\n",
      "### 5. **Bridal Party Flowers**\n",
      "   - **Bouquets and Boutonnieres:** Coordinate bridal and bridesmaid bouquets with the overall flower theme, and don’t forget boutonnieres for groomsmen and fathers.\n",
      "   - **Flower Crowns:** These can be a beautiful accent for brides or flower girls.\n",
      "\n",
      "### 6. **Additional Decor Elements**\n",
      "   - **Combine with Other Decor:** Integrate flowers with candles, fabrics, and other decor elements for depth and richness.\n",
      "   - **Natural Elements:** Use wood, stone, and greenery to complement floral arrangements and create a harmonious atmosphere.\n",
      "\n",
      "### 7. **Practical Considerations**\n",
      "   - **Venue Specifications:** Be mindful of the venue's layout, lighting, and any restrictions (e.g., no open flames for candles).\n",
      "   - **Budgeting:** Set a budget for floral arrangements and prioritize areas where you want to invest the most.\n",
      "\n",
      "### 8. **Maintenance**\n",
      "   - **Hydration:** Ensure flowers are kept hydrated, especially those that need to last through a long day (use floral foam and water sources).\n",
      "   - **Transportation and Setup:** Consider the logistics of getting flowers to the venue and how they will be set up and maintained throughout the event.\n",
      "\n",
      "### Conclusion\n",
      "Decorating with flowers can transform a wedding venue into a breathtaking celebration space. The key is to blend creativity with planning, ensuring that your floral arrangements are not only beautiful but also reflective of the couple’s style and the overall ambiance you wish to create. Don’t hesitate to consult with a florist for professional insights and assistance. Enjoy the process!\n"
     ]
    }
   ],
   "source": [
    "# Run the app for a flower care question\n",
    "state = await app.ainvoke({\"query\": \"How to decorate the wedding venue with flowers?\"})\n",
    "print(f\"Destination: {state['destination']['destination']}\")\n",
    "print(f\"Answer: {state['answer']}\")\n"
   ]
  },
  {
   "cell_type": "code",
   "execution_count": 70,
   "metadata": {},
   "outputs": [
    {
     "name": "stdout",
     "output_type": "stream",
     "text": [
      "select_node called with: {'query': \"I'm Anna?\", 'destination': {'destination': 'flower care'}}\n",
      "Destination: flower care\n",
      "Answer: Hi, Anna! It’s great to meet you. How can I assist you today with flower arrangements or anything else you might need?\n"
     ]
    }
   ],
   "source": [
    "# Run the app for a flower care question\n",
    "state = await app.ainvoke({\"query\": \"I'm Anna?\"})\n",
    "print(f\"Destination: {state['destination']['destination']}\")\n",
    "print(f\"Answer: {state['answer']}\")\n"
   ]
  },
  {
   "cell_type": "code",
   "execution_count": 71,
   "metadata": {},
   "outputs": [],
   "source": [
    "# hw:2.How to implement routing chains when they do not belong to any operational business scenarios?\n",
    "\n"
   ]
  },
  {
   "cell_type": "code",
   "execution_count": 74,
   "metadata": {},
   "outputs": [],
   "source": [
    "from langchain_core.output_parsers import StrOutputParser\n",
    "from langchain_core.prompts import ChatPromptTemplate\n",
    "from langchain_core.runnables import RunnableConfig\n",
    "from langchain_openai import ChatOpenAI\n",
    "from langgraph.graph import END, START, StateGraph\n",
    "from typing_extensions import TypedDict, Literal\n",
    "\n",
    "\n",
    "\n",
    "# graph.get_graph().draw_mermaid()  # instead of .draw_mermaid_png()\n",
    "\n",
    "\n",
    "# Initialize the LLM model\n",
    "llm = ChatOpenAI(model=\"gpt-4o-mini\")"
   ]
  },
  {
   "cell_type": "code",
   "execution_count": 75,
   "metadata": {},
   "outputs": [],
   "source": [
    "# -----------------------------------------\n",
    "# 1. Define schema for routing output\n",
    "class RouteQuery(TypedDict):\n",
    "    destination: Literal[\"math\", \"poem\", \"summary\"]\n",
    "\n",
    "# 2. Prompt for routing decision\n",
    "route_prompt = ChatPromptTemplate.from_messages([\n",
    "    (\"system\", \"You are a router that decides if a question is about math, poetry, or summarization.\"),\n",
    "    (\"human\", \"{input}\")\n",
    "])\n",
    "\n",
    "# 3. Routing chain with structured output\n",
    "route_chain = route_prompt | llm.with_structured_output(RouteQuery)"
   ]
  },
  {
   "cell_type": "code",
   "execution_count": 76,
   "metadata": {},
   "outputs": [],
   "source": [
    "# -----------------------------------------\n",
    "# 4. Define graph state\n",
    "class State(TypedDict):\n",
    "    query: str\n",
    "    destination: RouteQuery\n",
    "    answer: str\n",
    "\n",
    "# -----------------------------------------\n",
    "# 5. Node functions\n",
    "\n",
    "async def route_query(state: State, config: RunnableConfig):\n",
    "    destination = await route_chain.ainvoke(state[\"query\"], config)\n",
    "    return {\"destination\": destination}\n",
    "    "
   ]
  },
  {
   "cell_type": "code",
   "execution_count": 82,
   "metadata": {},
   "outputs": [],
   "source": [
    "# Prompts\n",
    "math_prompt = ChatPromptTemplate.from_messages([\n",
    "    (\"system\", \"You are a helpful math tutor.\"),\n",
    "    (\"human\", \"{query}\")\n",
    "])\n",
    "poem_prompt = ChatPromptTemplate.from_messages([\n",
    "    (\"system\", \"You are a master poet.\"),\n",
    "    (\"human\", \"{query}\")\n",
    "])\n",
    "summary_prompt = ChatPromptTemplate.from_messages([\n",
    "    (\"system\", \"You are an expert summarizer.\"),\n",
    "    (\"human\", \"{query}\")\n",
    "])\n",
    "\n",
    "# Chains\n",
    "math_chain = math_prompt | llm | StrOutputParser()\n",
    "poem_chain = poem_prompt | llm | StrOutputParser()\n",
    "summary_chain = summary_prompt | llm | StrOutputParser()\n",
    "\n",
    "# Handlers\n",
    "async def math_expert(state: State, config: RunnableConfig):\n",
    "    return {\"answer\": await math_chain.ainvoke(state[\"query\"], config)}\n",
    "\n",
    "async def poet(state: State, config: RunnableConfig):\n",
    "    return {\"answer\": await poem_chain.ainvoke(state[\"query\"], config)}\n",
    "\n",
    "async def summarizer(state: State, config: RunnableConfig):\n",
    "    return {\"answer\": await summary_chain.ainvoke(state[\"query\"], config)}\n"
   ]
  },
  {
   "cell_type": "code",
   "execution_count": 83,
   "metadata": {},
   "outputs": [],
   "source": [
    "# -----------------------------------------\n",
    "# 6. Routing logic\n",
    "def select_node(state: State) -> str:\n",
    "    print(\"select_node called with:\", state)\n",
    "    dest = state[\"destination\"][\"destination\"]\n",
    "    if dest == \"math\":\n",
    "        return \"math_expert\"\n",
    "    elif dest == \"poem\":\n",
    "        return \"poet\"\n",
    "    elif dest == \"summary\":\n",
    "        return \"summarizer\"\n",
    "    else:\n",
    "        return \"summarizer\"  # fallback\n",
    "\n",
    "# -----------------------------------------\n",
    "# 7. Build the graph\n",
    "graph = StateGraph(State)\n",
    "graph.add_node(\"route_query\", route_query)\n",
    "graph.add_node(\"math_expert\", math_expert)\n",
    "graph.add_node(\"poet\", poet)\n",
    "graph.add_node(\"summarizer\", summarizer)\n",
    "\n",
    "graph.add_edge(START, \"route_query\")\n",
    "graph.add_conditional_edges(\"route_query\", select_node)\n",
    "graph.add_edge(\"math_expert\", END)\n",
    "graph.add_edge(\"poet\", END)\n",
    "graph.add_edge(\"summarizer\", END)\n",
    "\n",
    "app = graph.compile()"
   ]
  },
  {
   "cell_type": "code",
   "execution_count": 84,
   "metadata": {},
   "outputs": [
    {
     "name": "stdout",
     "output_type": "stream",
     "text": [
      "select_node called with: {'query': 'Solve 5x - 2 = 13', 'destination': {'destination': 'math'}}\n"
     ]
    },
    {
     "data": {
      "text/plain": [
       "{'query': 'Solve 5x - 2 = 13',\n",
       " 'destination': {'destination': 'math'},\n",
       " 'answer': 'To solve the equation \\\\( 5x - 2 = 13 \\\\), follow these steps:\\n\\n1. Add 2 to both sides of the equation:\\n   \\\\[\\n   5x - 2 + 2 = 13 + 2\\n   \\\\]\\n   This simplifies to:\\n   \\\\[\\n   5x = 15\\n   \\\\]\\n\\n2. Now, divide both sides by 5:\\n   \\\\[\\n   \\\\frac{5x}{5} = \\\\frac{15}{5}\\n   \\\\]\\n   This simplifies to:\\n   \\\\[\\n   x = 3\\n   \\\\]\\n\\nSo, the solution is \\\\( x = 3 \\\\).'}"
      ]
     },
     "execution_count": 84,
     "metadata": {},
     "output_type": "execute_result"
    }
   ],
   "source": [
    "'''Testing results'''\n",
    "# Math\n",
    "await app.ainvoke({\"query\": \"Solve 5x - 2 = 13\"})\n"
   ]
  },
  {
   "cell_type": "code",
   "execution_count": 85,
   "metadata": {},
   "outputs": [
    {
     "name": "stdout",
     "output_type": "stream",
     "text": [
      "select_node called with: {'query': 'Write a haiku about the moon', 'destination': {'destination': 'poem'}}\n"
     ]
    },
    {
     "data": {
      "text/plain": [
       "{'query': 'Write a haiku about the moon',\n",
       " 'destination': {'destination': 'poem'},\n",
       " 'answer': \"Silver whispers glow,  \\nCradled in the night's embrace,  \\nSilent dreams take flight.\"}"
      ]
     },
     "execution_count": 85,
     "metadata": {},
     "output_type": "execute_result"
    }
   ],
   "source": [
    "# Poet\n",
    "await app.ainvoke({\"query\": \"Write a haiku about the moon\"})"
   ]
  },
  {
   "cell_type": "code",
   "execution_count": 86,
   "metadata": {},
   "outputs": [
    {
     "name": "stdout",
     "output_type": "stream",
     "text": [
      "select_node called with: {'query': 'Summarize the theory of relativity', 'destination': {'destination': 'summary'}}\n"
     ]
    },
    {
     "data": {
      "text/plain": [
       "{'query': 'Summarize the theory of relativity',\n",
       " 'destination': {'destination': 'summary'},\n",
       " 'answer': 'The theory of relativity, developed by Albert Einstein in the early 20th century, consists of two main parts: special relativity and general relativity. \\n\\n1. **Special Relativity (1905)**: This framework addresses the physics of objects moving at constant speeds, especially at speeds close to the speed of light. It introduces two key concepts:\\n   - The laws of physics are the same for all observers in uniform motion relative to one another (principle of relativity).\\n   - The speed of light in a vacuum is constant and will be the same for all observers, regardless of their motion (invariance of the speed of light).\\n   \\n   Special relativity leads to several counterintuitive conclusions, such as time dilation (moving clocks tick slower) and length contraction (moving objects are measured to be shorter in the direction of motion).\\n\\n2. **General Relativity (1915)**: This theory extends the principles of special relativity to include acceleration and gravity. It posits that gravity is not a force but rather a curvature of spacetime caused by mass. Massive objects like planets and stars warp the spacetime around them, causing other objects to move along curved paths. This leads to predictions such as the bending of light around massive objects (gravitational lensing) and the existence of black holes.\\n\\nOverall, the theory of relativity has profoundly changed our understanding of space, time, and gravity, and has been confirmed by numerous experiments and observations.'}"
      ]
     },
     "execution_count": 86,
     "metadata": {},
     "output_type": "execute_result"
    }
   ],
   "source": [
    "# Summarizer\n",
    "await app.ainvoke({\"query\": \"Summarize the theory of relativity\"})"
   ]
  },
  {
   "cell_type": "code",
   "execution_count": 88,
   "metadata": {},
   "outputs": [
    {
     "data": {
      "image/png": "[encoded data removed]",
      "text/plain": [
       "<IPython.core.display.Image object>"
      ]
     },
     "execution_count": 88,
     "metadata": {},
     "output_type": "execute_result"
    }
   ],
   "source": [
    "from IPython.display import Image\n",
    "\n",
    "# Show graph as PNG (may be incomplete — doesn’t show conditional edges)\n",
    "Image(app.get_graph().draw_mermaid_png())\n",
    "\n",
    "# OR: show Mermaid diagram text (copy into https://mermaid.live for full diagram)\n",
    "# print(app.get_graph().draw_mermaid())\n"
   ]
  },
  {
   "cell_type": "code",
   "execution_count": null,
   "metadata": {},
   "outputs": [],
   "source": []
  }
 ],
 "metadata": {
  "kernelspec": {
   "display_name": "Python 3 (ipykernel)",
   "language": "python",
   "name": "python3"
  },
  "language_info": {
   "codemirror_mode": {
    "name": "ipython",
    "version": 3
   },
   "file_extension": ".py",
   "mimetype": "text/x-python",
   "name": "python",
   "nbconvert_exporter": "python",
   "pygments_lexer": "ipython3",
   "version": "3.13.2"
  }
 },
 "nbformat": 4,
 "nbformat_minor": 4
}
