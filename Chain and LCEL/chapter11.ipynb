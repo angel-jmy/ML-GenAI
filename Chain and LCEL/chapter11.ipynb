{
 "cells": [
  {
   "cell_type": "markdown",
   "metadata": {},
   "source": [
    "# LangChain  Chain   :Preset chain:\n",
    "LCEL LangGraph\n",
    "\n",
    "Here are some guidelines:\n",
    "\n",
    "- If you are making a single LLM call, you don't need LCEL; instead call the underlying chat model directly.\n",
    "- If you have a simple chain (e.g., prompt + llm + parser, simple retrieval set up etc.), LCEL is a reasonable fit, if you're taking advantage of the LCEL benefits.\n",
    "- If you're building a complex chain (e.g., with branching, cycles, multiple agents, etc.) use LangGraph instead. Remember that you can always use LCEL within individual nodes in LangGraph.\n",
    "\n",
    "Simple Chain = = Model I/O(prompt + llm + parser) ->LCEL\n",
    "\n",
    "Complex Chain = LangGraph\n",
    "\n",
    "preset chain:\n",
    "- LLMChain\n",
    "- SequentialChain\n",
    "- RouterChain\n",
    "- APIChain,LLMMathChain,RetrievalQA.....\n"
   ]
  },
  {
   "cell_type": "markdown",
   "metadata": {},
   "source": [
    "[LangChain](https://langchain-ai.github.io/langgraph/agents/agents/#4-add-a-custom-prompt)"
   ]
  },
  {
   "cell_type": "markdown",
   "metadata": {},
   "source": [
    "## LLMChain:The simplest Chain"
   ]
  },
  {
   "cell_type": "code",
   "execution_count": 1,
   "metadata": {},
   "outputs": [
    {
     "data": {
      "text/plain": [
       "True"
      ]
     },
     "execution_count": 1,
     "metadata": {},
     "output_type": "execute_result"
    }
   ],
   "source": [
    "from dotenv import load_dotenv\n",
    "load_dotenv()"
   ]
  },
  {
   "cell_type": "code",
   "execution_count": 6,
   "metadata": {},
   "outputs": [
    {
     "name": "stdout",
     "output_type": "stream",
     "text": [
      "Rose's floral language?\n"
     ]
    }
   ],
   "source": [
    "from langchain.prompts import PromptTemplate\n",
    "\n",
    "template = \"{flower}'s floral language?\"\n",
    "\n",
    "prompt_temp = PromptTemplate.from_template(template)\n",
    "\n",
    "prompt = prompt_temp.format(flower='Rose')\n",
    "\n",
    "print(prompt)"
   ]
  },
  {
   "cell_type": "code",
   "execution_count": 9,
   "metadata": {},
   "outputs": [
    {
     "name": "stdout",
     "output_type": "stream",
     "text": [
      "\n",
      "\n",
      "Rose's floral language is typically associated with love, passion, and romance. It can also symbolize beauty, grace, and elegance. Different colors of roses can convey different meanings, such as red for love and desire, pink for gratitude and appreciation, and yellow for friendship and joy.\n"
     ]
    }
   ],
   "source": [
    "from langchain_openai import OpenAI\n",
    "\n",
    "model = OpenAI(temperature=0.5) # Originally 0\n",
    "\n",
    "result = model.invoke(prompt)\n",
    "\n",
    "print(result)"
   ]
  },
  {
   "cell_type": "markdown",
   "metadata": {},
   "source": [
    "Rose's floral language is often associated with love, passion, and romance. Different colors of roses can also convey different meanings, such as red for love and desire, pink for gratitude and appreciation, and yellow for friendship and joy.\n"
   ]
  },
  {
   "cell_type": "code",
   "execution_count": 11,
   "metadata": {},
   "outputs": [
    {
     "name": "stdout",
     "output_type": "stream",
     "text": [
      "{'flower': 'Rose', 'text': \"\\n\\nRose's floral language is often associated with love, passion, and romance. Different colors of roses can also convey different meanings, such as red for love and desire, pink for gratitude and appreciation, and yellow for friendship and joy.\"}\n"
     ]
    }
   ],
   "source": [
    "#chain\n",
    "from langchain.chains import LLMChain\n",
    "\n",
    "template = \"{flower}'s floral language?\"\n",
    "llm = OpenAI(temperature=0)\n",
    "\n",
    "llm_chain = LLMChain(llm=llm,prompt=PromptTemplate.from_template(template))\n",
    "\n",
    "print(llm_chain.invoke('Rose'))\n"
   ]
  },
  {
   "cell_type": "markdown",
   "metadata": {},
   "source": [
    "{'flower': 'Rose', 'text': \"\\n\\nRose's floral language is often associated with love, passion, and romance. Different colors of roses can also convey different meanings, such as red for love and desire, pink for gratitude and appreciation, and yellow for friendship and joy.\"}\n"
   ]
  },
  {
   "cell_type": "code",
   "execution_count": 17,
   "metadata": {},
   "outputs": [
    {
     "data": {
      "text/plain": [
       "'The language of flowers, or \"floriography,\" assigns specific meanings to different flowers, and roses are among the most significant in this symbolic language. Here are some common meanings associated with various colors of roses:\\n\\n1. **Red Roses**: Love and passion. They are often given on romantic occasions, such as Valentine\\'s Day or anniversaries.\\n\\n2. **White Roses**: Purity, innocence, and new beginnings. They are often used in weddings and symbolize a fresh start.\\n\\n3. **Yellow Roses**: Friendship and joy. They convey warmth and happiness, making them a great choice for friends.\\n\\n4. **Pink Roses**: Gratitude, grace, and admiration. Lighter shades of pink can symbolize sweetness, while darker shades can represent appreciation.\\n\\n5. **Orange Roses**: Enthusiasm and desire. They convey a sense of excitement and passion.\\n\\n6. **Lavender Roses**: Enchantment and love at first sight. They are often associated with romance and admiration.\\n\\n7. **Black Roses**: Mourning or the end of something. They can symbolize death or farewell, but they can also represent new beginnings in some contexts.\\n\\n8. **Blue Roses**: Mystery and the unattainable. Since blue roses do not naturally occur, they symbolize something that is desired but cannot be achieved.\\n\\nEach rose color can carry nuanced meanings depending on the context and the relationship between the giver and the recipient.'"
      ]
     },
     "execution_count": 17,
     "metadata": {},
     "output_type": "execute_result"
    }
   ],
   "source": [
    "#LCEL\n",
    "from langchain_openai import ChatOpenAI\n",
    "from langchain_core.prompts import ChatPromptTemplate\n",
    "from langchain_core.output_parsers import StrOutputParser\n",
    "\n",
    "llm = ChatOpenAI(model=\"gpt-4o-mini\", temperature=0)\n",
    "\n",
    "template = \"{flower}'s floral language?\"\n",
    "flower_prompt = ChatPromptTemplate.from_messages([\n",
    "    (\"human\", template)\n",
    "])\n",
    "\n",
    "chain = flower_prompt | llm | StrOutputParser()\n",
    "\n",
    "chain.invoke({\"flower\": \"Rose\"})\n"
   ]
  },
  {
   "cell_type": "markdown",
   "metadata": {},
   "source": [
    "'The language of flowers, or \"floriography,\" assigns specific meanings to different flowers, and roses are among the most significant in this symbolic language. Here are some common meanings associated with various colors of roses:\\n\\n1. **Red Roses**: Love and passion. They are often given on romantic occasions, such as Valentine\\'s Day or anniversaries.\\n\\n2. **White Roses**: Purity, innocence, and new beginnings. They are often used in weddings and symbolize a fresh start.\\n\\n3. **Yellow Roses**: Friendship and joy. They convey warmth and happiness, making them suitable for platonic relationships.\\n\\n4. **Pink Roses**: Gratitude, grace, and admiration. Lighter shades can symbolize sweetness, while darker shades can represent appreciation.\\n\\n5. **Orange Roses**: Enthusiasm and desire. They convey a sense of excitement and energy.\\n\\n6. **Lavender Roses**: Enchantment and love at first sight. They symbolize a sense of wonder and admiration.\\n\\n7. **Black Roses**: Often associated with mourning or the end of something, such as a relationship or a phase in life.\\n\\n8. **Blue Roses**: Mystery and the unattainable. Since blue roses do not naturally occur, they symbolize something that is desired but cannot be achieved.\\n\\nThese meanings can vary by culture and context, but they provide a general framework for understanding the sentiments conveyed through the gift of roses.'"
   ]
  },
  {
   "cell_type": "code",
   "execution_count": 18,
   "metadata": {},
   "outputs": [
    {
     "data": {
      "text/plain": [
       "{'flower': 'Rose',\n",
       " 'text': \"The language of flowers, also known as floriography, assigns specific meanings to different flowers, and roses are among the most significant in this symbolic language. Here are some common meanings associated with various colors of roses:\\n\\n1. **Red Roses**: Love and passion. They are often given on romantic occasions, such as Valentine's Day or anniversaries.\\n\\n2. **White Roses**: Purity, innocence, and new beginnings. They are often used in weddings and symbolize a fresh start.\\n\\n3. **Yellow Roses**: Friendship, joy, and warmth. They can convey feelings of happiness and are often given to friends.\\n\\n4. **Pink Roses**: Gratitude, grace, and admiration. Lighter shades can symbolize sweetness, while darker shades can represent appreciation.\\n\\n5. **Orange Roses**: Enthusiasm and desire. They convey a sense of excitement and passion.\\n\\n6. **Lavender Roses**: Enchantment and love at first sight. They are often associated with romance and admiration.\\n\\n7. **Black Roses**: Mourning or the end of something. They can symbolize death or farewell, but they can also represent new beginnings in some contexts.\\n\\n8. **Blue Roses**: Mystery and the unattainable. Since blue roses do not naturally occur, they often symbolize something that is desired but cannot be achieved.\\n\\nEach rose's meaning can also be influenced by the number of roses given, the arrangement, and the context in which they are presented.\"}"
      ]
     },
     "execution_count": 18,
     "metadata": {},
     "output_type": "execute_result"
    }
   ],
   "source": [
    "from langchain_core.runnables import RunnablePassthrough\n",
    "\n",
    "outer_chain = RunnablePassthrough().assign(text=chain)\n",
    "\n",
    "outer_chain.invoke({\"flower\": \"Rose\"})"
   ]
  },
  {
   "cell_type": "markdown",
   "metadata": {},
   "source": [
    "{'flower': 'Rose',\n",
    " 'text': 'The language of flowers, or \"floriography,\" assigns specific meanings to different flowers, and roses are among the most significant in this symbolic language. Here are some common meanings associated with various colors of roses:\\n\\n1. **Red Roses**: Love and passion. They are often given on romantic occasions, such as Valentine\\'s Day or anniversaries.\\n\\n2. **White Roses**: Purity, innocence, and new beginnings. They are often used in weddings and symbolize a fresh start.\\n\\n3. **Yellow Roses**: Friendship and joy. They convey warmth and happiness, making them suitable for platonic relationships.\\n\\n4. **Pink Roses**: Gratitude, grace, and admiration. Lighter shades often represent sweetness, while deeper pinks can signify appreciation.\\n\\n5. **Orange Roses**: Enthusiasm and desire. They express a sense of fascination and energy.\\n\\n6. **Lavender Roses**: Enchantment and love at first sight. They convey a sense of magic and admiration.\\n\\n7. **Black Roses**: Mourning or farewell. They can symbolize the end of something, such as a relationship or a life.\\n\\n8. **Blue Roses**: Mystery and the unattainable. Since blue roses do not naturally occur, they often represent something elusive.\\n\\nThese meanings can vary by culture and context, but they provide a general framework for understanding the sentiments associated with roses in the language of flowers.'}"
   ]
  },
  {
   "cell_type": "markdown",
   "metadata": {},
   "source": [
    "| Feature                 | LLMChain               | LCEL (pipe)                      |\n",
    "|-------------------------|------------------------|----------------------------------|\n",
    "| Style                   | Object-oriented        | Functional, modular              |\n",
    "| Flexibility             | Limited                | Very flexible (branching, etc.)  |\n",
    "| Input handling          | Named inputs           | Named or positional              |\n",
    "| Reusability             | Moderate               | High                             |\n",
    "| New LangChain features  | Somewhat outdated      | Fully supported                  |\n",
    "| Syntax                  | Class-based            | Pipe-based (like Unix/Linux)     |\n"
   ]
  },
  {
   "cell_type": "code",
   "execution_count": null,
   "metadata": {},
   "outputs": [],
   "source": [
    "## SequentialChain\n",
    "\"\"\"\n",
    "Our goal is as follows:\n",
    "step 1: we assume that the large model is a botanist,asking it to provide knowledge and introductions for a specific type of flower.\n",
    "step 2: we assume that the large model is a flower reviewer,asking it to reference the text output from the botanist above and provide comments on the flower.\n",
    "step 3: we assume that the large model is the social media manager for Flowers,asking it to reference the text output from both the botanist and the flower reviewer above to write a flower marketing copy.\n",
    "\n",
    "TASK chain:\n",
    "flower introductions\n",
    "review\n",
    "social media Post\n",
    "\n",
    "\"\"\""
   ]
  },
  {
   "cell_type": "code",
   "execution_count": 19,
   "metadata": {},
   "outputs": [],
   "source": [
    "from langchain.chains import SequentialChain\n",
    "from langchain.chains import LLMChain\n",
    "from langchain_openai import ChatOpenAI\n",
    "from langchain_core.prompts import ChatPromptTemplate\n",
    "from langchain_core.output_parsers import StrOutputParser\n",
    "from langchain.prompts import PromptTemplate\n",
    "\n",
    "llm = ChatOpenAI(model=\"gpt-4o-mini\", temperature=0)\n",
    "#LLMChain\n",
    "template = \"\"\"\n",
    "You are botanist.Given the name and type of a flower,you need to write an introduction of about 200 words for this flower.\n",
    "\n",
    "Name:{name}\n",
    "Color:{color}\n",
    "Botanist:Here is the introduction of the above flower:\n",
    "\"\"\"\n",
    "prompt_template = PromptTemplate(input_variables=[\"name\",\"color\"],template=template)\n",
    "introduction_chain = LLMChain(llm=llm,prompt=prompt_template,output_key=\"introduction\")\n",
    "\n",
    "\n",
    "template = \"\"\"\n",
    "You are critic.Given an introduction of a flower,you need to write a review of about 200 words for this flower.\n",
    "\n",
    "Flower introduction:\n",
    "{introduction}\n",
    "The flower critic's review of the above flower:\n",
    "\"\"\"\n",
    "prompt_template = PromptTemplate(input_variables=[\"introduction\"],template=template)\n",
    "review_chain = LLMChain(llm=llm,prompt=prompt_template,output_key=\"review\")\n",
    "\n",
    "\n",
    "template = \"\"\"\n",
    "You are a social media manager for a flower shop.Given an introduction and review of a flower,you need to write a social medial media post of about 300 words for this flower.\n",
    "\n",
    "The flower critic's review of the above flower:\n",
    "{review}\n",
    "\n",
    "Social Media Post:\n",
    "\"\"\"\n",
    "prompt_template = PromptTemplate(input_variables=[\"review\"],template=template)\n",
    "social_post_chain = LLMChain(llm=llm,prompt=prompt_template,output_key=\"social_post\")\n"
   ]
  },
  {
   "cell_type": "code",
   "execution_count": 20,
   "metadata": {},
   "outputs": [
    {
     "name": "stderr",
     "output_type": "stream",
     "text": [
      "Error in StdOutCallbackHandler.on_chain_start callback: AttributeError(\"'NoneType' object has no attribute 'get'\")\n"
     ]
    },
    {
     "name": "stdout",
     "output_type": "stream",
     "text": [
      "\n",
      "\u001b[1m> Finished chain.\u001b[0m\n",
      "{'name': 'Rose', 'color': 'black', 'introduction': \"The black rose, often shrouded in mystery and intrigue, is a captivating flower that has captured the imagination of many throughout history. While true black roses do not exist in nature, the term typically refers to very dark red or purple roses that appear black under certain lighting conditions. These striking blooms symbolize a range of emotions, from deep love and passion to mourning and farewell. The black rose is often associated with the gothic aesthetic, making it a popular choice for those who embrace the darker side of beauty.\\n\\nIn the realm of horticulture, black roses can be cultivated through selective breeding, resulting in varieties such as 'Black Baccara' and 'Black Magic.' These roses are characterized by their velvety petals and rich, dark hues, making them a stunning addition to any garden or floral arrangement. Beyond their visual appeal, black roses also carry significant cultural meanings, often representing the complexities of love, loss, and rebirth. Whether used in romantic gestures, artistic expressions, or as a symbol of defiance, the black rose continues to evoke powerful emotions and inspire creativity. Its enigmatic beauty serves as a reminder that even in darkness, there is a unique allure that captivates the heart and mind.\", 'review': \"The black rose, with its enigmatic allure, stands as a testament to the beauty found in darkness. While true black roses are a myth, the deep crimson and purple varieties, such as 'Black Baccara' and 'Black Magic,' offer a striking visual that can easily be mistaken for the elusive black hue. These roses are not just flowers; they are symbols steeped in rich cultural significance, representing a spectrum of emotions from passionate love to profound loss.\\n\\nIn the garden, the black rose commands attention with its velvety petals and dramatic color, making it a perfect choice for those who wish to make a bold statement. Its gothic aesthetic appeals to a niche audience, yet its universal themes of love and mourning resonate with many. The black rose's ability to evoke such powerful emotions is a testament to its complexity; it embodies both beauty and sorrow, making it a compelling choice for floral arrangements meant to convey deep sentiments.\\n\\nHowever, the black rose is not without its challenges. Its dark beauty can overshadow more traditional blooms, leading to a perception that it is solely for the macabre. Yet, when embraced in the right context, the black rose can elevate any floral display, reminding us that even in the depths of despair, there is beauty to be found. Overall, the black rose is a captivating flower that continues to inspire and intrigue, making it a worthy addition to any garden or bouquet.\", 'social_post': \"🌹✨ Embrace the Enigma of the Black Rose! ✨🌹\\n\\nAt [Your Flower Shop Name], we believe that every flower tells a story, and the black rose is one of the most captivating tales in the floral world. While true black roses may be a myth, varieties like 'Black Baccara' and 'Black Magic' bring a stunning depth of color that can easily be mistaken for the elusive black hue. These roses are not just flowers; they are symbols of passion, love, and even loss, making them a powerful addition to any bouquet.\\n\\nWith their velvety petals and dramatic allure, black roses command attention in any garden or arrangement. They are perfect for those who wish to make a bold statement, whether it’s for a romantic gesture or a tribute to a loved one. Their gothic aesthetic appeals to many, yet their universal themes resonate deeply with all of us. \\n\\nBut don’t let their dark beauty fool you! The black rose is more than just a symbol of the macabre; it embodies the complexity of emotions we all experience. It reminds us that even in moments of sorrow, there is beauty to be found. 🌑❤️\\n\\nWhether you’re looking to express deep sentiments or simply want to add a touch of drama to your floral display, the black rose is a stunning choice. Visit us at [Your Flower Shop Name] to explore our selection of these enchanting blooms and let their beauty inspire you! \\n\\n#BlackRose #FloralBeauty #LoveAndLoss #FlowerShop #BoldBlooms #GothicElegance #EmbraceTheDarkness\"}\n"
     ]
    }
   ],
   "source": [
    "overall_chain = SequentialChain(\n",
    "    chains=[introduction_chain,review_chain,social_post_chain],\n",
    "    input_variables=[\"name\",\"color\"],\n",
    "    output_variables=[\"introduction\",\"review\",\"social_post\"],\n",
    "    verbose=True\n",
    ")\n",
    "\n",
    "result = overall_chain({\"name\":\"Rose\",\"color\":\"black\"})\n",
    "print(result)"
   ]
  },
  {
   "cell_type": "markdown",
   "metadata": {},
   "source": [
    "\n",
    "\u001b[1m> Entering new SequentialChain chain...\u001b[0m\n",
    "\n",
    "\u001b[1m> Finished chain.\u001b[0m\n",
    "{'name': 'Rose', 'color': 'black', \n",
    "\n",
    "'introduction': \"The black rose, often shrouded in mystery and intrigue, is a captivating flower that has captured the imagination of many throughout history. While true black roses do not exist in nature, the deep, dark hues of certain varieties, such as the 'Black Baccara' or 'Black Magic,' create an illusion of blackness, showcasing rich, velvety petals that appear almost ebony under certain lighting conditions. These roses are often associated with themes of rebirth, elegance, and the enigmatic nature of love, making them a popular choice for special occasions and artistic expressions.\\n\\nIn the realm of symbolism, black roses can convey a range of meanings, from the end of a relationship to the celebration of new beginnings. They are frequently used in literature and art to represent the duality of beauty and darkness, evoking a sense of passion and intensity. Cultivated primarily in temperate climates, black roses thrive in well-drained soil and require ample sunlight to flourish. Their striking appearance and unique color make them a sought-after addition to gardens and floral arrangements, appealing to those who appreciate the unconventional and the extraordinary in the world of botany.\", \n",
    "\n",
    "'review': \"The black rose, with its enigmatic allure, stands as a testament to the beauty found in darkness. While true black roses are a myth, varieties like 'Black Baccara' and 'Black Magic' offer a stunning visual experience with their deep, velvety petals that flirt with the idea of true blackness. This flower transcends mere aesthetics; it embodies a rich tapestry of symbolism that resonates deeply with those who encounter it. \\n\\nIn the realm of floral arrangements, the black rose is a bold statement piece, often evoking a sense of mystery and sophistication. Its association with themes of rebirth and the complexities of love adds layers of meaning, making it a compelling choice for both joyous celebrations and somber farewells. The duality of beauty and darkness that the black rose represents is a powerful reminder of the intricate nature of human emotions.\\n\\nCultivating these roses requires a bit of care, as they thrive in well-drained soil and need ample sunlight. However, the effort is well worth it for those who appreciate the unconventional. In a world where traditional blooms often dominate, the black rose stands out as a striking symbol of individuality and depth, making it a must-have for any garden or floral enthusiast seeking to embrace the extraordinary.\", \n",
    "\n",
    "'social_post': \"🌹✨ Embrace the Enigma of the Black Rose! ✨🌹\\n\\nAt [Your Flower Shop Name], we believe that every flower tells a story, and the black rose is one of the most captivating tales in the floral world. While true black roses may be a myth, varieties like 'Black Baccara' and 'Black Magic' bring a stunning visual experience that flirts with the idea of true darkness. Their deep, velvety petals create an alluring contrast that is simply irresistible! \\n\\nBut the black rose is more than just a pretty face. It embodies a rich tapestry of symbolism, representing the complexities of love, rebirth, and the beauty found in darkness. Whether you're celebrating a joyous occasion or bidding farewell, this bold bloom adds a layer of sophistication and mystery to any arrangement. 🌌💔\\n\\nCultivating these beauties requires a little extra care, as they thrive in well-drained soil and bask in the sunlight. But trust us, the effort is worth it! The black rose stands out in a world filled with traditional blooms, making it the perfect choice for those who dare to be different. 🌿🌞\\n\\nAre you ready to embrace the extraordinary? Visit us at [Your Flower Shop Name] to discover our stunning selection of black roses and let their enchanting beauty inspire you. Whether you're looking to make a statement in your garden or surprise a loved one with a unique bouquet, the black rose is sure to leave a lasting impression. \\n\\nJoin us in celebrating the allure of the black rose! Share your favorite black rose moments with us using #BlackRoseBeauty and let’s spread the magic together! 🌹🖤\\n\\n#FlowerShop #BlackRose #FloralArt #UniqueBlooms #EmbraceTheExtraordinary\"}\n"
   ]
  },
  {
   "cell_type": "code",
   "execution_count": 29,
   "metadata": {},
   "outputs": [],
   "source": [
    "#Runnable(LCEL)  +  .pipe()\n",
    "\"\"\"\n",
    "1.instroduction\n",
    "2.review\n",
    "Social media post\n",
    "\n",
    "\"\"\"\n",
    "from langchain_openai import ChatOpenAI\n",
    "from langchain_core.prompts import ChatPromptTemplate\n",
    "from langchain_core.output_parsers import StrOutputParser\n",
    "from langchain_core.runnables import Runnable, RunnablePassthrough"
   ]
  },
  {
   "cell_type": "code",
   "execution_count": 30,
   "metadata": {},
   "outputs": [],
   "source": [
    "llm = ChatOpenAI(model=\"gpt-4o-mini\", temperature=0.7)"
   ]
  },
  {
   "cell_type": "code",
   "execution_count": 31,
   "metadata": {},
   "outputs": [],
   "source": [
    "# Flower Introduction Prompt\n",
    "introduction_template = \"\"\"\n",
    "You are a botanist. Given the name and type of a flower, you need to write an introduction of about 200 words for this flower.\n",
    "\n",
    "Name: {name}\n",
    "Color: {color}\n",
    "Botanist: Here is the introduction of the above flower:\n",
    "\"\"\"\n",
    "introduction_prompt = ChatPromptTemplate.from_template(introduction_template)\n"
   ]
  },
  {
   "cell_type": "code",
   "execution_count": 32,
   "metadata": {},
   "outputs": [],
   "source": [
    "# Flower Review Prompt\n",
    "review_template = \"\"\"\n",
    "You are a critic. Given an introduction of a flower, you need to write a review of about 200 words for this flower.\n",
    "\n",
    "Flower introduction:\n",
    "{introduction}\n",
    "The flower critic's review of the above flower:\n",
    "\"\"\"\n",
    "review_prompt = ChatPromptTemplate.from_template(review_template)"
   ]
  },
  {
   "cell_type": "code",
   "execution_count": 33,
   "metadata": {},
   "outputs": [],
   "source": [
    "# Social Media Post Prompt\n",
    "social_post_template = \"\"\"\n",
    "You are a social media manager for a flower shop. Given an introduction and review of a flower, you need to write a social media post of about 300 words for this flower.\n",
    "\n",
    "The flower critic's review of the above flower:\n",
    "{review}\n",
    "\n",
    "Social Media Post:\n",
    "\"\"\"\n",
    "social_post_prompt = ChatPromptTemplate.from_template(social_post_template)"
   ]
  },
  {
   "cell_type": "code",
   "execution_count": 35,
   "metadata": {},
   "outputs": [],
   "source": [
    "# Define individual Runnables\n",
    "introduction_chain = introduction_prompt | llm | StrOutputParser()\n",
    "review_chain = {\"introduction\":introduction_chain} | review_prompt | llm | StrOutputParser()\n",
    "social_post_chain = {\"review\":review_chain} | social_post_prompt | llm | StrOutputParser()\n"
   ]
  },
  {
   "cell_type": "markdown",
   "metadata": {},
   "source": [
    "Runnable:LCEL"
   ]
  },
  {
   "cell_type": "code",
   "execution_count": 36,
   "metadata": {},
   "outputs": [
    {
     "data": {
      "text/plain": [
       "\"🌹✨ **Embrace the Enchantment of the Black Rose: A Floral Masterpiece** ✨🌹\\n\\nHave you ever encountered a flower that feels like a piece of art? Meet the ‘Black Baccara’ rose, a stunning marvel that transcends mere beauty with its striking deep crimson-to-black gradient. This rare gem isn't just a flower; it’s a bold statement that brings an air of mystique to any garden. \\n\\nImagine velvety petals that invite you to touch them, radiating an intoxicating fragrance that dances in the air. The Black Baccara rose captivates the eye and stirs the imagination, offering a perfect contrast to lighter blooms and lush green foliage. It’s not just about aesthetics; it’s about the complex themes it represents—mourning, rebirth, and the beauty that exists in life's shadows. 🌑💫\\n\\nWhile cultivating these beauties requires a bit of horticultural finesse—think well-drained soil and plenty of sunlight—the rewards are immeasurable. For those willing to invest the time and care, the Black Baccara rose becomes a stunning centerpiece that elevates your garden from ordinary to extraordinary.\\n\\nWhether you’re a seasoned gardener or a floral enthusiast, this rose is essential for anyone looking to add depth and sophistication to their floral collection. 🌹❤️ \\n\\n👉 Ready to bring the enchanting allure of the Black Baccara into your garden? Visit us at [Your Flower Shop Name] and let our expert team help you find the perfect blooms for your space. 🌼✨ #BlackBaccara #FlowerPower #GardenGoals #MysticalBlooms #FloralArtistry\""
      ]
     },
     "execution_count": 36,
     "metadata": {},
     "output_type": "execute_result"
    }
   ],
   "source": [
    "#Runnable-LCEL\n",
    "social_post_chain.invoke({\"name\":\"Rose\",\"color\":\"black\"})"
   ]
  },
  {
   "cell_type": "markdown",
   "metadata": {},
   "source": [
    "\"🌹✨ Embrace the Mystery of the Black Rose! ✨🌹 \\n\\nStep into a world where elegance meets enigma with our stunning collection of black roses! While true black roses may be a myth, varieties like 'Black Baccara' and 'Black Magic' present a breathtaking array of deep red and purple hues that create an alluring, gothic charm. These blooms are not just flowers; they are statements of artistry and emotion, perfect for anyone looking to add a touch of drama to their floral arrangements.\\n\\nThe black rose is steeped in rich symbolism, representing the complexities of love, the cycles of life, and the beauty found in both death and rebirth. Whether you choose to feature them as a solitary bloom or incorporate them into a grand bouquet, these flowers command attention and spark conversation. 🌑💖\\n\\nBut remember, with great beauty comes great responsibility! The black rose can evoke a range of feelings, so it’s essential to use them thoughtfully. They can symbolize passion and romance when placed in the right context, but they may also convey sorrow if misinterpreted. \\n\\nAt [Your Flower Shop Name], we offer an exquisite selection of these captivating blooms, perfect for expressing your deepest sentiments or adding an edge to your decor. 🌸✨\\n\\nReady to dive into the world of black roses? Visit us in-store or online to explore our collection and find the perfect floral piece that speaks to your heart. Let the allure of the black rose inspire your next bouquet! 💐🖤\\n\\n#BlackRose #FlowerShop #GothicElegance #FloralArt #Symbolism #LoveAndLife #FloralsWithMeaning #ShopLocal\""
   ]
  },
  {
   "cell_type": "code",
   "execution_count": 38,
   "metadata": {},
   "outputs": [
    {
     "data": {
      "text/plain": [
       "\"The black rose, a captivating and enigmatic bloom, has long been a symbol of mystery and intrigue in the world of botany and beyond. While true black roses do not exist in nature, cultivars such as 'Black Baccara' and 'Black Velvet' exhibit deep, velvety shades of dark red or purple that can appear almost black in certain lighting. These striking flowers have become synonymous with the darker aspects of beauty, often representing themes of mourning, farewell, and rebirth in various cultures.\\n\\nHistorically, the black rose has been associated with Gothic literature and romanticism, evoking emotions that range from love’s despair to the allure of the unknown. In the garden, the black rose stands out as a dramatic focal point, easily capturing the attention of passersby and inspiring a sense of wonder. Additionally, black roses are often used in floral arrangements for their bold aesthetic, adding depth and sophistication to bouquets and displays.\\n\\nBotanically, the black rose belongs to the genus Rosa, which encompasses a wide variety of species and hybrids, each with unique characteristics. Whether appreciated for its striking appearance, its cultural significance, or its role in the ecosystem, the black rose continues to fascinate and inspire admirers around the globe.\""
      ]
     },
     "execution_count": 38,
     "metadata": {},
     "output_type": "execute_result"
    }
   ],
   "source": [
    "introduction_chain.invoke({\"name\":\"Rose\",\"color\":\"black\"})"
   ]
  },
  {
   "cell_type": "markdown",
   "metadata": {},
   "source": [
    "'The black rose, a captivating and enigmatic flower, has long been a symbol of mystery and intrigue in the botanical world. Unlike the more common varieties of roses that showcase vibrant hues, the black rose boasts a deep, velvety color that evokes a sense of elegance and sophistication. While true black roses do not exist in nature, they can be created through selective breeding and dyeing techniques, resulting in blooms that appear nearly black, often with undertones of deep red or purple. \\n\\nHistorically, black roses have been associated with themes of rebirth, farewell, and the darker aspects of love. They often serve as powerful symbols in literature and art, representing the duality of beauty and mortality. In gardens, black roses can make a striking statement, adding a touch of drama and allure. \\n\\nCultivating black roses requires specific care, including well-draining soil and adequate sunlight, making them both a challenge and a delight for gardeners. As a unique addition to any floral arrangement, black roses are sure to leave a lasting impression, inviting contemplation and admiration for their rare beauty and symbolism.'"
   ]
  },
  {
   "cell_type": "code",
   "execution_count": 39,
   "metadata": {},
   "outputs": [
    {
     "data": {
      "text/plain": [
       "\"The black rose, though not a naturally occurring phenomenon, captivates the imagination with its profound symbolism and haunting beauty. This flower, often achieved through the cultivation of deep red or purple blooms, evokes a sense of mystery and elegance that few others can match. The allure of the black rose lies in its ability to represent complex themes such as rebirth, farewell, and the more somber aspects of love, making it a favorite amongst artists and writers throughout history.\\n\\nVisually, the black rose is a striking presence in any floral arrangement. Varieties like 'Black Baccara' and 'Black Magic' stand out with their velvety petals and thorny stems, embodying the dual nature of beauty and danger. The dark hues provide a dramatic contrast to lush green foliage, creating a breathtaking aesthetic that resonates particularly well in gothic or romantic contexts.\\n\\nBeyond its visual appeal, the black rose offers a surprisingly complex fragrance, enhancing its allure. It invites contemplation and evokes a myriad of emotions, making it a powerful symbol for those who dare to embrace its darker connotations. In horticulture, the meticulous effort required to cultivate such a flower only adds to its mystique, ensuring that the black rose remains a timeless emblem of both love and loss.\""
      ]
     },
     "execution_count": 39,
     "metadata": {},
     "output_type": "execute_result"
    }
   ],
   "source": [
    "review_chain.invoke({\"name\":\"Rose\",\"color\":\"black\"})"
   ]
  },
  {
   "cell_type": "markdown",
   "metadata": {},
   "source": [
    "\"The black rose, an alluring and enigmatic creation of nature, stands as a testament to the duality of beauty and darkness. While it may not exist in pure form, the dark-hued varieties, such as 'Black Baccara' and 'Black Magic,' are nothing short of breathtaking. Their deep crimson petals, which flirt with the illusion of black, create a visual paradox that captivates the imagination. This color play under varying light conditions adds an intriguing layer to their aesthetic, making them a popular choice for both somber occasions and romantic expressions.\\n\\nThe symbolism behind the black rose is multifaceted. It embodies the end of a chapter, often associated with loss, yet it simultaneously whispers of rebirth and transformation. This complexity resonates deeply, inviting introspection and emotional connection. The robust fragrance that accompanies these striking blooms further enhances their allure, making them not just a visual treat but also a sensory experience.\\n\\nCultivating black roses demands diligence and expertise, reflecting the care required to nurture beauty from the shadows. For gardeners and flower enthusiasts alike, the black rose is more than just a plant; it is a statement, a conversation starter, and a powerful symbol of the intricate dance between love and longing. In a world that often shies away from darkness, the black rose boldly embraces it, offering solace and beauty in its wake.\""
   ]
  },
  {
   "cell_type": "code",
   "execution_count": 40,
   "metadata": {},
   "outputs": [
    {
     "data": {
      "text/plain": [
       "{'name': 'Rose',\n",
       " 'color': 'black',\n",
       " 'text': \"🌹✨ Embrace the Enigma of the Black Rose! ✨🌹\\n\\nStep into a world of mystery and allure with our stunning black roses! While not a true representation of nature’s palette, these captivating blooms blend deep reds and purples to create an enchanting illusion of black, making them a striking centerpiece in any floral arrangement. \\n\\nThe black rose is more than just a flower; it's a symbol of the duality of life—love intertwined with loss. Perfect for those who appreciate the beauty in complex emotions, these roses echo the charm of Gothic aesthetics and resonate with anyone navigating their own journey of rebirth and renewal. 🌑❤️\\n\\nWhether you’re looking to express deep sentiments in a romantic bouquet, or simply seeking a unique addition to your garden, the black rose invites contemplation and reverence. Each bloom tells a story, straddling the line between beauty and sorrow while captivating the imagination. 🌹🖤\\n\\nAt [Your Flower Shop's Name], we are proud to offer carefully cultivated hybrid varieties of this timeless flower, ensuring that every petal speaks to the heart. Add an element of intrigue to your floral displays or gift someone special a bouquet that transcends mere beauty. \\n\\nDive into the elegance of the black rose and let it inspire your next floral arrangement! Visit us today to explore our exquisite collection. 🌺✨\\n\\n#BlackRose #FlowerShop #MysteryAndAllure #FloralArt #SymbolOfLoveAndLoss #GothicBeauty #UniqueBlooms #TimelessElegance #ExploreYourEmotions #YourFlowerShopsName\"}"
      ]
     },
     "execution_count": 40,
     "metadata": {},
     "output_type": "execute_result"
    }
   ],
   "source": [
    "#RunnablePassthrough\n",
    "from langchain_core.runnables import RunnablePassthrough\n",
    "outer_chain = RunnablePassthrough().assign(text=social_post_chain)\n",
    "outer_chain.invoke({\"name\":\"Rose\",\"color\":\"black\"})"
   ]
  },
  {
   "cell_type": "markdown",
   "metadata": {},
   "source": [
    "{'name': 'Rose',\n",
    " 'color': 'black',\n",
    " 'text': \"🌹✨ Embrace the Mystery: The Allure of Black Roses! ✨🌹\\n\\nStep into a world of enchantment with the captivating black rose! While true black roses are a botanical myth, varieties like 'Black Baccara' and 'Black Velvet' reveal an exquisite depth of color that can appear jet black, especially in the soft glow of candlelight. These stunning flowers are not just a feast for the eyes; they carry a rich tapestry of meaning, evolving from symbols of mourning to representations of rebirth and new beginnings. \\n\\nImagine adding a touch of gothic elegance to your garden or floral arrangements—black roses evoke a sense of drama and intrigue that few other blooms can match. Their velvety petals and graceful form have captivated artists and romantics for centuries, making them a timeless choice for expressing deep emotions or simply enhancing your floral artistry.\\n\\nCultivating black roses does require a bit of tender loving care. These beauties thrive in optimal soil conditions and sunlight, but for those willing to invest the effort, the reward is a breathtaking showpiece that stands out in any setting. 🌿💧\\n\\nWhether you're looking to convey a complex sentiment or simply want to add a unique flair to your floral collection, black roses are a beloved choice among horticulturists and flower lovers alike. 🌑❤️\\n\\nVisit us at [Your Flower Shop Name] to discover our selection of stunning black roses and learn how to incorporate these elegant blooms into your arrangements. Let the mystery of black roses inspire your creativity and transform your space! 🌸💫\\n\\n#BlackRoses #FloralElegance #FlowerPower #GardenBeauty #MysteryInBloom #YourFlowerShopName\"}"
   ]
  },
  {
   "cell_type": "code",
   "execution_count": null,
   "metadata": {},
   "outputs": [],
   "source": [
    "# hw:1.Use the .pipe() method to accomplish this.\n"
   ]
  },
  {
   "cell_type": "code",
   "execution_count": 42,
   "metadata": {},
   "outputs": [
    {
     "data": {
      "text/plain": [
       "\"The black rose, a flower steeped in enchantment and layered symbolism, emerges as a striking presence in any garden or floral arrangement. Varieties like ‘Black Baccara’ and ‘Black Magic’ showcase a remarkable depth of color that oscillates between dark crimson and an almost ethereal black, particularly under the soft caress of twilight. This visual allure lends itself to the flower's mystique, presenting a captivating contrast to the more traditional blooms.\\n\\nHowever, the appeal of the black rose extends beyond its aesthetics. Symbolically, it embodies the complexities of life, often representing endings, mourning, and rebirth—making it a potent flower for myriad occasions. The duality of beauty and darkness encapsulated in the black rose invites introspection and provokes thought, making it an exceptional choice for those seeking to convey deeper emotions.\\n\\nCultivation, as noted, requires meticulous care, underscoring the dedication of the gardener. This attention to detail is rewarded with a bloom that not only stands out but also sparks conversation. Whether gracing a wedding bouquet or serving as a poignant tribute at a memorial, the black rose commands respect and admiration. In a world awash with pastel petals, the black rose dares to be different, inviting us to embrace the beauty in both light and shadow.\""
      ]
     },
     "execution_count": 42,
     "metadata": {},
     "output_type": "execute_result"
    }
   ],
   "source": [
    "from langchain_core.runnables import RunnableParallel\n",
    "\n",
    "review_chain = (\n",
    "    RunnableParallel({\"introduction\": introduction_chain})\n",
    "    .pipe(review_prompt)\n",
    "    .pipe(llm)\n",
    "    .pipe(StrOutputParser())\n",
    ")\n",
    "\n",
    "review_chain.invoke({\"name\": \"Rose\", \"color\": \"black\"})\n"
   ]
  },
  {
   "cell_type": "markdown",
   "metadata": {},
   "source": [
    "introduction_chain = introduction_prompt | llm | StrOutputParser()\n",
    "\n",
    "chain.pipe(step1).pipe(step2)\n",
    "chain | step1 | step2\n"
   ]
  },
  {
   "cell_type": "code",
   "execution_count": null,
   "metadata": {},
   "outputs": [],
   "source": [
    "\"\"\"Task:Flower operation intelligent customer service ChatBot typically recevied two main types of inquiries.\n",
    "1. flower care\n",
    "2. flower decoration\n",
    "\n",
    "requirement:Direct ChatBot A if receives the first type of inquiry and direct ChatBot B if receives the Second type of inquiry\n",
    "\"\"\"\n",
    "\n"
   ]
  },
  {
   "cell_type": "markdown",
   "metadata": {},
   "source": [
    "RouterChain -V2\n",
    "\"\"\"\n",
    "LLMRouterChain + MultiPromptChain\n",
    "steps:\n",
    "1. Construct processing tempaltes:define two string templates for ...\n",
    "2. Prompt information:using a list\n",
    "3. LLM\n",
    "4. Buid target chains:LLMChain\n",
    "5. Build LLM Routing Chain\n",
    "6. Build default chain\n",
    "7. Built Multi-Prompt Chain->LangGraph\n",
    "\"\"\""
   ]
  },
  {
   "cell_type": "markdown",
   "metadata": {},
   "source": [
    "Router Task\n",
    "1. LangGraph:StateGraph + langchain:\n",
    "2. Prompt information:using a list\n",
    "3. LLM\n",
    "4.task chain\n",
    "5.StateGraph\n",
    "6.execution"
   ]
  },
  {
   "cell_type": "code",
   "execution_count": 2,
   "metadata": {},
   "outputs": [
    {
     "data": {
      "text/plain": [
       "True"
      ]
     },
     "execution_count": 2,
     "metadata": {},
     "output_type": "execute_result"
    }
   ],
   "source": [
    "from dotenv import load_dotenv\n",
    "load_dotenv()"
   ]
  },
  {
   "cell_type": "code",
   "execution_count": 3,
   "metadata": {},
   "outputs": [],
   "source": [
    "from langchain_core.output_parsers import StrOutputParser\n",
    "from langchain_core.prompts import ChatPromptTemplate\n",
    "from langchain_core.runnables import RunnableConfig\n",
    "from langchain_openai import ChatOpenAI\n",
    "from langgraph.graph import END, START, StateGraph\n",
    "from typing_extensions import TypedDict\n",
    "\n",
    "# Initialize the LLM model\n",
    "llm = ChatOpenAI(model=\"gpt-4o-mini\")"
   ]
  },
  {
   "cell_type": "code",
   "execution_count": 4,
   "metadata": {},
   "outputs": [],
   "source": [
    "# Create prompt templates\n",
    "flower_care_prompt = ChatPromptTemplate.from_messages([\n",
    "    (\"system\", \"You are an experienced gardener.\"),\n",
    "    (\"human\", \"{input}\")\n",
    "])\n",
    "\n",
    "flower_deco_prompt = ChatPromptTemplate.from_messages([\n",
    "    (\"system\", \"You are a popular flower arrangement master.\"),\n",
    "    (\"human\", \"{input}\")\n",
    "])\n"
   ]
  },
  {
   "cell_type": "markdown",
   "metadata": {},
   "source": []
  },
  {
   "cell_type": "code",
   "execution_count": 6,
   "metadata": {},
   "outputs": [
    {
     "name": "stdout",
     "output_type": "stream",
     "text": [
      "input_variables=['input'] messages=[SystemMessagePromptTemplate(prompt=PromptTemplate(input_variables=[], template='You are an experienced gardener.')), HumanMessagePromptTemplate(prompt=PromptTemplate(input_variables=['input'], template='{input}'))]\n"
     ]
    }
   ],
   "source": [
    "print(flower_care_prompt)"
   ]
  },
  {
   "cell_type": "markdown",
   "metadata": {},
   "source": [
    "input_variables=['input'] messages=[SystemMessagePromptTemplate(prompt=PromptTemplate(input_variables=[], template='You are an experienced gardener.')), \n",
    "HumanMessagePromptTemplate(prompt=PromptTemplate(input_variables=['input'], template='{input}'))]\n"
   ]
  },
  {
   "cell_type": "code",
   "execution_count": 7,
   "metadata": {},
   "outputs": [
    {
     "name": "stdout",
     "output_type": "stream",
     "text": [
      "input_variables=['input'] messages=[SystemMessagePromptTemplate(prompt=PromptTemplate(input_variables=[], template='You are a popular flower arrangement master.')), HumanMessagePromptTemplate(prompt=PromptTemplate(input_variables=['input'], template='{input}'))]\n"
     ]
    }
   ],
   "source": [
    "print(flower_deco_prompt)"
   ]
  },
  {
   "cell_type": "markdown",
   "metadata": {},
   "source": [
    "input_variables=['input'] messages=[SystemMessagePromptTemplate(prompt=PromptTemplate(input_variables=[], template='You are a popular flower arrangement master.')), HumanMessagePromptTemplate(prompt=PromptTemplate(input_variables=['input'], template='{input}'))]\n"
   ]
  },
  {
   "cell_type": "code",
   "execution_count": 5,
   "metadata": {},
   "outputs": [],
   "source": [
    "# Define chains for each prompt\n",
    "chain_1 = flower_care_prompt | llm | StrOutputParser()\n",
    "chain_2 = flower_deco_prompt | llm | StrOutputParser()"
   ]
  },
  {
   "cell_type": "markdown",
   "metadata": {},
   "source": []
  },
  {
   "cell_type": "code",
   "execution_count": 8,
   "metadata": {},
   "outputs": [],
   "source": [
    "# Define the routing logic\n",
    "route_system = \"Route the user's query to either flower care or flower decoration expert.\"\n",
    "route_prompt = ChatPromptTemplate.from_messages([\n",
    "    (\"system\", route_system),\n",
    "    (\"human\", \"{input}\")\n",
    "])"
   ]
  },
  {
   "cell_type": "code",
   "execution_count": 9,
   "metadata": {},
   "outputs": [
    {
     "name": "stdout",
     "output_type": "stream",
     "text": [
      "Message type: SystemMessagePromptTemplate\n",
      "Message content: input_variables=[] template=\"Route the user's query to either flower care or flower decoration expert.\"\n",
      "----------------------------------------\n",
      "Message type: HumanMessagePromptTemplate\n",
      "Message content: input_variables=['input'] template='{input}'\n",
      "----------------------------------------\n",
      "input_variables=['input'] messages=[SystemMessagePromptTemplate(prompt=PromptTemplate(input_variables=[], template=\"Route the user's query to either flower care or flower decoration expert.\")), HumanMessagePromptTemplate(prompt=PromptTemplate(input_variables=['input'], template='{input}'))]\n"
     ]
    }
   ],
   "source": [
    "route_template = route_prompt.messages\n",
    "\n",
    "for message in route_template:\n",
    "    print(f\"Message type: {message.__class__.__name__}\")\n",
    "    print(f\"Message content: {message.prompt}\")\n",
    "    print(\"-\" * 40)\n",
    "\n",
    "print(route_prompt)"
   ]
  },
  {
   "cell_type": "markdown",
   "metadata": {},
   "source": [
    "Message type: SystemMessagePromptTemplate\n",
    "Message content: input_variables=[] template=\"Route the user's query to either flower care or flower decoration expert.\"\n",
    "----------------------------------------\n",
    "Message type: HumanMessagePromptTemplate\n",
    "Message content: input_variables=['input'] template='{input}'\n",
    "----------------------------------------\n",
    "input_variables=['input'] messages=[SystemMessagePromptTemplate(prompt=PromptTemplate(input_variables=[], template=\"Route the user's query to either flower care or flower decoration expert.\")), HumanMessagePromptTemplate(prompt=PromptTemplate(input_variables=['input'], template='{input}'))]\n"
   ]
  },
  {
   "cell_type": "code",
   "execution_count": 10,
   "metadata": {},
   "outputs": [],
   "source": [
    "# Define schema for the routing output\n",
    "class RouteQuery(TypedDict):\n",
    "    destination: str\n",
    "\n",
    "route_chain = route_prompt | llm.with_structured_output(RouteQuery)"
   ]
  },
  {
   "cell_type": "code",
   "execution_count": 11,
   "metadata": {},
   "outputs": [],
   "source": [
    "# Define graph state\n",
    "class State(TypedDict):\n",
    "    query: str\n",
    "    destination: RouteQuery\n",
    "    answer: str\n",
    "\n",
    "# Define functions for routing and processing each chain\n",
    "async def route_query(state: State, config: RunnableConfig):\n",
    "    destination = await route_chain.ainvoke(state[\"query\"], config)\n",
    "    return {\"destination\": destination}\n",
    "\n",
    "async def prompt_1(state: State, config: RunnableConfig):\n",
    "    return {\"answer\": await chain_1.ainvoke(state[\"query\"], config)}\n",
    "\n",
    "async def prompt_2(state: State, config: RunnableConfig):\n",
    "    return {\"answer\": await chain_2.ainvoke(state[\"query\"], config)}\n"
   ]
  },
  {
   "cell_type": "code",
   "execution_count": 12,
   "metadata": {},
   "outputs": [],
   "source": [
    "# Define the node selection based on the routing decision\n",
    "def select_node(state: State) -> str:\n",
    "    if state[\"destination\"][\"destination\"] == \"flower_care\":\n",
    "        return \"prompt_1\"\n",
    "    else:\n",
    "        return \"prompt_2\""
   ]
  },
  {
   "cell_type": "code",
   "execution_count": 13,
   "metadata": {},
   "outputs": [],
   "source": [
    "# Build the state graph\n",
    "graph = StateGraph(State)\n",
    "graph.add_node(\"route_query\", route_query)\n",
    "graph.add_node(\"prompt_1\", prompt_1)\n",
    "graph.add_node(\"prompt_2\", prompt_2)\n",
    "\n",
    "# Add edges between the nodes, starting from routing and following the selection logic\n",
    "graph.add_edge(START, \"route_query\")\n",
    "graph.add_conditional_edges(\"route_query\", select_node)\n",
    "graph.add_edge(\"prompt_1\", END)\n",
    "graph.add_edge(\"prompt_2\", END)\n",
    "\n",
    "# Compile the graph into an app\n",
    "app = graph.compile()\n"
   ]
  },
  {
   "cell_type": "code",
   "execution_count": 14,
   "metadata": {},
   "outputs": [
    {
     "data": {
      "image/jpeg": "[encoded data removed]",
      "text/plain": [
       "<IPython.core.display.Image object>"
      ]
     },
     "execution_count": 14,
     "metadata": {},
     "output_type": "execute_result"
    }
   ],
   "source": [
    "from IPython.display import Image\n",
    "Image(app.get_graph().draw_mermaid_png())"
   ]
  },
  {
   "cell_type": "code",
   "execution_count": 15,
   "metadata": {},
   "outputs": [
    {
     "name": "stdout",
     "output_type": "stream",
     "text": [
      "Destination: flower care\n",
      "Answer: Watering roses properly is crucial for their health and blooming. Here are some tips on how to water roses effectively:\n",
      "\n",
      "1. **Timing**: Water your roses early in the morning or late in the afternoon to reduce evaporation. Avoid watering during the hottest part of the day.\n",
      "\n",
      "2. **Method**: Use a soaker hose or drip irrigation system for deep watering. This method delivers water directly to the roots and minimizes water on the foliage, which can help prevent fungal diseases. If using a watering can or hose, direct the water at the base of the plant.\n",
      "\n",
      "3. **Amount**: Roses typically need about 1-2 inches of water per week, depending on weather conditions. During hot, dry spells, they may need more. Ensure the soil is moist but not soggy.\n",
      "\n",
      "4. **Soil Check**: Before watering, check the soil moisture by sticking your finger about an inch into the soil. If it feels dry at that depth, it’s time to water.\n",
      "\n",
      "5. **Mulching**: Apply a layer of mulch around the base of the roses. Mulch helps retain soil moisture and keeps the roots cool.\n",
      "\n",
      "6. **Avoid Overhead Watering**: Try to avoid getting the leaves wet, as this can promote diseases. Focus on watering the root zone.\n",
      "\n",
      "7. **Adjust for Conditions**: Be aware of your local climate and adjust your watering schedule accordingly. In rainy weather, you may need to reduce watering.\n",
      "\n",
      "By following these guidelines, you can promote healthy growth and vibrant blooms in your rose plants.\n"
     ]
    }
   ],
   "source": [
    "# Run the app for a flower care question\n",
    "state = await app.ainvoke({\"query\": \"How to water roses?\"})\n",
    "print(f\"Destination: {state['destination']['destination']}\")\n",
    "print(f\"Answer: {state['answer']}\")\n"
   ]
  },
  {
   "cell_type": "markdown",
   "metadata": {},
   "source": [
    "Destination: flower care\n",
    "Answer: Watering roses properly is crucial for their health and blooming. Here are some tips on how to water roses effectively:\n",
    "\n",
    "1. **Timing**: Water your roses early in the morning or late in the afternoon to reduce evaporation. Avoid watering during the hottest part of the day.\n",
    "\n",
    "2. **Method**: Use a soaker hose or drip irrigation system for deep watering. This method delivers water directly to the roots and minimizes water on the foliage, which can help prevent fungal diseases. If using a watering can or hose, direct the water at the base of the plant.\n",
    "\n",
    "3. **Amount**: Roses typically need about 1-2 inches of water per week, depending on weather conditions. During hot, dry spells, they may need more. Ensure the soil is moist but not soggy.\n",
    "\n",
    "4. **Soil Check**: Before watering, check the soil moisture by sticking your finger about an inch into the soil. If it feels dry at that depth, it’s time to water.\n",
    "\n",
    "5. **Mulching**: Apply a layer of mulch around the base of the roses. Mulch helps retain soil moisture and keeps the roots cool.\n",
    "\n",
    "6. **Avoid Overhead Watering**: Try to avoid getting the leaves wet, as this can promote diseases. Focus on watering the root zone.\n",
    "\n",
    "7. **Adjust for Conditions**: Be aware of your local climate and adjust your watering schedule accordingly. In rainy weather, you may need to reduce watering.\n",
    "\n",
    "By following these guidelines, you can promote healthy growth and vibrant blooms in your rose plants.\n"
   ]
  },
  {
   "cell_type": "code",
   "execution_count": 16,
   "metadata": {},
   "outputs": [
    {
     "name": "stdout",
     "output_type": "stream",
     "text": [
      "Destination: flower decoration\n",
      "Answer: Decorating a wedding venue with flowers is a beautiful way to enhance the atmosphere and create a memorable experience for the couple and their guests. Here are some tips and ideas for using flowers effectively in wedding venue decoration:\n",
      "\n",
      "### 1. **Choose a Color Palette**\n",
      "   - Select a color scheme that complements the wedding theme. Popular combinations include pastels, bold colors, or monochromatic schemes. \n",
      "\n",
      "### 2. **Consider the Venue**\n",
      "   - Assess the venue's style and architecture. A rustic barn may require different floral arrangements than an elegant ballroom. \n",
      "\n",
      "### 3. **Entrances and Aisles**\n",
      "   - Create stunning entrances with large floral arrangements or arches. \n",
      "   - Line the aisle with petals, lanterns, or small arrangements to guide guests to the altar.\n",
      "\n",
      "### 4. **Altar or Ceremony Backdrop**\n",
      "   - Use flowers to create a focal point for the ceremony. Consider a floral arch, a cascading arrangement, or a backdrop of flowers.\n",
      "\n",
      "### 5. **Centerpieces**\n",
      "   - Create unique centerpieces for tables using a mix of flowers, greenery, and decorative elements. Vary heights and styles (tall arrangements, low arrangements, or a mix) for visual interest.\n",
      "\n",
      "### 6. **Bouquets and Boutonnieres**\n",
      "   - Ensure that the bridal bouquet and the groom’s boutonniere match the overall floral theme. Consider having complementary flowers for bridesmaids’ bouquets and groomsmen’s boutonnieres.\n",
      "\n",
      "### 7. **Floral Installations**\n",
      "   - Consider larger installations, such as hanging floral arrangements or flower walls, which can serve as photo backdrops.\n",
      "\n",
      "### 8. **Reception Decor**\n",
      "   - Use flowers to decorate the cake table, gift table, and guestbook table. Small arrangements or scattered petals work well.\n",
      "\n",
      "### 9. **Lighting**\n",
      "   - Enhance floral arrangements with soft lighting. Fairy lights or candles can create a romantic ambiance when placed among flowers.\n",
      "\n",
      "### 10. **Seasonal Flowers**\n",
      "   - Choose flowers that are in season to reduce costs and ensure freshness. Seasonal flowers can also add a unique touch to the decor.\n",
      "\n",
      "### 11. **Personal Touches**\n",
      "   - Incorporate flowers that have personal significance to the couple, such as their favorite flowers or blooms that have special meaning.\n",
      "\n",
      "### 12. **Use Greenery**\n",
      "   - Don’t forget to include foliage and greenery to add texture and depth to floral arrangements. This can also help to reduce costs.\n",
      "\n",
      "### 13. **Repurpose Arrangements**\n",
      "   - To maximize your floral budget, consider repurposing ceremony flowers for the reception. For example, bridesmaid bouquets can become centerpieces.\n",
      "\n",
      "### 14. **Hire a Professional**\n",
      "   - If you’re unsure about your floral arrangement skills, consider hiring a professional florist who can help bring your vision to life.\n",
      "\n",
      "### 15. **Plan for After the Wedding**\n",
      "   - Consider how flowers can be reused after the wedding. Speak with local hospitals or nursing homes about donating arrangements.\n",
      "\n",
      "With these strategies, you can create a stunning floral display that enhances the beauty of the wedding venue and reflects the couple’s style and personality.\n"
     ]
    }
   ],
   "source": [
    "# Run the app for a flower care question\n",
    "state = await app.ainvoke({\"query\": \"How to decorate the wedding venue with flowers?\"})\n",
    "print(f\"Destination: {state['destination']['destination']}\")\n",
    "print(f\"Answer: {state['answer']}\")\n"
   ]
  },
  {
   "cell_type": "code",
   "execution_count": 17,
   "metadata": {},
   "outputs": [
    {
     "name": "stdout",
     "output_type": "stream",
     "text": [
      "Destination: flower care\n",
      "Answer: Hi Anna! It's great to meet you. How can I assist you today? Are you looking for flower arrangement tips or ideas?\n"
     ]
    }
   ],
   "source": [
    "# Run the app for a flower care question\n",
    "state = await app.ainvoke({\"query\": \"I'm Anna?\"})\n",
    "print(f\"Destination: {state['destination']['destination']}\")\n",
    "print(f\"Answer: {state['answer']}\")\n"
   ]
  },
  {
   "cell_type": "code",
   "execution_count": null,
   "metadata": {},
   "outputs": [],
   "source": [
    "hw:2.How to implement routing chains when they do not belong to any operational business scenarios?"
   ]
  },
  {
   "cell_type": "code",
   "execution_count": null,
   "metadata": {},
   "outputs": [],
   "source": []
  }
 ],
 "metadata": {
  "kernelspec": {
   "display_name": "Python 3",
   "language": "python",
   "name": "python3"
  },
  "language_info": {
   "codemirror_mode": {
    "name": "ipython",
    "version": 3
   },
   "file_extension": ".py",
   "mimetype": "text/x-python",
   "name": "python",
   "nbconvert_exporter": "python",
   "pygments_lexer": "ipython3",
   "version": "3.8.5"
  }
 },
 "nbformat": 4,
 "nbformat_minor": 4
}
