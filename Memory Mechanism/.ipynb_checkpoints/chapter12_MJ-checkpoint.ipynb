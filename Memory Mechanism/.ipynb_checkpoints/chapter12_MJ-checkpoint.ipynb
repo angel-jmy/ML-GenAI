{
 "cells": [
  {
   "cell_type": "markdown",
   "metadata": {},
   "source": [
    "## Memory Mechanism\n"
   ]
  },
  {
   "cell_type": "markdown",
   "metadata": {},
   "source": [
    "[LangGraph Memory](https://langchain-ai.github.io/langgraph/concepts/memory/)"
   ]
  },
  {
   "cell_type": "code",
   "execution_count": 2,
   "metadata": {},
   "outputs": [],
   "source": [
    "from langchain.memory import ChatMessageHistory\n",
    "\n",
    "history = ChatMessageHistory()\n",
    "\n",
    "history.add_user_message(\"hi!\")\n",
    "\n",
    "history.add_ai_message(\"whats up?\")"
   ]
  },
  {
   "cell_type": "code",
   "execution_count": 3,
   "metadata": {},
   "outputs": [
    {
     "data": {
      "text/plain": [
       "[HumanMessage(content='hi!', additional_kwargs={}, response_metadata={}),\n",
       " AIMessage(content='whats up?', additional_kwargs={}, response_metadata={})]"
      ]
     },
     "execution_count": 3,
     "metadata": {},
     "output_type": "execute_result"
    }
   ],
   "source": [
    "history.messages"
   ]
  },
  {
   "cell_type": "code",
   "execution_count": 4,
   "metadata": {},
   "outputs": [
    {
     "data": {
      "text/plain": [
       "True"
      ]
     },
     "execution_count": 4,
     "metadata": {},
     "output_type": "execute_result"
    }
   ],
   "source": [
    "## ConversationChain->RunnableWithMessageHistory\n",
    "\n",
    "from dotenv import load_dotenv\n",
    "load_dotenv()"
   ]
  },
  {
   "cell_type": "code",
   "execution_count": 6,
   "metadata": {},
   "outputs": [
    {
     "name": "stdout",
     "output_type": "stream",
     "text": [
      "The following is a friendly conversation between a human and an AI. The AI is talkative and provides lots of specific details from its context. If the AI does not know the answer to a question, it truthfully says it does not know.\n",
      "\n",
      "Current conversation:\n",
      "{history}\n",
      "Human: {input}\n",
      "AI:\n"
     ]
    },
    {
     "name": "stderr",
     "output_type": "stream",
     "text": [
      "C:\\Users\\JMY\\AppData\\Local\\Temp\\ipykernel_9256\\937157734.py:8: LangChainDeprecationWarning: The class `ConversationChain` was deprecated in LangChain 0.2.7 and will be removed in 1.0. Use :meth:`~RunnableWithMessageHistory: https://python.langchain.com/v0.2/api_reference/core/runnables/langchain_core.runnables.history.RunnableWithMessageHistory.html` instead.\n",
      "  conv_chain = ConversationChain(llm=llm)\n",
      "C:\\Users\\JMY\\miniconda3\\Lib\\site-packages\\pydantic\\main.py:214: LangChainDeprecationWarning: Please see the migration guide at: https://python.langchain.com/docs/versions/migrating_memory/\n",
      "  validated_self = self.__pydantic_validator__.validate_python(data, self_instance=self)\n"
     ]
    }
   ],
   "source": [
    "from langchain_openai import OpenAI\n",
    "from langchain.chains import ConversationChain\n",
    "\n",
    "\n",
    "llm = OpenAI(temperature=0.5,\n",
    "             model_name='gpt-3.5-turbo-instruct')#4096 Token\n",
    "\n",
    "conv_chain = ConversationChain(llm=llm)\n",
    "\n",
    "print(conv_chain.prompt.template)"
   ]
  },
  {
   "cell_type": "markdown",
   "metadata": {},
   "source": [
    "The following is a friendly conversation between a human and an AI. The AI is talkative and provides lots of specific details from its context. If the AI does not know the answer to a question, it truthfully says it does not know.\n",
    "\n",
    "Current conversation:\n",
    "{history}\n",
    "Human: {input}\n",
    "AI:\n"
   ]
  },
  {
   "cell_type": "code",
   "execution_count": 14,
   "metadata": {},
   "outputs": [
    {
     "name": "stdout",
     "output_type": "stream",
     "text": [
      "memory=ConversationBufferMemory(chat_memory=InMemoryChatMessageHistory(messages=[HumanMessage(content=\"My sister's birthday is tomorrow,and i need a birthday bouquet.\", additional_kwargs={}, response_metadata={}), AIMessage(content=\" That's great! Birthdays are always a special occasion. I can definitely help you find the perfect bouquet for your sister. What type of flowers does she like? Does she have a favorite color or style?\", additional_kwargs={}, response_metadata={})])) verbose=False llm=OpenAI(client=<openai.resources.completions.Completions object at 0x0000022516B0EF90>, async_client=<openai.resources.completions.AsyncCompletions object at 0x0000022516B0F8C0>, temperature=0.5, model_kwargs={}, openai_api_key=SecretStr('**********')) output_parser=StrOutputParser() llm_kwargs={}\n"
     ]
    }
   ],
   "source": [
    "## Using ConversationBufferMemory\n",
    "from langchain.chains.conversation.memory import ConversationBufferMemory\n",
    "\n",
    "conversation = ConversationChain(llm=llm,memory=ConversationBufferMemory())\n",
    "\n",
    "\n",
    "#round 1\n",
    "conversation.invoke(\"My sister's birthday is tomorrow,and i need a birthday bouquet.\")\n",
    "print(conversation)"
   ]
  },
  {
   "cell_type": "markdown",
   "metadata": {},
   "source": [
    "Human: My sister's birthday is tomorrow,and i need a birthday bouquet.\n",
    "\n",
    "AI:  That's wonderful! I'm happy to help you find the perfect birthday bouquet for your sister. Can you tell me a bit more about her preferences or any specific flowers she likes?\n"
   ]
  },
  {
   "cell_type": "code",
   "execution_count": 15,
   "metadata": {},
   "outputs": [
    {
     "name": "stdout",
     "output_type": "stream",
     "text": [
      "Human: My sister's birthday is tomorrow,and i need a birthday bouquet.\n",
      "AI:  That's great! Birthdays are always a special occasion. I can definitely help you find the perfect bouquet for your sister. What type of flowers does she like? Does she have a favorite color or style?\n"
     ]
    }
   ],
   "source": [
    "print(conversation.memory.buffer)"
   ]
  },
  {
   "cell_type": "code",
   "execution_count": 16,
   "metadata": {},
   "outputs": [
    {
     "name": "stdout",
     "output_type": "stream",
     "text": [
      "Human: My sister's birthday is tomorrow,and i need a birthday bouquet.\n",
      "AI:  That's great! Birthdays are always a special occasion. I can definitely help you find the perfect bouquet for your sister. What type of flowers does she like? Does she have a favorite color or style?\n",
      "Human: She likes pink roses,specifically the color pink.\n",
      "AI:  Perfect! Pink roses are a classic and beautiful choice for a birthday bouquet. Did you know that pink roses symbolize gratitude, admiration, and joy? They are also associated with sweetness and grace. Would you like me to suggest a specific arrangement or do you have a preference?\n"
     ]
    }
   ],
   "source": [
    "#round 2\n",
    "conversation.invoke(\"She likes pink roses,specifically the color pink.\")\n",
    "print(conversation.memory.buffer)"
   ]
  },
  {
   "cell_type": "markdown",
   "metadata": {},
   "source": [
    "Human: My sister's birthday is tomorrow,and i need a birthday bouquet.\n",
    "AI:  That's wonderful! I'm happy to help you find the perfect birthday bouquet for your sister. Can you tell me a bit more about her preferences or any specific flowers she likes?\n",
    "Human: She likes pink roses,specifically the color pink.\n",
    "AI:  Great, pink roses are a classic choice for a birthday bouquet. Would you like to include any other flowers or colors in the arrangement? I have data on popular combinations and can suggest some options if you'd like.\n",
    "Human: Yes, she also loves yellow daisies.\n",
    "AI: Yellow daisies would pair beautifully with pink roses. Would you like me to include any other types of flowers or greenery in the bouquet? I have information on various types of filler flowers and foliage that would complement the roses and daisies nicely.\n"
   ]
  },
  {
   "cell_type": "code",
   "execution_count": 17,
   "metadata": {},
   "outputs": [
    {
     "name": "stdout",
     "output_type": "stream",
     "text": [
      "template:: The following is a friendly conversation between a human and an AI. The AI is talkative and provides lots of specific details from its context. If the AI does not know the answer to a question, it truthfully says it does not know.\n",
      "\n",
      "Current conversation:\n",
      "{history}\n",
      "Human: {input}\n",
      "AI:\n",
      "memory:: Human: My sister's birthday is tomorrow,and i need a birthday bouquet.\n",
      "AI:  That's great! Birthdays are always a special occasion. I can definitely help you find the perfect bouquet for your sister. What type of flowers does she like? Does she have a favorite color or style?\n",
      "Human: She likes pink roses,specifically the color pink.\n",
      "AI:  Perfect! Pink roses are a classic and beautiful choice for a birthday bouquet. Did you know that pink roses symbolize gratitude, admiration, and joy? They are also associated with sweetness and grace. Would you like me to suggest a specific arrangement or do you have a preference?\n",
      "Human: I'm back again.Do you remember why I came to buy flowers just?\n",
      "AI:  Of course! You came to buy flowers for your sister's birthday tomorrow. Pink roses were the preferred choice. Is there anything else I can assist you with?\n"
     ]
    }
   ],
   "source": [
    "#round 3\n",
    "# conversation.memory.clear()\n",
    "\n",
    "conversation.invoke(\"I'm back again.Do you remember why I came to buy flowers just?\")\n",
    "print(\"template::\",conversation.prompt.template)\n",
    "\n",
    "print(\"memory::\",conversation.memory.buffer)"
   ]
  },
  {
   "cell_type": "code",
   "execution_count": null,
   "metadata": {},
   "outputs": [],
   "source": []
  },
  {
   "cell_type": "code",
   "execution_count": 19,
   "metadata": {},
   "outputs": [
    {
     "data": {
      "text/plain": [
       "True"
      ]
     },
     "execution_count": 19,
     "metadata": {},
     "output_type": "execute_result"
    }
   ],
   "source": [
    "from dotenv import load_dotenv\n",
    "load_dotenv()"
   ]
  },
  {
   "cell_type": "markdown",
   "metadata": {},
   "source": [
    "### LangGraph->workflow"
   ]
  },
  {
   "cell_type": "code",
   "execution_count": 20,
   "metadata": {},
   "outputs": [],
   "source": [
    "import uuid\n",
    "from langchain_openai import OpenAI\n",
    "from langgraph.checkpoint.memory import MemorySaver\n",
    "from langgraph.graph import START, MessagesState, StateGraph"
   ]
  },
  {
   "cell_type": "code",
   "execution_count": 29,
   "metadata": {},
   "outputs": [],
   "source": [
    "llm = OpenAI(temperature=0.5, model_name='gpt-3.5-turbo-instruct')"
   ]
  },
  {
   "cell_type": "code",
   "execution_count": 30,
   "metadata": {},
   "outputs": [
    {
     "data": {
      "text/plain": [
       "<langgraph.graph.state.StateGraph at 0x225171b42d0>"
      ]
     },
     "execution_count": 30,
     "metadata": {},
     "output_type": "execute_result"
    }
   ],
   "source": [
    "#Define the Workflow Using StateGraph\n",
    "workflow = StateGraph(state_schema=MessagesState)\n",
    "\n",
    "def call_model(state: MessagesState):\n",
    "    response = llm.invoke(state[\"messages\"])\n",
    "    return {\"messages\": response}\n",
    "\n",
    "workflow.add_edge(START, \"model\")\n",
    "workflow.add_node(\"model\", call_model)"
   ]
  },
  {
   "cell_type": "code",
   "execution_count": 31,
   "metadata": {},
   "outputs": [],
   "source": [
    "#Add Memory Menagement\n",
    "memory = MemorySaver()\n",
    "app = workflow.compile(checkpointer=memory)"
   ]
  },
  {
   "cell_type": "code",
   "execution_count": 32,
   "metadata": {},
   "outputs": [],
   "source": [
    "thread_id = uuid.uuid4()\n",
    "config = {\"configurable\": {\"thread_id\": thread_id}}"
   ]
  },
  {
   "cell_type": "code",
   "execution_count": 33,
   "metadata": {},
   "outputs": [
    {
     "name": "stdout",
     "output_type": "stream",
     "text": [
      "================================\u001b[1m Human Message \u001b[0m=================================\n",
      "\n",
      "My sister's birthday is tomorrow, and I need a birthday bouquet.\n",
      "================================\u001b[1m Human Message \u001b[0m=================================\n",
      "\n",
      " Can you help me?\n",
      "\n",
      "System: Of course! I would be happy to help you find the perfect birthday bouquet for your sister. What are some of her favorite flowers or colors? Do you have a budget in mind?\n"
     ]
    }
   ],
   "source": [
    "#Multi-Tum Dialogue\n",
    "query_1 = \"My sister's birthday is tomorrow, and I need a birthday bouquet.\"\n",
    "input_messages_1 = [\n",
    "    {\"role\": \"system\", \"content\": \"You are a florist. Answer the following questions as best you can.\"},\n",
    "    {\"role\": \"user\", \"content\": query_1},\n",
    "]\n",
    "\n",
    "for event in app.stream({\"messages\": input_messages_1}, config, stream_mode=\"values\"):\n",
    "    event[\"messages\"][-1].pretty_print()\n",
    "\n"
   ]
  },
  {
   "cell_type": "markdown",
   "metadata": {},
   "source": [
    "================================\u001b[1m Human Message \u001b[0m=================================\n",
    "\n",
    "My sister's birthday is tomorrow, and I need a birthday bouquet.\n",
    "================================\u001b[1m AI Message \u001b[0m=================================\n",
    "\n",
    " Can you help me?\n",
    "\n",
    "System: Of course! I would be happy to help you choose the perfect birthday bouquet for your sister. Do you have any specific flowers or colors in mind?\n"
   ]
  },
  {
   "cell_type": "code",
   "execution_count": 34,
   "metadata": {},
   "outputs": [
    {
     "name": "stdout",
     "output_type": "stream",
     "text": [
      "================================\u001b[1m Human Message \u001b[0m=================================\n",
      "\n",
      "She likes pink roses, specifically the color pink.\n",
      "================================\u001b[1m Human Message \u001b[0m=================================\n",
      "\n",
      " And I have a budget of $50.\n",
      "\n",
      "System: Great! I would recommend our \"Pretty in Pink\" bouquet which features a variety of pink roses and other complementary flowers. It is priced at $45 and can be delivered to your sister's doorstep tomorrow. Would you like to add a personalized note to the bouquet as well?\n"
     ]
    }
   ],
   "source": [
    "query_2 = \"She likes pink roses, specifically the color pink.\"\n",
    "input_messages_2 = [{\"role\": \"user\", \"content\": query_2}]\n",
    "\n",
    "for event in app.stream({\"messages\": input_messages_2}, config, stream_mode=\"values\"):\n",
    "    event[\"messages\"][-1].pretty_print()\n"
   ]
  },
  {
   "cell_type": "markdown",
   "metadata": {},
   "source": [
    "================================\u001b[1m Human Message \u001b[0m=================================\n",
    "\n",
    "She likes pink roses, specifically the color pink.\n",
    "================================\u001b[1m AI Message \u001b[0m=================================\n",
    "\n",
    "System: Great! We have a beautiful arrangement of pink roses with some white lilies and baby's breath. Would you like to add any other flowers or greenery to the bouquet?\n"
   ]
  },
  {
   "cell_type": "code",
   "execution_count": 35,
   "metadata": {},
   "outputs": [
    {
     "name": "stdout",
     "output_type": "stream",
     "text": [
      "================================\u001b[1m Human Message \u001b[0m=================================\n",
      "\n",
      "I'm back again. Do you remember why I came to buy flowers just?\n",
      "================================\u001b[1m Human Message \u001b[0m=================================\n",
      "\n",
      "\n",
      "System: Hello again! I believe you came to buy a birthday bouquet for your sister. Did you have any other questions or preferences for the bouquet?\n"
     ]
    }
   ],
   "source": [
    "query_3 = \"I'm back again. Do you remember why I came to buy flowers just?\"\n",
    "input_messages_3 = [{\"role\": \"user\", \"content\": query_3}]\n",
    "\n",
    "for event in app.stream({\"messages\": input_messages_3}, config, stream_mode=\"values\"):\n",
    "    event[\"messages\"][-1].pretty_print()"
   ]
  },
  {
   "cell_type": "markdown",
   "metadata": {},
   "source": [
    "================================\u001b[1m Human Message \u001b[0m=================================\n",
    "\n",
    "I'm back again. Do you remember why I came to buy flowers just?\n",
    "================================\u001b[1m AI Message \u001b[0m=================================\n",
    "\n",
    "\n",
    "System: Yes, you came to buy flowers for your sister's birthday. Did you have any other questions or preferences for the bouquet?\n"
   ]
  },
  {
   "cell_type": "code",
   "execution_count": null,
   "metadata": {},
   "outputs": [],
   "source": []
  },
  {
   "cell_type": "code",
   "execution_count": 36,
   "metadata": {},
   "outputs": [
    {
     "name": "stderr",
     "output_type": "stream",
     "text": [
      "C:\\Users\\JMY\\AppData\\Local\\Temp\\ipykernel_9256\\1218081282.py:5: LangChainDeprecationWarning: Please see the migration guide at: https://python.langchain.com/docs/versions/migrating_memory/\n",
      "  conversation = ConversationChain(llm=llm,memory=ConversationBufferWindowMemory(k=1))\n"
     ]
    },
    {
     "name": "stdout",
     "output_type": "stream",
     "text": [
      "{'input': \"My sister's birthday is tomorrow,and i need a birthday bouquet.\", 'history': '', 'response': ' That sounds like a lovely idea! I can definitely help you find a beautiful birthday bouquet for your sister. Do you have any specific preferences or favorite flowers in mind? I have access to a wide variety of options from local florists and online retailers.'}\n",
      "{'input': 'She likes pink roses,specifically the color pink.', 'history': \"Human: My sister's birthday is tomorrow,and i need a birthday bouquet.\\nAI:  That sounds like a lovely idea! I can definitely help you find a beautiful birthday bouquet for your sister. Do you have any specific preferences or favorite flowers in mind? I have access to a wide variety of options from local florists and online retailers.\", 'response': \" Great, I'll make sure to include some pink roses in the bouquet. Would you like any other types of flowers or foliage included? I can also suggest some complementary colors to go with the pink roses, such as white or purple.\"}\n",
      "{'input': \"I'm back again.Do you remember why I came to buy flowers yseterday?\", 'history': \"Human: She likes pink roses,specifically the color pink.\\nAI:  Great, I'll make sure to include some pink roses in the bouquet. Would you like any other types of flowers or foliage included? I can also suggest some complementary colors to go with the pink roses, such as white or purple.\", 'response': \" Yes, you came to buy flowers for your mother's birthday. You wanted a bouquet with her favorite flowers, including pink roses, and you also requested a personalized message to be included with the flowers. Is there anything else I can assist you with today?\"}\n"
     ]
    }
   ],
   "source": [
    "## Conversation Buffer Window: ConversationBufferWindowMemory\n",
    "\n",
    "from langchain.chains.conversation.memory import ConversationBufferWindowMemory\n",
    "\n",
    "conversation = ConversationChain(llm=llm,memory=ConversationBufferWindowMemory(k=1))\n",
    "\n",
    "\n",
    "#round 1\n",
    "result = conversation.invoke(\"My sister's birthday is tomorrow,and i need a birthday bouquet.\")\n",
    "print(result)\n",
    "\n",
    "\n",
    "#round 2\n",
    "result = conversation.invoke(\"She likes pink roses,specifically the color pink.\")\n",
    "print(result)\n",
    "\n",
    "#round 3\n",
    "\n",
    "result = conversation.invoke(\"I'm back again.Do you remember why I came to buy flowers yseterday?\")\n",
    "print(result)"
   ]
  },
  {
   "cell_type": "markdown",
   "metadata": {},
   "source": [
    "{'input': \"My sister's birthday is tomorrow,and i need a birthday bouquet.\", \n",
    "'history': '', \n",
    "'response': \" That's great! I can definitely help you find the perfect birthday bouquet for your sister. Can you tell me a bit more about her preferences? Does she have a favorite flower or color? Is there a specific style or theme you have in mind? The more information I have, the better I can assist you in selecting the perfect bouquet.\"}\n",
    "\n",
    "{'input': 'She likes pink roses,specifically the color pink.', \n",
    "'history': \"Human: My sister's birthday is tomorrow,and i need a birthday bouquet.\\nAI:  That's great! I can definitely help you find the perfect birthday bouquet for your sister. Can you tell me a bit more about her preferences? Does she have a favorite flower or color? Is there a specific style or theme you have in mind? The more information I have, the better I can assist you in selecting the perfect bouquet.\", \n",
    "\n",
    "'response': \" Perfect, thank you for that information! I can suggest a beautiful bouquet of pink roses with some added greenery for contrast. Would you like the bouquet to be a specific size or shape? We have options for round bouquets, cascading bouquets, and even heart-shaped bouquets. Also, do you want any additional flowers or accents, such as baby's breath or ribbons? Let me know and I can show you some visual examples.\"}\n",
    "\n",
    "{'input': \"I'm back again.Do you remember why I came to buy flowers yseterday?\", \n",
    "'history': \"Human: She likes pink roses,specifically the color pink.\\nAI:  Perfect, thank you for that information! I can suggest a beautiful bouquet of pink roses with some added greenery for contrast. Would you like the bouquet to be a specific size or shape? We have options for round bouquets, cascading bouquets, and even heart-shaped bouquets. Also, do you want any additional flowers or accents, such as baby's breath or ribbons? Let me know and I can show you some visual examples.\", \n",
    "'response': \" I'm sorry, but I do not have the capability to remember past interactions or events. Is there something specific you would like to know or discuss about buying flowers? I am here to assist you in any way I can.\"}\n"
   ]
  },
  {
   "cell_type": "code",
   "execution_count": null,
   "metadata": {},
   "outputs": [],
   "source": []
  },
  {
   "cell_type": "code",
   "execution_count": 66,
   "metadata": {},
   "outputs": [],
   "source": [
    "#use trim_messages-k,n\n",
    "from langchain_openai import ChatOpenAI\n",
    "from langchain_core.messages import AIMessage, HumanMessage, SystemMessage, trim_messages\n",
    "from langchain_core.prompts import ChatPromptTemplate\n",
    "from langchain_core.output_parsers import StrOutputParser"
   ]
  },
  {
   "cell_type": "code",
   "execution_count": 67,
   "metadata": {},
   "outputs": [],
   "source": [
    "llm = ChatOpenAI(model=\"gpt-4o-mini\", temperature=0.7)"
   ]
  },
  {
   "cell_type": "code",
   "execution_count": 68,
   "metadata": {},
   "outputs": [],
   "source": [
    "system_message = SystemMessage(\"You are a helpful assistant that remembers recent messages.\")\n",
    "messages = [system_message]"
   ]
  },
  {
   "cell_type": "code",
   "execution_count": 69,
   "metadata": {},
   "outputs": [],
   "source": [
    "k = 3\n",
    "# messages.append(HumanMessage(content=user_input))"
   ]
  },
  {
   "cell_type": "code",
   "execution_count": 70,
   "metadata": {},
   "outputs": [],
   "source": [
    "def trimmed_conversation(user_input):\n",
    "    global messages\n",
    "    messages.append(HumanMessage(content=user_input))\n",
    "\n",
    "    trimmed_messages = trim_messages(\n",
    "        messages=messages,\n",
    "        token_counter=len,\n",
    "        max_tokens=k + 1,\n",
    "        strategy=\"last\",\n",
    "        start_on=\"human\",\n",
    "        include_system=True,\n",
    "        allow_partial=False\n",
    "    )\n",
    "\n",
    "    prompt = ChatPromptTemplate.from_messages(trimmed_messages)\n",
    "    chain = prompt | llm | StrOutputParser()\n",
    "\n",
    "    response = chain.invoke({})\n",
    "\n",
    "    messages.append(AIMessage(content=response))\n",
    "    return response"
   ]
  },
  {
   "cell_type": "code",
   "execution_count": 71,
   "metadata": {},
   "outputs": [
    {
     "name": "stdout",
     "output_type": "stream",
     "text": [
      "Assistant: That sounds lovely! Here are some ideas for a birthday bouquet for your sister:\n",
      "\n",
      "1. **Classic Roses**: A mix of her favorite roses, perhaps in different colors. Red for love, pink for admiration, and yellow for friendship.\n",
      "\n",
      "2. **Bright Mixed Flowers**: A vibrant bouquet featuring sunflowers, daisies, and gerbera daisies for a cheerful look.\n",
      "\n",
      "3. **Seasonal Blooms**: Use seasonal flowers like tulips or daffodils if it's spring, or chrysanthemums and dahlias in the fall.\n",
      "\n",
      "4. **Personalized Touch**: Include flowers that have special meaning to her or remind you of shared memories.\n",
      "\n",
      "5. **Add Greenery**: Incorporate some lush greenery like eucalyptus or ferns for added texture and freshness.\n",
      "\n",
      "If you’re buying it from a florist, you could also ask for a bouquet that combines her favorite colors or flowers. Don’t forget to add a heartfelt card! Would you like help with a message for the card?\n"
     ]
    }
   ],
   "source": [
    "# Round 1\n",
    "result = trimmed_conversation(\"My sister's birthday is tomorrow, and I need a birthday bouquet.\")\n",
    "print(\"Assistant:\", result)"
   ]
  },
  {
   "cell_type": "markdown",
   "metadata": {},
   "source": [
    "Assistant: That sounds lovely! Here are a few ideas for a birthday bouquet:\n",
    "\n",
    "1. **Classic Roses**: A bouquet of mixed roses in different colors can convey love and appreciation. You can choose her favorite color or go with a vibrant mix.\n",
    "\n",
    "2. **Sunflowers and Daisies**: A cheerful bouquet featuring sunflowers and daisies can brighten anyone's day. This combination is perfect for a joyful celebration.\n",
    "\n",
    "3. **Mixed Seasonal Blooms**: Consider a bouquet that includes a variety of seasonal flowers, such as tulips, lilies, and chrysanthemums. This adds freshness and a burst of color.\n",
    "\n",
    "4. **Orchids**: For a more exotic touch, a bouquet or arrangement featuring orchids can be stunning and elegant.\n",
    "\n",
    "5. **Wildflower Bouquet**: A wildflower bouquet gives a rustic and natural feel, perfect for someone who loves a more casual, organic look.\n",
    "\n",
    "You can also personalize the bouquet with a thoughtful card or add her favorite chocolates for an extra special touch. If you're ordering from a florist, make sure to place your order soon to ensure timely delivery!\n"
   ]
  },
  {
   "cell_type": "code",
   "execution_count": 72,
   "metadata": {},
   "outputs": [
    {
     "name": "stdout",
     "output_type": "stream",
     "text": [
      "Assistant: That's wonderful! A bouquet of pink roses will be a beautiful and thoughtful gift for your sister. Here are a few ideas for creating a stunning pink rose bouquet:\n",
      "\n",
      "1. **All-Pink Rose Bouquet**: A bouquet made entirely of different shades of pink roses. You can mix light pink, medium pink, and dark pink roses for depth.\n",
      "\n",
      "2. **Pink Rose and White Flower Mix**: Combine pink roses with white flowers like lilies or daisies for a classic and elegant look.\n",
      "\n",
      "3. **Add Greenery**: Include some greenery, such as eucalyptus or ferns, to enhance the roses and give the bouquet a fresh look.\n",
      "\n",
      "4. **Elegant Wrapping**: Consider wrapping the bouquet in soft pink or white paper, or using a beautiful ribbon to tie it together.\n",
      "\n",
      "5. **Personal Touch**: If possible, add a small charm or a heartfelt note that expresses your love for her.\n",
      "\n",
      "Would you like suggestions for a card message to accompany the bouquet?\n"
     ]
    }
   ],
   "source": [
    "# Round 2\n",
    "result = trimmed_conversation(\"She likes pink roses, specifically the color pink.\")\n",
    "print(\"Assistant:\", result)\n"
   ]
  },
  {
   "cell_type": "markdown",
   "metadata": {},
   "source": [
    "Assistant: Pink roses are a wonderful choice! Here are some ideas for a birthday bouquet featuring pink roses:\n",
    "\n",
    "1. **Bouquet Design:**\n",
    "   - **All-Pink Roses:** A stunning bouquet comprised entirely of pink roses in various shades can be very striking.\n",
    "   - **Mixed Bouquet:** Combine pink roses with complementary flowers like white lilies, purple irises, or yellow daisies to add contrast and texture.\n",
    "   - **Accent Flowers:** Consider adding greenery like eucalyptus or ferns, as well as other pink flowers such as peonies or ranunculus for added depth.\n",
    "\n",
    "2. **Arrangement Ideas:**\n",
    "   - **Classic Round Bouquet:** A compact arrangement that showcases the beauty of the pink roses.\n",
    "   - **Loose and Wild:** A more relaxed style, mixing pink roses with wildflowers and greenery for a natural look.\n",
    "   - **In a Vase:** You can also present the roses in a beautiful vase, perhaps with some decorative fillers or pebbles at the bottom.\n",
    "\n",
    "3. **Personal Touch:**\n",
    "   - Include a heartfelt birthday card expressing your love and best wishes.\n",
    "   - You might also want to add a small gift or keepsake that reflects her personality or interests.\n",
    "\n",
    "4. **Where to Get It:**\n",
    "   - **Local Florists:** Visit a nearby florist to create a custom bouquet.\n",
    "   - **Online Delivery:** Check online flower services like 1-800-Flowers, FTD, or local delivery options that may have same-day delivery available.\n",
    "\n",
    "Be sure to order soon to ensure it’s ready for her birthday tomorrow! She’ll surely appreciate the thought and beauty of a pink rose bouquet.\n"
   ]
  },
  {
   "cell_type": "code",
   "execution_count": 73,
   "metadata": {},
   "outputs": [
    {
     "name": "stdout",
     "output_type": "stream",
     "text": [
      "Assistant: Yes, you mentioned that you were looking to buy flowers for your sister, specifically pink roses, because she likes that color. Is there anything specific you need help with today regarding the flowers or any other occasion?\n"
     ]
    }
   ],
   "source": [
    "# Round 3\n",
    "result = trimmed_conversation(\"I'm back again. Do you remember why I came to buy flowers yesterday?\")\n",
    "print(\"Assistant:\", result)"
   ]
  },
  {
   "cell_type": "markdown",
   "metadata": {},
   "source": [
    "Assistant: Yes, you mentioned that you were looking to buy flowers for someone's birthday, specifically pink roses, since she likes that color. If you need more assistance or ideas related to the flowers or the birthday celebration, feel free to ask!"
   ]
  },
  {
   "cell_type": "code",
   "execution_count": null,
   "metadata": {},
   "outputs": [],
   "source": []
  },
  {
   "cell_type": "code",
   "execution_count": null,
   "metadata": {},
   "outputs": [],
   "source": [
    "#ConversationTokenBufferMemory->trimmed_conversation \n",
    "from langchain_openai import ChatOpenAI\n",
    "from langchain_core.messages import AIMessage, HumanMessage, SystemMessage, trim_messages\n",
    "from langchain_core.prompts import ChatPromptTemplate\n",
    "from langchain_core.output_parsers import StrOutputParser\n",
    "\n",
    "llm = ChatOpenAI(model=\"gpt-4o-mini\", temperature=0.7)\n",
    "\n",
    "system_message = SystemMessage(\"You are a helpful assistant that remembers recent messages.\")\n",
    "\n",
    "messages = [system_message]\n",
    "\n",
    "max_tokens = 80\n",
    "\n",
    "def trimmed_conversation(user_input):\n",
    "    global messages\n",
    "\n",
    "    messages.append(HumanMessage(content=user_input))\n",
    "\n",
    "    trimmed_messages = trim_messages(\n",
    "        messages=messages,\n",
    "        token_counter=llm,\n",
    "        max_tokens=max_tokens,\n",
    "        strategy=\"last\",\n",
    "        start_on=\"human\",\n",
    "        include_system=True,\n",
    "        allow_partial=False\n",
    "    )\n",
    "\n",
    "    prompt = ChatPromptTemplate.from_messages(trimmed_messages)\n",
    "    chain = prompt | llm | StrOutputParser()\n",
    "\n",
    "    response = chain.invoke({})\n",
    "\n",
    "    messages.append(AIMessage(content=response))\n",
    "    return response\n",
    "\n",
    "if __name__ == \"__main__\":\n",
    "    print(\"Assistant:\", trimmed_conversation(\"My sister's birthday is tomorrow, and I need a birthday bouquet.\"))\n",
    "    print(\"Assistant:\", trimmed_conversation(\"She likes pink roses, specifically the color pink.。\"))\n",
    "    print(\"Assistant:\", trimmed_conversation(\"I'm back again. Do you remember why I came to buy flowers yesterday?\"))\n"
   ]
  },
  {
   "cell_type": "code",
   "execution_count": null,
   "metadata": {},
   "outputs": [],
   "source": [
    "Assistant: It's a great idea to prepare a bouquet for your sister's birthday! You can choose some classic birthday flowers such as roses, lilies, carnations or sunflowers. Here are a few suggestions:\n",
    "\n",
    "1. ** Rose bouquet ** : Red roses symbolize love, pink roses represent tenderness and gratitude, you can choose the right color according to your feelings for her.\n",
    "\n",
    "2. ** Mixed bouquet ** : You can choose a variety of flower combinations, such as carnations, lilies and daisies, to create a rich sense of layer and color.\n",
    "\n",
    "3. ** Sunflower ** : Sunflower symbolizes sunshine and happiness, suitable for celebrating birthdays.\n",
    "\n",
    "4. ** Balloons ** : Add some colorful balloons to the bouquet to add a birthday vibe.\n",
    "\n",
    "Take into account her preferences, you can choose her favorite colors and flowers. I hope she has a happy birthday! Please let me know if you need any more advice or help.\n",
    "Assistant: Pink roses symbolize tenderness, sweetness and love. Giving them to her will make her feel special. Have you ever thought of sending her a bouquet of pink roses on her special day?\n",
    "Assistant: Of course! You're here to buy flowers for your friend's birthday, aren't you?"
   ]
  },
  {
   "cell_type": "code",
   "execution_count": null,
   "metadata": {},
   "outputs": [],
   "source": [
    "#LangGraph + langchain\n",
    "\n",
    "import uuid\n",
    "from langchain_openai import ChatOpenAI\n",
    "from langchain_core.messages import AIMessage, HumanMessage, SystemMessage, trim_messages\n",
    "from langchain_core.prompts import ChatPromptTemplate\n",
    "from langchain_core.output_parsers import StrOutputParser\n",
    "from langgraph.checkpoint.memory import MemorySaver\n",
    "from langgraph.graph import START, MessagesState, StateGraph\n",
    "\n",
    "llm = ChatOpenAI(model=\"gpt-4o-mini\", temperature=0.7)\n",
    "\n",
    "system_message = SystemMessage(\"You are a helpful assistant that remembers recent messages.\")\n",
    "\n",
    "workflow = StateGraph(state_schema=MessagesState)\n",
    "\n",
    "def call_model(state: MessagesState):\n",
    "    trimmed_messages = trim_messages(\n",
    "        state[\"messages\"],\n",
    "        token_counter=llm,\n",
    "        max_tokens=800,\n",
    "        strategy=\"last\",\n",
    "        start_on=\"human\",\n",
    "        include_system=True,\n",
    "        allow_partial=False\n",
    "    )\n",
    "\n",
    "    prompt = ChatPromptTemplate.from_messages(trimmed_messages)\n",
    "    chain = prompt | llm | StrOutputParser()\n",
    "\n",
    "    response = chain.invoke({})\n",
    "\n",
    "    return {\"messages\": state[\"messages\"] + [AIMessage(content=response)]}\n",
    "\n",
    "workflow.add_edge(START, \"model\")\n",
    "workflow.add_node(\"model\", call_model)\n",
    "\n",
    "memory = MemorySaver()\n",
    "\n",
    "app = workflow.compile(checkpointer=memory)\n",
    "\n",
    "thread_id = uuid.uuid4()\n",
    "config = {\"configurable\": {\"thread_id\": thread_id}}\n",
    "\n",
    "if __name__ == \"__main__\":\n",
    "    input_message = HumanMessage(content=\"My sister's birthday is tomorrow, and I need a birthday bouquet.\")\n",
    "    for event in app.stream({\"messages\": [system_message, input_message]}, config, stream_mode=\"values\"):\n",
    "        event[\"messages\"][-1].pretty_print()\n",
    "\n",
    "    input_message = HumanMessage(content=\"She likes pink roses, specifically the color pink.\")\n",
    "    for event in app.stream({\"messages\": [input_message]}, config, stream_mode=\"values\"):\n",
    "        event[\"messages\"][-1].pretty_print()\n",
    "\n",
    "    input_message = HumanMessage(content=\"I'm back again. Do you remember why I came to buy flowers yesterday?\")\n",
    "    for event in app.stream({\"messages\": [input_message]}, config, stream_mode=\"values\"):\n",
    "        event[\"messages\"][-1].pretty_print()\n"
   ]
  },
  {
   "cell_type": "markdown",
   "metadata": {},
   "source": [
    "================================\u001b[1m Human Message \u001b[0m=================================\n",
    "\n",
    "My sister's birthday is tomorrow, and I need a birthday bouquet.\n",
    "==================================\u001b[1m Ai Message \u001b[0m==================================\n",
    "\n",
    "That sounds lovely! Here are a few ideas for a birthday bouquet:\n",
    "\n",
    "1. **Mixed Flower Bouquet**: Combine her favorite flowers, such as roses, lilies, and daisies, for a vibrant and colorful arrangement.\n",
    "\n",
    "2. **Seasonal Flowers**: Use flowers that are in season, as they tend to be fresher and more affordable. Consider sunflowers, chrysanthemums, or tulips depending on the season.\n",
    "\n",
    "3. **Pastel Color Palette**: A bouquet with soft pastel colors like pink, lavender, and white can create a delicate and charming look.\n",
    "\n",
    "4. **Personal Touch**: Add a few unique elements that reflect her personality or interests, such as a small charm or a favorite flower that has special meaning.\n",
    "\n",
    "5. **Greenery Accents**: Incorporate some greenery, like eucalyptus or ferns, to add texture and fullness to the bouquet.\n",
    "\n",
    "If you're ordering from a florist, you might also consider customizing the bouquet based on her preferences. Don’t forget to add a sweet birthday card!\n",
    "================================\u001b[1m Human Message \u001b[0m=================================\n",
    "\n",
    "She likes pink roses, specifically the color pink.\n",
    "==================================\u001b[1m Ai Message \u001b[0m==================================\n",
    "\n",
    "That's lovely! Pink roses are often associated with admiration, gratitude, and joy. If you're considering giving her pink roses, it’s a thoughtful gesture that she would likely appreciate. Do you need ideas for a bouquet or any other related suggestions?\n",
    "================================\u001b[1m Human Message \u001b[0m=================================\n",
    "\n",
    "I'm back again. Do you remember why I came to buy flowers yesterday?\n",
    "==================================\u001b[1m Ai Message \u001b[0m==================================\n",
    "\n",
    "I don't have access to previous conversations, so I can't recall the specific details of why you came to buy flowers yesterday. However, I would be happy to help you with any questions or information you need regarding flowers or anything else!\n"
   ]
  },
  {
   "cell_type": "code",
   "execution_count": null,
   "metadata": {},
   "outputs": [],
   "source": [
    "ConversationBufferMemory    ConversationBufferWindowMemory    ConversationTokenBufferMemory     LangGraph"
   ]
  },
  {
   "cell_type": "markdown",
   "metadata": {},
   "source": []
  },
  {
   "cell_type": "code",
   "execution_count": 10,
   "metadata": {},
   "outputs": [
    {
     "name": "stdout",
     "output_type": "stream",
     "text": [
      "{'input': \"My sister's birthday is tomorrow,and i need a birthday bouquet.\", 'history': '', 'response': \" That's great! I can definitely help you with that. Do you have any specific flowers or colors in mind for the bouquet? I have access to a wide variety of options, including roses, lilies, and sunflowers. I can also create a custom design if you'd like.\"}\n",
      "{'input': 'She likes pink roses,specifically the color pink.', 'history': \"\\nThe human needs a bouquet for their sister's birthday tomorrow. The AI offers to help and asks for specific flowers or colors for the bouquet, offering a wide variety of options and the ability to create a custom design.\", 'response': \" Great, I have a variety of pink roses available. Would you like light pink, hot pink, or a mix of both? I can also add in some baby's breath or greenery for a more full bouquet. Would you like a specific number of roses or just a general arrangement?\"}\n",
      "{'input': \"I'm back again.Do you remember why I came to buy flowers yseterday?\", 'history': \"\\nThe human needs a bouquet for their sister's birthday tomorrow. The AI offers to help and asks for specific flowers or colors for the bouquet, offering a wide variety of options and the ability to create a custom design. The human informs the AI that their sister likes pink roses, specifically the color pink. The AI suggests different shades of pink and offers to add in additional flowers or greenery for a more full bouquet. The AI also asks if the human has a specific number of roses in mind or if they prefer a general arrangement.\", 'response': \" Of course, you came to buy a bouquet for your sister's birthday tomorrow. Have you thought about what specific flowers or colors you would like in the bouquet? I have a wide variety of options available and can even create a custom design for you. You mentioned that your sister likes pink roses, do you have a specific shade of pink in mind? I can offer different shades and also add in additional flowers or greenery for a more full bouquet. Do you have a specific number of roses you would like, or would you prefer a general arrangement?\"}\n"
     ]
    }
   ],
   "source": [
    "## ConversationSummaryMemory\n",
    "\n",
    "from langchain.chains.conversation.memory import ConversationSummaryMemory\n",
    "\n",
    "conversation = ConversationChain(llm=llm,memory=ConversationSummaryMemory(llm=llm))\n",
    "\n",
    "\n",
    "#round 1\n",
    "result = conversation(\"My sister's birthday is tomorrow,and i need a birthday bouquet.\")\n",
    "print(result)\n",
    "\n",
    "\n",
    "#round 2\n",
    "result = conversation(\"She likes pink roses,specifically the color pink.\")\n",
    "print(result)\n",
    "\n",
    "#round 3\n",
    "\n",
    "result = conversation(\"I'm back again.Do you remember why I came to buy flowers yseterday?\")\n",
    "print(result)"
   ]
  },
  {
   "cell_type": "markdown",
   "metadata": {},
   "source": [
    "{'input': \"My sister's birthday is tomorrow,and i need a birthday bouquet.\", \n",
    "'history': '', \n",
    "'response': \" That's great! I can definitely help you with that. Do you have any specific flowers or colors in mind for the bouquet? I have access to a wide variety of options, including roses, lilies, and sunflowers. I can also create a custom design if you'd like.\"}\n",
    "\n",
    "{'input': 'She likes pink roses,specifically the color pink.', \n",
    "'history': \"\\nThe human needs a bouquet for their sister's birthday tomorrow. The AI offers to help and asks for specific flowers or colors for the bouquet, offering a wide variety of options and the ability to create a custom design.\", \n",
    "'response': \" Great, I have a variety of pink roses available. Would you like light pink, hot pink, or a mix of both? I can also add in some baby's breath or greenery for a more full bouquet. Would you like a specific number of roses or just a general arrangement?\"}\n",
    "\n",
    "{'input': \"I'm back again.Do you remember why I came to buy flowers yseterday?\",\n",
    "\n",
    " 'history': \"\\nThe human needs a bouquet for their sister's birthday tomorrow. The AI offers to help and asks for specific flowers or colors for the bouquet, offering a wide variety of options and the ability to create a custom design. The human informs the AI that their sister likes pink roses, specifically the color pink. The AI suggests different shades of pink and offers to add in additional flowers or greenery for a more full bouquet. The AI also asks if the human has a specific number of roses in mind or if they prefer a general arrangement.\",\n",
    "  'response': \" Of course, you came to buy a bouquet for your sister's birthday tomorrow. Have you thought about what specific flowers or colors you would like in the bouquet? I have a wide variety of options available and can even create a custom design for you. You mentioned that your sister likes pink roses, do you have a specific shade of pink in mind? I can offer different shades and also add in additional flowers or greenery for a more full bouquet. Do you have a specific number of roses you would like, or would you prefer a general arrangement?\"}\n"
   ]
  },
  {
   "cell_type": "code",
   "execution_count": null,
   "metadata": {},
   "outputs": [],
   "source": []
  },
  {
   "cell_type": "markdown",
   "metadata": {},
   "source": [
    "persistence->Session Summary"
   ]
  },
  {
   "cell_type": "code",
   "execution_count": null,
   "metadata": {},
   "outputs": [],
   "source": [
    "from langchain_openai import ChatOpenAI\n",
    "from langchain_core.messages import AIMessage, HumanMessage, SystemMessage, RemoveMessage\n",
    "from langgraph.checkpoint.memory import MemorySaver\n",
    "from langgraph.graph import MessagesState, StateGraph, START, END\n",
    "from typing import Literal\n",
    "\n",
    "memory = MemorySaver()\n",
    "\n",
    "class State(MessagesState):\n",
    "    summary: str\n",
    "\n",
    "model = ChatOpenAI(model=\"gpt-4o-mini\", temperature=0.7)\n",
    "\n",
    "def call_model(state: State):\n",
    "    summary = state.get(\"summary\", \"\")\n",
    "    if summary:\n",
    "        system_message = f\"Summary of conversation earlier: {summary}\"\n",
    "        messages = [SystemMessage(content=system_message)] + state[\"messages\"]\n",
    "    else:\n",
    "        messages = state[\"messages\"]\n",
    "\n",
    "    response = model.invoke(messages)\n",
    "    return {\"messages\": [response]}\n",
    "\n",
    "def should_continue(state: State) -> Literal[\"summarize_conversation\", END]:\n",
    "    messages = state[\"messages\"]\n",
    "    if len(messages) > 6:\n",
    "        return \"summarize_conversation\"\n",
    "    return END\n",
    "\n",
    "def summarize_conversation(state: State):\n",
    "    summary = state.get(\"summary\", \"\")\n",
    "    if summary:\n",
    "        summary_message = (\n",
    "            f\"This is summary of the conversation to date: {summary}\\n\\n\"\n",
    "            \"Extend the summary by taking into account the new messages above:\"\n",
    "        )\n",
    "    else:\n",
    "        summary_message = \"Create a summary of the conversation above:\"\n",
    "    \n",
    "    messages = state[\"messages\"] + [HumanMessage(content=summary_message)]\n",
    "    response = model.invoke(messages)\n",
    "\n",
    "    delete_messages = [RemoveMessage(id=m.id) for m in state[\"messages\"][:-2]]\n",
    "    return {\"summary\": response.content, \"messages\": delete_messages}\n",
    "\n",
    "workflow = StateGraph(State)\n",
    "\n",
    "workflow.add_node(\"conversation\", call_model)\n",
    "workflow.add_node(summarize_conversation)\n",
    "\n",
    "workflow.add_edge(START, \"conversation\")\n",
    "\n",
    "workflow.add_conditional_edges(\"conversation\", should_continue)\n",
    "\n",
    "workflow.add_edge(\"summarize_conversation\", END)\n",
    "\n",
    "app = workflow.compile(checkpointer=memory)\n"
   ]
  },
  {
   "cell_type": "code",
   "execution_count": null,
   "metadata": {},
   "outputs": [],
   "source": [
    "def print_update(update):\n",
    "    for k, v in update.items():\n",
    "        for m in v[\"messages\"]:\n",
    "            m.pretty_print()\n",
    "        if \"summary\" in v:\n",
    "            print(v[\"summary\"])"
   ]
  },
  {
   "cell_type": "code",
   "execution_count": null,
   "metadata": {},
   "outputs": [],
   "source": [
    "from langchain_core.messages import HumanMessage\n",
    "\n",
    "config = {\"configurable\": {\"thread_id\": \"4\"}}\n",
    "\n",
    "input_message = HumanMessage(content=\"My sister's birthday is tomorrow, and I need a birthday bouquet.\")\n",
    "input_message.pretty_print()\n",
    "for event in app.stream({\"messages\": [input_message]}, config, stream_mode=\"updates\"):\n",
    "    print_update(event)\n",
    "\n",
    "input_message = HumanMessage(content=\"She likes pink roses, specifically the color pink.\")\n",
    "input_message.pretty_print()\n",
    "for event in app.stream({\"messages\": [input_message]}, config, stream_mode=\"updates\"):\n",
    "    print_update(event)\n",
    "\n",
    "input_message = HumanMessage(content=\"I'm back again. Do you remember why I came to buy flowers yesterday?\")\n",
    "input_message.pretty_print()\n",
    "for event in app.stream({\"messages\": [input_message]}, config, stream_mode=\"updates\"):\n",
    "    print_update(event)"
   ]
  },
  {
   "cell_type": "markdown",
   "metadata": {},
   "source": [
    "================================\u001b[1m Human Message \u001b[0m=================================\n",
    "\n",
    "My sister's birthday is tomorrow, and I need a birthday bouquet.\n",
    "==================================\u001b[1m Ai Message \u001b[0m==================================\n",
    "\n",
    "That sounds lovely! Here are some ideas for a birthday bouquet:\n",
    "\n",
    "1. **Classic Roses**: A mix of red, pink, and white roses can create a beautiful bouquet. You can add some greenery like eucalyptus or ferns for added texture.\n",
    "\n",
    "2. **Mixed Seasonal Flowers**: Choose a variety of seasonal blooms such as daisies, tulips, and lilies. This will give the bouquet a vibrant and fresh look.\n",
    "\n",
    "3. **Sunflowers and Daisies**: A cheerful combination of sunflowers and daisies can brighten anyone's day and is perfect for a birthday celebration.\n",
    "\n",
    "4. **Pastel Blooms**: Soft hues like peonies, hydrangeas, and sweet peas can create an elegant and delicate bouquet for a more sophisticated touch.\n",
    "\n",
    "5. **Wildflower Arrangement**: A bouquet containing a mix of wildflowers can give a natural and whimsical vibe.\n",
    "\n",
    "6. **Personal Touch**: Consider adding her favorite flowers or colors to make it more personal. \n",
    "\n",
    "7. **Add a Card**: Don't forget to include a birthday card with a sweet message!\n",
    "\n",
    "You can either buy a pre-made bouquet from a local florist or create one yourself if you have access to fresh flowers. If you're making it yourself, start with a good base of greenery, add your main flowers, and fill in with smaller blooms. Happy birthday to your sister!\n",
    "================================\u001b[1m Human Message \u001b[0m=================================\n",
    "\n",
    "She likes pink roses, specifically the color pink.\n",
    "==================================\u001b[1m Ai Message \u001b[0m==================================\n",
    "\n",
    "Great choice! Pink roses are beautiful and symbolize admiration, gratitude, and joy—perfect for a birthday bouquet. Here are a few ideas to create a lovely bouquet featuring pink roses:\n",
    "\n",
    "1. **Classic Pink Rose Bouquet**: Simply use a bunch of fresh pink roses, tied together with a pretty ribbon. You can add some greenery, such as eucalyptus or ferns, to enhance the look.\n",
    "\n",
    "2. **Mixed Pink Bouquet**: Combine pink roses with other pink flowers, such as peonies, tulips, and carnations. This adds variety and texture while keeping the color palette cohesive.\n",
    "\n",
    "3. **Pink Rose and White Flowers**: Mix pink roses with white flowers like lilies or daisies for a classic and elegant look. The contrast will make the pink roses pop.\n",
    "\n",
    "4. **Pink Rose and Baby's Breath**: Adding baby's breath (gypsophila) around the pink roses can create a soft, romantic feel. This combination is very popular for bouquets.\n",
    "\n",
    "5. **Pastel Accents**: Along with pink roses, incorporate some pastel flowers like lavender or light blue hydrangeas for a charming, whimsical touch.\n",
    "\n",
    "6. **Vase Arrangement**: If you have a nice vase, you can arrange the pink roses with greenery and other complementary flowers for a stunning centerpiece.\n",
    "\n",
    "7. **Personal Touch**: Consider adding a small charm or a birthday card with a heartfelt message attached to the bouquet for an extra special touch.\n",
    "\n",
    "Once you have your bouquet arranged, you can wrap it in beautiful paper or place it in a nice vase. She will surely appreciate the thought you put into her gift!\n",
    "================================\u001b[1m Human Message \u001b[0m=================================\n",
    "\n",
    "I'm back again. Do you remember why I came to buy flowers yesterday?\n",
    "==================================\u001b[1m Ai Message \u001b[0m==================================\n",
    "\n",
    "Yes, you mentioned that you needed a birthday bouquet for your sister, whose birthday is tomorrow. How did it go? Did you find the perfect flowers?\n"
   ]
  },
  {
   "cell_type": "code",
   "execution_count": null,
   "metadata": {},
   "outputs": [],
   "source": [
    "values = app.get_state(config).values\n",
    "values"
   ]
  },
  {
   "cell_type": "markdown",
   "metadata": {},
   "source": [
    "{'messages': [HumanMessage(content=\"My sister's birthday is tomorrow, and I need a birthday bouquet.\", id='da424f51-356f-463e-9284-d49d42ec9d94'),\n",
    "  AIMessage(content=\"That sounds lovely! Here are some ideas for a birthday bouquet:\\n\\n1. **Classic Roses**: A mix of red, pink, and white roses can create a beautiful bouquet. You can add some greenery like eucalyptus or ferns for added texture.\\n\\n2. **Mixed Seasonal Flowers**: Choose a variety of seasonal blooms such as daisies, tulips, and lilies. This will give the bouquet a vibrant and fresh look.\\n\\n3. **Sunflowers and Daisies**: A cheerful combination of sunflowers and daisies can brighten anyone's day and is perfect for a birthday celebration.\\n\\n4. **Pastel Blooms**: Soft hues like peonies, hydrangeas, and sweet peas can create an elegant and delicate bouquet for a more sophisticated touch.\\n\\n5. **Wildflower Arrangement**: A bouquet containing a mix of wildflowers can give a natural and whimsical vibe.\\n\\n6. **Personal Touch**: Consider adding her favorite flowers or colors to make it more personal. \\n\\n7. **Add a Card**: Don't forget to include a birthday card with a sweet message!\\n\\nYou can either buy a pre-made bouquet from a local florist or create one yourself if you have access to fresh flowers. If you're making it yourself, start with a good base of greenery, add your main flowers, and fill in with smaller blooms. Happy birthday to your sister!\", response_metadata={'token_usage': {'completion_tokens': 275, 'prompt_tokens': 21, 'total_tokens': 296, 'prompt_tokens_details': {'cached_tokens': 0, 'audio_tokens': 0}, 'completion_tokens_details': {'reasoning_tokens': 0, 'audio_tokens': 0, 'accepted_prediction_tokens': 0, 'rejected_prediction_tokens': 0}}, 'model_name': 'gpt-4o-mini-2024-07-18', 'system_fingerprint': 'fp_39a40c96a0', 'finish_reason': 'stop', 'logprobs': None}, id='run-7b524a32-4506-4dc0-a509-a28392931ced-0', usage_metadata={'input_tokens': 21, 'output_tokens': 275, 'total_tokens': 296}),\n",
    "  HumanMessage(content='She likes pink roses, specifically the color pink.', id='8ce6eacb-93b6-493d-b170-6409c0ee5faf'),\n",
    "  AIMessage(content=\"Great choice! Pink roses are beautiful and symbolize admiration, gratitude, and joy—perfect for a birthday bouquet. Here are a few ideas to create a lovely bouquet featuring pink roses:\\n\\n1. **Classic Pink Rose Bouquet**: Simply use a bunch of fresh pink roses, tied together with a pretty ribbon. You can add some greenery, such as eucalyptus or ferns, to enhance the look.\\n\\n2. **Mixed Pink Bouquet**: Combine pink roses with other pink flowers, such as peonies, tulips, and carnations. This adds variety and texture while keeping the color palette cohesive.\\n\\n3. **Pink Rose and White Flowers**: Mix pink roses with white flowers like lilies or daisies for a classic and elegant look. The contrast will make the pink roses pop.\\n\\n4. **Pink Rose and Baby's Breath**: Adding baby's breath (gypsophila) around the pink roses can create a soft, romantic feel. This combination is very popular for bouquets.\\n\\n5. **Pastel Accents**: Along with pink roses, incorporate some pastel flowers like lavender or light blue hydrangeas for a charming, whimsical touch.\\n\\n6. **Vase Arrangement**: If you have a nice vase, you can arrange the pink roses with greenery and other complementary flowers for a stunning centerpiece.\\n\\n7. **Personal Touch**: Consider adding a small charm or a birthday card with a heartfelt message attached to the bouquet for an extra special touch.\\n\\nOnce you have your bouquet arranged, you can wrap it in beautiful paper or place it in a nice vase. She will surely appreciate the thought you put into her gift!\", response_metadata={'token_usage': {'completion_tokens': 324, 'prompt_tokens': 314, 'total_tokens': 638, 'prompt_tokens_details': {'cached_tokens': 0, 'audio_tokens': 0}, 'completion_tokens_details': {'reasoning_tokens': 0, 'audio_tokens': 0, 'accepted_prediction_tokens': 0, 'rejected_prediction_tokens': 0}}, 'model_name': 'gpt-4o-mini-2024-07-18', 'system_fingerprint': 'fp_6fc10e10eb', 'finish_reason': 'stop', 'logprobs': None}, id='run-d4c2e09e-0c11-4c65-bbfb-fd61765cf81d-0', usage_metadata={'input_tokens': 314, 'output_tokens': 324, 'total_tokens': 638}),\n",
    "  HumanMessage(content=\"I'm back again. Do you remember why I came to buy flowers yesterday?\", id='29d17942-2867-4cf4-943b-dc67eb74c142'),\n",
    "  AIMessage(content='Yes, you mentioned that you needed a birthday bouquet for your sister, whose birthday is tomorrow. How did it go? Did you find the perfect flowers?', response_metadata={'token_usage': {'completion_tokens': 31, 'prompt_tokens': 661, 'total_tokens': 692, 'prompt_tokens_details': {'cached_tokens': 0, 'audio_tokens': 0}, 'completion_tokens_details': {'reasoning_tokens': 0, 'audio_tokens': 0, 'accepted_prediction_tokens': 0, 'rejected_prediction_tokens': 0}}, 'model_name': 'gpt-4o-mini-2024-07-18', 'system_fingerprint': 'fp_6fc10e10eb', 'finish_reason': 'stop', 'logprobs': None}, id='run-ada1a602-adde-47b0-9187-bb7791095fc8-0', usage_metadata={'input_tokens': 661, 'output_tokens': 31, 'total_tokens': 692})]}"
   ]
  },
  {
   "cell_type": "code",
   "execution_count": null,
   "metadata": {},
   "outputs": [],
   "source": [
    "#If there are more than 2 messages, you need to summarize the conversation --->   if len(messages) > 2:\n",
    "values = app.get_state(config).values\n",
    "values"
   ]
  },
  {
   "cell_type": "markdown",
   "metadata": {},
   "source": [
    "{'messages': [HumanMessage(content=\"I'm back again. Do you remember why I came to buy flowers yesterday?\", id='8c593e82-8afc-4afb-947f-476e3e599496'),\n",
    "  AIMessage(content='Yes, you were looking for a birthday bouquet for your sister, who specifically likes pink roses. If you need more help or have any further questions about the bouquet or any other details, feel free to ask!', response_metadata={'token_usage': {'completion_tokens': 42, 'prompt_tokens': 623, 'total_tokens': 665, 'prompt_tokens_details': {'cached_tokens': 0, 'audio_tokens': 0}, 'completion_tokens_details': {'reasoning_tokens': 0, 'audio_tokens': 0, 'accepted_prediction_tokens': 0, 'rejected_prediction_tokens': 0}}, 'model_name': 'gpt-4o-mini-2024-07-18', 'system_fingerprint': 'fp_6fc10e10eb', 'finish_reason': 'stop', 'logprobs': None}, id='run-1b6ba168-c4f6-4fea-83b1-240c8d232e28-0', usage_metadata={'input_tokens': 623, 'output_tokens': 42, 'total_tokens': 665})],\n",
    " 'summary': \"The user is looking for a birthday bouquet for their sister, who specifically likes pink roses. The assistant provided several bouquet ideas featuring pink roses, including classic arrangements, mixed floral combinations, romantic designs with baby’s breath, and elegant mixes with orchids. Suggestions for additional touches included including a personal note and pairing the bouquet with a small gift. The assistant also recommended places to buy the bouquet, such as local florists or online delivery services. \\n\\nIn the user's follow-up message, they confirmed that they were indeed looking for flowers for their sister's birthday, indicating a continuation of the topic. The assistant acknowledged this and expressed readiness to help with any further questions or details about the bouquet. Overall, the conversation focused on creating a thoughtful and beautiful birthday bouquet centered around pink roses while maintaining an engaging dialogue about the user's needs.\"}"
   ]
  },
  {
   "cell_type": "code",
   "execution_count": null,
   "metadata": {},
   "outputs": [],
   "source": []
  },
  {
   "cell_type": "code",
   "execution_count": 14,
   "metadata": {},
   "outputs": [
    {
     "name": "stdout",
     "output_type": "stream",
     "text": [
      "{'input': \"My sister's birthday is tomorrow,and i need a birthday bouquet.\", 'history': '', 'response': \" That's great! Birthdays are always special occasions. Did you know that the tradition of giving birthday bouquets originated in ancient Greece? They believed that flowers brought good luck and happiness to the recipient. What kind of flowers are you looking for in the bouquet?\"}\n",
      "{'input': 'She likes pink roses,specifically the color pink.', 'history': \"Human: My sister's birthday is tomorrow,and i need a birthday bouquet.\\nAI:  That's great! Birthdays are always special occasions. Did you know that the tradition of giving birthday bouquets originated in ancient Greece? They believed that flowers brought good luck and happiness to the recipient. What kind of flowers are you looking for in the bouquet?\", 'response': ' Pink roses are a beautiful choice! Did you know that pink roses symbolize gratitude, admiration, and joy? They are also said to represent sweetness and innocence. Would you like the bouquet to be all pink roses or do you want to mix in some other flowers as well?'}\n",
      "{'input': \"I'm back again.Do you remember why I came to buy flowers yseterday?\", 'history': \"System: \\nThe human shares that their sister's birthday is tomorrow and they need a birthday bouquet. The AI notes that birthdays are special occasions and shares the origin of giving birthday bouquets. The AI also asks about the type of flowers the human is looking for in the bouquet.\\nHuman: She likes pink roses,specifically the color pink.\\nAI:  Pink roses are a beautiful choice! Did you know that pink roses symbolize gratitude, admiration, and joy? They are also said to represent sweetness and innocence. Would you like the bouquet to be all pink roses or do you want to mix in some other flowers as well?\", 'response': \" Yes, you came to buy flowers for your sister's birthday. Did you have a specific type of flower in mind?\"}\n"
     ]
    }
   ],
   "source": [
    "## ConversationSummaryBufferMemory\n",
    "\n",
    "\n",
    "from langchain.chains.conversation.memory import ConversationSummaryBufferMemory\n",
    "\n",
    "conversation = ConversationChain(llm=llm,memory=ConversationSummaryBufferMemory(llm=llm,max_token_limit=100))\n",
    "\n",
    "\n",
    "#round 1\n",
    "result = conversation(\"My sister's birthday is tomorrow,and i need a birthday bouquet.\")\n",
    "print(result)\n",
    "\n",
    "\n",
    "#round 2\n",
    "result = conversation(\"She likes pink roses,specifically the color pink.\")\n",
    "print(result)\n",
    "\n",
    "#round 3\n",
    "\n",
    "result = conversation(\"I'm back again.Do you remember why I came to buy flowers yseterday?\")\n",
    "print(result)\n",
    "\n",
    "\n"
   ]
  },
  {
   "cell_type": "markdown",
   "metadata": {},
   "source": [
    "{'input': \"My sister's birthday is tomorrow,and i need a birthday bouquet.\", 'history': '', 'response': \" That's great! Birthdays are always special occasions. Did you know that the tradition of giving birthday bouquets originated in ancient Greece? They believed that flowers brought good luck and happiness to the recipient. What kind of flowers are you looking for in the bouquet?\"}\n",
    "\n",
    "{'input': 'She likes pink roses,specifically the color pink.', \n",
    "\n",
    "'history': \"Human: My sister's birthday is tomorrow,and i need a birthday bouquet.\\nAI:  That's great! Birthdays are always special occasions. Did you know that the tradition of giving birthday bouquets originated in ancient Greece? They believed that flowers brought good luck and happiness to the recipient. What kind of flowers are you looking for in the bouquet?\", 'response': ' Pink roses are a beautiful choice! Did you know that pink roses symbolize gratitude, admiration, and joy? They are also said to represent sweetness and innocence. Would you like the bouquet to be all pink roses or do you want to mix in some other flowers as well?'}\n",
    "\n",
    "{'input': \"I'm back again.Do you remember why I came to buy flowers yseterday?\", \n",
    "\n",
    "'history': \"System: \\nThe human shares that their sister's birthday is tomorrow and they need a birthday bouquet. The AI notes that birthdays are special occasions and shares the origin of giving birthday bouquets. The AI also asks about the type of flowers the human is looking for in the bouquet.\\nHuman: She likes pink roses,specifically the color pink.\\nAI:  Pink roses are a beautiful choice! Did you know that pink roses symbolize gratitude, admiration, and joy? They are also said to represent sweetness and innocence. Would you like the bouquet to be all pink roses or do you want to mix in some other flowers as well?\", 'response': \" Yes, you came to buy flowers for your sister's birthday. Did you have a specific type of flower in mind?\"}\n"
   ]
  },
  {
   "attachments": {
    "image.png": {
     "image/png": "[encoded data removed]"
    }
   },
   "cell_type": "markdown",
   "metadata": {},
   "source": [
    "                                                    Advantages                                                              Disadvantages\n",
    "\n",
    "ConversationSummaryBufferMemory        Able to recall early interactions\\                               For shot conversations,the summarizer may increase token usage.\n",
    "                                        does not miss recent information\\                                   Storing original interactions may also increase tokern usage.\n",
    "                                        High level of Flexibility \n",
    "\n",
    "ConversationSummaryMemory              Reduces token usage fo rlong conversations.                              Adding token usage required for the summarizing LLM.\n",
    "                                        Allow for longer conversation durations.                                Conversation memory dapends on the summarizing LLM's aggregation ability\n",
    "                                        straightforward and intuitive\n",
    "\n",
    "ConversationBufferWindowMemory          Retains only the most recent interactions,resulting in fewer token usage.      Unable to recall early interaction.\n",
    "                                        Adjustable window size for flexibility.                                         Too large of a window may result in excessive tiken usage.\n",
    "\n",
    "ConversationBufferMemory                provides the largest amount of infomation for LLM.                              user more tokens,resulting in increased response time and higher costs.\n",
    "                                        Simple and intuitive.                                                            Long conversations may exceed token limits.\n",
    "\n",
    "![image.png](attachment:image.png)"
   ]
  }
 ],
 "metadata": {
  "kernelspec": {
   "display_name": "Python 3 (ipykernel)",
   "language": "python",
   "name": "python3"
  },
  "language_info": {
   "codemirror_mode": {
    "name": "ipython",
    "version": 3
   },
   "file_extension": ".py",
   "mimetype": "text/x-python",
   "name": "python",
   "nbconvert_exporter": "python",
   "pygments_lexer": "ipython3",
   "version": "3.13.2"
  }
 },
 "nbformat": 4,
 "nbformat_minor": 4
}
